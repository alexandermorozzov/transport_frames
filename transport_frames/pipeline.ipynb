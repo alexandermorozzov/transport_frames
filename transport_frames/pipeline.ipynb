{
 "cells": [
  {
   "cell_type": "markdown",
   "metadata": {},
   "source": [
    "#### Импорты"
   ]
  },
  {
   "cell_type": "code",
   "execution_count": 14,
   "metadata": {},
   "outputs": [],
   "source": [
    "import momepy\n",
    "import osmnx as ox\n",
    "import pandas as pd\n",
    "import geopandas as gpd\n",
    "from metrics.grade_territory import grade_territory\n",
    "from graph_builder.graphbuilder import get_graph_from_polygon, get_frame, assign_city_names_to_nodes"
   ]
  },
  {
   "cell_type": "markdown",
   "metadata": {},
   "source": [
    "#### Загрузка графа"
   ]
  },
  {
   "cell_type": "code",
   "execution_count": 9,
   "metadata": {},
   "outputs": [
    {
     "name": "stderr",
     "output_type": "stream",
     "text": [
      "d:\\IT\\GitHub\\transport_frames\\.venv\\Lib\\site-packages\\osmnx\\_overpass.py:254: UserWarning: This area is 52 times your configured Overpass max query area size. It will automatically be divided up into multiple sub-queries accordingly. This may take a long time.\n",
      "  multi_poly_proj = utils_geo._consolidate_subdivide_geometry(poly_proj)\n"
     ]
    }
   ],
   "source": [
    "lo_polygon = ox.geocode_to_gdf('R176095', by_osmid=True).to_crs(epsg=32636)\n",
    "spb_polygon = ox.geocode_to_gdf('R337422', by_osmid=True).to_crs(epsg=32636).buffer(3000)\n",
    "city = lo_polygon.union(spb_polygon).to_crs(epsg=4326) #  get lo polygon\n",
    "russia = ox.geocode_to_gdf(\"Russia\")\n",
    "\n",
    "citygraph = get_graph_from_polygon(city, crs=32636,country_polygon=russia)"
   ]
  },
  {
   "cell_type": "markdown",
   "metadata": {},
   "source": [
    "#### Выделение каркаса"
   ]
  },
  {
   "cell_type": "code",
   "execution_count": 12,
   "metadata": {},
   "outputs": [
    {
     "name": "stderr",
     "output_type": "stream",
     "text": [
      "C:\\Users\\romab\\AppData\\Local\\Temp\\ipykernel_14268\\4137021309.py:10: FutureWarning: The `op` parameter is deprecated and will be removed in a future release. Please use the `predicate` parameter instead.\n",
      "  frame = get_frame(citygraph, regions, city)\n",
      "d:\\IT\\GitHub\\transport_frames\\transport_frames\\graph_builder\\graphbuilder.py:463: FutureWarning: Setting an item of incompatible dtype is deprecated and will raise an error in a future version of pandas. Value '[0.04]' has dtype incompatible with int64, please explicitly cast to a compatible dtype first.\n",
      "  n.loc[(n['nodeID']==path[j]),'weight']+= weight\n",
      "d:\\IT\\GitHub\\transport_frames\\transport_frames\\graph_builder\\graphbuilder.py:464: FutureWarning: Setting an item of incompatible dtype is deprecated and will raise an error in a future version of pandas. Value '[0.04]' has dtype incompatible with int64, please explicitly cast to a compatible dtype first.\n",
      "  e.loc[(e['node_start'] == path[j]) & (e['node_end'] == path[j+1]), 'weight'] +=weight\n"
     ]
    }
   ],
   "source": [
    "'''\n",
    "IDK who is it \n",
    "regions = regions[regions['ISO3166-2']!='RU-CHU']\n",
    "'''\n",
    "\n",
    "regions = gpd.read_file('data/russia.geojson') #  get regions\n",
    "regions = regions[regions['ISO3166-2']!='RU-CHU']\n",
    "regions = regions.to_crs(city.crs)\n",
    "\n",
    "frame = get_frame(citygraph, regions, city)"
   ]
  },
  {
   "cell_type": "markdown",
   "metadata": {},
   "source": [
    "#### Перенос точек на граф"
   ]
  },
  {
   "cell_type": "code",
   "execution_count": 13,
   "metadata": {},
   "outputs": [],
   "source": [
    "cities = gpd.read_file('data/18_centers.geojson')\n",
    "frame = assign_city_names_to_nodes(cities.to_crs(frame.graph['crs']), momepy.nx_to_gdf(frame)[0], frame, name_col='name18', max_distance=1200)"
   ]
  },
  {
   "cell_type": "markdown",
   "metadata": {},
   "source": [
    "#### Оценка территории"
   ]
  },
  {
   "cell_type": "code",
   "execution_count": 15,
   "metadata": {},
   "outputs": [],
   "source": [
    "p1 = gpd.read_file('data/Аэродром лодейнопольское поселение.geojson')\n",
    "p2 = gpd.read_file('data/Аэродром Сиверск .geojson')\n",
    "p3 = gpd.read_file('data/project Светогорского поселения.geojson')\n",
    "p4 = gpd.read_file('data/project Шлиссельбург.geojson')\n",
    "neudobiya = pd.concat([p1,p2,p3,p4])"
   ]
  },
  {
   "cell_type": "code",
   "execution_count": 16,
   "metadata": {},
   "outputs": [],
   "source": [
    "n_grade = grade_territory(neudobiya, frame)"
   ]
  }
 ],
 "metadata": {
  "kernelspec": {
   "display_name": ".venv",
   "language": "python",
   "name": "python3"
  },
  "language_info": {
   "codemirror_mode": {
    "name": "ipython",
    "version": 3
   },
   "file_extension": ".py",
   "mimetype": "text/x-python",
   "name": "python",
   "nbconvert_exporter": "python",
   "pygments_lexer": "ipython3",
   "version": "3.11.9"
  }
 },
 "nbformat": 4,
 "nbformat_minor": 2
}
