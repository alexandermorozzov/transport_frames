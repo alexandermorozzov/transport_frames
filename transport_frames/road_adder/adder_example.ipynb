{
 "cells": [
  {
   "cell_type": "code",
   "execution_count": null,
   "metadata": {},
   "outputs": [
    {
     "name": "stderr",
     "output_type": "stream",
     "text": [
      "/Users/polina/Desktop/github/transport_frames/.venv/lib/python3.10/site-packages/tqdm/auto.py:21: TqdmWarning: IProgress not found. Please update jupyter and ipywidgets. See https://ipywidgets.readthedocs.io/en/stable/user_install.html\n",
      "  from .autonotebook import tqdm as notebook_tqdm\n"
     ]
    },
    {
     "data": {
      "text/html": [
       "\n",
       "\t\t\t<script type=\"text/javascript\">\n",
       "\t\t\t<!--\n",
       "\t\t\t\t\n",
       "\t\t\t{\n",
       "\t\t\t\tvar element = document.getElementById('NetworKit_script');\n",
       "\t\t\t\tif (element) {\n",
       "\t\t\t\t\telement.parentNode.removeChild(element);\n",
       "\t\t\t\t}\n",
       "\t\t\t\telement = document.createElement('script');\n",
       "\t\t\t\telement.type = 'text/javascript';\n",
       "\t\t\t\telement.innerHTML = 'function NetworKit_pageEmbed(id) { var i, j; var elements; elements = document.getElementById(id).getElementsByClassName(\"Plot\"); for (i=0; i<elements.length; i++) { elements[i].id = id + \"_Plot_\" + i; var data = elements[i].getAttribute(\"data-image\").split(\"|\"); elements[i].removeAttribute(\"data-image\"); var content = \"<div class=\\\\\"Image\\\\\" id=\\\\\"\" + elements[i].id + \"_Image\\\\\" />\"; elements[i].innerHTML = content; elements[i].setAttribute(\"data-image-index\", 0); elements[i].setAttribute(\"data-image-length\", data.length); for (j=0; j<data.length; j++) { elements[i].setAttribute(\"data-image-\" + j, data[j]); } NetworKit_plotUpdate(elements[i]); elements[i].onclick = function (e) { NetworKit_overlayShow((e.target) ? e.target : e.srcElement); } } elements = document.getElementById(id).getElementsByClassName(\"HeatCell\"); for (i=0; i<elements.length; i++) { var data = parseFloat(elements[i].getAttribute(\"data-heat\")); var color = \"#00FF00\"; if (data <= 1 && data > 0) { color = \"hsla(0, 100%, 75%, \" + (data) + \")\"; } else if (data <= 0 && data >= -1) { color = \"hsla(240, 100%, 75%, \" + (-data) + \")\"; } elements[i].style.backgroundColor = color; } elements = document.getElementById(id).getElementsByClassName(\"Details\"); for (i=0; i<elements.length; i++) { elements[i].setAttribute(\"data-title\", \"-\"); NetworKit_toggleDetails(elements[i]); elements[i].onclick = function (e) { NetworKit_toggleDetails((e.target) ? e.target : e.srcElement); } } elements = document.getElementById(id).getElementsByClassName(\"MathValue\"); for (i=elements.length-1; i>=0; i--) { value = elements[i].innerHTML.trim(); if (value === \"nan\") { elements[i].parentNode.innerHTML = \"\" } } elements = document.getElementById(id).getElementsByClassName(\"SubCategory\"); for (i=elements.length-1; i>=0; i--) { value = elements[i].innerHTML.trim(); if (value === \"\") { elements[i].parentNode.removeChild(elements[i]) } } elements = document.getElementById(id).getElementsByClassName(\"Category\"); for (i=elements.length-1; i>=0; i--) { value = elements[i].innerHTML.trim(); if (value === \"\") { elements[i].parentNode.removeChild(elements[i]) } } var isFirefox = false; try { isFirefox = typeof InstallTrigger !== \"undefined\"; } catch (e) {} if (!isFirefox) { alert(\"Currently the function\\'s output is only fully supported by Firefox.\"); } } function NetworKit_plotUpdate(source) { var index = source.getAttribute(\"data-image-index\"); var data = source.getAttribute(\"data-image-\" + index); var image = document.getElementById(source.id + \"_Image\"); image.style.backgroundImage = \"url(\" + data + \")\"; } function NetworKit_showElement(id, show) { var element = document.getElementById(id); element.style.display = (show) ? \"block\" : \"none\"; } function NetworKit_overlayShow(source) { NetworKit_overlayUpdate(source); NetworKit_showElement(\"NetworKit_Overlay\", true); } function NetworKit_overlayUpdate(source) { document.getElementById(\"NetworKit_Overlay_Title\").innerHTML = source.title; var index = source.getAttribute(\"data-image-index\"); var data = source.getAttribute(\"data-image-\" + index); var image = document.getElementById(\"NetworKit_Overlay_Image\"); image.setAttribute(\"data-id\", source.id); image.style.backgroundImage = \"url(\" + data + \")\"; var link = document.getElementById(\"NetworKit_Overlay_Toolbar_Bottom_Save\"); link.href = data; link.download = source.title + \".svg\"; } function NetworKit_overlayImageShift(delta) { var image = document.getElementById(\"NetworKit_Overlay_Image\"); var source = document.getElementById(image.getAttribute(\"data-id\")); var index = parseInt(source.getAttribute(\"data-image-index\")); var length = parseInt(source.getAttribute(\"data-image-length\")); var index = (index+delta) % length; if (index < 0) { index = length + index; } source.setAttribute(\"data-image-index\", index); NetworKit_overlayUpdate(source); } function NetworKit_toggleDetails(source) { var childs = source.children; var show = false; if (source.getAttribute(\"data-title\") == \"-\") { source.setAttribute(\"data-title\", \"+\"); show = false; } else { source.setAttribute(\"data-title\", \"-\"); show = true; } for (i=0; i<childs.length; i++) { if (show) { childs[i].style.display = \"block\"; } else { childs[i].style.display = \"none\"; } } }';\n",
       "\t\t\t\telement.setAttribute('id', 'NetworKit_script');\n",
       "\t\t\t\tdocument.head.appendChild(element);\n",
       "\t\t\t}\n",
       "\t\t\n",
       "\t\t\t\t\n",
       "\t\t\t{\n",
       "\t\t\t\tvar element = document.getElementById('NetworKit_style');\n",
       "\t\t\t\tif (element) {\n",
       "\t\t\t\t\telement.parentNode.removeChild(element);\n",
       "\t\t\t\t}\n",
       "\t\t\t\telement = document.createElement('style');\n",
       "\t\t\t\telement.type = 'text/css';\n",
       "\t\t\t\telement.innerHTML = '.NetworKit_Page { font-family: Arial, Helvetica, sans-serif; font-size: 14px; } .NetworKit_Page .Value:before { font-family: Arial, Helvetica, sans-serif; font-size: 1.05em; content: attr(data-title) \":\"; margin-left: -2.5em; padding-right: 0.5em; } .NetworKit_Page .Details .Value:before { display: block; } .NetworKit_Page .Value { font-family: monospace; white-space: pre; padding-left: 2.5em; white-space: -moz-pre-wrap !important; white-space: -pre-wrap; white-space: -o-pre-wrap; white-space: pre-wrap; word-wrap: break-word; tab-size: 4; -moz-tab-size: 4; } .NetworKit_Page .Category { clear: both; padding-left: 1em; margin-bottom: 1.5em; } .NetworKit_Page .Category:before { content: attr(data-title); font-size: 1.75em; display: block; margin-left: -0.8em; margin-bottom: 0.5em; } .NetworKit_Page .SubCategory { margin-bottom: 1.5em; padding-left: 1em; } .NetworKit_Page .SubCategory:before { font-size: 1.6em; display: block; margin-left: -0.8em; margin-bottom: 0.5em; } .NetworKit_Page .SubCategory[data-title]:before { content: attr(data-title); } .NetworKit_Page .Block { display: block; } .NetworKit_Page .Block:after { content: \".\"; visibility: hidden; display: block; height: 0; clear: both; } .NetworKit_Page .Block .Thumbnail_Overview, .NetworKit_Page .Block .Thumbnail_ScatterPlot { width: 260px; float: left; } .NetworKit_Page .Block .Thumbnail_Overview img, .NetworKit_Page .Block .Thumbnail_ScatterPlot img { width: 260px; } .NetworKit_Page .Block .Thumbnail_Overview:before, .NetworKit_Page .Block .Thumbnail_ScatterPlot:before { display: block; text-align: center; font-weight: bold; } .NetworKit_Page .Block .Thumbnail_Overview:before { content: attr(data-title); } .NetworKit_Page .HeatCell { font-family: \"Courier New\", Courier, monospace; cursor: pointer; } .NetworKit_Page .HeatCell, .NetworKit_Page .HeatCellName { display: inline; padding: 0.1em; margin-right: 2px; background-color: #FFFFFF } .NetworKit_Page .HeatCellName { margin-left: 0.25em; } .NetworKit_Page .HeatCell:before { content: attr(data-heat); display: inline-block; color: #000000; width: 4em; text-align: center; } .NetworKit_Page .Measure { clear: both; } .NetworKit_Page .Measure .Details { cursor: pointer; } .NetworKit_Page .Measure .Details:before { content: \"[\" attr(data-title) \"]\"; display: block; } .NetworKit_Page .Measure .Details .Value { border-left: 1px dotted black; margin-left: 0.4em; padding-left: 3.5em; pointer-events: none; } .NetworKit_Page .Measure .Details .Spacer:before { content: \".\"; opacity: 0.0; pointer-events: none; } .NetworKit_Page .Measure .Plot { width: 440px; height: 440px; cursor: pointer; float: left; margin-left: -0.9em; margin-right: 20px; } .NetworKit_Page .Measure .Plot .Image { background-repeat: no-repeat; background-position: center center; background-size: contain; height: 100%; pointer-events: none; } .NetworKit_Page .Measure .Stat { width: 500px; float: left; } .NetworKit_Page .Measure .Stat .Group { padding-left: 1.25em; margin-bottom: 0.75em; } .NetworKit_Page .Measure .Stat .Group .Title { font-size: 1.1em; display: block; margin-bottom: 0.3em; margin-left: -0.75em; border-right-style: dotted; border-right-width: 1px; border-bottom-style: dotted; border-bottom-width: 1px; background-color: #D0D0D0; padding-left: 0.2em; } .NetworKit_Page .Measure .Stat .Group .List { -webkit-column-count: 3; -moz-column-count: 3; column-count: 3; } .NetworKit_Page .Measure .Stat .Group .List .Entry { position: relative; line-height: 1.75em; } .NetworKit_Page .Measure .Stat .Group .List .Entry[data-tooltip]:before { position: absolute; left: 0; top: -40px; background-color: #808080; color: #ffffff; height: 30px; line-height: 30px; border-radius: 5px; padding: 0 15px; content: attr(data-tooltip); white-space: nowrap; display: none; } .NetworKit_Page .Measure .Stat .Group .List .Entry[data-tooltip]:after { position: absolute; left: 15px; top: -10px; border-top: 7px solid #808080; border-left: 7px solid transparent; border-right: 7px solid transparent; content: \"\"; display: none; } .NetworKit_Page .Measure .Stat .Group .List .Entry[data-tooltip]:hover:after, .NetworKit_Page .Measure .Stat .Group .List .Entry[data-tooltip]:hover:before { display: block; } .NetworKit_Page .Measure .Stat .Group .List .Entry .MathValue { font-family: \"Courier New\", Courier, monospace; } .NetworKit_Page .Measure:after { content: \".\"; visibility: hidden; display: block; height: 0; clear: both; } .NetworKit_Page .PartitionPie { clear: both; } .NetworKit_Page .PartitionPie img { width: 600px; } #NetworKit_Overlay { left: 0px; top: 0px; display: none; position: absolute; width: 100%; height: 100%; background-color: rgba(0,0,0,0.6); z-index: 1000; } #NetworKit_Overlay_Title { position: absolute; color: white; transform: rotate(-90deg); width: 32em; height: 32em; padding-right: 0.5em; padding-top: 0.5em; text-align: right; font-size: 40px; } #NetworKit_Overlay .button { background: white; cursor: pointer; } #NetworKit_Overlay .button:before { size: 13px; display: inline-block; text-align: center; margin-top: 0.5em; margin-bottom: 0.5em; width: 1.5em; height: 1.5em; } #NetworKit_Overlay .icon-close:before { content: \"X\"; } #NetworKit_Overlay .icon-previous:before { content: \"P\"; } #NetworKit_Overlay .icon-next:before { content: \"N\"; } #NetworKit_Overlay .icon-save:before { content: \"S\"; } #NetworKit_Overlay_Toolbar_Top, #NetworKit_Overlay_Toolbar_Bottom { position: absolute; width: 40px; right: 13px; text-align: right; z-index: 1100; } #NetworKit_Overlay_Toolbar_Top { top: 0.5em; } #NetworKit_Overlay_Toolbar_Bottom { Bottom: 0.5em; } #NetworKit_Overlay_ImageContainer { position: absolute; top: 5%; left: 5%; height: 90%; width: 90%; background-repeat: no-repeat; background-position: center center; background-size: contain; } #NetworKit_Overlay_Image { height: 100%; width: 100%; background-repeat: no-repeat; background-position: center center; background-size: contain; }';\n",
       "\t\t\t\telement.setAttribute('id', 'NetworKit_style');\n",
       "\t\t\t\tdocument.head.appendChild(element);\n",
       "\t\t\t}\n",
       "\t\t\n",
       "\t\t\t\t\n",
       "\t\t\t{\n",
       "\t\t\t\tvar element = document.getElementById('NetworKit_Overlay');\n",
       "\t\t\t\tif (element) {\n",
       "\t\t\t\t\telement.parentNode.removeChild(element);\n",
       "\t\t\t\t}\n",
       "\t\t\t\telement = document.createElement('div');\n",
       "\t\t\t\telement.innerHTML = '<div id=\"NetworKit_Overlay_Toolbar_Top\"><div class=\"button icon-close\" id=\"NetworKit_Overlay_Close\" /></div><div id=\"NetworKit_Overlay_Title\" /> <div id=\"NetworKit_Overlay_ImageContainer\"> <div id=\"NetworKit_Overlay_Image\" /> </div> <div id=\"NetworKit_Overlay_Toolbar_Bottom\"> <div class=\"button icon-previous\" onclick=\"NetworKit_overlayImageShift(-1)\" /> <div class=\"button icon-next\" onclick=\"NetworKit_overlayImageShift(1)\" /> <a id=\"NetworKit_Overlay_Toolbar_Bottom_Save\"><div class=\"button icon-save\" /></a> </div>';\n",
       "\t\t\t\telement.setAttribute('id', 'NetworKit_Overlay');\n",
       "\t\t\t\tdocument.body.appendChild(element);\n",
       "\t\t\t\tdocument.getElementById('NetworKit_Overlay_Close').onclick = function (e) {\n",
       "\t\t\t\t\tdocument.getElementById('NetworKit_Overlay').style.display = 'none';\n",
       "\t\t\t\t}\n",
       "\t\t\t}\n",
       "\t\t\n",
       "\t\t\t-->\n",
       "\t\t\t</script>\n",
       "\t\t"
      ]
     },
     "metadata": {},
     "output_type": "display_data"
    }
   ],
   "source": [
    "import geopandas as gpd\n",
    "import networkx as nx\n",
    "import momepy\n",
    "import sys\n",
    "sys.path.append('/Users/polina/Desktop/github/transport_frames')\n",
    "import momepy\n",
    "import osmnx as ox\n",
    "import geopandas as gpd\n",
    "import shapely\n",
    "import pandas as pd\n",
    "import networkx as nx\n",
    "import numpy as np\n",
    "import json\n",
    "from shapely.geometry import Point, LineString\n",
    "from shapely.ops import split, unary_union, nearest_points\n",
    "from shapely.geometry import GeometryCollection, MultiPoint\n",
    "from road_adder import *\n",
    "\n",
    "from transport_frames.utils.helper_funcs import convert_list_attr_from_str, prepare_graph\n",
    "from transport_frames.indicators.utils import availability_matrix\n",
    "\n",
    "from transport_frames.road_adder.road_adder import add_roads\n",
    "\n",
    "\n",
    "\n"
   ]
  },
  {
   "cell_type": "code",
   "execution_count": 2,
   "metadata": {},
   "outputs": [
    {
     "name": "stderr",
     "output_type": "stream",
     "text": [
      "Exception ignored in: <bound method IPythonKernel._clean_thread_parent_frames of <ipykernel.ipkernel.IPythonKernel object at 0x10809e530>>\n",
      "Traceback (most recent call last):\n",
      "  File \"/Users/polina/Desktop/github/transport_frames/.venv/lib/python3.10/site-packages/ipykernel/ipkernel.py\", line 775, in _clean_thread_parent_frames\n",
      "    def _clean_thread_parent_frames(\n",
      "KeyboardInterrupt: \n"
     ]
    }
   ],
   "source": [
    "citygraph = nx.read_graphml('/Users/polina/Desktop/github/transport_frames/preprocessed/ЛО/Ленинградская_область/Ленинградская_область_uds.graphml')\n",
    "citygraph = convert_list_attr_from_str(citygraph)\n",
    "citygraph = prepare_graph(citygraph)\n",
    "n,e = momepy.nx_to_gdf(citygraph)\n",
    "\n"
   ]
  },
  {
   "cell_type": "code",
   "execution_count": null,
   "metadata": {},
   "outputs": [],
   "source": [
    "nu = gpd.read_file('/Users/polina/Desktop/citygraph_e_new_edges.geojson').to_crs(32636)"
   ]
  },
  {
   "cell_type": "markdown",
   "metadata": {},
   "source": [
    "## run"
   ]
  },
  {
   "cell_type": "code",
   "execution_count": null,
   "metadata": {},
   "outputs": [
    {
     "name": "stdout",
     "output_type": "stream",
     "text": [
      "104070\n",
      "104071\n"
     ]
    },
    {
     "name": "stderr",
     "output_type": "stream",
     "text": [
      "/Users/polina/Desktop/github/transport_frames/transport_frames/new_modules/road_adder/road_adder.py:348: FutureWarning: The behavior of DataFrame concatenation with empty or all-NA entries is deprecated. In a future version, this will no longer exclude empty or all-NA columns when determining the result dtypes. To retain the old behavior, exclude the relevant entries before the concat operation.\n",
      "  added_nodes = pd.concat([added_nodes, new_end_node]) # adding ends\n",
      "/Users/polina/Desktop/github/transport_frames/transport_frames/new_modules/road_adder/road_adder.py:354: FutureWarning: The behavior of DataFrame concatenation with empty or all-NA entries is deprecated. In a future version, this will no longer exclude empty or all-NA columns when determining the result dtypes. To retain the old behavior, exclude the relevant entries before the concat operation.\n",
      "  added_edges = pd.concat([added_edges, bridge_edge]) # if we can connect end to a node, only the bridge is added\n"
     ]
    },
    {
     "name": "stdout",
     "output_type": "stream",
     "text": [
      "104072\n"
     ]
    },
    {
     "name": "stderr",
     "output_type": "stream",
     "text": [
      "/Users/polina/Desktop/github/transport_frames/transport_frames/new_modules/road_adder/road_adder.py:429: FutureWarning: The behavior of DataFrame concatenation with empty or all-NA entries is deprecated. In a future version, this will no longer exclude empty or all-NA columns when determining the result dtypes. To retain the old behavior, exclude the relevant entries before the concat operation.\n",
      "  added_intersections_nodes = pd.concat([added_intersections_nodes,new_intersection]) # adding new no\n",
      "/Users/polina/Desktop/github/transport_frames/transport_frames/new_modules/road_adder/road_adder.py:441: FutureWarning: The behavior of DataFrame concatenation with empty or all-NA entries is deprecated. In a future version, this will no longer exclude empty or all-NA columns when determining the result dtypes. To retain the old behavior, exclude the relevant entries before the concat operation.\n",
      "  added_intersections_edges = pd.concat([added_intersections_edges,new_piece]) # adding road pieces\n",
      "/Users/polina/Desktop/github/transport_frames/transport_frames/new_modules/road_adder/road_adder.py:486: FutureWarning: The behavior of DataFrame concatenation with empty or all-NA entries is deprecated. In a future version, this will no longer exclude empty or all-NA columns when determining the result dtypes. To retain the old behavior, exclude the relevant entries before the concat operation.\n",
      "  nodes_to_add = pd.concat([nodes_to_add, added_nodes,added_intersections_nodes])\n",
      "/Users/polina/Desktop/github/transport_frames/transport_frames/new_modules/road_adder/road_adder.py:487: FutureWarning: The behavior of DataFrame concatenation with empty or all-NA entries is deprecated. In a future version, this will no longer exclude empty or all-NA columns when determining the result dtypes. To retain the old behavior, exclude the relevant entries before the concat operation.\n",
      "  edges_to_add = pd.concat([edges_to_add, added_edges,added_intersections_edges])\n",
      "/Users/polina/Desktop/github/transport_frames/transport_frames/new_modules/road_adder/road_adder.py:348: FutureWarning: The behavior of DataFrame concatenation with empty or all-NA entries is deprecated. In a future version, this will no longer exclude empty or all-NA columns when determining the result dtypes. To retain the old behavior, exclude the relevant entries before the concat operation.\n",
      "  added_nodes = pd.concat([added_nodes, new_end_node]) # adding ends\n",
      "/Users/polina/Desktop/github/transport_frames/transport_frames/new_modules/road_adder/road_adder.py:354: FutureWarning: The behavior of DataFrame concatenation with empty or all-NA entries is deprecated. In a future version, this will no longer exclude empty or all-NA columns when determining the result dtypes. To retain the old behavior, exclude the relevant entries before the concat operation.\n",
      "  added_edges = pd.concat([added_edges, bridge_edge]) # if we can connect end to a node, only the bridge is added\n"
     ]
    },
    {
     "name": "stdout",
     "output_type": "stream",
     "text": [
      "104073\n",
      "104074\n",
      "104075\n"
     ]
    },
    {
     "name": "stderr",
     "output_type": "stream",
     "text": [
      "/Users/polina/Desktop/github/transport_frames/transport_frames/new_modules/road_adder/road_adder.py:429: FutureWarning: The behavior of DataFrame concatenation with empty or all-NA entries is deprecated. In a future version, this will no longer exclude empty or all-NA columns when determining the result dtypes. To retain the old behavior, exclude the relevant entries before the concat operation.\n",
      "  added_intersections_nodes = pd.concat([added_intersections_nodes,new_intersection]) # adding new no\n",
      "/Users/polina/Desktop/github/transport_frames/transport_frames/new_modules/road_adder/road_adder.py:441: FutureWarning: The behavior of DataFrame concatenation with empty or all-NA entries is deprecated. In a future version, this will no longer exclude empty or all-NA columns when determining the result dtypes. To retain the old behavior, exclude the relevant entries before the concat operation.\n",
      "  added_intersections_edges = pd.concat([added_intersections_edges,new_piece]) # adding road pieces\n"
     ]
    },
    {
     "name": "stdout",
     "output_type": "stream",
     "text": [
      "104076\n",
      "104077\n"
     ]
    },
    {
     "name": "stderr",
     "output_type": "stream",
     "text": [
      "/Users/polina/Desktop/github/transport_frames/transport_frames/new_modules/road_adder/road_adder.py:348: FutureWarning: The behavior of DataFrame concatenation with empty or all-NA entries is deprecated. In a future version, this will no longer exclude empty or all-NA columns when determining the result dtypes. To retain the old behavior, exclude the relevant entries before the concat operation.\n",
      "  added_nodes = pd.concat([added_nodes, new_end_node]) # adding ends\n",
      "/Users/polina/Desktop/github/transport_frames/transport_frames/new_modules/road_adder/road_adder.py:354: FutureWarning: The behavior of DataFrame concatenation with empty or all-NA entries is deprecated. In a future version, this will no longer exclude empty or all-NA columns when determining the result dtypes. To retain the old behavior, exclude the relevant entries before the concat operation.\n",
      "  added_edges = pd.concat([added_edges, bridge_edge]) # if we can connect end to a node, only the bridge is added\n",
      "/Users/polina/Desktop/github/transport_frames/transport_frames/new_modules/road_adder/road_adder.py:486: FutureWarning: The behavior of DataFrame concatenation with empty or all-NA entries is deprecated. In a future version, this will no longer exclude empty or all-NA columns when determining the result dtypes. To retain the old behavior, exclude the relevant entries before the concat operation.\n",
      "  nodes_to_add = pd.concat([nodes_to_add, added_nodes,added_intersections_nodes])\n",
      "/Users/polina/Desktop/github/transport_frames/transport_frames/new_modules/road_adder/road_adder.py:487: FutureWarning: The behavior of DataFrame concatenation with empty or all-NA entries is deprecated. In a future version, this will no longer exclude empty or all-NA columns when determining the result dtypes. To retain the old behavior, exclude the relevant entries before the concat operation.\n",
      "  edges_to_add = pd.concat([edges_to_add, added_edges,added_intersections_edges])\n",
      "/Users/polina/Desktop/github/transport_frames/transport_frames/new_modules/road_adder/road_adder.py:348: FutureWarning: The behavior of DataFrame concatenation with empty or all-NA entries is deprecated. In a future version, this will no longer exclude empty or all-NA columns when determining the result dtypes. To retain the old behavior, exclude the relevant entries before the concat operation.\n",
      "  added_nodes = pd.concat([added_nodes, new_end_node]) # adding ends\n"
     ]
    },
    {
     "name": "stdout",
     "output_type": "stream",
     "text": [
      "104078\n",
      "104079\n",
      "104080\n",
      "104081\n"
     ]
    },
    {
     "name": "stderr",
     "output_type": "stream",
     "text": [
      "/Users/polina/Desktop/github/transport_frames/transport_frames/new_modules/road_adder/road_adder.py:374: FutureWarning: The behavior of DataFrame concatenation with empty or all-NA entries is deprecated. In a future version, this will no longer exclude empty or all-NA columns when determining the result dtypes. To retain the old behavior, exclude the relevant entries before the concat operation.\n",
      "  added_edges = pd.concat([added_edges, bridge_edge]) # adding bridge\n"
     ]
    },
    {
     "name": "stdout",
     "output_type": "stream",
     "text": [
      "104082\n",
      "104083\n",
      "104084\n",
      "104085\n"
     ]
    },
    {
     "name": "stderr",
     "output_type": "stream",
     "text": [
      "/Users/polina/Desktop/github/transport_frames/transport_frames/new_modules/road_adder/road_adder.py:434: FutureWarning: The behavior of DataFrame concatenation with empty or all-NA entries is deprecated. In a future version, this will no longer exclude empty or all-NA columns when determining the result dtypes. To retain the old behavior, exclude the relevant entries before the concat operation.\n",
      "  added_intersections_nodes = pd.concat([added_intersections_nodes,new_intersection]) # adding new nodes\n",
      "/Users/polina/Desktop/github/transport_frames/transport_frames/new_modules/road_adder/road_adder.py:441: FutureWarning: The behavior of DataFrame concatenation with empty or all-NA entries is deprecated. In a future version, this will no longer exclude empty or all-NA columns when determining the result dtypes. To retain the old behavior, exclude the relevant entries before the concat operation.\n",
      "  added_intersections_edges = pd.concat([added_intersections_edges,new_piece]) # adding road pieces\n"
     ]
    },
    {
     "name": "stdout",
     "output_type": "stream",
     "text": [
      "104086\n",
      "104087\n",
      "104088\n"
     ]
    },
    {
     "name": "stderr",
     "output_type": "stream",
     "text": [
      "/Users/polina/Desktop/github/transport_frames/transport_frames/new_modules/road_adder/road_adder.py:348: FutureWarning: The behavior of DataFrame concatenation with empty or all-NA entries is deprecated. In a future version, this will no longer exclude empty or all-NA columns when determining the result dtypes. To retain the old behavior, exclude the relevant entries before the concat operation.\n",
      "  added_nodes = pd.concat([added_nodes, new_end_node]) # adding ends\n",
      "/Users/polina/Desktop/github/transport_frames/transport_frames/new_modules/road_adder/road_adder.py:374: FutureWarning: The behavior of DataFrame concatenation with empty or all-NA entries is deprecated. In a future version, this will no longer exclude empty or all-NA columns when determining the result dtypes. To retain the old behavior, exclude the relevant entries before the concat operation.\n",
      "  added_edges = pd.concat([added_edges, bridge_edge]) # adding bridge\n"
     ]
    },
    {
     "name": "stdout",
     "output_type": "stream",
     "text": [
      "104089\n",
      "104090\n",
      "104091\n",
      "104092\n",
      "104093\n",
      "104094\n",
      "104095\n"
     ]
    },
    {
     "name": "stderr",
     "output_type": "stream",
     "text": [
      "/Users/polina/Desktop/github/transport_frames/transport_frames/new_modules/road_adder/road_adder.py:434: FutureWarning: The behavior of DataFrame concatenation with empty or all-NA entries is deprecated. In a future version, this will no longer exclude empty or all-NA columns when determining the result dtypes. To retain the old behavior, exclude the relevant entries before the concat operation.\n",
      "  added_intersections_nodes = pd.concat([added_intersections_nodes,new_intersection]) # adding new nodes\n",
      "/Users/polina/Desktop/github/transport_frames/transport_frames/new_modules/road_adder/road_adder.py:441: FutureWarning: The behavior of DataFrame concatenation with empty or all-NA entries is deprecated. In a future version, this will no longer exclude empty or all-NA columns when determining the result dtypes. To retain the old behavior, exclude the relevant entries before the concat operation.\n",
      "  added_intersections_edges = pd.concat([added_intersections_edges,new_piece]) # adding road pieces\n"
     ]
    },
    {
     "name": "stdout",
     "output_type": "stream",
     "text": [
      "104096\n",
      "104097\n"
     ]
    },
    {
     "name": "stderr",
     "output_type": "stream",
     "text": [
      "/Users/polina/Desktop/github/transport_frames/transport_frames/new_modules/road_adder/road_adder.py:348: FutureWarning: The behavior of DataFrame concatenation with empty or all-NA entries is deprecated. In a future version, this will no longer exclude empty or all-NA columns when determining the result dtypes. To retain the old behavior, exclude the relevant entries before the concat operation.\n",
      "  added_nodes = pd.concat([added_nodes, new_end_node]) # adding ends\n",
      "/Users/polina/Desktop/github/transport_frames/transport_frames/new_modules/road_adder/road_adder.py:354: FutureWarning: The behavior of DataFrame concatenation with empty or all-NA entries is deprecated. In a future version, this will no longer exclude empty or all-NA columns when determining the result dtypes. To retain the old behavior, exclude the relevant entries before the concat operation.\n",
      "  added_edges = pd.concat([added_edges, bridge_edge]) # if we can connect end to a node, only the bridge is added\n",
      "/Users/polina/Desktop/github/transport_frames/transport_frames/new_modules/road_adder/road_adder.py:486: FutureWarning: The behavior of DataFrame concatenation with empty or all-NA entries is deprecated. In a future version, this will no longer exclude empty or all-NA columns when determining the result dtypes. To retain the old behavior, exclude the relevant entries before the concat operation.\n",
      "  nodes_to_add = pd.concat([nodes_to_add, added_nodes,added_intersections_nodes])\n",
      "/Users/polina/Desktop/github/transport_frames/transport_frames/new_modules/road_adder/road_adder.py:487: FutureWarning: The behavior of DataFrame concatenation with empty or all-NA entries is deprecated. In a future version, this will no longer exclude empty or all-NA columns when determining the result dtypes. To retain the old behavior, exclude the relevant entries before the concat operation.\n",
      "  edges_to_add = pd.concat([edges_to_add, added_edges,added_intersections_edges])\n",
      "/Users/polina/Desktop/github/transport_frames/transport_frames/new_modules/road_adder/road_adder.py:348: FutureWarning: The behavior of DataFrame concatenation with empty or all-NA entries is deprecated. In a future version, this will no longer exclude empty or all-NA columns when determining the result dtypes. To retain the old behavior, exclude the relevant entries before the concat operation.\n",
      "  added_nodes = pd.concat([added_nodes, new_end_node]) # adding ends\n",
      "/Users/polina/Desktop/github/transport_frames/transport_frames/new_modules/road_adder/road_adder.py:354: FutureWarning: The behavior of DataFrame concatenation with empty or all-NA entries is deprecated. In a future version, this will no longer exclude empty or all-NA columns when determining the result dtypes. To retain the old behavior, exclude the relevant entries before the concat operation.\n",
      "  added_edges = pd.concat([added_edges, bridge_edge]) # if we can connect end to a node, only the bridge is added\n"
     ]
    },
    {
     "name": "stdout",
     "output_type": "stream",
     "text": [
      "104098\n",
      "104099\n",
      "104100\n",
      "104101\n"
     ]
    },
    {
     "name": "stderr",
     "output_type": "stream",
     "text": [
      "/Users/polina/Desktop/github/transport_frames/transport_frames/new_modules/road_adder/road_adder.py:429: FutureWarning: The behavior of DataFrame concatenation with empty or all-NA entries is deprecated. In a future version, this will no longer exclude empty or all-NA columns when determining the result dtypes. To retain the old behavior, exclude the relevant entries before the concat operation.\n",
      "  added_intersections_nodes = pd.concat([added_intersections_nodes,new_intersection]) # adding new no\n",
      "/Users/polina/Desktop/github/transport_frames/transport_frames/new_modules/road_adder/road_adder.py:441: FutureWarning: The behavior of DataFrame concatenation with empty or all-NA entries is deprecated. In a future version, this will no longer exclude empty or all-NA columns when determining the result dtypes. To retain the old behavior, exclude the relevant entries before the concat operation.\n",
      "  added_intersections_edges = pd.concat([added_intersections_edges,new_piece]) # adding road pieces\n"
     ]
    },
    {
     "name": "stdout",
     "output_type": "stream",
     "text": [
      "104102\n",
      "104103\n"
     ]
    },
    {
     "name": "stderr",
     "output_type": "stream",
     "text": [
      "/Users/polina/Desktop/github/transport_frames/transport_frames/new_modules/road_adder/road_adder.py:348: FutureWarning: The behavior of DataFrame concatenation with empty or all-NA entries is deprecated. In a future version, this will no longer exclude empty or all-NA columns when determining the result dtypes. To retain the old behavior, exclude the relevant entries before the concat operation.\n",
      "  added_nodes = pd.concat([added_nodes, new_end_node]) # adding ends\n",
      "/Users/polina/Desktop/github/transport_frames/transport_frames/new_modules/road_adder/road_adder.py:354: FutureWarning: The behavior of DataFrame concatenation with empty or all-NA entries is deprecated. In a future version, this will no longer exclude empty or all-NA columns when determining the result dtypes. To retain the old behavior, exclude the relevant entries before the concat operation.\n",
      "  added_edges = pd.concat([added_edges, bridge_edge]) # if we can connect end to a node, only the bridge is added\n"
     ]
    },
    {
     "name": "stdout",
     "output_type": "stream",
     "text": [
      "104104\n",
      "104105\n",
      "104106\n",
      "104107\n",
      "104108\n",
      "104109\n",
      "104110\n"
     ]
    },
    {
     "name": "stderr",
     "output_type": "stream",
     "text": [
      "/Users/polina/Desktop/github/transport_frames/transport_frames/new_modules/road_adder/road_adder.py:434: FutureWarning: The behavior of DataFrame concatenation with empty or all-NA entries is deprecated. In a future version, this will no longer exclude empty or all-NA columns when determining the result dtypes. To retain the old behavior, exclude the relevant entries before the concat operation.\n",
      "  added_intersections_nodes = pd.concat([added_intersections_nodes,new_intersection]) # adding new nodes\n",
      "/Users/polina/Desktop/github/transport_frames/transport_frames/new_modules/road_adder/road_adder.py:441: FutureWarning: The behavior of DataFrame concatenation with empty or all-NA entries is deprecated. In a future version, this will no longer exclude empty or all-NA columns when determining the result dtypes. To retain the old behavior, exclude the relevant entries before the concat operation.\n",
      "  added_intersections_edges = pd.concat([added_intersections_edges,new_piece]) # adding road pieces\n"
     ]
    }
   ],
   "source": [
    "graf = add_roads(citygraph,nu,n,e,32636,node_buffer = 300,road_buffer = 5000)"
   ]
  },
  {
   "cell_type": "markdown",
   "metadata": {},
   "source": [
    "## plots"
   ]
  },
  {
   "cell_type": "code",
   "execution_count": null,
   "metadata": {},
   "outputs": [],
   "source": [
    "# для каждой новой дороги:\n",
    "#     для каждого конца дороги:\n",
    "#     new_nodes.add(конец)\n",
    "#         если рядом вершина:\n",
    "#             new_edges.add(ребро от конца до вершины)\n",
    "#         если рядом дорога:\n",
    "#             new_nodes.add(ближайшая точка на дороге)\n",
    "#             del_edges.add(дорога)\n",
    "#             new_edges.add(ребро от конца до вершины)"
   ]
  },
  {
   "cell_type": "code",
   "execution_count": null,
   "metadata": {},
   "outputs": [],
   "source": [
    "n_,e_ = momepy.nx_to_gdf(graf)\n",
    "n_ = n_[n_.intersects(point2.buffer(10000))]\n",
    "e_ = e_[e_.intersects(point2.buffer(10000))]\n",
    "e_.flag = e_['flag'].fillna('original')"
   ]
  },
  {
   "cell_type": "code",
   "execution_count": null,
   "metadata": {},
   "outputs": [],
   "source": [
    "w.explore('flag')"
   ]
  },
  {
   "cell_type": "code",
   "execution_count": null,
   "metadata": {},
   "outputs": [],
   "source": [
    "import folium\n",
    "import geopandas as gpd\n",
    "import pandas as pd\n",
    "from shapely.geometry import Point, LineString\n",
    "from folium import features\n",
    "\n",
    "\n",
    "\n",
    "# Combine edges and nodes into a single GeoDataFrame\n",
    "w = pd.concat([e, n]).to_crs(4236)\n",
    "\n",
    "# Apply the custom color function\n",
    "\n",
    "# Initialize the Folium map\n",
    "m = folium.Map(location=[w.geometry.centroid.y.mean(), w.geometry.centroid.x.mean()], zoom_start=12)\n",
    "\n",
    "# Add lines to the map\n",
    "for _, row in w[w.geometry.type == 'LineString'].iterrows():\n",
    "    folium.PolyLine(\n",
    "        locations=[(p[1], p[0]) for p in row['geometry'].coords],\n",
    "        color='grey',\n",
    "        weight=3\n",
    "    ).add_to(m)\n",
    "\n",
    "# Add markers to the map\n",
    "for _, row in w[w.geometry.type == 'Point'].iterrows():\n",
    "    folium.CircleMarker(\n",
    "        location=(row['geometry'].y, row['geometry'].x),\n",
    "        color='grey',\n",
    "        fill=True,\n",
    "        fill_opacity=0.5,\n",
    "        radius=5\n",
    "    ).add_to(m)\n",
    "\n",
    "# Save the map to an HTML file\n",
    "\n",
    "# Display the map\n",
    "m\n"
   ]
  },
  {
   "cell_type": "code",
   "execution_count": null,
   "metadata": {},
   "outputs": [],
   "source": [
    "line_gdf['maxspeed'] = 110/3.6\n",
    "line_gdf"
   ]
  },
  {
   "cell_type": "code",
   "execution_count": null,
   "metadata": {},
   "outputs": [],
   "source": [
    "# связность + выделенная новая дорога на карте ЛО\n",
    "# улучшение показателей\n",
    "# Вход выход\n",
    "# схемка?\n",
    "# вид вблизи (подкрашены ноды)"
   ]
  },
  {
   "cell_type": "code",
   "execution_count": null,
   "metadata": {},
   "outputs": [],
   "source": [
    "c1.to_service.median(), c2.to_service.median()"
   ]
  },
  {
   "cell_type": "code",
   "execution_count": null,
   "metadata": {},
   "outputs": [],
   "source": [
    "poin = gpd.read_file('/Users/polina/Desktop/github/transport_frames/data/lo_gdfs/points.geojson').to_crs(local_crs)\n",
    "poin['points'] = 1\n",
    "c1 = indicators.new_connectivity(citygraph, poin, local_crs=local_crs, inter=False)\n",
    "c2 = indicators.new_connectivity(graf, poin, local_crs=local_crs, inter=False)"
   ]
  },
  {
   "cell_type": "code",
   "execution_count": null,
   "metadata": {},
   "outputs": [],
   "source": [
    "district = gpd.read_file(f'/Users/polina/Desktop/github/transport_frames/data/lo_gdfs/polygons18.geojson').to_crs(local_crs)\n",
    "settlement = gpd.read_file('/Users/polina/Desktop/github/transport_frames/data/lo_gdfs/polygons188.geojson').to_crs(local_crs)\n",
    "\n",
    "res = gpd.sjoin(c1, settlement, how=\"left\", predicate=\"within\").groupby('index_right').median(['to_service'])\n",
    "c11 = pd.merge(settlement.reset_index(), res, left_on='index', right_on='index_right')\n",
    "res = gpd.sjoin(c2, settlement, how=\"left\", predicate=\"within\").groupby('index_right').median(['to_service'])\n",
    "c22 = pd.merge(settlement.reset_index(), res, left_on='index', right_on='index_right')"
   ]
  },
  {
   "cell_type": "code",
   "execution_count": null,
   "metadata": {},
   "outputs": [],
   "source": [
    "import matplotlib.pyplot as plt\n",
    "import matplotlib.cm as cm\n",
    "import numpy as np\n",
    "\n",
    "fig, ax = plt.subplots(1, 1, figsize=(16, 8))\n",
    "c11.plot(column='to_service', cmap=plt.get_cmap('RdYlGn_r'), ax=ax,  legend=True, markersize=4).set_axis_off()\n",
    "nodes, edges = n,e\n",
    "e_[e_.reg==1].plot(ax=ax, color='white', label='Федеральные трассы')\n",
    "e_[e_.flag=='line_segment'].plot(ax=ax, color='black', label='Новая дорога')\n",
    "colorbar = plt.colorbar(cm.ScalarMappable(cmap=plt.get_cmap('RdYlGn_r'), norm=plt.Normalize(vmin=c11['to_service'].min(), vmax=c11['to_service'].max())), ax=ax)\n",
    "# colorbar.set_ticks(np.arange(0, c11['to_service'].max(), 0.5))\n",
    "ax.legend(loc='lower right')\n",
    "fig.delaxes(fig.axes[1])\n",
    "# plt.title('Оценка территорий на каркасе')\n",
    "plt.savefig('12.png')\n",
    "plt.show()"
   ]
  },
  {
   "cell_type": "code",
   "execution_count": null,
   "metadata": {},
   "outputs": [],
   "source": [
    "fig, ax = plt.subplots(1, 1, figsize=(16, 8))\n",
    "c22.plot(column='to_service', cmap=plt.get_cmap('RdYlGn_r'), ax=ax,  legend=True, markersize=4).set_axis_off()\n",
    "nodes, edges = n,e\n",
    "e_[e_.reg==1].plot(ax=ax, color='white', label='Федеральные трассы')\n",
    "e_[e_.flag=='line_segment'].plot(ax=ax, color='black', label='Новая дорога')\n",
    "colorbar = plt.colorbar(cm.ScalarMappable(cmap=plt.get_cmap('RdYlGn_r'), norm=plt.Normalize(vmin=c22['to_service'].min(), vmax=c22['to_service'].max())), ax=ax)\n",
    "# colorbar.set_ticks(np.arange(0, c11['to_service'].max(), 0.5))\n",
    "ax.legend(loc='lower right')\n",
    "fig.delaxes(fig.axes[1])\n",
    "# plt.title('Оценка cdzp')\n",
    "plt.savefig('11.png')\n",
    "plt.show()"
   ]
  },
  {
   "cell_type": "code",
   "execution_count": null,
   "metadata": {},
   "outputs": [],
   "source": [
    "e"
   ]
  },
  {
   "cell_type": "markdown",
   "metadata": {},
   "source": []
  }
 ],
 "metadata": {
  "kernelspec": {
   "display_name": ".venv",
   "language": "python",
   "name": "python3"
  },
  "language_info": {
   "codemirror_mode": {
    "name": "ipython",
    "version": 3
   },
   "file_extension": ".py",
   "mimetype": "text/x-python",
   "name": "python",
   "nbconvert_exporter": "python",
   "pygments_lexer": "ipython3",
   "version": "3.10.11"
  }
 },
 "nbformat": 4,
 "nbformat_minor": 2
}
