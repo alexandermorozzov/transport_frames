{
 "cells": [
  {
   "cell_type": "code",
   "execution_count": 6,
   "metadata": {},
   "outputs": [],
   "source": [
    "import geopandas as gpd\n",
    "import networkx as nx\n",
    "import momepy\n",
    "import sys\n",
    "sys.path.append('/Users/polina/Desktop/github/transport_frames')\n",
    "import momepy\n",
    "import osmnx as ox\n",
    "import geopandas as gpd\n",
    "import shapely\n",
    "import pandas as pd\n",
    "import networkx as nx\n",
    "import numpy as np\n",
    "import json\n",
    "from shapely.geometry import Point, LineString\n",
    "from shapely.ops import split, unary_union, nearest_points\n",
    "from shapely.geometry import GeometryCollection, MultiPoint\n",
    "from road_adder import *\n",
    "\n",
    "from transport_frames.new_modules.utils.helper_funcs import convert_list_attr_from_str, prepare_graph\n",
    "from transport_frames.new_modules.indicators.utils import availability_matrix\n",
    "\n",
    "from transport_frames.new_modules.road_adder.road_adder import add_roads\n",
    "\n",
    "\n",
    "\n"
   ]
  },
  {
   "cell_type": "code",
   "execution_count": 7,
   "metadata": {},
   "outputs": [],
   "source": [
    "citygraph = nx.read_graphml('/Users/polina/Desktop/github/transport_frames/preprocessed/ЛО/Ленинградская_область/Ленинградская_область_uds.graphml')\n",
    "citygraph = convert_list_attr_from_str(citygraph)\n",
    "citygraph = prepare_graph(citygraph)\n",
    "n,e = momepy.nx_to_gdf(citygraph)\n",
    "\n"
   ]
  },
  {
   "cell_type": "code",
   "execution_count": 8,
   "metadata": {},
   "outputs": [],
   "source": [
    "nu = gpd.read_file('/Users/polina/Desktop/citygraph_e_new_edges.geojson').to_crs(32636)"
   ]
  },
  {
   "cell_type": "markdown",
   "metadata": {},
   "source": [
    "## run"
   ]
  },
  {
   "cell_type": "code",
   "execution_count": 9,
   "metadata": {},
   "outputs": [
    {
     "name": "stdout",
     "output_type": "stream",
     "text": [
      "104070\n",
      "104071\n"
     ]
    },
    {
     "name": "stderr",
     "output_type": "stream",
     "text": [
      "/Users/polina/Desktop/github/transport_frames/transport_frames/new_modules/road_adder/road_adder.py:348: FutureWarning: The behavior of DataFrame concatenation with empty or all-NA entries is deprecated. In a future version, this will no longer exclude empty or all-NA columns when determining the result dtypes. To retain the old behavior, exclude the relevant entries before the concat operation.\n",
      "  added_nodes = pd.concat([added_nodes, new_end_node]) # adding ends\n",
      "/Users/polina/Desktop/github/transport_frames/transport_frames/new_modules/road_adder/road_adder.py:354: FutureWarning: The behavior of DataFrame concatenation with empty or all-NA entries is deprecated. In a future version, this will no longer exclude empty or all-NA columns when determining the result dtypes. To retain the old behavior, exclude the relevant entries before the concat operation.\n",
      "  added_edges = pd.concat([added_edges, bridge_edge]) # if we can connect end to a node, only the bridge is added\n"
     ]
    },
    {
     "name": "stdout",
     "output_type": "stream",
     "text": [
      "104072\n"
     ]
    },
    {
     "name": "stderr",
     "output_type": "stream",
     "text": [
      "/Users/polina/Desktop/github/transport_frames/transport_frames/new_modules/road_adder/road_adder.py:429: FutureWarning: The behavior of DataFrame concatenation with empty or all-NA entries is deprecated. In a future version, this will no longer exclude empty or all-NA columns when determining the result dtypes. To retain the old behavior, exclude the relevant entries before the concat operation.\n",
      "  added_intersections_nodes = pd.concat([added_intersections_nodes,new_intersection]) # adding new no\n",
      "/Users/polina/Desktop/github/transport_frames/transport_frames/new_modules/road_adder/road_adder.py:441: FutureWarning: The behavior of DataFrame concatenation with empty or all-NA entries is deprecated. In a future version, this will no longer exclude empty or all-NA columns when determining the result dtypes. To retain the old behavior, exclude the relevant entries before the concat operation.\n",
      "  added_intersections_edges = pd.concat([added_intersections_edges,new_piece]) # adding road pieces\n",
      "/Users/polina/Desktop/github/transport_frames/transport_frames/new_modules/road_adder/road_adder.py:486: FutureWarning: The behavior of DataFrame concatenation with empty or all-NA entries is deprecated. In a future version, this will no longer exclude empty or all-NA columns when determining the result dtypes. To retain the old behavior, exclude the relevant entries before the concat operation.\n",
      "  nodes_to_add = pd.concat([nodes_to_add, added_nodes,added_intersections_nodes])\n",
      "/Users/polina/Desktop/github/transport_frames/transport_frames/new_modules/road_adder/road_adder.py:487: FutureWarning: The behavior of DataFrame concatenation with empty or all-NA entries is deprecated. In a future version, this will no longer exclude empty or all-NA columns when determining the result dtypes. To retain the old behavior, exclude the relevant entries before the concat operation.\n",
      "  edges_to_add = pd.concat([edges_to_add, added_edges,added_intersections_edges])\n",
      "/Users/polina/Desktop/github/transport_frames/transport_frames/new_modules/road_adder/road_adder.py:348: FutureWarning: The behavior of DataFrame concatenation with empty or all-NA entries is deprecated. In a future version, this will no longer exclude empty or all-NA columns when determining the result dtypes. To retain the old behavior, exclude the relevant entries before the concat operation.\n",
      "  added_nodes = pd.concat([added_nodes, new_end_node]) # adding ends\n",
      "/Users/polina/Desktop/github/transport_frames/transport_frames/new_modules/road_adder/road_adder.py:354: FutureWarning: The behavior of DataFrame concatenation with empty or all-NA entries is deprecated. In a future version, this will no longer exclude empty or all-NA columns when determining the result dtypes. To retain the old behavior, exclude the relevant entries before the concat operation.\n",
      "  added_edges = pd.concat([added_edges, bridge_edge]) # if we can connect end to a node, only the bridge is added\n"
     ]
    },
    {
     "name": "stdout",
     "output_type": "stream",
     "text": [
      "104073\n",
      "104074\n",
      "104075\n"
     ]
    },
    {
     "name": "stderr",
     "output_type": "stream",
     "text": [
      "/Users/polina/Desktop/github/transport_frames/transport_frames/new_modules/road_adder/road_adder.py:429: FutureWarning: The behavior of DataFrame concatenation with empty or all-NA entries is deprecated. In a future version, this will no longer exclude empty or all-NA columns when determining the result dtypes. To retain the old behavior, exclude the relevant entries before the concat operation.\n",
      "  added_intersections_nodes = pd.concat([added_intersections_nodes,new_intersection]) # adding new no\n",
      "/Users/polina/Desktop/github/transport_frames/transport_frames/new_modules/road_adder/road_adder.py:441: FutureWarning: The behavior of DataFrame concatenation with empty or all-NA entries is deprecated. In a future version, this will no longer exclude empty or all-NA columns when determining the result dtypes. To retain the old behavior, exclude the relevant entries before the concat operation.\n",
      "  added_intersections_edges = pd.concat([added_intersections_edges,new_piece]) # adding road pieces\n"
     ]
    },
    {
     "name": "stdout",
     "output_type": "stream",
     "text": [
      "104076\n",
      "104077\n"
     ]
    },
    {
     "name": "stderr",
     "output_type": "stream",
     "text": [
      "/Users/polina/Desktop/github/transport_frames/transport_frames/new_modules/road_adder/road_adder.py:348: FutureWarning: The behavior of DataFrame concatenation with empty or all-NA entries is deprecated. In a future version, this will no longer exclude empty or all-NA columns when determining the result dtypes. To retain the old behavior, exclude the relevant entries before the concat operation.\n",
      "  added_nodes = pd.concat([added_nodes, new_end_node]) # adding ends\n",
      "/Users/polina/Desktop/github/transport_frames/transport_frames/new_modules/road_adder/road_adder.py:354: FutureWarning: The behavior of DataFrame concatenation with empty or all-NA entries is deprecated. In a future version, this will no longer exclude empty or all-NA columns when determining the result dtypes. To retain the old behavior, exclude the relevant entries before the concat operation.\n",
      "  added_edges = pd.concat([added_edges, bridge_edge]) # if we can connect end to a node, only the bridge is added\n",
      "/Users/polina/Desktop/github/transport_frames/transport_frames/new_modules/road_adder/road_adder.py:486: FutureWarning: The behavior of DataFrame concatenation with empty or all-NA entries is deprecated. In a future version, this will no longer exclude empty or all-NA columns when determining the result dtypes. To retain the old behavior, exclude the relevant entries before the concat operation.\n",
      "  nodes_to_add = pd.concat([nodes_to_add, added_nodes,added_intersections_nodes])\n",
      "/Users/polina/Desktop/github/transport_frames/transport_frames/new_modules/road_adder/road_adder.py:487: FutureWarning: The behavior of DataFrame concatenation with empty or all-NA entries is deprecated. In a future version, this will no longer exclude empty or all-NA columns when determining the result dtypes. To retain the old behavior, exclude the relevant entries before the concat operation.\n",
      "  edges_to_add = pd.concat([edges_to_add, added_edges,added_intersections_edges])\n",
      "/Users/polina/Desktop/github/transport_frames/transport_frames/new_modules/road_adder/road_adder.py:348: FutureWarning: The behavior of DataFrame concatenation with empty or all-NA entries is deprecated. In a future version, this will no longer exclude empty or all-NA columns when determining the result dtypes. To retain the old behavior, exclude the relevant entries before the concat operation.\n",
      "  added_nodes = pd.concat([added_nodes, new_end_node]) # adding ends\n"
     ]
    },
    {
     "name": "stdout",
     "output_type": "stream",
     "text": [
      "104078\n",
      "104079\n",
      "104080\n",
      "104081\n"
     ]
    },
    {
     "name": "stderr",
     "output_type": "stream",
     "text": [
      "/Users/polina/Desktop/github/transport_frames/transport_frames/new_modules/road_adder/road_adder.py:374: FutureWarning: The behavior of DataFrame concatenation with empty or all-NA entries is deprecated. In a future version, this will no longer exclude empty or all-NA columns when determining the result dtypes. To retain the old behavior, exclude the relevant entries before the concat operation.\n",
      "  added_edges = pd.concat([added_edges, bridge_edge]) # adding bridge\n"
     ]
    },
    {
     "name": "stdout",
     "output_type": "stream",
     "text": [
      "104082\n",
      "104083\n",
      "104084\n",
      "104085\n"
     ]
    },
    {
     "name": "stderr",
     "output_type": "stream",
     "text": [
      "/Users/polina/Desktop/github/transport_frames/transport_frames/new_modules/road_adder/road_adder.py:434: FutureWarning: The behavior of DataFrame concatenation with empty or all-NA entries is deprecated. In a future version, this will no longer exclude empty or all-NA columns when determining the result dtypes. To retain the old behavior, exclude the relevant entries before the concat operation.\n",
      "  added_intersections_nodes = pd.concat([added_intersections_nodes,new_intersection]) # adding new nodes\n",
      "/Users/polina/Desktop/github/transport_frames/transport_frames/new_modules/road_adder/road_adder.py:441: FutureWarning: The behavior of DataFrame concatenation with empty or all-NA entries is deprecated. In a future version, this will no longer exclude empty or all-NA columns when determining the result dtypes. To retain the old behavior, exclude the relevant entries before the concat operation.\n",
      "  added_intersections_edges = pd.concat([added_intersections_edges,new_piece]) # adding road pieces\n"
     ]
    },
    {
     "name": "stdout",
     "output_type": "stream",
     "text": [
      "104086\n",
      "104087\n",
      "104088\n"
     ]
    },
    {
     "name": "stderr",
     "output_type": "stream",
     "text": [
      "/Users/polina/Desktop/github/transport_frames/transport_frames/new_modules/road_adder/road_adder.py:348: FutureWarning: The behavior of DataFrame concatenation with empty or all-NA entries is deprecated. In a future version, this will no longer exclude empty or all-NA columns when determining the result dtypes. To retain the old behavior, exclude the relevant entries before the concat operation.\n",
      "  added_nodes = pd.concat([added_nodes, new_end_node]) # adding ends\n",
      "/Users/polina/Desktop/github/transport_frames/transport_frames/new_modules/road_adder/road_adder.py:374: FutureWarning: The behavior of DataFrame concatenation with empty or all-NA entries is deprecated. In a future version, this will no longer exclude empty or all-NA columns when determining the result dtypes. To retain the old behavior, exclude the relevant entries before the concat operation.\n",
      "  added_edges = pd.concat([added_edges, bridge_edge]) # adding bridge\n"
     ]
    },
    {
     "name": "stdout",
     "output_type": "stream",
     "text": [
      "104089\n",
      "104090\n",
      "104091\n",
      "104092\n",
      "104093\n",
      "104094\n",
      "104095\n"
     ]
    },
    {
     "name": "stderr",
     "output_type": "stream",
     "text": [
      "/Users/polina/Desktop/github/transport_frames/transport_frames/new_modules/road_adder/road_adder.py:434: FutureWarning: The behavior of DataFrame concatenation with empty or all-NA entries is deprecated. In a future version, this will no longer exclude empty or all-NA columns when determining the result dtypes. To retain the old behavior, exclude the relevant entries before the concat operation.\n",
      "  added_intersections_nodes = pd.concat([added_intersections_nodes,new_intersection]) # adding new nodes\n",
      "/Users/polina/Desktop/github/transport_frames/transport_frames/new_modules/road_adder/road_adder.py:441: FutureWarning: The behavior of DataFrame concatenation with empty or all-NA entries is deprecated. In a future version, this will no longer exclude empty or all-NA columns when determining the result dtypes. To retain the old behavior, exclude the relevant entries before the concat operation.\n",
      "  added_intersections_edges = pd.concat([added_intersections_edges,new_piece]) # adding road pieces\n"
     ]
    },
    {
     "name": "stdout",
     "output_type": "stream",
     "text": [
      "104096\n",
      "104097\n"
     ]
    },
    {
     "name": "stderr",
     "output_type": "stream",
     "text": [
      "/Users/polina/Desktop/github/transport_frames/transport_frames/new_modules/road_adder/road_adder.py:348: FutureWarning: The behavior of DataFrame concatenation with empty or all-NA entries is deprecated. In a future version, this will no longer exclude empty or all-NA columns when determining the result dtypes. To retain the old behavior, exclude the relevant entries before the concat operation.\n",
      "  added_nodes = pd.concat([added_nodes, new_end_node]) # adding ends\n",
      "/Users/polina/Desktop/github/transport_frames/transport_frames/new_modules/road_adder/road_adder.py:354: FutureWarning: The behavior of DataFrame concatenation with empty or all-NA entries is deprecated. In a future version, this will no longer exclude empty or all-NA columns when determining the result dtypes. To retain the old behavior, exclude the relevant entries before the concat operation.\n",
      "  added_edges = pd.concat([added_edges, bridge_edge]) # if we can connect end to a node, only the bridge is added\n",
      "/Users/polina/Desktop/github/transport_frames/transport_frames/new_modules/road_adder/road_adder.py:486: FutureWarning: The behavior of DataFrame concatenation with empty or all-NA entries is deprecated. In a future version, this will no longer exclude empty or all-NA columns when determining the result dtypes. To retain the old behavior, exclude the relevant entries before the concat operation.\n",
      "  nodes_to_add = pd.concat([nodes_to_add, added_nodes,added_intersections_nodes])\n",
      "/Users/polina/Desktop/github/transport_frames/transport_frames/new_modules/road_adder/road_adder.py:487: FutureWarning: The behavior of DataFrame concatenation with empty or all-NA entries is deprecated. In a future version, this will no longer exclude empty or all-NA columns when determining the result dtypes. To retain the old behavior, exclude the relevant entries before the concat operation.\n",
      "  edges_to_add = pd.concat([edges_to_add, added_edges,added_intersections_edges])\n",
      "/Users/polina/Desktop/github/transport_frames/transport_frames/new_modules/road_adder/road_adder.py:348: FutureWarning: The behavior of DataFrame concatenation with empty or all-NA entries is deprecated. In a future version, this will no longer exclude empty or all-NA columns when determining the result dtypes. To retain the old behavior, exclude the relevant entries before the concat operation.\n",
      "  added_nodes = pd.concat([added_nodes, new_end_node]) # adding ends\n",
      "/Users/polina/Desktop/github/transport_frames/transport_frames/new_modules/road_adder/road_adder.py:354: FutureWarning: The behavior of DataFrame concatenation with empty or all-NA entries is deprecated. In a future version, this will no longer exclude empty or all-NA columns when determining the result dtypes. To retain the old behavior, exclude the relevant entries before the concat operation.\n",
      "  added_edges = pd.concat([added_edges, bridge_edge]) # if we can connect end to a node, only the bridge is added\n"
     ]
    },
    {
     "name": "stdout",
     "output_type": "stream",
     "text": [
      "104098\n",
      "104099\n",
      "104100\n",
      "104101\n"
     ]
    },
    {
     "name": "stderr",
     "output_type": "stream",
     "text": [
      "/Users/polina/Desktop/github/transport_frames/transport_frames/new_modules/road_adder/road_adder.py:429: FutureWarning: The behavior of DataFrame concatenation with empty or all-NA entries is deprecated. In a future version, this will no longer exclude empty or all-NA columns when determining the result dtypes. To retain the old behavior, exclude the relevant entries before the concat operation.\n",
      "  added_intersections_nodes = pd.concat([added_intersections_nodes,new_intersection]) # adding new no\n",
      "/Users/polina/Desktop/github/transport_frames/transport_frames/new_modules/road_adder/road_adder.py:441: FutureWarning: The behavior of DataFrame concatenation with empty or all-NA entries is deprecated. In a future version, this will no longer exclude empty or all-NA columns when determining the result dtypes. To retain the old behavior, exclude the relevant entries before the concat operation.\n",
      "  added_intersections_edges = pd.concat([added_intersections_edges,new_piece]) # adding road pieces\n"
     ]
    },
    {
     "name": "stdout",
     "output_type": "stream",
     "text": [
      "104102\n",
      "104103\n"
     ]
    },
    {
     "name": "stderr",
     "output_type": "stream",
     "text": [
      "/Users/polina/Desktop/github/transport_frames/transport_frames/new_modules/road_adder/road_adder.py:348: FutureWarning: The behavior of DataFrame concatenation with empty or all-NA entries is deprecated. In a future version, this will no longer exclude empty or all-NA columns when determining the result dtypes. To retain the old behavior, exclude the relevant entries before the concat operation.\n",
      "  added_nodes = pd.concat([added_nodes, new_end_node]) # adding ends\n",
      "/Users/polina/Desktop/github/transport_frames/transport_frames/new_modules/road_adder/road_adder.py:354: FutureWarning: The behavior of DataFrame concatenation with empty or all-NA entries is deprecated. In a future version, this will no longer exclude empty or all-NA columns when determining the result dtypes. To retain the old behavior, exclude the relevant entries before the concat operation.\n",
      "  added_edges = pd.concat([added_edges, bridge_edge]) # if we can connect end to a node, only the bridge is added\n"
     ]
    },
    {
     "name": "stdout",
     "output_type": "stream",
     "text": [
      "104104\n",
      "104105\n",
      "104106\n",
      "104107\n",
      "104108\n",
      "104109\n",
      "104110\n"
     ]
    },
    {
     "name": "stderr",
     "output_type": "stream",
     "text": [
      "/Users/polina/Desktop/github/transport_frames/transport_frames/new_modules/road_adder/road_adder.py:434: FutureWarning: The behavior of DataFrame concatenation with empty or all-NA entries is deprecated. In a future version, this will no longer exclude empty or all-NA columns when determining the result dtypes. To retain the old behavior, exclude the relevant entries before the concat operation.\n",
      "  added_intersections_nodes = pd.concat([added_intersections_nodes,new_intersection]) # adding new nodes\n",
      "/Users/polina/Desktop/github/transport_frames/transport_frames/new_modules/road_adder/road_adder.py:441: FutureWarning: The behavior of DataFrame concatenation with empty or all-NA entries is deprecated. In a future version, this will no longer exclude empty or all-NA columns when determining the result dtypes. To retain the old behavior, exclude the relevant entries before the concat operation.\n",
      "  added_intersections_edges = pd.concat([added_intersections_edges,new_piece]) # adding road pieces\n"
     ]
    }
   ],
   "source": [
    "graf = add_roads(citygraph,nu,n,e,32636,node_buffer = 300,road_buffer = 5000)"
   ]
  },
  {
   "cell_type": "markdown",
   "metadata": {},
   "source": [
    "## plots"
   ]
  },
  {
   "cell_type": "code",
   "execution_count": null,
   "metadata": {},
   "outputs": [],
   "source": [
    "# для каждой новой дороги:\n",
    "#     для каждого конца дороги:\n",
    "#     new_nodes.add(конец)\n",
    "#         если рядом вершина:\n",
    "#             new_edges.add(ребро от конца до вершины)\n",
    "#         если рядом дорога:\n",
    "#             new_nodes.add(ближайшая точка на дороге)\n",
    "#             del_edges.add(дорога)\n",
    "#             new_edges.add(ребро от конца до вершины)"
   ]
  },
  {
   "cell_type": "code",
   "execution_count": null,
   "metadata": {},
   "outputs": [],
   "source": [
    "n_,e_ = momepy.nx_to_gdf(graf)\n",
    "n_ = n_[n_.intersects(point2.buffer(10000))]\n",
    "e_ = e_[e_.intersects(point2.buffer(10000))]\n",
    "e_.flag = e_['flag'].fillna('original')"
   ]
  },
  {
   "cell_type": "code",
   "execution_count": null,
   "metadata": {},
   "outputs": [],
   "source": [
    "w.explore('flag')"
   ]
  },
  {
   "cell_type": "code",
   "execution_count": null,
   "metadata": {},
   "outputs": [],
   "source": [
    "import folium\n",
    "import geopandas as gpd\n",
    "import pandas as pd\n",
    "from shapely.geometry import Point, LineString\n",
    "from folium import features\n",
    "\n",
    "\n",
    "\n",
    "# Combine edges and nodes into a single GeoDataFrame\n",
    "w = pd.concat([e, n]).to_crs(4236)\n",
    "\n",
    "# Apply the custom color function\n",
    "\n",
    "# Initialize the Folium map\n",
    "m = folium.Map(location=[w.geometry.centroid.y.mean(), w.geometry.centroid.x.mean()], zoom_start=12)\n",
    "\n",
    "# Add lines to the map\n",
    "for _, row in w[w.geometry.type == 'LineString'].iterrows():\n",
    "    folium.PolyLine(\n",
    "        locations=[(p[1], p[0]) for p in row['geometry'].coords],\n",
    "        color='grey',\n",
    "        weight=3\n",
    "    ).add_to(m)\n",
    "\n",
    "# Add markers to the map\n",
    "for _, row in w[w.geometry.type == 'Point'].iterrows():\n",
    "    folium.CircleMarker(\n",
    "        location=(row['geometry'].y, row['geometry'].x),\n",
    "        color='grey',\n",
    "        fill=True,\n",
    "        fill_opacity=0.5,\n",
    "        radius=5\n",
    "    ).add_to(m)\n",
    "\n",
    "# Save the map to an HTML file\n",
    "\n",
    "# Display the map\n",
    "m\n"
   ]
  },
  {
   "cell_type": "code",
   "execution_count": null,
   "metadata": {},
   "outputs": [],
   "source": [
    "line_gdf['maxspeed'] = 110/3.6\n",
    "line_gdf"
   ]
  },
  {
   "cell_type": "code",
   "execution_count": null,
   "metadata": {},
   "outputs": [],
   "source": [
    "# связность + выделенная новая дорога на карте ЛО\n",
    "# улучшение показателей\n",
    "# Вход выход\n",
    "# схемка?\n",
    "# вид вблизи (подкрашены ноды)"
   ]
  },
  {
   "cell_type": "code",
   "execution_count": null,
   "metadata": {},
   "outputs": [],
   "source": [
    "c1.to_service.median(), c2.to_service.median()"
   ]
  },
  {
   "cell_type": "code",
   "execution_count": null,
   "metadata": {},
   "outputs": [],
   "source": [
    "poin = gpd.read_file('/Users/polina/Desktop/github/transport_frames/data/lo_gdfs/points.geojson').to_crs(local_crs)\n",
    "poin['points'] = 1\n",
    "c1 = indicators.new_connectivity(citygraph, poin, local_crs=local_crs, inter=False)\n",
    "c2 = indicators.new_connectivity(graf, poin, local_crs=local_crs, inter=False)"
   ]
  },
  {
   "cell_type": "code",
   "execution_count": null,
   "metadata": {},
   "outputs": [],
   "source": [
    "district = gpd.read_file(f'/Users/polina/Desktop/github/transport_frames/data/lo_gdfs/polygons18.geojson').to_crs(local_crs)\n",
    "settlement = gpd.read_file('/Users/polina/Desktop/github/transport_frames/data/lo_gdfs/polygons188.geojson').to_crs(local_crs)\n",
    "\n",
    "res = gpd.sjoin(c1, settlement, how=\"left\", predicate=\"within\").groupby('index_right').median(['to_service'])\n",
    "c11 = pd.merge(settlement.reset_index(), res, left_on='index', right_on='index_right')\n",
    "res = gpd.sjoin(c2, settlement, how=\"left\", predicate=\"within\").groupby('index_right').median(['to_service'])\n",
    "c22 = pd.merge(settlement.reset_index(), res, left_on='index', right_on='index_right')"
   ]
  },
  {
   "cell_type": "code",
   "execution_count": null,
   "metadata": {},
   "outputs": [],
   "source": [
    "import matplotlib.pyplot as plt\n",
    "import matplotlib.cm as cm\n",
    "import numpy as np\n",
    "\n",
    "fig, ax = plt.subplots(1, 1, figsize=(16, 8))\n",
    "c11.plot(column='to_service', cmap=plt.get_cmap('RdYlGn_r'), ax=ax,  legend=True, markersize=4).set_axis_off()\n",
    "nodes, edges = n,e\n",
    "e_[e_.reg==1].plot(ax=ax, color='white', label='Федеральные трассы')\n",
    "e_[e_.flag=='line_segment'].plot(ax=ax, color='black', label='Новая дорога')\n",
    "colorbar = plt.colorbar(cm.ScalarMappable(cmap=plt.get_cmap('RdYlGn_r'), norm=plt.Normalize(vmin=c11['to_service'].min(), vmax=c11['to_service'].max())), ax=ax)\n",
    "# colorbar.set_ticks(np.arange(0, c11['to_service'].max(), 0.5))\n",
    "ax.legend(loc='lower right')\n",
    "fig.delaxes(fig.axes[1])\n",
    "# plt.title('Оценка территорий на каркасе')\n",
    "plt.savefig('12.png')\n",
    "plt.show()"
   ]
  },
  {
   "cell_type": "code",
   "execution_count": null,
   "metadata": {},
   "outputs": [],
   "source": [
    "fig, ax = plt.subplots(1, 1, figsize=(16, 8))\n",
    "c22.plot(column='to_service', cmap=plt.get_cmap('RdYlGn_r'), ax=ax,  legend=True, markersize=4).set_axis_off()\n",
    "nodes, edges = n,e\n",
    "e_[e_.reg==1].plot(ax=ax, color='white', label='Федеральные трассы')\n",
    "e_[e_.flag=='line_segment'].plot(ax=ax, color='black', label='Новая дорога')\n",
    "colorbar = plt.colorbar(cm.ScalarMappable(cmap=plt.get_cmap('RdYlGn_r'), norm=plt.Normalize(vmin=c22['to_service'].min(), vmax=c22['to_service'].max())), ax=ax)\n",
    "# colorbar.set_ticks(np.arange(0, c11['to_service'].max(), 0.5))\n",
    "ax.legend(loc='lower right')\n",
    "fig.delaxes(fig.axes[1])\n",
    "# plt.title('Оценка cdzp')\n",
    "plt.savefig('11.png')\n",
    "plt.show()"
   ]
  },
  {
   "cell_type": "code",
   "execution_count": null,
   "metadata": {},
   "outputs": [],
   "source": [
    "e"
   ]
  },
  {
   "cell_type": "markdown",
   "metadata": {},
   "source": []
  }
 ],
 "metadata": {
  "kernelspec": {
   "display_name": ".venv",
   "language": "python",
   "name": "python3"
  },
  "language_info": {
   "codemirror_mode": {
    "name": "ipython",
    "version": 3
   },
   "file_extension": ".py",
   "mimetype": "text/x-python",
   "name": "python",
   "nbconvert_exporter": "python",
   "pygments_lexer": "ipython3",
   "version": "3.10.11"
  }
 },
 "nbformat": 4,
 "nbformat_minor": 2
}
