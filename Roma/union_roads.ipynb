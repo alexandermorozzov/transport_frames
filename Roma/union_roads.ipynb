{
 "cells": [
  {
   "cell_type": "markdown",
   "id": "f7df640a",
   "metadata": {},
   "source": [
    "### **Union_roads**"
   ]
  },
  {
   "cell_type": "code",
   "execution_count": null,
   "id": "69e8d11e-2027-47f1-bbb1-d77801dddbd2",
   "metadata": {},
   "outputs": [],
   "source": [
    "import folium\n",
    "import pyproj\n",
    "import momepy\n",
    "import shapely\n",
    "import osmnx as ox\n",
    "import pandas as pd\n",
    "import networkx as nx\n",
    "import geopandas as gpd\n",
    "import matplotlib.pyplot as plt\n",
    "\n",
    "from tqdm import tqdm\n",
    "from shapely.wkt import loads, dumps\n",
    "from shapely.ops import nearest_points\n",
    "from shapely.geometry import Point, Polygon, LineString, MultiLineString"
   ]
  },
  {
   "cell_type": "code",
   "execution_count": null,
   "id": "b9a952cf-4f75-4767-a909-6a47f6912e6f",
   "metadata": {},
   "outputs": [],
   "source": [
    "def download_osm(id, tags: dict):\n",
    "    geocode_to_gdf = ox.geocode_to_gdf(id, by_osmid=True)\n",
    "    polygon_boundary = geocode_to_gdf.unary_union\n",
    "    gdf = ox.features_from_polygon(polygon_boundary, tags=tags)\n",
    "    return gdf"
   ]
  },
  {
   "cell_type": "code",
   "execution_count": null,
   "id": "8a547a73-2241-49bd-bdd2-ff1fa293fae8",
   "metadata": {},
   "outputs": [],
   "source": [
    "tags = {'highway': ['motorway', 'trunk', 'primary', \n",
    "                    'secondary','tertiary', 'unclassified', \n",
    "                    'residential', 'motorway_link', 'trunk_link', \n",
    "                    'primary_link', 'secondary_link', 'tertiary_link', \n",
    "                    'service']}\n",
    "gdf = download_osm(['R176095', 'R337422'], tags)"
   ]
  },
  {
   "cell_type": "code",
   "execution_count": null,
   "id": "9abf46c2-cff3-46b9-bc64-4e1393bca123",
   "metadata": {},
   "outputs": [],
   "source": [
    "gdf_roads_LO = gpd.read_file('data/geojsons/roads.geojson')"
   ]
  },
  {
   "cell_type": "code",
   "execution_count": null,
   "id": "6525ed9a",
   "metadata": {},
   "outputs": [],
   "source": [
    "print(list(gdf_roads_LO.geometry)[0])"
   ]
  },
  {
   "cell_type": "code",
   "execution_count": null,
   "id": "48e79ff8-9c39-4905-be80-2f12d5b70ed7",
   "metadata": {},
   "outputs": [],
   "source": [
    "gdf_roads_LO = gdf_roads_LO[gdf_roads_LO['YEAR'].notna()]\n",
    "gdf_roads_LO = gdf_roads_LO.to_crs(epsg=3857)"
   ]
  },
  {
   "cell_type": "code",
   "execution_count": null,
   "id": "1e32c4aa",
   "metadata": {},
   "outputs": [],
   "source": [
    "gdf_roads_LO_line = gdf_roads_LO.explode().reset_index(drop=True)"
   ]
  },
  {
   "cell_type": "code",
   "execution_count": null,
   "id": "6ec6c010",
   "metadata": {},
   "outputs": [],
   "source": [
    "gdf_part = gpd.read_file('data/geojsons/roads_OSM.geojson')\n",
    "gdf_part = gdf_part.to_crs(epsg=3857)"
   ]
  },
  {
   "cell_type": "code",
   "execution_count": null,
   "id": "5d7c182d-19c0-400f-bc37-4ff06b126b4c",
   "metadata": {},
   "outputs": [],
   "source": [
    "# Создаем LineString объекты\n",
    "line1 = LineString([(0, 1), (0, 2), (2, 2)])\n",
    "line2 = LineString([(1, 1), (1, 2), (2, 2), (2, 3)])\n",
    "line3 = LineString([(3, 1), (3, 2), (2, 2)])\n",
    "line4 = LineString([(1,4), (4,4)])\n",
    "# line5 = LineString([(2.8,2), (4,2)])\n",
    "# line6 = LineString([(3,1), (3,2.2)])\n",
    "gdf1 = gpd.GeoDataFrame([line1, line2, line3], columns=[\"geometry\"], crs=\"EPSG:3857\")\n",
    "gdf2 = gpd.GeoDataFrame([line4], columns=[\"geometry\"], crs=\"EPSG:3857\")"
   ]
  },
  {
   "cell_type": "code",
   "execution_count": null,
   "id": "04f28b82-b4e1-4cb4-a1eb-fd26da487d8a",
   "metadata": {},
   "outputs": [],
   "source": [
    "fig, ax = plt.subplots()\n",
    "gdf1.plot(ax=ax, color='blue')\n",
    "gdf2.plot(ax=ax, color='red')\n",
    "plt.show()"
   ]
  },
  {
   "cell_type": "code",
   "execution_count": null,
   "id": "d04e7c61",
   "metadata": {},
   "outputs": [],
   "source": [
    "# gdf2 = gpd.GeoDataFrame([line for line in shapely.unary_union(gdf1).geoms], columns=[\"geometry\"], crs=\"EPSG:3857\")\n",
    "\n",
    "import geopandas as gpd\n",
    "import matplotlib.pyplot as plt\n",
    "\n",
    "# Предполагается, что gdf2 уже определен и содержит линии как показано в вашем примере\n",
    "\n",
    "# Создаем фигуру и оси для отрисовки\n",
    "fig, ax = plt.subplots()\n",
    "\n",
    "# Определяем список цветов для линий\n",
    "colors = ['red', 'green', 'blue', 'orange', 'purple']\n",
    "\n",
    "# Итерируем по строкам GeoDataFrame и отрисовываем каждую линию отдельно\n",
    "for idx, row in gdf_result.iterrows():\n",
    "    # Используем индекс строки для выбора цвета из списка\n",
    "    # Если индекс превышает длину списка цветов, используем остаток от деления индекса на длину списка\n",
    "    color = colors[idx % len(colors)]\n",
    "    \n",
    "    # Отрисовываем линию с выбранным цветом\n",
    "    line = row.geometry\n",
    "    x, y = line.xy\n",
    "    ax.plot(x, y, color=color)\n",
    "\n",
    "# Устанавливаем равное соотношение сторон, чтобы геометрические фигуры не искажались\n",
    "ax.set_aspect('equal')\n",
    "\n",
    "plt.show()"
   ]
  },
  {
   "cell_type": "code",
   "execution_count": null,
   "id": "5473c313",
   "metadata": {},
   "outputs": [],
   "source": [
    "print(gdf_result)"
   ]
  },
  {
   "cell_type": "code",
   "execution_count": null,
   "id": "806b9203",
   "metadata": {},
   "outputs": [],
   "source": [
    "def nearest_point(gdf_part, gdf_roads_LO_line, meters=50):\n",
    "    # Создаем пустой список для хранения результатов\n",
    "    geometries = []\n",
    "    \n",
    "    # Итерируем по каждой линии в gdf_roads_LO_line['geometry']\n",
    "    for line in tqdm(gdf_roads_LO_line['geometry']):\n",
    "        used_points = set()  # Множество для отслеживания использованных точек\n",
    "        # Создаем временный GeoDataFrame для линии\n",
    "        temp_gdf = gpd.GeoDataFrame([line], columns=[\"geometry\"], crs=\"EPSG:3857\")\n",
    "        # Ищем ближайшие точки\n",
    "        gdf_func = gpd.sjoin_nearest(gdf_part, temp_gdf, max_distance=meters)\n",
    "        \n",
    "        # Если нет ближайших точек, просто добавляем линию\n",
    "        if gdf_func.empty:\n",
    "            continue\n",
    "        \n",
    "        # Проверяем расстояние от обоих концов линии\n",
    "        start_point = Point(line.coords[0])\n",
    "        end_point = Point(line.coords[-1])\n",
    "        start_distances = gdf_part.distance(start_point)\n",
    "        end_distances = gdf_part.distance(end_point)\n",
    "        near_start = start_distances[start_distances <= meters].sort_values()\n",
    "        near_end = end_distances[end_distances <= meters].sort_values()\n",
    "        \n",
    "        # Инициализируем новую линию как список координат\n",
    "        new_line_coords = list(line.coords)\n",
    "        \n",
    "        # Получаем индексы ближайших точек, исключая уже использованные\n",
    "        start_idx = next((idx for idx in near_start.index if idx not in used_points), None)\n",
    "        if start_idx is not None:\n",
    "            used_points.add(start_idx)\n",
    "            point_for_project_start = gdf_part.loc[start_idx].geometry.interpolate(gdf_part.loc[start_idx].geometry.project(start_point))\n",
    "            new_line_coords.insert(0, (point_for_project_start.x, point_for_project_start.y))\n",
    "        \n",
    "        end_idx = next((idx for idx in near_end.index if idx not in used_points), None)\n",
    "        if end_idx is not None:\n",
    "            used_points.add(end_idx)\n",
    "            point_for_project_end = gdf_part.loc[end_idx].geometry.interpolate(gdf_part.loc[end_idx].geometry.project(end_point))\n",
    "            new_line_coords.append((point_for_project_end.x, point_for_project_end.y))\n",
    "        \n",
    "        # Создаем новую линию из обновленного списка координат\n",
    "        new_line = LineString(new_line_coords)\n",
    "        geometries.append(new_line)\n",
    "\n",
    "    # Создаем GeoDataFrame из списка линий\n",
    "    gdf_result = gpd.GeoDataFrame(geometry=geometries, crs=\"EPSG:3857\")\n",
    "    # Объединяем с исходным GeoDataFrame\n",
    "    gdf_result = pd.concat([gdf_result, gdf_part], ignore_index=True)\n",
    "\n",
    "    return gdf_result"
   ]
  },
  {
   "cell_type": "code",
   "execution_count": null,
   "id": "9df7687a",
   "metadata": {},
   "outputs": [],
   "source": [
    "gdf_result = nearest_point(gdf_part, gdf_roads_LO_line, meters=150)"
   ]
  },
  {
   "cell_type": "code",
   "execution_count": null,
   "id": "a490cf48",
   "metadata": {},
   "outputs": [],
   "source": [
    "gdf_result_2 = gpd.GeoDataFrame([line for line in shapely.unary_union(gdf_result['geometry']).geoms], columns=[\"geometry\"], crs=\"EPSG:3857\")"
   ]
  },
  {
   "cell_type": "code",
   "execution_count": null,
   "id": "42c9529d",
   "metadata": {},
   "outputs": [],
   "source": [
    "gdf_result_2.to_file('gdf_result_2.geojson', driver='GeoJSON')"
   ]
  },
  {
   "cell_type": "code",
   "execution_count": null,
   "id": "6752537b",
   "metadata": {},
   "outputs": [],
   "source": [
    "graph_lo = momepy.gdf_to_nx(gdf_result.to_crs(epsg=4326))\n",
    "for node in graph_lo.nodes:\n",
    "    x = node[0]\n",
    "    y = node[1]\n",
    "    graph_lo.nodes()[node]['x'] = x\n",
    "    graph_lo.nodes()[node]['y'] = y"
   ]
  },
  {
   "cell_type": "code",
   "execution_count": null,
   "id": "f9a2261f",
   "metadata": {},
   "outputs": [],
   "source": [
    "import folium\n",
    "\n",
    "m = folium.Map(tiles='CartoDB Dark_Matter')\n",
    "\n",
    "\n",
    "# Добавляем рёбра на карту\n",
    "for edge in graph_lo.edges(data=True):\n",
    "    # Если у ребра есть атрибут 'geometry', используем его для отображения\n",
    "    if 'geometry' in edge[2] and edge[2]['geometry'] is not None:\n",
    "        # Извлекаем координаты из LINESTRING\n",
    "        linestring = list(edge[2]['geometry'].coords)\n",
    "        # Преобразуем координаты для folium (переворачиваем их)\n",
    "        points = [(coord[1], coord[0]) for coord in linestring]\n",
    "        if isinstance(edge[2][\"highway\"], str):\n",
    "            folium.PolyLine(points, color='green', tooltip=f'highway: {edge[2][\"highway\"]}').add_to(m)\n",
    "        else:\n",
    "            folium.PolyLine(points, color='red', tooltip=f'highway: {edge[2][\"highway\"]}').add_to(m)\n",
    "\n",
    "# Добавляем узлы на карту\n",
    "for node, data in graph_lo.nodes(data=True):\n",
    "    folium.CircleMarker(location=node[::-1], radius=2, color='yellow').add_to(m)\n",
    "\n",
    "\n",
    "# Отображаем карту\n",
    "m.save('spb_line.html')"
   ]
  },
  {
   "cell_type": "code",
   "execution_count": null,
   "id": "61e3b8c7",
   "metadata": {},
   "outputs": [],
   "source": [
    "import folium\n",
    "\n",
    "# Создаем карту с использованием темной темы CartoDB\n",
    "m = folium.Map(location=[59.90669247649436, 29.2840537417804], tiles='CartoDB Dark_Matter', zoom_start=15)\n",
    "\n",
    "# Добавляем рёбра на карту\n",
    "for edge in graph_2.edges:\n",
    "    start_node, end_node = edge[0], edge[1]\n",
    "    points = [start_node[::-1], end_node[::-1]]  # Переворачиваем координаты для folium\n",
    "    folium.PolyLine(points, color='blue').add_to(m)\n",
    "\n",
    "# Добавляем узлы на карту\n",
    "for node in graph_2.nodes:\n",
    "    folium.CircleMarker(location=node[::-1], radius=2, color='red').add_to(m)\n",
    "\n",
    "# Отображаем карту\n",
    "m.save('spb_graph.html')"
   ]
  },
  {
   "cell_type": "markdown",
   "id": "12daaf66",
   "metadata": {},
   "source": [
    "### **Union_roads_2**\n",
    "Тут я пробую взять graph и сделать из него gdf"
   ]
  },
  {
   "cell_type": "code",
   "execution_count": 2,
   "id": "6cbc49e3",
   "metadata": {},
   "outputs": [
    {
     "name": "stderr",
     "output_type": "stream",
     "text": [
      "d:\\IT\\GitHub\\ITMO_NCCR\\.venv\\lib\\site-packages\\tqdm\\auto.py:21: TqdmWarning: IProgress not found. Please update jupyter and ipywidgets. See https://ipywidgets.readthedocs.io/en/stable/user_install.html\n",
      "  from .autonotebook import tqdm as notebook_tqdm\n"
     ]
    }
   ],
   "source": [
    "import folium\n",
    "import pyproj\n",
    "import momepy\n",
    "import shapely\n",
    "import numpy as np\n",
    "import osmnx as ox\n",
    "import pandas as pd\n",
    "import networkx as nx\n",
    "import geopandas as gpd\n",
    "import matplotlib.pyplot as plt\n",
    "\n",
    "from tqdm import tqdm\n",
    "from shapely.wkt import loads, dumps\n",
    "from shapely.ops import nearest_points\n",
    "from shapely.geometry import Point, Polygon, LineString, MultiLineString"
   ]
  },
  {
   "cell_type": "code",
   "execution_count": 3,
   "id": "b2d49b78",
   "metadata": {},
   "outputs": [
    {
     "name": "stderr",
     "output_type": "stream",
     "text": [
      "d:\\IT\\GitHub\\ITMO_NCCR\\.venv\\lib\\site-packages\\osmnx\\_overpass.py:245: UserWarning: This area is 52 times your configured Overpass max query area size. It will automatically be divided up into multiple sub-queries accordingly. This may take a long time.\n",
      "  multi_poly_proj = utils_geo._consolidate_subdivide_geometry(poly_proj)\n"
     ]
    }
   ],
   "source": [
    "spb = ox.geocode_to_gdf('R337422', by_osmid=True) # Санкт-Петербург\n",
    "lo = ox.geocode_to_gdf('R176095', by_osmid=True)  # Ленинградская область\n",
    "\n",
    "spb_buff = spb.to_crs(epsg=3857).buffer(1000).to_crs(epsg=4326)\n",
    "lo_buff = lo.to_crs(epsg=3857).buffer(3000).to_crs(epsg=4326)\n",
    "\n",
    "lo_filter = \"['highway'~'motorway|trunk|primary|secondary|tertiary|unclassified|residential|motorway_link|trunk_link|primary_link|secondary_link|tertiary_link']\"\n",
    "graph_lo = ox.graph_from_polygon(lo_buff.union(spb_buff).unary_union, network_type='drive', custom_filter=lo_filter)"
   ]
  },
  {
   "cell_type": "code",
   "execution_count": 4,
   "id": "173a274e",
   "metadata": {},
   "outputs": [],
   "source": [
    "def geometry_type_counts(gdf):\n",
    "    geom_types_counts = gdf.geometry.geom_type.value_counts().to_dict()\n",
    "    return geom_types_counts"
   ]
  },
  {
   "cell_type": "code",
   "execution_count": null,
   "id": "71c9fa04",
   "metadata": {},
   "outputs": [],
   "source": [
    "mymap = folium.Map(tiles='CartoDB Dark_Matter')\n",
    "\n",
    "# Создаем FeatureGroup для узлов\n",
    "edges_group = folium.FeatureGroup(name='Roads')\n",
    "other_group = folium.FeatureGroup(name='Other_roads')\n",
    "\n",
    "all_roads_type = ['motorway', 'motorway_link', 'primary', 'primary_link', 'secondary', 'secondary_link', 'tertiary', 'tertiary_link', 'trunk', 'trunk_link']\n",
    "weights = {\n",
    " 'motorway':        5, # Автомагистрали \n",
    " 'motorway_link':   5, # Съезды на развязках дорог, на которых действуют те же правила движения, что и на (motorway).\n",
    " 'primary':         3,  # Автомобильные дороги регионального значения\n",
    " 'primary_link':    3,  # Съезды на развязках дорог с той же важностью в дорожной сети, что и primary.\n",
    " 'residential':     1,  # Дороги, которые проходят внутри жилых зон, а также используются для подъезда к ним. \n",
    " 'secondary':       2,  # Автомобильные дороги областного значения\n",
    " 'secondary_link':  2,  # Съезды на развязках дорог с той же важностью в дорожной сети, что и secondary.\n",
    " 'tertiary':        1,  # Более важные автомобильные дороги среди прочих \n",
    "                         # автомобильных дорог местного значения, например\n",
    "                         # соединяющие районные центры с сёлами, а также несколько сёл между собой.\n",
    " 'tertiary_link':   1,  # Съезды на развязках дорог с той же важностью в дорожной сети, что и tertiary.\n",
    " 'trunk':           4,  # Важные дороги, не являющиеся автомагистралями\n",
    " 'trunk_link':      4,  # Съезды на развязках дорог с той же важностью в дорожной сети, что и trunk.\n",
    " 'unclassified':    1   # Остальные автомобильные дороги местного значения, образующие соединительную сеть дорог.\n",
    " }\n",
    "\n",
    "for u, v, d in graph_lo.edges(data=True):\n",
    "    if d.get('highway') in all_roads_type:\n",
    "        folium.PolyLine(\n",
    "            [[graph_lo.nodes[u]['y'], graph_lo.nodes[u]['x']],\n",
    "             [graph_lo.nodes[v]['y'], graph_lo.nodes[v]['x']]],\n",
    "            color=\"yellow\",\n",
    "            weight=weights[d.get('highway')],  # Толщина линии\n",
    "            opacity=1,\n",
    "            tooltip=f\"highway: {d.get('highway')}\"\n",
    "        ).add_to(edges_group)\n",
    "edges_group.add_to(mymap)\n",
    "\n",
    "for u, v, d in graph_lo.edges(data=True):\n",
    "    if d.get('highway') not in all_roads_type:\n",
    "        folium.PolyLine(\n",
    "            [[graph_lo.nodes[u]['y'], graph_lo.nodes[u]['x']],\n",
    "             [graph_lo.nodes[v]['y'], graph_lo.nodes[v]['x']]],\n",
    "            color=\"yellow\",\n",
    "            weight=0.5,  # Толщина линии\n",
    "            opacity=1,\n",
    "            tooltip=f\"highway: {d.get('highway')}\"\n",
    "        ).add_to(other_group)\n",
    "other_group.add_to(mymap)\n",
    "\n",
    "# Добавляем контроллер слоев\n",
    "folium.LayerControl().add_to(mymap)\n",
    "\n",
    "# Сохраняем карту в HTML файл\n",
    "mymap.save('data/html/graph_osm_lo_spb.html')"
   ]
  },
  {
   "cell_type": "code",
   "execution_count": null,
   "id": "38afe95f",
   "metadata": {},
   "outputs": [],
   "source": [
    "# ox.save_graphml(graph_lo, 'data/graphml/graph_osm_lo_spb.graphml')"
   ]
  },
  {
   "cell_type": "code",
   "execution_count": 2,
   "id": "ce9b3102",
   "metadata": {},
   "outputs": [],
   "source": [
    "graph_lo = nx.read_graphml('data/graphml/graph_osm_lo_spb.graphml')"
   ]
  },
  {
   "cell_type": "code",
   "execution_count": 12,
   "id": "aa3f5ed5",
   "metadata": {},
   "outputs": [
    {
     "name": "stdout",
     "output_type": "stream",
     "text": [
      "{'Point': 124602} {'LineString': 308881}\n"
     ]
    }
   ],
   "source": [
    "# list(graph_lo.nodes(data=True))[0], list(graph_lo.edges(data=True))[0]\n",
    "try: \n",
    "    n, e = ox.graph_to_gdfs(graph_lo)\n",
    "    print(geometry_type_counts(n), geometry_type_counts(e)) \n",
    "except TypeError as e: \n",
    "    print(\"An error occurred while converting graph to GeoDataFrames.\") \n",
    "    print(\"Error message: \", str(e))"
   ]
  },
  {
   "cell_type": "code",
   "execution_count": null,
   "id": "e4fdc08a",
   "metadata": {},
   "outputs": [],
   "source": [
    "e[['highway', 'geometry']][e['highway'] == 'unclassified'].explore()"
   ]
  },
  {
   "cell_type": "code",
   "execution_count": 57,
   "id": "9d0ef1c7",
   "metadata": {},
   "outputs": [],
   "source": [
    "poly_gdf = gpd.GeoDataFrame(geometry=spb.to_crs(epsg=3857).buffer(-3100))\n",
    "poly_gdf['polygon_id'] = 1\n",
    "poly_gdf.set_index('polygon_id', inplace=True)"
   ]
  },
  {
   "cell_type": "code",
   "execution_count": 77,
   "id": "1f462a5f",
   "metadata": {},
   "outputs": [],
   "source": [
    "# Соединение\n",
    "e_joined = gpd.sjoin(e.to_crs(epsg=3857), poly_gdf, predicate='within')"
   ]
  },
  {
   "cell_type": "code",
   "execution_count": 91,
   "id": "848d0a61",
   "metadata": {},
   "outputs": [
    {
     "data": {
      "text/plain": [
       "array(['secondary', 'tertiary', 'residential', 'unclassified', 'motorway',\n",
       "       'tertiary, unclassified', 'primary', 'secondary_link',\n",
       "       'residential, unclassified', 'primary_link', 'trunk_link', 'trunk',\n",
       "       'tertiary_link', 'motorway_link', 'primary_link, primary',\n",
       "       'secondary_link, secondary', 'secondary_link, unclassified',\n",
       "       'tertiary, residential', 'motorway_link, primary_link',\n",
       "       'secondary, primary', 'secondary_link, tertiary_link',\n",
       "       'motorway_link, motorway', 'unclassified, secondary_link',\n",
       "       'residential, tertiary_link'], dtype=object)"
      ]
     },
     "execution_count": 91,
     "metadata": {},
     "output_type": "execute_result"
    }
   ],
   "source": [
    "e_joined['highway']"
   ]
  },
  {
   "cell_type": "code",
   "execution_count": null,
   "id": "52a9a3b1",
   "metadata": {},
   "outputs": [],
   "source": [
    "test = ['secondary', 'motorway',\n",
    "       'primary', 'secondary_link',\n",
    "       'primary_link', 'trunk_link', 'trunk',\n",
    "       'motorway_link']\n",
    "e_joined[['highway', 'geometry']][e['highway'].isin(test)].explore()"
   ]
  },
  {
   "cell_type": "code",
   "execution_count": 100,
   "id": "1ee3b79d",
   "metadata": {},
   "outputs": [],
   "source": [
    "# Удаление строк\n",
    "e_new = e.drop(e_joined[~e_joined['highway'].isin(test)].index)\n",
    "# Создание нового графа из обновленных GeoDataFrames\n",
    "new_graph = ox.graph_from_gdfs(n, e_new.to_crs(epsg=3857))"
   ]
  },
  {
   "cell_type": "code",
   "execution_count": 103,
   "id": "ba588f4f",
   "metadata": {},
   "outputs": [],
   "source": [
    "mymap = folium.Map(tiles='CartoDB Dark_Matter')\n",
    "\n",
    "# Создаем FeatureGroup для узлов\n",
    "edges_group = folium.FeatureGroup(name='Roads')\n",
    "tertiary_group = folium.FeatureGroup(name='Tertiary')\n",
    "unclassified_group = folium.FeatureGroup(name='Unclassified')\n",
    "\n",
    "all_roads_type = ['motorway', 'motorway_link', 'primary', 'primary_link', 'secondary', 'secondary_link', 'trunk', 'trunk_link']\n",
    "tertiary_type = ['tertiary', 'tertiary_link']\n",
    "weights = {\n",
    " 'motorway':        5, # Автомагистрали \n",
    " 'motorway_link':   5, # Съезды на развязках дорог, на которых действуют те же правила движения, что и на (motorway).\n",
    " 'primary':         3,  # Автомобильные дороги регионального значения\n",
    " 'primary_link':    3,  # Съезды на развязках дорог с той же важностью в дорожной сети, что и primary.\n",
    " 'residential':     1,  # Дороги, которые проходят внутри жилых зон, а также используются для подъезда к ним. \n",
    " 'secondary':       2,  # Автомобильные дороги областного значения\n",
    " 'secondary_link':  2,  # Съезды на развязках дорог с той же важностью в дорожной сети, что и secondary.\n",
    " 'tertiary':        1,  # Более важные автомобильные дороги среди прочих \n",
    "                         # автомобильных дорог местного значения, например\n",
    "                         # соединяющие районные центры с сёлами, а также несколько сёл между собой.\n",
    " 'tertiary_link':   1,  # Съезды на развязках дорог с той же важностью в дорожной сети, что и tertiary.\n",
    " 'trunk':           4,  # Важные дороги, не являющиеся автомагистралями\n",
    " 'trunk_link':      4,  # Съезды на развязках дорог с той же важностью в дорожной сети, что и trunk.\n",
    " 'unclassified':    1   # Остальные автомобильные дороги местного значения, образующие соединительную сеть дорог.\n",
    " }\n",
    "\n",
    "for u, v, d in new_graph.edges(data=True):\n",
    "    if d.get('highway') in all_roads_type:\n",
    "        folium.PolyLine(\n",
    "            [[new_graph.nodes[u]['y'], new_graph.nodes[u]['x']],\n",
    "             [new_graph.nodes[v]['y'], new_graph.nodes[v]['x']]],\n",
    "            color=\"yellow\",\n",
    "            weight=weights[d.get('highway')],  # Толщина линии\n",
    "            opacity=1,\n",
    "            tooltip=f\"highway: {d.get('highway')}\"\n",
    "        ).add_to(edges_group)\n",
    "    elif d.get('highway') in tertiary_type:\n",
    "        folium.PolyLine(\n",
    "            [[new_graph.nodes[u]['y'], new_graph.nodes[u]['x']],\n",
    "             [new_graph.nodes[v]['y'], new_graph.nodes[v]['x']]],\n",
    "            color=\"yellow\",\n",
    "            weight=weights[d.get('highway')],  # Толщина линии\n",
    "            opacity=1,\n",
    "            tooltip=f\"highway: {d.get('highway')}\"\n",
    "        ).add_to(tertiary_group)\n",
    "    else:\n",
    "        folium.PolyLine(\n",
    "            [[new_graph.nodes[u]['y'], new_graph.nodes[u]['x']],\n",
    "             [new_graph.nodes[v]['y'], new_graph.nodes[v]['x']]],\n",
    "            color=\"yellow\",\n",
    "            weight=0.5,  # Толщина линии\n",
    "            opacity=1,\n",
    "            tooltip=f\"highway: {d.get('highway')}\"\n",
    "        ).add_to(unclassified_group)\n",
    "\n",
    "edges_group.add_to(mymap)\n",
    "tertiary_group.add_to(mymap)\n",
    "unclassified_group.add_to(mymap)\n",
    "\n",
    "folium.GeoJson(\n",
    "    lo.unary_union.boundary,\n",
    "    name='OSM',\n",
    "    style_function=lambda feature: {\n",
    "        'color': 'green',        # Цвет границы\n",
    "        'weight': 1.5,           # Толщина границы\n",
    "    }\n",
    ").add_to(mymap)\n",
    "\n",
    "# Добавляем контроллер слоев\n",
    "folium.LayerControl().add_to(mymap)\n",
    "\n",
    "# Сохраняем карту в HTML файл\n",
    "mymap.save('data/html/graph-osm_lo_spb_without-unclassified.html')"
   ]
  }
 ],
 "metadata": {
  "kernelspec": {
   "display_name": "Python 3 (ipykernel)",
   "language": "python",
   "name": "python3"
  },
  "language_info": {
   "codemirror_mode": {
    "name": "ipython",
    "version": 3
   },
   "file_extension": ".py",
   "mimetype": "text/x-python",
   "name": "python",
   "nbconvert_exporter": "python",
   "pygments_lexer": "ipython3",
   "version": "3.10.11"
  }
 },
 "nbformat": 4,
 "nbformat_minor": 5
}
