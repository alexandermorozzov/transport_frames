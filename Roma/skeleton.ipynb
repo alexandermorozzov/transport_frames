{
 "cells": [
  {
   "cell_type": "code",
   "execution_count": null,
   "id": "164ac502-4970-458e-bd54-79c1d5035f60",
   "metadata": {},
   "outputs": [],
   "source": [
    "import folium\n",
    "import pyproj\n",
    "import momepy\n",
    "import shapely\n",
    "import osmnx as ox\n",
    "import pandas as pd\n",
    "import networkx as nx\n",
    "import geopandas as gpd\n",
    "import matplotlib.pyplot as plt\n",
    "\n",
    "from tqdm import tqdm\n",
    "from shapely.wkt import loads, dumps\n",
    "from shapely.ops import nearest_points\n",
    "from shapely.geometry import Point, Polygon, LineString, MultiLineString\n",
    "\n",
    "# from dongraphio import DonGraphio, GraphType\n",
    "# from dongraphio.base_models import BuildsGrapher"
   ]
  },
  {
   "cell_type": "code",
   "execution_count": null,
   "id": "99ef9cda-2886-4c10-a599-753d8836c5e2",
   "metadata": {},
   "outputs": [],
   "source": [
    "for u, v, key, d in G.edges(data=True, keys=True):\n",
    "    if 'geometry' in d:\n",
    "        d['geometry'] = loads(d['geometry'])"
   ]
  },
  {
   "cell_type": "code",
   "execution_count": null,
   "id": "4bd202ec-714c-47df-8824-ffcaebbf3640",
   "metadata": {},
   "outputs": [],
   "source": [
    "test_roads = gpd.read_file('test_roads.geojson')"
   ]
  },
  {
   "cell_type": "code",
   "execution_count": null,
   "id": "d5814785-ccfb-4d47-ace6-8cca4c2325f5",
   "metadata": {},
   "outputs": [],
   "source": [
    "n, e = ox.graph_to_gdfs(G, nodes=True, edges=True, node_geometry=True, fill_edge_geometry=True)"
   ]
  },
  {
   "cell_type": "code",
   "execution_count": null,
   "id": "7af23fd6-ca25-4b86-8979-300c340f5e71",
   "metadata": {},
   "outputs": [],
   "source": [
    "e.to_file('e.geojson', driver='GeoJSON')"
   ]
  },
  {
   "cell_type": "code",
   "execution_count": null,
   "id": "b2831a15-3265-4f7a-99ea-4aa1ba4f70e4",
   "metadata": {
    "scrolled": true
   },
   "outputs": [],
   "source": [
    "import geopandas as gpd\n",
    "from shapely.geometry import MultiLineString\n",
    "\n",
    "def unpack_multilinestrings_to_linestrings(gdf):\n",
    "    # Создаем пустой список для хранения данных нового GeoDataFrame\n",
    "    rows_list = []\n",
    "    # Итерируем по каждой строке исходного GeoDataFrame\n",
    "    for index, row in gdf.iterrows():\n",
    "        geometry = row.geometry\n",
    "        # Проверяем, является ли геометрия MultiLineString\n",
    "        if isinstance(geometry, MultiLineString):\n",
    "            # Если да, то итерируем по каждому LineString, используя .geoms\n",
    "            for linestring in geometry.geoms:\n",
    "                # Создаем новую строку с теми же атрибутами, но с одним LineString\n",
    "                new_row = row.copy()\n",
    "                new_row.geometry = linestring\n",
    "                rows_list.append(new_row)\n",
    "        else:\n",
    "            # Если геометрия уже является LineString, просто добавляем строку в список\n",
    "            rows_list.append(row)\n",
    "    # Создаем новый GeoDataFrame из списка строк\n",
    "    new_gdf = gpd.GeoDataFrame(rows_list, columns=gdf.columns)\n",
    "    # Устанавливаем ту же систему координат, что и у исходного gdf\n",
    "    new_gdf.crs = gdf.crs\n",
    "    return new_gdf\n",
    "\n",
    "# Пример использования функции:\n",
    "# gdf - это ваш исходный GeoDataFrame с MultiLineStrings\n",
    "# new_gdf - это новый GeoDataFrame с LineStrings\n",
    "# new_gdf = unpack_multilinestrings_to_linestrings(df)"
   ]
  },
  {
   "cell_type": "code",
   "execution_count": null,
   "id": "0372414d-05ff-4285-b57e-80ef96d54113",
   "metadata": {},
   "outputs": [],
   "source": [
    "G = nx.read_graphml('car_graph.graphml')\n",
    "G"
   ]
  },
  {
   "cell_type": "code",
   "execution_count": null,
   "id": "4347e340-af8d-4430-b974-05216e2307ee",
   "metadata": {},
   "outputs": [],
   "source": [
    "roads = gpd.read_file('roads.geojson')"
   ]
  },
  {
   "cell_type": "code",
   "execution_count": null,
   "id": "1f7b1d49-917f-41b8-a46b-36004d8410d7",
   "metadata": {},
   "outputs": [],
   "source": [
    "df = roads[roads['YEAR'].notna()]"
   ]
  },
  {
   "cell_type": "code",
   "execution_count": null,
   "id": "99e2ea28-2c9b-4005-85a3-6341a07cd16b",
   "metadata": {},
   "outputs": [],
   "source": [
    "new_gdf = unpack_multilinestrings_to_linestrings(df)"
   ]
  },
  {
   "cell_type": "code",
   "execution_count": null,
   "id": "6537f0e9-dcc6-42d0-bba1-9f61cde7cf4e",
   "metadata": {},
   "outputs": [],
   "source": [
    "new_gdf = new_gdf.to_crs(epsg=32638)"
   ]
  },
  {
   "cell_type": "code",
   "execution_count": null,
   "id": "24d46bfc-b517-47fd-82e5-eb7dfcfadac5",
   "metadata": {},
   "outputs": [],
   "source": [
    "new_gdf.columns"
   ]
  },
  {
   "cell_type": "code",
   "execution_count": null,
   "id": "87907765-cda2-4e85-9c0b-1d3cd02dd33e",
   "metadata": {},
   "outputs": [],
   "source": [
    "G_future = momepy.gdf_to_nx(new_gdf,directed=True)"
   ]
  },
  {
   "cell_type": "code",
   "execution_count": null,
   "id": "b74ba173-e607-495c-a7ef-2a8247e72688",
   "metadata": {},
   "outputs": [],
   "source": [
    "G_future, G"
   ]
  },
  {
   "cell_type": "code",
   "execution_count": null,
   "id": "05f830c6-76b3-4d17-80ee-9086b4b9fd40",
   "metadata": {},
   "outputs": [],
   "source": [
    "for u, v, d in G_future.edges(data=True):\n",
    "    d['type'] = 'car'\n",
    "\n",
    "G_future.graph['crs'] = 'epsg:32638'\n",
    "for node in G_future.nodes:\n",
    "    x = node[0]\n",
    "    y = node[1]\n",
    "    G_future.nodes()[node]['x'] = x\n",
    "    G_future.nodes()[node]['y'] = y"
   ]
  },
  {
   "cell_type": "code",
   "execution_count": null,
   "id": "901d7792-e00a-4fca-92f5-c8064c6c1b47",
   "metadata": {},
   "outputs": [],
   "source": [
    "mapping = {old_id: new_id for new_id, old_id in enumerate(G.nodes())}\n",
    "G = nx.relabel_nodes(G, mapping)\n",
    "\n",
    "mapping = {old_id: new_id+1000000 for new_id, old_id in enumerate(G_future.nodes())}\n",
    "G_future = nx.relabel_nodes(G_future, mapping)"
   ]
  },
  {
   "cell_type": "code",
   "execution_count": null,
   "id": "c45b070f-1324-4407-b5ab-eaa3748f71c1",
   "metadata": {},
   "outputs": [],
   "source": [
    "for u, v, key, d in G_future.edges(data=True, keys=True):\n",
    "    if 'geometry' in d:\n",
    "        d['geometry'] = dumps(d['geometry'])"
   ]
  },
  {
   "cell_type": "code",
   "execution_count": null,
   "id": "8fba54db-a4f4-47c8-b4e3-388d0916854e",
   "metadata": {
    "scrolled": true
   },
   "outputs": [],
   "source": [
    "G.graph, list(G.nodes(data=True))[0], list(G.edges(data=True))[0], G_future.graph, list(G_future.nodes(data=True))[0], list(G_future.edges(data=True))[0]"
   ]
  },
  {
   "cell_type": "code",
   "execution_count": null,
   "id": "40f6b075-5d46-4a6d-a9c5-8859ccb64b66",
   "metadata": {},
   "outputs": [],
   "source": [
    "G_copy = G.copy()\n",
    "G_future_copy = G_future.copy()"
   ]
  },
  {
   "cell_type": "code",
   "execution_count": null,
   "id": "46416bac-1e00-4b1c-998e-32fcb74cacfb",
   "metadata": {},
   "outputs": [],
   "source": [
    "BG = BuildsGrapher(city_crs=32638, city_osm_id=176095)"
   ]
  },
  {
   "cell_type": "code",
   "execution_count": null,
   "id": "ecd96e44-4580-46c6-8592-15bb9af922b1",
   "metadata": {},
   "outputs": [],
   "source": [
    "BG.graphs_spatial_union(G_copy, G_future_copy)"
   ]
  },
  {
   "cell_type": "code",
   "execution_count": null,
   "id": "27c6c7a8-b4d7-4381-9674-00e0622ac12e",
   "metadata": {},
   "outputs": [],
   "source": []
  },
  {
   "cell_type": "code",
   "execution_count": null,
   "id": "b4cb797e-de3e-412a-8183-035d45b94b8e",
   "metadata": {},
   "outputs": [],
   "source": []
  },
  {
   "cell_type": "code",
   "execution_count": null,
   "id": "d116910b-8301-4df9-ae72-f3c5462791f7",
   "metadata": {},
   "outputs": [],
   "source": []
  },
  {
   "cell_type": "code",
   "execution_count": null,
   "id": "c3615486-6351-49a5-b81f-9ec6f8740c06",
   "metadata": {},
   "outputs": [],
   "source": []
  },
  {
   "cell_type": "code",
   "execution_count": null,
   "id": "8ea3db4e-780e-48d1-8375-f7720626efff",
   "metadata": {},
   "outputs": [],
   "source": []
  },
  {
   "cell_type": "code",
   "execution_count": null,
   "id": "1faf5bb0-a288-40ea-92fe-74b03ea9fe92",
   "metadata": {},
   "outputs": [],
   "source": []
  },
  {
   "cell_type": "code",
   "execution_count": null,
   "id": "8b4729b3-1f69-4854-9389-d5b82f5e1f9d",
   "metadata": {},
   "outputs": [],
   "source": []
  },
  {
   "cell_type": "code",
   "execution_count": null,
   "id": "5da6e571-b462-4fe3-a271-7efcb92b180c",
   "metadata": {},
   "outputs": [],
   "source": []
  },
  {
   "cell_type": "code",
   "execution_count": null,
   "id": "078e1ac4-418f-444b-aa68-ef50fc7697a1",
   "metadata": {},
   "outputs": [],
   "source": []
  },
  {
   "cell_type": "code",
   "execution_count": null,
   "id": "815eadd8-c797-4811-aa3b-9cb2b0ad45e5",
   "metadata": {},
   "outputs": [],
   "source": []
  },
  {
   "cell_type": "code",
   "execution_count": null,
   "id": "1c501d3b-0c0e-4d8c-9c26-51b75df31f64",
   "metadata": {},
   "outputs": [],
   "source": []
  },
  {
   "cell_type": "code",
   "execution_count": null,
   "id": "7c573a29-0c79-4a6d-99c8-35590f9fcde6",
   "metadata": {},
   "outputs": [],
   "source": []
  },
  {
   "cell_type": "code",
   "execution_count": null,
   "id": "9c826e91-25f4-4ce0-84a6-897a6e268dc0",
   "metadata": {},
   "outputs": [],
   "source": []
  },
  {
   "cell_type": "code",
   "execution_count": null,
   "id": "c0d3ac4b-dfa7-461f-8449-50a25bd55be8",
   "metadata": {},
   "outputs": [],
   "source": [
    "def download_graph(id, simplify=True):\n",
    "    gdf = ox.geocode_to_gdf(id, by_osmid=True)\n",
    "    polygon_boundary = gdf.unary_union\n",
    "    graph = ox.graph_from_polygon(polygon_boundary,\n",
    "                                  network_type='drive',\n",
    "                                  simplify=simplify)\n",
    "    G = nx.Graph(graph)\n",
    "    return G\n",
    "    \n",
    "G = download_graph('R176095')"
   ]
  },
  {
   "cell_type": "code",
   "execution_count": null,
   "id": "031f38f8-5738-4482-9733-342861aa2fe3",
   "metadata": {},
   "outputs": [],
   "source": [
    "spb = ox.geocode_to_gdf('R337422', by_osmid=True) # Санкт-Петербург\n",
    "lo = ox.geocode_to_gdf('R176095', by_osmid=True)  # Ленинградская область\n",
    "\n",
    "spb_buff = spb.to_crs(epsg=3857).buffer(1000).to_crs(epsg=4326)\n",
    "lo_buff = lo.to_crs(epsg=3857).buffer(3000).to_crs(epsg=4326)"
   ]
  },
  {
   "cell_type": "code",
   "execution_count": null,
   "id": "d4ba4306-00e1-457c-bd20-d4ab49a40cd3",
   "metadata": {},
   "outputs": [],
   "source": [
    "lo_filter = {'highway': ['motorway', 'trunk', 'primary', 'secondary', \n",
    "                           'tertiary', 'unclassified', 'residential', \n",
    "                           'motorway_link', 'trunk_link', 'primary_link', 'secondary_link', 'tertiary_link']}\n",
    "\n",
    "spb_filter = {'highway': ['motorway', 'trunk', 'primary', \n",
    "                           'motorway_link', 'trunk_link', 'primary_link']}\n",
    "\n",
    "polygon_boundary = result_polygon.unary_union\n",
    "polygon_boundary_spb = spb_buff.unary_union\n",
    "\n",
    "\n",
    "lo_gdf = ox.features_from_polygon(polygon_boundary,\n",
    "                                 tags=lo_filter)\n",
    "\n",
    "spb_gdf = ox.features_from_polygon(polygon_boundary_spb,\n",
    "                                 tags=spb_filter)\n",
    "\n",
    "lo_gdf = lo_gdf[lo_gdf['geometry'].geom_type == 'LineString']\n",
    "# spb_gdf = spb_gdf[spb_gdf['highway'].isin(['motorway', 'trunk', 'primary', 'motorway_link', 'trunk_link', 'primary_link'])]"
   ]
  },
  {
   "cell_type": "code",
   "execution_count": null,
   "id": "b2ef2ed0",
   "metadata": {},
   "outputs": [],
   "source": [
    "roads_within_polygon = gpd.sjoin(lo_gdf, lo, how='inner', predicate='intersects')\n",
    "roads_within_polygon.reset_index(inplace=True)\n",
    "lo_gdf.shape, roads_within_polygon.shape"
   ]
  },
  {
   "cell_type": "code",
   "execution_count": null,
   "id": "d0a80e56",
   "metadata": {},
   "outputs": [],
   "source": [
    "polygon = lo.union(spb_buff)\n",
    "gdf_polygon = gpd.GeoDataFrame(geometry=polygon)"
   ]
  },
  {
   "cell_type": "code",
   "execution_count": null,
   "id": "9c4846e2",
   "metadata": {},
   "outputs": [],
   "source": [
    "# Создание нового атрибута со значением 0 для всех дорог\n",
    "roads_within_polygon['new_attribute'] = 0\n",
    "test = roads_within_polygon.intersects(gdf_polygon.unary_union.boundary)\n",
    "roads_within_polygon.loc[roads_within_polygon[test].index.values, 'new_attribute'] = 1\n",
    "graph = momepy.gdf_to_nx(roads_within_polygon.to_crs(epsg=4326))"
   ]
  },
  {
   "cell_type": "code",
   "execution_count": null,
   "id": "9c4846e2",
   "metadata": {},
   "outputs": [],
   "source": [
    "graph = momepy.gdf_to_nx(roads_within_polygon.to_crs(epsg=4326))"
   ]
  },
  {
   "cell_type": "code",
   "execution_count": null,
   "id": "6b14ccad",
   "metadata": {},
   "outputs": [],
   "source": []
  },
  {
   "cell_type": "code",
   "execution_count": null,
   "id": "e80be642",
   "metadata": {},
   "outputs": [],
   "source": []
  },
  {
   "cell_type": "code",
   "execution_count": null,
   "id": "156c0547",
   "metadata": {},
   "outputs": [],
   "source": []
  },
  {
   "cell_type": "code",
   "execution_count": null,
   "id": "acfbcc9a",
   "metadata": {},
   "outputs": [],
   "source": []
  },
  {
   "cell_type": "code",
   "execution_count": null,
   "id": "0de3f75b-1832-4c93-9d99-38ab35d6e99d",
   "metadata": {},
   "outputs": [],
   "source": [
    "dongrph = DonGraphio(city_crs=32638)\n",
    "    \n",
    "intermodal_graph = dongrph.get_intermodal_graph_from_osm(city_osm_id=176095,keep_city_boundary=False)\n",
    "nx.write_graphml(intermodal_graph,\"city_intermodal.graphml\")\n",
    "\n",
    "builds_from = gpd.read_file(\"data/Границы+население/admin_centers_LO_188_points.geojson\")\n",
    "services_to = gpd.read_file(\"data/Границы+население/admin_centers_LO_188_points.geojson\")\n",
    "adjacency_matrix = dongrph.get_adjacency_matrix(gdf_from=builds_from, gdf_to=services_to, weight=\"time_min\", graph_type=[GraphType.DRIVE])\n",
    "adjacency_matrix.to_csv(\"city_adjacency_matrix.csv\")"
   ]
  },
  {
   "cell_type": "code",
   "execution_count": null,
   "id": "0ef58e1b-0380-4604-917c-34dca1046d32",
   "metadata": {},
   "outputs": [],
   "source": []
  },
  {
   "cell_type": "code",
   "execution_count": null,
   "id": "421a4132-0f81-4697-9e68-868e259f0c01",
   "metadata": {},
   "outputs": [],
   "source": [
    "G = nx.read_graphml('city_intermodal.graphml')"
   ]
  },
  {
   "cell_type": "code",
   "execution_count": null,
   "id": "a0de658d-e66f-456b-8163-10bac60766e3",
   "metadata": {},
   "outputs": [],
   "source": [
    "list(G.edges(data=True))[0]"
   ]
  },
  {
   "cell_type": "code",
   "execution_count": null,
   "id": "7462ede3-c9c2-4386-9d99-490e22a91c74",
   "metadata": {},
   "outputs": [],
   "source": [
    "unique_types = set(edge[2]['type'] for edge in G.edges(data=True))\n",
    "print(unique_types)"
   ]
  },
  {
   "cell_type": "code",
   "execution_count": null,
   "id": "862b01fc-5b5e-4642-9e40-f1de5ff20d20",
   "metadata": {},
   "outputs": [],
   "source": [
    "from dongraphio.utils import get_subgraph\n",
    "get_subgraph(G, \"type\", [t.value for t in sum([t.edges for t in [GraphType.PUBLIC_TRANSPORT,GraphType.WALK], [])],)\n"
   ]
  },
  {
   "cell_type": "code",
   "execution_count": null,
   "id": "edf980f4-6d2c-45ff-b481-891cb56b4424",
   "metadata": {},
   "outputs": [],
   "source": [
    "G_nx = G.edge_subgraph([(u, v, k) for u, v, k, d in G.edges(data=True, keys=True) if d['type'] in ['car']])"
   ]
  },
  {
   "cell_type": "code",
   "execution_count": null,
   "id": "f5472bc6-abf8-44d5-abcc-564f5c852aa5",
   "metadata": {},
   "outputs": [],
   "source": [
    "list(G_nx.edges(data=True))[0]"
   ]
  },
  {
   "cell_type": "code",
   "execution_count": null,
   "id": "3a9d7eed-7c43-4fbb-9c60-10c8c68ce377",
   "metadata": {},
   "outputs": [],
   "source": [
    "list(G_nx.nodes(data=True))[0]"
   ]
  },
  {
   "cell_type": "code",
   "execution_count": null,
   "id": "24d40281-a13d-4d94-a3a7-58651ec3e081",
   "metadata": {},
   "outputs": [],
   "source": []
  },
  {
   "cell_type": "code",
   "execution_count": null,
   "id": "aea9183c-5815-492a-9277-ba5221fb0965",
   "metadata": {},
   "outputs": [],
   "source": []
  },
  {
   "cell_type": "code",
   "execution_count": null,
   "id": "53b85356-7bcb-4d85-9359-2f71cfcb9f27",
   "metadata": {},
   "outputs": [],
   "source": []
  },
  {
   "cell_type": "code",
   "execution_count": null,
   "id": "97629742-a2e8-475d-ae26-c160dadf2215",
   "metadata": {},
   "outputs": [],
   "source": []
  },
  {
   "cell_type": "code",
   "execution_count": null,
   "id": "2b124f34-d850-4f97-a094-2d750fd02990",
   "metadata": {},
   "outputs": [],
   "source": []
  },
  {
   "cell_type": "code",
   "execution_count": null,
   "id": "f955baf9-28cd-4af0-ad7a-4b8ae2ac1318",
   "metadata": {},
   "outputs": [],
   "source": []
  },
  {
   "cell_type": "code",
   "execution_count": null,
   "id": "0cebda37-d1af-473f-beee-e18d480a6211",
   "metadata": {},
   "outputs": [],
   "source": []
  },
  {
   "cell_type": "code",
   "execution_count": null,
   "id": "20c4dc27-593a-4d53-9316-a317df23ab70",
   "metadata": {},
   "outputs": [],
   "source": []
  },
  {
   "cell_type": "code",
   "execution_count": null,
   "id": "795db6f9-5b19-4c0d-b98a-4780576b042a",
   "metadata": {},
   "outputs": [],
   "source": []
  },
  {
   "cell_type": "code",
   "execution_count": null,
   "id": "ab0fe1c0-d3d8-4fdc-ace3-53e6b83f5cf1",
   "metadata": {},
   "outputs": [],
   "source": []
  },
  {
   "cell_type": "code",
   "execution_count": null,
   "id": "1faeb188-44b9-4793-bd65-77ce1b697a22",
   "metadata": {},
   "outputs": [],
   "source": []
  },
  {
   "cell_type": "code",
   "execution_count": null,
   "id": "f84ee193-9785-44d7-9fc7-f72c17ec526e",
   "metadata": {},
   "outputs": [],
   "source": []
  },
  {
   "cell_type": "code",
   "execution_count": null,
   "id": "1f8226c5-c81b-482b-80f7-ac40a0d0eaa1",
   "metadata": {},
   "outputs": [],
   "source": []
  },
  {
   "cell_type": "code",
   "execution_count": null,
   "id": "ce4fd7c4-1a2f-4172-84e9-8ef19319ce98",
   "metadata": {},
   "outputs": [],
   "source": []
  },
  {
   "cell_type": "code",
   "execution_count": null,
   "id": "994ea714-78cd-4aa0-a003-8d05698d0918",
   "metadata": {},
   "outputs": [],
   "source": [
    "merged_gdf.to_file('roads_OSM.geojson', driver='GeoJSON')"
   ]
  },
  {
   "cell_type": "code",
   "execution_count": null,
   "id": "aa620cd3-2280-48d8-96a5-84b3829a7a0a",
   "metadata": {},
   "outputs": [],
   "source": [
    "roads = gpd.read_file('roads.geojson')"
   ]
  },
  {
   "cell_type": "code",
   "execution_count": null,
   "id": "861dc15c-6eee-4814-a2bd-a0e23d4d0a4b",
   "metadata": {
    "collapsed": true,
    "jupyter": {
     "outputs_hidden": true
    }
   },
   "outputs": [],
   "source": [
    "import folium\n",
    "\n",
    "# Создаем карту\n",
    "m = folium.Map(tiles='CartoDB Dark_Matter')\n",
    "\n",
    "folium.GeoJson(\n",
    "    merged_gdf,\n",
    "    name='OSM',\n",
    "    style_function=lambda feature: {\n",
    "        'fillColor': '#ffaf00',  # Цвет заливки\n",
    "        'color': 'blue',         # Цвет границы\n",
    "        'weight': 1.5,           # Толщина границы\n",
    "    }\n",
    ").add_to(m)\n",
    "\n",
    "folium.GeoJson(\n",
    "    roads[roads['YEAR'].notna()],\n",
    "    name='Natasha',\n",
    "    style_function=lambda feature: {\n",
    "        'fillColor': '#0080ff',  # Цвет заливки\n",
    "        'color': 'yellow',          # Цвет границы\n",
    "        'weight': 1.5,           # Толщина границы\n",
    "    }\n",
    ").add_to(m)\n",
    "\n",
    "folium.LayerControl().add_to(m)\n",
    "\n",
    "m"
   ]
  }
 ],
 "metadata": {
  "kernelspec": {
   "display_name": "Python 3 (ipykernel)",
   "language": "python",
   "name": "python3"
  },
  "language_info": {
   "codemirror_mode": {
    "name": "ipython",
    "version": 3
   },
   "file_extension": ".py",
   "mimetype": "text/x-python",
   "name": "python",
   "nbconvert_exporter": "python",
   "pygments_lexer": "ipython3",
   "version": "3.10.9"
  }
 },
 "nbformat": 4,
 "nbformat_minor": 5
}
