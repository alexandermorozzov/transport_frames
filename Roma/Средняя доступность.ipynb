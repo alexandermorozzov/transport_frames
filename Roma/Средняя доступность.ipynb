{
  "cells": [
    {
      "cell_type": "markdown",
      "metadata": {},
      "source": [
        "## Import"
      ]
    },
    {
      "cell_type": "code",
      "execution_count": null,
      "metadata": {},
      "outputs": [],
      "source": [
        "import momepy\n",
        "import numpy as np\n",
        "import osmnx as ox\n",
        "import pandas as pd\n",
        "import networkx as nx\n",
        "import geopandas as gpd\n",
        "\n",
        "from tqdm import tqdm\n",
        "from typing import Optional"
      ]
    },
    {
      "cell_type": "markdown",
      "metadata": {},
      "source": [
        "## Functions"
      ]
    },
    {
      "cell_type": "markdown",
      "metadata": {},
      "source": [
        "### Загрузка GDF из OSM"
      ]
    },
    {
      "cell_type": "code",
      "execution_count": null,
      "metadata": {},
      "outputs": [],
      "source": [
        "def download_osm(id, tags=False):\n",
        "    geocode_to_gdf = ox.geocode_to_gdf(id, by_osmid=True)\n",
        "    polygon_boundary = geocode_to_gdf.unary_union\n",
        "    if tags:\n",
        "        gdf = ox.features_from_polygon(polygon_boundary, tags=tags)\n",
        "    else:\n",
        "        gdf = ox.features_from_polygon(polygon_boundary)\n",
        "    return gdf\n",
        "\n",
        "# tags = {'highway': ['motorway', 'trunk', 'primary', \n",
        "#                     'secondary','tertiary', 'unclassified', \n",
        "#                     'residential', 'motorway_link', 'trunk_link', \n",
        "#                     'primary_link', 'secondary_link', 'tertiary_link']}\n",
        "# gdf_osm = download_osm(['R176095'], tags)"
      ]
    },
    {
      "cell_type": "markdown",
      "metadata": {},
      "source": [
        "### Плотность УДС $км/км^2$"
      ]
    },
    {
      "cell_type": "code",
      "execution_count": null,
      "metadata": {},
      "outputs": [],
      "source": [
        "def density_roads(gdf_polygon: gpd.GeoDataFrame, gdf_line: gpd.GeoDataFrame) -> float:\n",
        "    area = gdf_polygon.to_crs(epsg=3857).unary_union.area / 1000000\n",
        "    length = gdf_line.geometry.length.sum()\n",
        "    print(f'Плотность: {length / area:.3f} км/км^2')\n",
        "\n",
        "    return round(length / area, 3)"
      ]
    },
    {
      "cell_type": "markdown",
      "metadata": {},
      "source": [
        "### Протяженность дорог каждого типа"
      ]
    },
    {
      "cell_type": "code",
      "execution_count": null,
      "metadata": {},
      "outputs": [],
      "source": [
        "def calculate_length_sum_by_status(gdf: gpd.GeoDataFrame) -> gpd.GeoDataFrame:\n",
        "    gdf = gdf.to_crs(epsg=3857)\n",
        "    gdf['REG_STATUS'] = gdf['REG_STATUS'].fillna(3)\n",
        "    length_sum_by_status = gdf.groupby('REG_STATUS').geometry.apply(lambda x: x.length.sum() / 1000)\n",
        "    print(length_sum_by_status.reset_index())\n",
        "    \n",
        "    return length_sum_by_status.reset_index()"
      ]
    },
    {
      "cell_type": "markdown",
      "metadata": {},
      "source": [
        "## Work place"
      ]
    },
    {
      "cell_type": "markdown",
      "metadata": {},
      "source": [
        "### Вроде, основная область"
      ]
    },
    {
      "cell_type": "code",
      "execution_count": null,
      "metadata": {},
      "outputs": [],
      "source": [
        "# edges_spb.select_dtypes(include=[np.datetime64])[edges_spb.select_dtypes(include=[np.datetime64]).notna().any(axis=1)]"
      ]
    },
    {
      "cell_type": "code",
      "execution_count": null,
      "metadata": {},
      "outputs": [],
      "source": [
        "# with open(\"data/test.geojson\",\"w\", encoding='utf-8') as f:\n",
        "#     f.write(edges_spb.drop(columns=['check_date', 'check_da_1']).to_crs(epsg=4326).to_json(na=\"drop\", ensure_ascii=False))\n",
        "\n",
        "# test_geo = gpd.read_file('data/test.geojson')\n",
        "# test_geo.to_crs(epsg=3857, inplace=True)\n",
        "# test_geo['length'] = test_geo.geometry.length"
      ]
    },
    {
      "cell_type": "code",
      "execution_count": null,
      "metadata": {},
      "outputs": [],
      "source": [
        "# edges_spb = gpd.read_file('data/geojsons/edges_spb.geojson')                                # Наш файл дорог\n",
        "edges_spb = gpd.read_parquet('data/parquets/УДС без будущих дорог в crs 32636.parquet')     # Наш файл дорог\n",
        "gdf_polygon = gpd.read_file('data/geojsons/Границы_только_МР_Границы_ЛО_Без_воды.geojson')  # Наташин полигон без воды\n",
        "gdf_3000_points = gpd.read_file(\"data/geojsons/СНП ЛО.geojson\")                             # Куча центров"
      ]
    },
    {
      "cell_type": "code",
      "execution_count": null,
      "metadata": {},
      "outputs": [],
      "source": [
        "# Предпроцессинг типа\n",
        "gdf_3000_points.to_crs(epsg=32636, inplace=True)\n",
        "gdf_polygon.to_crs(epsg=32636, inplace=True)\n",
        "edges_spb.to_crs(epsg=32636, inplace=True)\n",
        "edges_spb['length'] = edges_spb.geometry.length\n",
        "\n",
        "# Административные центры\n",
        "cities = [\"приозерск\", \"кировск\", \"кингисепп\", \"луга\", \n",
        "          \"лодейное поле\", \"гатчина\", \"тихвин\", \"тосно\", \n",
        "          \"выборг\", \"бокситогорск\", \"всеволожск\", \"волосово\", \n",
        "          \"волхов\", \"сосновый бор\", \"сланцы\", \"подпорожье\", \"кириши\"]\n",
        "cities_lower = [city.lower() for city in cities]\n",
        "\n",
        "# Выделение административных центров\n",
        "gdf_17_points = gdf_3000_points[\n",
        "    (gdf_3000_points['name'].str.lower().isin(cities_lower)) &\n",
        "    (gdf_3000_points['rural settlement'].str.contains('административный центр'))\n",
        "].sort_values('name')\n",
        "\n",
        "\n",
        "# 'how' определяет тип пространственного объединения: 'inner' означает, что в результат попадут только те объекты, которые пересекаются.\n",
        "# 'predicate' определяет тип пространственного отношения: 'intersects', 'within', 'contains' и т.д.\n",
        "roads_within_polygon = gpd.sjoin(edges_spb, gdf_polygon, how='inner', predicate='intersects')"
      ]
    },
    {
      "cell_type": "code",
      "execution_count": null,
      "metadata": {},
      "outputs": [],
      "source": [
        "density = density_roads(gdf_polygon, roads_within_polygon)\n",
        "length_roads = calculate_length_sum_by_status(roads_within_polygon)"
      ]
    },
    {
      "cell_type": "code",
      "execution_count": null,
      "metadata": {},
      "outputs": [],
      "source": [
        "def transferring_points_on_line(\n",
        "        gdf_points: gpd.GeoDataFrame, \n",
        "        gdf_lines:  gpd.GeoDataFrame,\n",
        "        column_1:   Optional[str],\n",
        "        column_2:   Optional[str]\n",
        "        ) -> gpd.GeoDataFrame:\n",
        "    \n",
        "    gdf_points_copy = gdf_points.copy().reset_index(drop=True)\n",
        "    gdf_lines_copy  = gdf_lines.copy().reset_index(drop=True)\n",
        "    nearest_roads = gpd.sjoin_nearest(gdf_points_copy, gdf_lines_copy, how='left')\n",
        "    if f'{column_1}_right' in nearest_roads.columns.values:\n",
        "        gdf_lines_copy.loc[nearest_roads.index_right, column_2] = nearest_roads[f'{column_1}_left'].values\n",
        "        return gdf_lines_copy\n",
        "    else:\n",
        "        gdf_lines_copy.loc[nearest_roads.index_right, column_2] = nearest_roads[column_1].values\n",
        "        return gdf_lines_copy\n",
        "\n",
        "\n",
        "gdf_lines = transferring_points_on_line(gdf_17_points, roads_within_polygon.drop(columns=['index_right']), column_1='name', column_2='admin_centers')"
      ]
    },
    {
      "cell_type": "code",
      "execution_count": null,
      "metadata": {},
      "outputs": [],
      "source": [
        "gdf_lines_copy = gdf_lines.copy()\n",
        "reg_status = gdf_lines_copy[['name', 'REG_STATUS', 'geometry', 'admin_centers']][gdf_lines_copy.REG_STATUS == 1].copy().reset_index()\n",
        "admin_centers = gdf_lines_copy[['name', 'REG_STATUS', 'geometry', 'admin_centers']][(gdf_lines_copy.admin_centers.notna())].copy()"
      ]
    },
    {
      "cell_type": "code",
      "execution_count": null,
      "metadata": {},
      "outputs": [],
      "source": [
        "buffer_for_city = {\n",
        "    'Луга':             5000,\n",
        "    'Волосово':         45000,\n",
        "    'Сосновый бор':     55000,\n",
        "    'Приозерск':        3000,\n",
        "    'Гатчина':          10000,\n",
        "    'Кировск':          2000,\n",
        "    'Всеволожск':       25000,\n",
        "    'Тосно':            1000,\n",
        "    'Кириши':           100000,\n",
        "    'Волхов':           20000,\n",
        "    'Лодейное Поле':    5000,\n",
        "    'Тихвин':           9000,\n",
        "    'Бокситогорск':     30000,\n",
        "    'Подпорожье':       80000,\n",
        "    'Кингисепп':        5000,\n",
        "    'Выборг':           8000,\n",
        "    'Сланцы':           100000\n",
        "}\n",
        "\n",
        "# Инициализируйте словарь для хранения сопоставления id дороги и города\n",
        "road_to_city_mapping = {}\n",
        "\n",
        "for index, city in admin_centers.iterrows():\n",
        "    # Создаем буфер вокруг каждого города\n",
        "    buffer_meter = buffer_for_city[city['admin_centers']]\n",
        "    buffer = city['geometry'].buffer(buffer_meter)\n",
        "    roads_in_buffer = reg_status.loc[reg_status.geometry.intersects(buffer)]\n",
        "    \n",
        "    for road_id in roads_in_buffer['index']:\n",
        "        # Если id дороги уже есть в словаре - добавить город к списку городов для этой id\n",
        "        if road_id in road_to_city_mapping:\n",
        "            road_to_city_mapping[road_id].append(city['admin_centers'])\n",
        "        else:  # Если id дороги еще нет в словаре, создайте новый список городов с этим городом\n",
        "            road_to_city_mapping[road_id] = [city['admin_centers']]\n",
        "gdf_lines_copy['nearest_city'] = gdf_lines_copy.index.map(road_to_city_mapping)"
      ]
    },
    {
      "cell_type": "code",
      "execution_count": null,
      "metadata": {},
      "outputs": [],
      "source": [
        "graph = momepy.gdf_to_nx(gdf_lines_copy.to_crs(epsg=4326))\n",
        "    for node in graph.nodes:\n",
        "        graph.nodes()[node]['x'] = node[0]\n",
        "        graph.nodes()[node]['y'] = node[1]\n",
        "\n",
        "# Для каждого ребра в графе\n",
        "for u, v, data in graph.edges(data=True):\n",
        "    if graph.nodes[u]:\n",
        "        if graph.nodes[u].get('REG_STATUS') != 1:\n",
        "            graph.nodes[u]['REG_STATUS'] = data['REG_STATUS']\n",
        "        if isinstance(data['admin_centers'], str):\n",
        "            graph.nodes[u]['admin_centers'] = data['admin_centers']\n",
        "        if isinstance(data['nearest_city'], list) and data['REG_STATUS'] == 1:\n",
        "            if 'nearest_city' not in graph.nodes[u]:\n",
        "                graph.nodes[u]['nearest_city'] = data['nearest_city']\n",
        "                \n",
        "\n",
        "    if graph.nodes[v]:\n",
        "        if graph.nodes[v].get('REG_STATUS') != 1:\n",
        "            graph.nodes[v]['REG_STATUS'] = data['REG_STATUS']\n",
        "        if isinstance(data['admin_centers'], str):\n",
        "            graph.nodes[v]['admin_centers'] = data['admin_centers']\n",
        "        if isinstance(data['nearest_city'], list) and data['REG_STATUS'] == 1:\n",
        "            if 'nearest_city' not in graph.nodes[v]:\n",
        "                graph.nodes[v]['nearest_city'] = data['nearest_city']"
      ]
    },
    {
      "cell_type": "code",
      "execution_count": null,
      "metadata": {},
      "outputs": [],
      "source": [
        "def search_min_distance(graph):\n",
        "    source_nodes = []\n",
        "    target_nodes = []\n",
        "\n",
        "    # Формируем список исходных и целевых узлов\n",
        "    for node, data in graph.nodes(data=True):\n",
        "        if isinstance(data.get('admin_centers'), str):  # Исходные узлы\n",
        "            source_nodes.append((node, data['admin_centers']))\n",
        "        if data.get('REG_STATUS') == 1 and isinstance(data.get('nearest_city'), list):  # Целевые узлы\n",
        "            target_nodes.append((node, data['nearest_city']))\n",
        "\n",
        "    min_distances = {} # Словарь для хранения минимальных расстояний\n",
        "\n",
        "    # Общее количество итераций для отображения прогресса\n",
        "    total_iterations = len(source_nodes) * len(target_nodes)\n",
        "\n",
        "    progress_bar = tqdm(total=total_iterations)  # Инициализация индикатора прогресса\n",
        "\n",
        "    # Поиск кратчайшего пути и запоминание минимального расстояния\n",
        "    for source_node, name in source_nodes:\n",
        "        for target_node, name_right in target_nodes:\n",
        "            if graph.nodes[target_node].get('nearest_city') and name in graph.nodes[target_node]['nearest_city']:\n",
        "                try: \n",
        "                    length, path = nx.single_source_dijkstra(graph, source=source_node, target=target_node, weight='length')\n",
        "                    if name not in min_distances or (length/1000) < min_distances[name][0]:\n",
        "                        min_distances[name] = (length/1000, path)\n",
        "                except nx.NetworkXNoPath:\n",
        "                    print(f\"Путь до {name_right} не найден.\")\n",
        "            progress_bar.update()  # Обновление индикатора прогресса\n",
        "\n",
        "    progress_bar.close()  # Закрытие индикатора прогресса\n",
        "\n",
        "    # Преобразование словаря в DataFrame для более удобного отображения\n",
        "    df = pd.DataFrame(min_distances.values(), index=min_distances.keys())\n",
        "    df.columns = ['min_distance', 'path']\n",
        "    return df\n",
        "\n",
        "result_path_length = search_min_distance(graph)"
      ]
    },
    {
      "cell_type": "code",
      "execution_count": null,
      "metadata": {},
      "outputs": [],
      "source": [
        "result_path_length.sort_values('min_distance')"
      ]
    },
    {
      "cell_type": "code",
      "execution_count": null,
      "metadata": {},
      "outputs": [],
      "source": [
        "import folium\n",
        "mymap = folium.Map()\n",
        "\n",
        "edges = [(u,v,d) for u, v, d in graph.edges(data=True) if d['REG_STATUS'] == 1]\n",
        "\n",
        "# Отображение на карте\n",
        "for edge in edges:\n",
        "    coordinates = [[graph.nodes[edge[0]]['y'], graph.nodes[edge[0]]['x']], \n",
        "                   [graph.nodes[edge[1]]['y'], graph.nodes[edge[1]]['x']]]\n",
        "    folium.PolyLine(coordinates, color=\"blue\", weight=2.5, opacity=1, tooltip=f\"{graph.nodes[edge[0]]['REG_STATUS']}\").add_to(mymap)\n",
        "\n",
        "\n",
        "for index_city in range(len(result_path_length['path'])):\n",
        "    for i in range(len(result_path_length['path'][index_city]) - 1):\n",
        "        edge = (result_path_length['path'][index_city][i], result_path_length['path'][index_city][i+1])\n",
        "        if i == 0:\n",
        "            coordinates = [[graph.nodes[edge[0]]['y'], graph.nodes[edge[0]]['x']], \n",
        "                        [graph.nodes[edge[1]]['y'], graph.nodes[edge[1]]['x']]]\n",
        "            folium.PolyLine(coordinates, color=\"yellow\", weight=2.5, opacity=1).add_to(mymap)\n",
        "        else:\n",
        "            coordinates = [[graph.nodes[edge[0]]['y'], graph.nodes[edge[0]]['x']], \n",
        "                    [graph.nodes[edge[1]]['y'], graph.nodes[edge[1]]['x']]]\n",
        "            folium.PolyLine(coordinates, color=\"red\", weight=2.5, opacity=1).add_to(mymap)\n",
        "\n",
        "mymap"
      ]
    },
    {
      "cell_type": "code",
      "execution_count": null,
      "metadata": {},
      "outputs": [],
      "source": [
        "saint_petersburg_point = ox.geocode_to_gdf('N27490597', by_osmid=True)\n",
        "saint_petersburg_point.to_crs(epsg=32636, inplace=True)\n",
        "edges_spb.to_crs(epsg=32636, inplace=True)\n",
        "edges_spb['length'] = edges_spb.geometry.length"
      ]
    },
    {
      "cell_type": "code",
      "execution_count": null,
      "metadata": {},
      "outputs": [],
      "source": [
        "gdf_18_points = pd.concat([gdf_17_points.to_crs(epsg=32636), saint_petersburg_point[['name', 'geometry']]], ignore_index=True)\n",
        "# gdf_lines = transferring_points_on_line(gdf_18_points, roads_within_polygon.drop(columns=['index_right', 'name']), 'name')\n",
        "gdf_lines_spb = transferring_points_on_line(gdf_18_points, edges_spb, column_1='name', column_2='admin_centers')"
      ]
    },
    {
      "cell_type": "code",
      "execution_count": null,
      "metadata": {},
      "outputs": [],
      "source": [
        "graph = momepy.gdf_to_nx(gdf_lines_spb.to_crs(epsg=4326))\n",
        "for node in graph.nodes:\n",
        "    graph.nodes()[node]['x'] = node[0]\n",
        "    graph.nodes()[node]['y'] = node[1]\n",
        "\n",
        "# Для каждого ребра в графе\n",
        "for u, v, data in graph.edges(data=True):\n",
        "    if graph.nodes[u]:\n",
        "        if isinstance(data['admin_centers'], str):\n",
        "            graph.nodes[u]['admin_centers'] = data['admin_centers']\n",
        "                \n",
        "    if graph.nodes[v]:\n",
        "        if isinstance(data['admin_centers'], str):\n",
        "            graph.nodes[v]['admin_centers'] = data['admin_centers']"
      ]
    },
    {
      "cell_type": "code",
      "execution_count": null,
      "metadata": {},
      "outputs": [],
      "source": [
        "def search_min_distance_18(graph):\n",
        "    source_nodes = []\n",
        "    target_nodes = []\n",
        "\n",
        "    # Формируем список исходных и целевых узлов\n",
        "    for node, data in graph.nodes(data=True):\n",
        "        if isinstance(data.get('admin_centers'), str):  # Исходные узлы\n",
        "            if data['admin_centers'] != 'Saint Petersburg':\n",
        "                source_nodes.append((node, data['admin_centers']))\n",
        "            elif data['admin_centers'] == 'Saint Petersburg':  # Целевые узлы\n",
        "                target_nodes.append((node, data['admin_centers']))\n",
        "\n",
        "    min_distances = {} # Словарь для хранения минимальных расстояний\n",
        "\n",
        "    # Общее количество итераций для отображения прогресса\n",
        "    total_iterations = len(source_nodes) * len(target_nodes)\n",
        "\n",
        "    progress_bar = tqdm(total=total_iterations)  # Инициализация индикатора прогресса\n",
        "\n",
        "    # Поиск кратчайшего пути и запоминание минимального расстояния\n",
        "    for source_node, name in source_nodes:\n",
        "        for target_node, name_right in target_nodes:\n",
        "            try: \n",
        "                length, path = nx.single_source_dijkstra(graph, source=source_node, target=target_node, weight='length')\n",
        "                if name not in min_distances or (length/1000) < min_distances[name][0]:\n",
        "                    min_distances[name] = (length/1000, path)\n",
        "            except nx.NetworkXNoPath:\n",
        "                print(f\"Путь до {name_right} не найден.\")\n",
        "            progress_bar.update()  # Обновление индикатора прогресса\n",
        "\n",
        "    progress_bar.close()  # Закрытие индикатора прогресса\n",
        "\n",
        "    # Преобразование словаря в DataFrame для более удобного отображения\n",
        "    df = pd.DataFrame(min_distances.values(), index=min_distances.keys())\n",
        "    df.columns = ['min_distance', 'path']\n",
        "    return df\n",
        "\n",
        "result_path_length_18 = search_min_distance_18(graph)"
      ]
    },
    {
      "cell_type": "code",
      "execution_count": null,
      "metadata": {},
      "outputs": [],
      "source": [
        "result_path_length_18"
      ]
    },
    {
      "cell_type": "code",
      "execution_count": null,
      "metadata": {},
      "outputs": [],
      "source": [
        "import folium\n",
        "mymap = folium.Map()\n",
        "\n",
        "for index_city in range(len(result_path_length_18['path'])):\n",
        "    for i in range(len(result_path_length_18['path'][index_city]) - 1):\n",
        "        edge = (result_path_length_18['path'][index_city][i], result_path_length_18['path'][index_city][i+1])\n",
        "        if i == 0:\n",
        "            coordinates = [[graph.nodes[edge[0]]['y'], graph.nodes[edge[0]]['x']], \n",
        "                        [graph.nodes[edge[1]]['y'], graph.nodes[edge[1]]['x']]]\n",
        "            folium.PolyLine(coordinates, color=\"yellow\", weight=2.5, opacity=1).add_to(mymap)\n",
        "        else:\n",
        "            coordinates = [[graph.nodes[edge[0]]['y'], graph.nodes[edge[0]]['x']], \n",
        "                    [graph.nodes[edge[1]]['y'], graph.nodes[edge[1]]['x']]]\n",
        "            folium.PolyLine(coordinates, color=\"red\", weight=2.5, opacity=1).add_to(mymap)\n",
        "\n",
        "mymap"
      ]
    },
    {
      "cell_type": "markdown",
      "metadata": {},
      "source": [
        "### Тестовая область"
      ]
    },
    {
      "cell_type": "code",
      "execution_count": null,
      "metadata": {},
      "outputs": [],
      "source": [
        "fuel_gdf = gpd.read_file('data/geojsons/fuel.geojson').to_crs(epsg=32636)\n",
        "stops_gdf = gpd.read_file('data/geojsons/ЖД остановки.geojson').to_crs(epsg=32636)"
      ]
    },
    {
      "cell_type": "code",
      "execution_count": null,
      "metadata": {},
      "outputs": [],
      "source": [
        "gdf_lines_copy = gdf_lines.copy()\n",
        "gdf_lines_fuel = transferring_points_on_line(fuel_gdf, gdf_lines_copy, column_1='name', column_2='fuel')"
      ]
    },
    {
      "cell_type": "code",
      "execution_count": null,
      "metadata": {},
      "outputs": [],
      "source": [
        "buffer_for_city = {\n",
        "    'Луга':             20000,\n",
        "    'Волосово':         20000,\n",
        "    'Сосновый бор':     20000,\n",
        "    'Приозерск':        20000,\n",
        "    'Гатчина':          20000,\n",
        "    'Кировск':          20000,\n",
        "    'Всеволожск':       20000,\n",
        "    'Тосно':            20000,\n",
        "    'Кириши':           20000,\n",
        "    'Волхов':           20000,\n",
        "    'Лодейное Поле':    20000,\n",
        "    'Тихвин':           20000,\n",
        "    'Бокситогорск':     40000,\n",
        "    'Подпорожье':       20000,\n",
        "    'Кингисепп':        20000,\n",
        "    'Выборг':           20000,\n",
        "    'Сланцы':           20000\n",
        "}\n",
        "\n"
      ]
    },
    {
      "cell_type": "code",
      "execution_count": null,
      "metadata": {},
      "outputs": [],
      "source": [
        "# Инициализируйте словарь для хранения сопоставления id дороги и города\n",
        "road_to_city_mapping = {}\n",
        "\n",
        "for index, city in admin_centers.iterrows():\n",
        "    # Создаем буфер вокруг каждого города\n",
        "    buffer_meter = buffer_for_city[city['admin_centers']]\n",
        "    buffer = city['geometry'].buffer(buffer_meter)\n",
        "    roads_in_buffer = gdf_lines_fuel.loc[gdf_lines_fuel[gdf_lines_fuel.geometry.intersects(buffer) & gdf_lines_fuel['fuel'].notna()].index]\n",
        "    \n",
        "    for road_id in roads_in_buffer.index:\n",
        "        # Если id дороги уже есть в словаре - добавить город к списку городов для этой id\n",
        "        if road_id in road_to_city_mapping:\n",
        "            road_to_city_mapping[road_id].append(city['admin_centers'])\n",
        "        else:  # Если id дороги еще нет в словаре, создайте новый список городов с этим городом\n",
        "            road_to_city_mapping[road_id] = [city['admin_centers']]\n",
        "gdf_lines_fuel['nearest_fuel'] = gdf_lines_fuel.index.map(road_to_city_mapping)"
      ]
    },
    {
      "cell_type": "code",
      "execution_count": null,
      "metadata": {},
      "outputs": [],
      "source": [
        "graph = momepy.gdf_to_nx(gdf_lines_fuel.to_crs(epsg=4326))\n",
        "for node in graph.nodes:\n",
        "    graph.nodes()[node]['x'] = node[0]\n",
        "    graph.nodes()[node]['y'] = node[1]\n",
        "\n",
        "# Для каждого ребра в графе\n",
        "for u, v, data in graph.edges(data=True):\n",
        "    if graph.nodes[u]:\n",
        "        if isinstance(data['admin_centers'], str):\n",
        "            graph.nodes[u]['admin_centers'] = data['admin_centers']\n",
        "        if isinstance(data['nearest_fuel'], list):\n",
        "            if 'nearest_fuel' not in graph.nodes[u]:\n",
        "                graph.nodes[u]['nearest_fuel'] = data['nearest_fuel']\n",
        "                \n",
        "\n",
        "    if graph.nodes[v]:\n",
        "        if isinstance(data['admin_centers'], str):\n",
        "            graph.nodes[v]['admin_centers'] = data['admin_centers']\n",
        "        if isinstance(data['nearest_fuel'], list):\n",
        "            if 'nearest_fuel' not in graph.nodes[v]:\n",
        "                graph.nodes[v]['nearest_fuel'] = data['nearest_fuel']"
      ]
    },
    {
      "cell_type": "code",
      "execution_count": null,
      "metadata": {},
      "outputs": [],
      "source": [
        "def search_min_distance_fuel(graph):\n",
        "    source_nodes = []\n",
        "    target_nodes = []\n",
        "\n",
        "    # Формируем список исходных и целевых узлов\n",
        "    for node, data in graph.nodes(data=True):\n",
        "        if isinstance(data.get('admin_centers'), str):  # Исходные узлы\n",
        "            source_nodes.append((node, data['admin_centers']))\n",
        "        if isinstance(data.get('nearest_fuel'), list):  # Исходные узлы\n",
        "            target_nodes.append((node, data['nearest_fuel']))\n",
        "\n",
        "    min_distances = {} # Словарь для хранения минимальных расстояний\n",
        "\n",
        "    # Общее количество итераций для отображения прогресса\n",
        "    total_iterations = len(source_nodes) * len(target_nodes)\n",
        "\n",
        "    progress_bar = tqdm(total=total_iterations)  # Инициализация индикатора прогресса\n",
        "\n",
        "    # Поиск кратчайшего пути и запоминание минимального расстояния\n",
        "    for source_node, name in source_nodes:\n",
        "        for target_node, name_right in target_nodes:\n",
        "            if graph.nodes[target_node].get('nearest_fuel') and name in graph.nodes[target_node]['nearest_fuel']:\n",
        "                try: \n",
        "                    length, path = nx.single_source_dijkstra(graph, source=source_node, target=target_node, weight='length')\n",
        "                    if name not in min_distances or (length/1000) < min_distances[name][0]:\n",
        "                        min_distances[name] = (length/1000, path)\n",
        "                except nx.NetworkXNoPath:\n",
        "                    print(f\"Путь до {name_right} не найден.\")\n",
        "            progress_bar.update()  # Обновление индикатора прогресса\n",
        "\n",
        "    progress_bar.close()  # Закрытие индикатора прогресса\n",
        "\n",
        "    # Преобразование словаря в DataFrame для более удобного отображения\n",
        "    df = pd.DataFrame(min_distances.values(), index=min_distances.keys())\n",
        "    df.columns = ['min_distance', 'path']\n",
        "    return df\n",
        "\n",
        "result_path_length_fuel = search_min_distance_fuel(graph)"
      ]
    },
    {
      "cell_type": "code",
      "execution_count": null,
      "metadata": {},
      "outputs": [],
      "source": [
        "result_path_length_fuel['min_distance, min'] = result_path_length_fuel['min_distance'] / 70 * 60\n",
        "result_path_length_fuel"
      ]
    },
    {
      "cell_type": "code",
      "execution_count": null,
      "metadata": {},
      "outputs": [],
      "source": []
    },
    {
      "cell_type": "code",
      "execution_count": null,
      "metadata": {},
      "outputs": [],
      "source": []
    },
    {
      "cell_type": "code",
      "execution_count": null,
      "metadata": {},
      "outputs": [],
      "source": [
        "gdf_lines_copy = gdf_lines.copy()\n",
        "gdf_lines_stops = transferring_points_on_line(stops_gdf, gdf_lines_copy, column_1='NAME', column_2='stops_jd')"
      ]
    },
    {
      "cell_type": "code",
      "execution_count": null,
      "metadata": {},
      "outputs": [],
      "source": [
        "# Инициализируйте словарь для хранения сопоставления id дороги и города\n",
        "road_to_city_mapping = {}\n",
        "\n",
        "for index, city in admin_centers.iterrows():\n",
        "    # Создаем буфер вокруг каждого города\n",
        "    buffer_meter = buffer_for_city[city['admin_centers']]\n",
        "    buffer = city['geometry'].buffer(buffer_meter)\n",
        "    roads_in_buffer = gdf_lines_stops.loc[gdf_lines_stops[gdf_lines_stops.geometry.intersects(buffer) & gdf_lines_stops['stops_jd'].notna()].index]\n",
        "    \n",
        "    for road_id in roads_in_buffer.index:\n",
        "        # Если id дороги уже есть в словаре - добавить город к списку городов для этой id\n",
        "        if road_id in road_to_city_mapping:\n",
        "            road_to_city_mapping[road_id].append(city['admin_centers'])\n",
        "        else:  # Если id дороги еще нет в словаре, создайте новый список городов с этим городом\n",
        "            road_to_city_mapping[road_id] = [city['admin_centers']]\n",
        "gdf_lines_stops['nearest_stops_jd'] = gdf_lines_stops.index.map(road_to_city_mapping)"
      ]
    },
    {
      "cell_type": "code",
      "execution_count": null,
      "metadata": {},
      "outputs": [],
      "source": [
        "graph = momepy.gdf_to_nx(gdf_lines_stops.to_crs(epsg=4326))\n",
        "for node in graph.nodes:\n",
        "    graph.nodes()[node]['x'] = node[0]\n",
        "    graph.nodes()[node]['y'] = node[1]\n",
        "\n",
        "# Для каждого ребра в графе\n",
        "for u, v, data in graph.edges(data=True):\n",
        "    if graph.nodes[u]:\n",
        "        if isinstance(data['admin_centers'], str):\n",
        "            graph.nodes[u]['admin_centers'] = data['admin_centers']\n",
        "        if isinstance(data['nearest_stops_jd'], list):\n",
        "            if 'nearest_stops_jd' not in graph.nodes[u]:\n",
        "                graph.nodes[u]['nearest_stops_jd'] = data['nearest_stops_jd']\n",
        "                \n",
        "\n",
        "    if graph.nodes[v]:\n",
        "        if isinstance(data['admin_centers'], str):\n",
        "            graph.nodes[v]['admin_centers'] = data['admin_centers']\n",
        "        if isinstance(data['nearest_stops_jd'], list):\n",
        "            if 'nearest_stops_jd' not in graph.nodes[v]:\n",
        "                graph.nodes[v]['nearest_stops_jd'] = data['nearest_stops_jd']"
      ]
    },
    {
      "cell_type": "code",
      "execution_count": null,
      "metadata": {},
      "outputs": [],
      "source": [
        "def search_min_distance_jd(graph):\n",
        "    source_nodes = []\n",
        "    target_nodes = []\n",
        "\n",
        "    # Формируем список исходных и целевых узлов\n",
        "    for node, data in graph.nodes(data=True):\n",
        "        if isinstance(data.get('admin_centers'), str):  # Исходные узлы\n",
        "            source_nodes.append((node, data['admin_centers']))\n",
        "        if isinstance(data.get('nearest_stops_jd'), list):  # Исходные узлы\n",
        "            target_nodes.append((node, data['nearest_stops_jd']))\n",
        "\n",
        "    min_distances = {} # Словарь для хранения минимальных расстояний\n",
        "\n",
        "    # Общее количество итераций для отображения прогресса\n",
        "    total_iterations = len(source_nodes) * len(target_nodes)\n",
        "\n",
        "    progress_bar = tqdm(total=total_iterations)  # Инициализация индикатора прогресса\n",
        "\n",
        "    # Поиск кратчайшего пути и запоминание минимального расстояния\n",
        "    for source_node, name in source_nodes:\n",
        "        for target_node, name_right in target_nodes:\n",
        "            if graph.nodes[target_node].get('nearest_stops_jd') and name in graph.nodes[target_node]['nearest_stops_jd']:\n",
        "                try: \n",
        "                    length, path = nx.single_source_dijkstra(graph, source=source_node, target=target_node, weight='length')\n",
        "                    if name not in min_distances or (length/1000) < min_distances[name][0]:\n",
        "                        min_distances[name] = (length/1000, path)\n",
        "                except nx.NetworkXNoPath:\n",
        "                    print(f\"Путь до {name_right} не найден.\")\n",
        "            progress_bar.update()  # Обновление индикатора прогресса\n",
        "\n",
        "    progress_bar.close()  # Закрытие индикатора прогресса\n",
        "\n",
        "    # Преобразование словаря в DataFrame для более удобного отображения\n",
        "    df = pd.DataFrame(min_distances.values(), index=min_distances.keys())\n",
        "    df.columns = ['min_distance', 'path']\n",
        "    return df\n",
        "\n",
        "result_path_length_jd = search_min_distance_jd(graph)"
      ]
    },
    {
      "cell_type": "code",
      "execution_count": null,
      "metadata": {},
      "outputs": [],
      "source": [
        "result_path_length_jd['time, min'] = result_path_length_jd[['min_distance']] / 70 * 60\n",
        "result_path_length_jd"
      ]
    },
    {
      "cell_type": "code",
      "execution_count": null,
      "metadata": {},
      "outputs": [],
      "source": [
        "import folium\n",
        "mymap = folium.Map()\n",
        "\n",
        "edges = [(u,v,d) for u, v, d in graph.edges(data=True)  if isinstance(d['nearest_stops_jd'], list)]\n",
        "# Отображение на карте\n",
        "for edge in edges:\n",
        "    coordinates = [[graph.nodes[edge[0]]['y'], graph.nodes[edge[0]]['x']], \n",
        "                   [graph.nodes[edge[1]]['y'], graph.nodes[edge[1]]['x']]]\n",
        "    folium.PolyLine(coordinates, color=\"blue\", weight=2.5, opacity=1, tooltip=f\"{graph.nodes[edge[0]]['nearest_stops_jd']}\").add_to(mymap)\n",
        "\n",
        "\n",
        "for index_city in range(len(result_path_length_jd['path'])):\n",
        "    for i in range(len(result_path_length_jd['path'][index_city]) - 1):\n",
        "        edge = (result_path_length_jd['path'][index_city][i], result_path_length_jd['path'][index_city][i+1])\n",
        "        if i == 0:\n",
        "            coordinates = [[graph.nodes[edge[0]]['y'], graph.nodes[edge[0]]['x']], \n",
        "                        [graph.nodes[edge[1]]['y'], graph.nodes[edge[1]]['x']]]\n",
        "            folium.PolyLine(coordinates, color=\"yellow\", weight=2.5, opacity=1).add_to(mymap)\n",
        "        else:\n",
        "            coordinates = [[graph.nodes[edge[0]]['y'], graph.nodes[edge[0]]['x']], \n",
        "                    [graph.nodes[edge[1]]['y'], graph.nodes[edge[1]]['x']]]\n",
        "            folium.PolyLine(coordinates, color=\"red\", weight=2.5, opacity=1).add_to(mymap)\n",
        "\n",
        "mymap"
      ]
    },
    {
      "cell_type": "code",
      "execution_count": null,
      "metadata": {},
      "outputs": [],
      "source": [
        "gdf_lines_stops[gdf_lines_stops['nearest_stops_jd'].notna()]"
      ]
    },
    {
      "cell_type": "code",
      "execution_count": null,
      "metadata": {},
      "outputs": [],
      "source": []
    },
    {
      "cell_type": "code",
      "execution_count": null,
      "metadata": {},
      "outputs": [],
      "source": []
    },
    {
      "cell_type": "code",
      "execution_count": null,
      "metadata": {},
      "outputs": [],
      "source": []
    },
    {
      "cell_type": "code",
      "execution_count": null,
      "metadata": {},
      "outputs": [],
      "source": [
        "result_path_length\n",
        "result_path_length_18\n",
        "result_path_length_fuel"
      ]
    },
    {
      "cell_type": "code",
      "execution_count": null,
      "metadata": {},
      "outputs": [],
      "source": [
        "result_path_length_fuel.reset_index()"
      ]
    },
    {
      "cell_type": "code",
      "execution_count": null,
      "metadata": {},
      "outputs": [],
      "source": [
        "relult_regstatus_spb = result_path_length[['min_distance']].reset_index().merge(result_path_length_18[['min_distance']].reset_index(), left_on='index', right_on='index')"
      ]
    },
    {
      "cell_type": "code",
      "execution_count": null,
      "metadata": {},
      "outputs": [],
      "source": [
        "relult_regstatus_spb_fuel = relult_regstatus_spb.merge(result_path_length_fuel[['min_distance, min']].reset_index(), left_on='index', right_on='index')"
      ]
    },
    {
      "cell_type": "code",
      "execution_count": null,
      "metadata": {},
      "outputs": [],
      "source": [
        "relult_regstatus_spb_fuel_jd = relult_regstatus_spb_fuel.merge(result_path_length_jd[['time, min']].reset_index(), left_on='index', right_on='index')"
      ]
    },
    {
      "cell_type": "code",
      "execution_count": null,
      "metadata": {},
      "outputs": [],
      "source": [
        "relult_regstatus_spb_fuel_jd.rename(columns={\n",
        "    'min_distance_x': 'REG_STATUS, km',\n",
        "    'min_distance_y': 'SPb, km',\n",
        "    'min_distance, min': 'time_GAS, min',\n",
        "    'time, min': 'time_RR, min'\n",
        "}, inplace=True)\n",
        "relult_regstatus_spb_fuel_jd.set_index('index', inplace=True)"
      ]
    },
    {
      "cell_type": "code",
      "execution_count": null,
      "metadata": {},
      "outputs": [],
      "source": [
        "relult_regstatus_spb_fuel_jd.to_csv('data/csv/relult_regstatus_spb_gas_rr.csv')"
      ]
    }
  ],
  "metadata": {
    "kernelspec": {
      "display_name": "Python 3",
      "language": "python",
      "name": "python3"
    },
    "language_info": {
      "codemirror_mode": {
        "name": "ipython",
        "version": 3
      },
      "file_extension": ".py",
      "mimetype": "text/x-python",
      "name": "python",
      "nbconvert_exporter": "python",
      "pygments_lexer": "ipython3",
      "version": "3.10.11"
    },
    "orig_nbformat": 4
  },
  "nbformat": 4,
  "nbformat_minor": 2
}
