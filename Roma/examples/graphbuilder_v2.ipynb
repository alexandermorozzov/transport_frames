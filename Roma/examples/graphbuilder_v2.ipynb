{
 "cells": [
  {
   "cell_type": "markdown",
   "metadata": {},
   "source": [
    "# Импорт"
   ]
  },
  {
   "cell_type": "code",
   "execution_count": 1,
   "metadata": {},
   "outputs": [],
   "source": [
    "import sys\n",
    "sys.path.append('../')\n",
    "\n",
    "import momepy\n",
    "import folium\n",
    "import pyproj\n",
    "import shapely\n",
    "import osmnx as ox\n",
    "import pandas as pd\n",
    "import networkx as nx\n",
    "import graphbuilder_v2\n",
    "import geopandas as gpd\n",
    "\n",
    "from pprint import pprint\n",
    "from pyproj import Transformer"
   ]
  },
  {
   "cell_type": "markdown",
   "metadata": {},
   "source": [
    "# Примеры работы"
   ]
  },
  {
   "cell_type": "markdown",
   "metadata": {},
   "source": [
    "## Загрузка графа"
   ]
  },
  {
   "cell_type": "code",
   "execution_count": null,
   "metadata": {},
   "outputs": [],
   "source": [
    "# В качестве начальных данных подается gpd.GeoDataFrame с Polygon, по которому нужно скачать граф\n",
    "lo_polygon = ox.geocode_to_gdf('R176095', by_osmid=True).to_crs(epsg=32636)\n",
    "spb_polygon = ox.geocode_to_gdf('R337422', by_osmid=True).to_crs(epsg=32636).buffer(3000)\n",
    "city = lo_polygon.union(spb_polygon).to_crs(epsg=4326)\n",
    "# city = ox.geocode_to_gdf('R1281563', by_osmid=True) # тестовый мини-город, чтобы долго не грузить\n",
    "\n",
    "# city = ox.geocode_to_gdf('R1572051', by_osmid=True)\n",
    "\n",
    "graph = graphbuilder_v2.get_graph_from_polygon(city, crs=32636, retain_all=False)"
   ]
  },
  {
   "cell_type": "code",
   "execution_count": 2,
   "metadata": {},
   "outputs": [],
   "source": [
    "# Загрузка локального графа\n",
    "graph = nx.read_graphml('data/graphml/graph.graphml')"
   ]
  },
  {
   "cell_type": "code",
   "execution_count": 5,
   "metadata": {},
   "outputs": [],
   "source": [
    "# Перевод edges:list -> str\n",
    "graph = graphbuilder_v2.convert_list_attr_to_str(graph)\n",
    "\n"
   ]
  },
  {
   "cell_type": "code",
   "execution_count": 6,
   "metadata": {},
   "outputs": [],
   "source": [
    "nodes, edges = momepy.nx_to_gdf(graph, points=True, lines=True, spatial_weights=False)"
   ]
  },
  {
   "cell_type": "code",
   "execution_count": null,
   "metadata": {},
   "outputs": [],
   "source": [
    "nx.write_graphml(graph, 'data/graphml/graph.graphml')"
   ]
  },
  {
   "cell_type": "markdown",
   "metadata": {},
   "source": [
    "## Создание карты по каркасу"
   ]
  },
  {
   "cell_type": "code",
   "execution_count": null,
   "metadata": {},
   "outputs": [],
   "source": [
    "import folium\n",
    "from pyproj import Transformer\n",
    "\n",
    "# Инициализация трансформера для преобразования из EPSG:32636 в EPSG:4326\n",
    "transformer = Transformer.from_crs(\"epsg:32636\", \"epsg:4326\")\n",
    "\n",
    "# Выделение дорог с федеральным/региональным статусом\n",
    "e = [(u, v, k) for u, v, k, d in graph.edges(data=True, keys=True) if d.get('reg') in([1, 2])]\n",
    "\n",
    "m = folium.Map(tiles='CartoDB Dark_Matter')\n",
    "\n",
    "# Создание FeatureGroup для слоев\n",
    "lines_layer = folium.FeatureGroup(name='Lines', show=False)\n",
    "nodes_layer = folium.FeatureGroup(name='Nodes', show=False)\n",
    "exit_nodes_layer = folium.FeatureGroup(name='Exit Nodes', show=False)\n",
    "\n",
    "# Преобразование и отображение узлов и линий\n",
    "for u, v, k in e:\n",
    "    start_y, start_x = graph.nodes[u]['y'], graph.nodes[u]['x']\n",
    "    end_y, end_x = graph.nodes[v]['y'], graph.nodes[v]['x']\n",
    "    \n",
    "    # Преобразование координат\n",
    "    start_lat, start_lon = transformer.transform(start_x, start_y)\n",
    "    end_lat, end_lon = transformer.transform(end_x, end_y)\n",
    "    \n",
    "    # Создание линии\n",
    "    line_coords = [\n",
    "        [start_lat, start_lon],\n",
    "        [end_lat, end_lon]\n",
    "    ]\n",
    "    folium.PolyLine(locations=line_coords, color='#AAFF01').add_to(lines_layer)\n",
    "    \n",
    "    # Условие для цвета CircleMarker и создание tooltip\n",
    "    start_color = '#FE4F19' if graph.nodes[u].get('exit') == 1 else '#13D1FF'\n",
    "    end_color =   '#FE4F19' if graph.nodes[v].get('exit') == 1 else '#13D1FF'\n",
    "    \n",
    "    start_tooltip = f\"Exit: {graph.nodes[u].get('exit')}, Reg1: {graph.nodes[u].get('reg_1')}, Reg2: {graph.nodes[u].get('reg_2')}\"\n",
    "    end_tooltip =   f\"Exit: {graph.nodes[v].get('exit')}, Reg1: {graph.nodes[v].get('reg_1')}, Reg2: {graph.nodes[v].get('reg_2')}\"\n",
    "    \n",
    "    # Добавление CircleMarker для начального узла\n",
    "    folium.CircleMarker(\n",
    "        location=[start_lat, start_lon],\n",
    "        radius=2,\n",
    "        color=start_color,\n",
    "        fill=True,\n",
    "        opacity=1,\n",
    "        fill_color=start_color,\n",
    "        tooltip=start_tooltip\n",
    "    ).add_to(exit_nodes_layer if graph.nodes[u].get('exit') == 1 else nodes_layer)\n",
    "    \n",
    "    # Добавление CircleMarker для конечного узла\n",
    "    folium.CircleMarker(\n",
    "        location=[end_lat, end_lon],\n",
    "        radius=2,\n",
    "        color=end_color,\n",
    "        fill=True,\n",
    "        opacity=1,\n",
    "        fill_color=end_color,\n",
    "        tooltip=end_tooltip\n",
    "    ).add_to(exit_nodes_layer if graph.nodes[v].get('exit') == 1 else nodes_layer)\n",
    "\n",
    "# Добавление слоев на карту\n",
    "lines_layer.add_to(m)\n",
    "nodes_layer.add_to(m)\n",
    "exit_nodes_layer.add_to(m)\n",
    "\n",
    "# Отображение границы полигона (например, города)\n",
    "city.boundary.explore(m=m, color='#AA00FF', name='Cities', opacity=0.8)\n",
    "\n",
    "# Добавление контроля слоев\n",
    "folium.LayerControl().add_to(m)\n",
    "\n",
    "# Сохранение карты\n",
    "# Путь проверьте!!!\n",
    "m.save('../data/html/rostov_graphbuilder2.html')"
   ]
  },
  {
   "cell_type": "markdown",
   "metadata": {},
   "source": [
    "## Перевод graph -> GeoDataFrame"
   ]
  },
  {
   "cell_type": "markdown",
   "metadata": {},
   "source": [
    "### Конвертация str -> geometry"
   ]
  },
  {
   "cell_type": "code",
   "execution_count": null,
   "metadata": {},
   "outputs": [],
   "source": [
    "# Конвертация str -> geometry\n",
    "graph = graphbuilder_v2.convert_geometry_from_wkt(graph)"
   ]
  },
  {
   "cell_type": "code",
   "execution_count": null,
   "metadata": {},
   "outputs": [],
   "source": [
    "# Преобразуем граф в GeoDataFrames\n",
    "nodes, edges = momepy.nx_to_gdf(graph, points=True, lines=True, spatial_weights=False)"
   ]
  },
  {
   "cell_type": "markdown",
   "metadata": {},
   "source": [
    "## Вывод на карту определенный тип reg_status дороги"
   ]
  },
  {
   "cell_type": "code",
   "execution_count": null,
   "metadata": {},
   "outputs": [],
   "source": [
    "# Разница между предыдущим и этим методом:\n",
    "# Вариант выше рисовал узлы и ребра графа. Этот вариант рисует геометрию\n",
    "\n",
    "edges = edges.to_crs(epsg=4326)\n",
    "edges_filtered = edges[edges['reg'].isin([1, 2])]\n",
    "\n",
    "m = folium.Map()\n",
    "\n",
    "# Определение цветов для разных значений reg\n",
    "color_map = {1: 'red', 2: 'blue', 3: 'green'}\n",
    "\n",
    "# Добавление рёбер на карту\n",
    "for _, row in edges_filtered.iterrows():\n",
    "    folium.GeoJson(\n",
    "        row['geometry'],\n",
    "        style_function=lambda feature, color=color_map[row['reg']]: {'color': color},\n",
    "        tooltip=f\"highway: {row['highway']}, ref: {row['ref']}, reg: {row['reg']}\"\n",
    "    ).add_to(m)\n",
    "\n",
    "# Отображение карты\n",
    "m.save('../data/html/roads.html')"
   ]
  },
  {
   "cell_type": "markdown",
   "metadata": {},
   "source": [
    "## Проецирование точек на узлы графа"
   ]
  },
  {
   "cell_type": "code",
   "execution_count": null,
   "metadata": {},
   "outputs": [],
   "source": [
    "# Пример проецирования точек на граф. Важно: пример для Ленинградской области и Санкт-Петербурга\n",
    "\n",
    "lomonosov = ox.geocode_to_gdf('N411691832', by_osmid=True).to_crs(epsg=32636)[['geometry','name']]\n",
    "lomonosov.loc[0, 'name'] = 'Ломоносов'\n",
    "\n",
    "city_points = gpd.read_file('../data/geojsons/СНП ЛО.geojson')\n",
    "rr_points = gpd.read_file('../data/geojsons/ЖД остановки.geojson').to_crs(epsg=32636)\n",
    "\n",
    "cities = [\"приозерск\", \"кировск\", \"кингисепп\", \"луга\", \n",
    "          \"лодейное поле\", \"гатчина\", \"тихвин\", \"тосно\", \n",
    "          \"выборг\", \"бокситогорск\", \"всеволожск\", \"волосово\", \n",
    "          \"волхов\", \"сосновый бор\", \"сланцы\", \"подпорожье\", \"кириши\"]\n",
    "\n",
    "# Выделение административных центров\n",
    "city_points = city_points[\n",
    "    (city_points['name'].str.lower().isin(cities)) &\n",
    "    (city_points['rural settlement'].str.contains('административный центр'))\n",
    "].sort_values('name')\n",
    "\n",
    "city_points = city_points.to_crs(epsg=32636)\n",
    "city_points = pd.concat([city_points, lomonosov]).reset_index(drop=True)\n",
    "\n",
    "nodes_fil = nodes[(nodes['reg_1'] == True) | (nodes['reg_2'] == True)]\n",
    "graph = graphbuilder_v2.assign_city_names_to_nodes(city_points, nodes_fil, graph, name_attr='city_name', node_id_attr='nodeID', name_col='name', max_distance=1200)\n",
    "graph = graphbuilder_v2.assign_city_names_to_nodes(rr_points, nodes_fil, graph, name_attr='rr_name', node_id_attr='nodeID', name_col='NAME', max_distance=1200)"
   ]
  },
  {
   "cell_type": "code",
   "execution_count": null,
   "metadata": {},
   "outputs": [],
   "source": [
    "import folium\n",
    "from pyproj import Transformer\n",
    "\n",
    "# Инициализация трансформера для преобразования из EPSG:32636 в EPSG:4326\n",
    "transformer = Transformer.from_crs(\"epsg:32636\", \"epsg:4326\")\n",
    "\n",
    "# Инициализация карты\n",
    "m = folium.Map(tiles='CartoDB Dark_Matter')\n",
    "\n",
    "# Создание FeatureGroup для слоев\n",
    "nodes_city_layer = folium.FeatureGroup(name='Nodes with City Names', show=False)\n",
    "nodes_rr_layer = folium.FeatureGroup(name='Nodes with RR Names', show=False)\n",
    "nodes_default_layer = folium.FeatureGroup(name='Other Nodes', show=False)\n",
    "lines_layer_reg1 = folium.FeatureGroup(name='Lines reg 1', show=False)\n",
    "lines_layer_reg2 = folium.FeatureGroup(name='Lines reg 2', show=False)\n",
    "exit_nodes_layer = folium.FeatureGroup(name='Exit Nodes', show=False)\n",
    "\n",
    "# Преобразование и отображение узлов и линий\n",
    "for u, v, k, d in graph.edges(data=True, keys=True):\n",
    "    start_y, start_x = graph.nodes[u]['y'], graph.nodes[u]['x']\n",
    "    end_y, end_x = graph.nodes[v]['y'], graph.nodes[v]['x']\n",
    "    \n",
    "    # Преобразование координат\n",
    "    start_lat, start_lon = transformer.transform(start_x, start_y)\n",
    "    end_lat, end_lon = transformer.transform(end_x, end_y)\n",
    "    \n",
    "    # Создание линии\n",
    "    line_coords = [\n",
    "        [start_lat, start_lon],\n",
    "        [end_lat, end_lon]\n",
    "    ]\n",
    "    \n",
    "    if d.get('reg') == 1:\n",
    "        folium.PolyLine(locations=line_coords, color='blue').add_to(lines_layer_reg1)\n",
    "    elif d.get('reg') == 2:\n",
    "        folium.PolyLine(locations=line_coords, color='green').add_to(lines_layer_reg2)\n",
    "    \n",
    "    # Проверка и добавление узлов\n",
    "    for node, lat, lon in [(u, start_lat, start_lon), (v, end_lat, end_lon)]:\n",
    "        if graph.nodes[node].get('exit') == 1:\n",
    "            folium.CircleMarker(\n",
    "                location=[lat, lon],\n",
    "                radius=5,\n",
    "                color='#FE4F19',\n",
    "                fill=True,\n",
    "                fill_color='#FE4F19',\n",
    "                tooltip=f\"Exit: {graph.nodes[node].get('exit')}, Reg1: {graph.nodes[node].get('reg_1')}, Reg2: {graph.nodes[node].get('reg_2')}\"\n",
    "            ).add_to(exit_nodes_layer)\n",
    "        elif graph.nodes[node].get('city_name'):\n",
    "            folium.CircleMarker(\n",
    "                location=[lat, lon],\n",
    "                radius=5,\n",
    "                color='red',\n",
    "                fill=True,\n",
    "                fill_color='red',\n",
    "                tooltip=str(graph.nodes[node]['city_name'])\n",
    "            ).add_to(nodes_city_layer)\n",
    "        elif graph.nodes[node].get('rr_name'):\n",
    "            folium.CircleMarker(\n",
    "                location=[lat, lon],\n",
    "                radius=5,\n",
    "                color='yellow',\n",
    "                fill=True,\n",
    "                fill_color='yellow',\n",
    "                tooltip=str(graph.nodes[node]['rr_name'])\n",
    "            ).add_to(nodes_rr_layer)\n",
    "        elif graph.nodes[node].get('reg_1') == True or graph.nodes[node].get('reg_2'):\n",
    "            folium.CircleMarker(\n",
    "                location=[lat, lon],\n",
    "                radius=5,\n",
    "                color='gray',\n",
    "                fill=True,\n",
    "                fill_color='gray'\n",
    "            ).add_to(nodes_default_layer)\n",
    "\n",
    "# Добавление слоев на карту\n",
    "nodes_rr_layer.add_to(m)\n",
    "lines_layer_reg1.add_to(m)\n",
    "lines_layer_reg2.add_to(m)\n",
    "exit_nodes_layer.add_to(m)\n",
    "nodes_city_layer.add_to(m)\n",
    "nodes_default_layer.add_to(m)\n",
    "\n",
    "# Добавление контроля слоев\n",
    "folium.LayerControl().add_to(m)\n",
    "\n",
    "# Сохранение карты\n",
    "m.save('../data/html/LO_all_data.html')"
   ]
  },
  {
   "cell_type": "markdown",
   "metadata": {},
   "source": [
    "## Выделение подграфа (каркаса)"
   ]
  },
  {
   "cell_type": "code",
   "execution_count": null,
   "metadata": {},
   "outputs": [],
   "source": [
    "e = [(u, v, k) for u, v, k, d in graph.edges(data=True, keys=True) if d.get('reg') in([1, 2])]\n",
    "subgraph = graph.edge_subgraph(e).copy()"
   ]
  },
  {
   "cell_type": "markdown",
   "metadata": {},
   "source": [
    "## Assessment of the state of the territory"
   ]
  },
  {
   "cell_type": "code",
   "execution_count": null,
   "metadata": {},
   "outputs": [],
   "source": [
    "# Загрузка локального графа\n",
    "graph = nx.read_graphml('data/graphml/graph.graphml')\n",
    "# Перевод nodes:str -> int, geometry:str -> geometry\n",
    "graph = nx.convert_node_labels_to_integers(graph)\n",
    "graph = graphbuilder_v2.convert_geometry_from_wkt(graph)\n",
    "# Перевод edges:str -> list\n",
    "graph = graphbuilder_v2.convert_list_attr_from_str(graph)"
   ]
  },
  {
   "cell_type": "code",
   "execution_count": null,
   "metadata": {},
   "outputs": [],
   "source": []
  }
 ],
 "metadata": {
  "kernelspec": {
   "display_name": "Python 3 (ipykernel)",
   "language": "python",
   "name": "python3"
  },
  "language_info": {
   "codemirror_mode": {
    "name": "ipython",
    "version": 3
   },
   "file_extension": ".py",
   "mimetype": "text/x-python",
   "name": "python",
   "nbconvert_exporter": "python",
   "pygments_lexer": "ipython3",
   "version": "3.10.9"
  }
 },
 "nbformat": 4,
 "nbformat_minor": 4
}
