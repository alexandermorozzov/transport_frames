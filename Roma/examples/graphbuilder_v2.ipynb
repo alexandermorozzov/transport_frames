{
 "cells": [
  {
   "cell_type": "markdown",
   "metadata": {},
   "source": [
    "# Импорт"
   ]
  },
  {
   "cell_type": "code",
   "execution_count": 51,
   "metadata": {},
   "outputs": [],
   "source": [
    "import sys\n",
    "sys.path.append('../')\n",
    "\n",
    "import graphbuilder_v2\n",
    "import momepy\n",
    "import folium\n",
    "import shapely\n",
    "import osmnx as ox\n",
    "import pandas as pd\n",
    "import geopandas as gpd"
   ]
  },
  {
   "cell_type": "markdown",
   "metadata": {},
   "source": [
    "# Примеры работы"
   ]
  },
  {
   "cell_type": "markdown",
   "metadata": {},
   "source": [
    "## Загрузка графа"
   ]
  },
  {
   "cell_type": "code",
   "execution_count": 52,
   "metadata": {},
   "outputs": [],
   "source": [
    "# В качестве начальных данных подается полигон, по которому нужно скачать граф\n",
    "# lo_polygon = ox.geocode_to_gdf('R176095', by_osmid=True).to_crs(epsg=32636)\n",
    "# spb_polygon = ox.geocode_to_gdf('R337422', by_osmid=True).to_crs(epsg=32636).buffer(3000)\n",
    "# city = lo_polygon.union(spb_polygon).to_crs(epsg=4326)\n",
    "\n",
    "city = ox.geocode_to_gdf('R1281563', by_osmid=True)\n",
    "graph = graphbuilder_v2.get_graph_from_polygon(city, crs=32636)\n",
    "\n",
    "graph['exit'] = 0\n",
    "# Преобразуем координатные системы для корректного пересечения\n",
    "city_transformed = city.to_crs(epsg=32636)\n",
    "# Находим пересечения ребер с границей города\n",
    "graph['intersections'] = graph['geometry'].intersection(city_transformed.unary_union)\n",
    "# Обновляем геометрию ребер\n",
    "graph['geometry'] = graph['intersections']\n",
    "# Создаем маску для ребер, пересекающихся с границей города\n",
    "mask = graph[graph['reg'].isin([1, 2])].intersects(city_transformed.unary_union.boundary)\n",
    "# Устанавливаем значение 'exit' в 1 для ребер, соответствующих маске\n",
    "graph.loc[graph['reg'].isin([1, 2]) & mask, 'exit'] = 1\n",
    "# Убираем временные колонки\n",
    "graph.drop(columns=['intersections'], inplace=True)"
   ]
  },
  {
   "cell_type": "code",
   "execution_count": 67,
   "metadata": {},
   "outputs": [
    {
     "data": {
      "text/html": [
       "<div>\n",
       "<style scoped>\n",
       "    .dataframe tbody tr th:only-of-type {\n",
       "        vertical-align: middle;\n",
       "    }\n",
       "\n",
       "    .dataframe tbody tr th {\n",
       "        vertical-align: top;\n",
       "    }\n",
       "\n",
       "    .dataframe thead th {\n",
       "        text-align: right;\n",
       "    }\n",
       "</style>\n",
       "<table border=\"1\" class=\"dataframe\">\n",
       "  <thead>\n",
       "    <tr style=\"text-align: right;\">\n",
       "      <th></th>\n",
       "      <th>geometry</th>\n",
       "    </tr>\n",
       "  </thead>\n",
       "  <tbody>\n",
       "    <tr>\n",
       "      <th>0</th>\n",
       "      <td>None</td>\n",
       "    </tr>\n",
       "    <tr>\n",
       "      <th>1</th>\n",
       "      <td>LINESTRING (1026062.073 5274681.539, 1026060.3...</td>\n",
       "    </tr>\n",
       "    <tr>\n",
       "      <th>2</th>\n",
       "      <td>LINESTRING Z EMPTY</td>\n",
       "    </tr>\n",
       "    <tr>\n",
       "      <th>3</th>\n",
       "      <td>LINESTRING Z EMPTY</td>\n",
       "    </tr>\n",
       "    <tr>\n",
       "      <th>4</th>\n",
       "      <td>LINESTRING Z EMPTY</td>\n",
       "    </tr>\n",
       "    <tr>\n",
       "      <th>...</th>\n",
       "      <td>...</td>\n",
       "    </tr>\n",
       "    <tr>\n",
       "      <th>6856</th>\n",
       "      <td>LINESTRING (1033351.640 5280707.395, 1033317.7...</td>\n",
       "    </tr>\n",
       "    <tr>\n",
       "      <th>6857</th>\n",
       "      <td>LINESTRING (1033072.998 5280826.924, 1033160.6...</td>\n",
       "    </tr>\n",
       "    <tr>\n",
       "      <th>6858</th>\n",
       "      <td>None</td>\n",
       "    </tr>\n",
       "    <tr>\n",
       "      <th>6859</th>\n",
       "      <td>None</td>\n",
       "    </tr>\n",
       "    <tr>\n",
       "      <th>6860</th>\n",
       "      <td>LINESTRING (1032861.240 5281032.346, 1032887.0...</td>\n",
       "    </tr>\n",
       "  </tbody>\n",
       "</table>\n",
       "<p>6861 rows × 1 columns</p>\n",
       "</div>"
      ],
      "text/plain": [
       "                                               geometry\n",
       "0                                                  None\n",
       "1     LINESTRING (1026062.073 5274681.539, 1026060.3...\n",
       "2                                    LINESTRING Z EMPTY\n",
       "3                                    LINESTRING Z EMPTY\n",
       "4                                    LINESTRING Z EMPTY\n",
       "...                                                 ...\n",
       "6856  LINESTRING (1033351.640 5280707.395, 1033317.7...\n",
       "6857  LINESTRING (1033072.998 5280826.924, 1033160.6...\n",
       "6858                                               None\n",
       "6859                                               None\n",
       "6860  LINESTRING (1032861.240 5281032.346, 1032887.0...\n",
       "\n",
       "[6861 rows x 1 columns]"
      ]
     },
     "execution_count": 67,
     "metadata": {},
     "output_type": "execute_result"
    }
   ],
   "source": [
    "graph[['geometry']]"
   ]
  },
  {
   "cell_type": "code",
   "execution_count": 68,
   "metadata": {},
   "outputs": [
    {
     "data": {
      "text/html": [
       "<div>\n",
       "<style scoped>\n",
       "    .dataframe tbody tr th:only-of-type {\n",
       "        vertical-align: middle;\n",
       "    }\n",
       "\n",
       "    .dataframe tbody tr th {\n",
       "        vertical-align: top;\n",
       "    }\n",
       "\n",
       "    .dataframe thead th {\n",
       "        text-align: right;\n",
       "    }\n",
       "</style>\n",
       "<table border=\"1\" class=\"dataframe\">\n",
       "  <thead>\n",
       "    <tr style=\"text-align: right;\">\n",
       "      <th></th>\n",
       "      <th>geometry</th>\n",
       "    </tr>\n",
       "  </thead>\n",
       "  <tbody>\n",
       "    <tr>\n",
       "      <th>0</th>\n",
       "      <td>None</td>\n",
       "    </tr>\n",
       "    <tr>\n",
       "      <th>1</th>\n",
       "      <td>LINESTRING (1026062.073 5274681.539, 1026060.3...</td>\n",
       "    </tr>\n",
       "    <tr>\n",
       "      <th>2</th>\n",
       "      <td>LINESTRING Z EMPTY</td>\n",
       "    </tr>\n",
       "    <tr>\n",
       "      <th>3</th>\n",
       "      <td>LINESTRING Z EMPTY</td>\n",
       "    </tr>\n",
       "    <tr>\n",
       "      <th>4</th>\n",
       "      <td>LINESTRING Z EMPTY</td>\n",
       "    </tr>\n",
       "    <tr>\n",
       "      <th>...</th>\n",
       "      <td>...</td>\n",
       "    </tr>\n",
       "    <tr>\n",
       "      <th>6856</th>\n",
       "      <td>LINESTRING (1033351.640 5280707.395, 1033317.7...</td>\n",
       "    </tr>\n",
       "    <tr>\n",
       "      <th>6857</th>\n",
       "      <td>LINESTRING (1033072.998 5280826.924, 1033160.6...</td>\n",
       "    </tr>\n",
       "    <tr>\n",
       "      <th>6858</th>\n",
       "      <td>None</td>\n",
       "    </tr>\n",
       "    <tr>\n",
       "      <th>6859</th>\n",
       "      <td>None</td>\n",
       "    </tr>\n",
       "    <tr>\n",
       "      <th>6860</th>\n",
       "      <td>LINESTRING (1032861.240 5281032.346, 1032887.0...</td>\n",
       "    </tr>\n",
       "  </tbody>\n",
       "</table>\n",
       "<p>6861 rows × 1 columns</p>\n",
       "</div>"
      ],
      "text/plain": [
       "                                               geometry\n",
       "0                                                  None\n",
       "1     LINESTRING (1026062.073 5274681.539, 1026060.3...\n",
       "2                                    LINESTRING Z EMPTY\n",
       "3                                    LINESTRING Z EMPTY\n",
       "4                                    LINESTRING Z EMPTY\n",
       "...                                                 ...\n",
       "6856  LINESTRING (1033351.640 5280707.395, 1033317.7...\n",
       "6857  LINESTRING (1033072.998 5280826.924, 1033160.6...\n",
       "6858                                               None\n",
       "6859                                               None\n",
       "6860  LINESTRING (1032861.240 5281032.346, 1032887.0...\n",
       "\n",
       "[6861 rows x 1 columns]"
      ]
     },
     "execution_count": 68,
     "metadata": {},
     "output_type": "execute_result"
    }
   ],
   "source": [
    "graph_filtered = graph[~((graph['geometry'].apply(lambda x: x.is_empty if x else False)) & \n",
    "                         (graph['geometry'].apply(lambda x: x.has_z if x else False)))]\n",
    "\n",
    "\n",
    "graph_filtered[['geometry']]"
   ]
  },
  {
   "cell_type": "code",
   "execution_count": null,
   "metadata": {},
   "outputs": [],
   "source": [
    "# Конвертация str -> geometry\n",
    "graph = graphbuilder_v2.convert_geometry_from_wkt(graph)"
   ]
  },
  {
   "cell_type": "markdown",
   "metadata": {},
   "source": [
    "## Перевод graph -> GeoDataFrame"
   ]
  },
  {
   "cell_type": "code",
   "execution_count": null,
   "metadata": {},
   "outputs": [],
   "source": [
    "# Преобразуем граф в GeoDataFrames\n",
    "nodes, edges = momepy.nx_to_gdf(graph, points=True, lines=True, spatial_weights=False)"
   ]
  },
  {
   "cell_type": "code",
   "execution_count": null,
   "metadata": {},
   "outputs": [],
   "source": [
    "import geopandas as gpd\n",
    "import folium\n",
    "# edges['exit'] = 0\n",
    "\n",
    "# intersections = edges['geometry'].intersection(city.unary_union)\n",
    "# edges['geometry'] = intersections\n",
    "# edges = edges[~edges['geometry'].is_empty]\n",
    "\n",
    "# mask = edges.intersects(city.unary_union.boundary)\n",
    "# edges.loc[mask, 'exit'] = 1\n",
    "# # Предполагаем, что edges и city уже загружены в виде GeoDataFrame\n",
    "edges_filtered = edges[edges['reg'] != 3]\n",
    "\n",
    "# Создаем базовую карту\n",
    "m = folium.Map()\n",
    "edges_layer = edges_filtered.explore(m=m, color='blue', name='Edges')\n",
    "city_layer = city.explore(m=m, color='red', name='Cities')\n",
    "folium.LayerControl().add_to(m)\n",
    "m\n"
   ]
  },
  {
   "cell_type": "markdown",
   "metadata": {},
   "source": [
    "## Вывод на карту определенный тип reg_status дороги"
   ]
  },
  {
   "cell_type": "code",
   "execution_count": null,
   "metadata": {},
   "outputs": [],
   "source": [
    "edges = edges.to_crs(epsg=4326)\n",
    "edges_filtered = edges[edges['reg'].isin([1, 2])]\n",
    "\n",
    "m = folium.Map()\n",
    "\n",
    "# Определение цветов для разных значений reg\n",
    "color_map = {1: 'red', 2: 'blue', 3: 'green'}\n",
    "\n",
    "# Добавление рёбер на карту\n",
    "for _, row in edges_filtered.iterrows():\n",
    "    folium.GeoJson(\n",
    "        row['geometry'],\n",
    "        style_function=lambda feature, color=color_map[row['reg']]: {'color': color},\n",
    "        tooltip=f\"highway: {row['highway']}, ref: {row['ref']}, reg: {row['reg']}\"\n",
    "    ).add_to(m)\n",
    "\n",
    "# Отображение карты\n",
    "m.save('../data/html/roads.html')"
   ]
  },
  {
   "cell_type": "markdown",
   "metadata": {},
   "source": [
    "## Проецирование точек на узлы графа"
   ]
  },
  {
   "cell_type": "code",
   "execution_count": null,
   "metadata": {},
   "outputs": [],
   "source": [
    "lomonosov = ox.geocode_to_gdf('N411691832', by_osmid=True).to_crs(epsg=32636)[['geometry','name']]\n",
    "lomonosov.loc[0, 'name'] = 'Ломоносов'\n",
    "\n",
    "city_points = gpd.read_file('../data/geojsons/СНП ЛО.geojson')\n",
    "\n",
    "cities = [\"приозерск\", \"кировск\", \"кингисепп\", \"луга\", \n",
    "          \"лодейное поле\", \"гатчина\", \"тихвин\", \"тосно\", \n",
    "          \"выборг\", \"бокситогорск\", \"всеволожск\", \"волосово\", \n",
    "          \"волхов\", \"сосновый бор\", \"сланцы\", \"подпорожье\", \"кириши\"]\n",
    "\n",
    "# Выделение административных центров\n",
    "city_points = city_points[\n",
    "    (city_points['name'].str.lower().isin(cities)) &\n",
    "    (city_points['rural settlement'].str.contains('административный центр'))\n",
    "].sort_values('name')\n",
    "\n",
    "city_points = city_points.to_crs(epsg=32636)\n",
    "city_points = pd.concat([city_points, lomonosov]).reset_index(drop=True)\n",
    "\n",
    "nodes_fil = nodes[(nodes['reg_1'] == True) | (nodes['reg_2'] == True)]\n",
    "graph_2 = graphbuilder_v2.assign_city_names_to_nodes(city_points, nodes_fil, graph, name_attr='city_name', node_id_attr='nodeID', name_col='name', max_distance=1200)"
   ]
  }
 ],
 "metadata": {
  "kernelspec": {
   "display_name": "Python 3 (ipykernel)",
   "language": "python",
   "name": "python3"
  },
  "language_info": {
   "codemirror_mode": {
    "name": "ipython",
    "version": 3
   },
   "file_extension": ".py",
   "mimetype": "text/x-python",
   "name": "python",
   "nbconvert_exporter": "python",
   "pygments_lexer": "ipython3",
   "version": "3.11.9"
  }
 },
 "nbformat": 4,
 "nbformat_minor": 4
}
