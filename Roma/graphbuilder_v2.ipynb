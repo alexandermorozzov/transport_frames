{
 "cells": [
  {
   "cell_type": "code",
   "execution_count": 1,
   "metadata": {},
   "outputs": [],
   "source": [
    "import re\n",
    "import momepy\n",
    "import numpy as np\n",
    "import osmnx as ox\n",
    "import pandas as pd\n",
    "import networkx as nx\n",
    "from tqdm import tqdm\n",
    "from shapely.geometry import LineString, Polygon"
   ]
  },
  {
   "cell_type": "code",
   "execution_count": 2,
   "metadata": {},
   "outputs": [],
   "source": [
    "# Функция для определения значения REG\n",
    "def determine_reg(value):\n",
    "    if isinstance(value, list):\n",
    "        for item in value:\n",
    "            if re.match(r'^[МАР]', str(item)):\n",
    "                return 1\n",
    "            elif re.match(r'^\\d.*[A-Za-zА-Яа-я]', str(item)):\n",
    "                return 2\n",
    "        return 3\n",
    "    elif pd.isna(value):\n",
    "        return 3\n",
    "    if re.match(r'^[МАР]', str(value)):\n",
    "        return 1\n",
    "    elif re.match(r'^\\d.*[A-Za-zА-Яа-я]', str(value)):\n",
    "        return 2\n",
    "    else:\n",
    "        return 3"
   ]
  },
  {
   "cell_type": "code",
   "execution_count": 3,
   "metadata": {},
   "outputs": [],
   "source": [
    "def custom_map(highway_types):\n",
    "\n",
    "    maxspeed = {\n",
    "    'motorway':        110 / 3.6, # Автомагистрали \n",
    "    'motorway_link':   110 / 3.6, # Съезды на развязках дорог, на которых действуют те же правила движения, что и на (motorway).\n",
    "    'primary':         80 / 3.6,  # Автомобильные дороги регионального значения\n",
    "    'primary_link':    80 / 3.6,  # Съезды на развязках дорог с той же важностью в дорожной сети, что и primary.\n",
    "    'residential':     60 / 3.6,  # Дороги, которые проходят внутри жилых зон, а также используются для подъезда к ним. \n",
    "    'secondary':       70 / 3.6,  # Автомобильные дороги областного значения\n",
    "    'secondary_link':  70 / 3.6,  # Съезды на развязках дорог с той же важностью в дорожной сети, что и secondary.\n",
    "    'tertiary':        60 / 3.6,  # Более важные автомобильные дороги среди прочих \n",
    "                            # автомобильных дорог местного значения, например\n",
    "                            # соединяющие районные центры с сёлами, а также несколько сёл между собой.\n",
    "    'tertiary_link':   60 / 3.6,  # Съезды на развязках дорог с той же важностью в дорожной сети, что и tertiary.\n",
    "    'trunk':           90 / 3.6,  # Важные дороги, не являющиеся автомагистралями\n",
    "    'trunk_link':      90 / 3.6,  # Съезды на развязках дорог с той же важностью в дорожной сети, что и trunk.\n",
    "    'unclassified':    60 / 3.6,  # Остальные автомобильные дороги местного значения, образующие соединительную сеть дорог.\n",
    "    'living_street':   15 / 3.6   # Дорога с приоритетом у пешеходов\n",
    "    }\n",
    "\n",
    "    # Проверяем, является ли highway_types списком.\n",
    "    if isinstance(highway_types, list):\n",
    "        # Если значение - список, выбираем тип шоссе с наибольшой максимальной скоростью.\n",
    "        max_type = max(highway_types, key=lambda x: maxspeed.get(x, np.nan))\n",
    "        return maxspeed.get(max_type, 40 / 3.6)\n",
    "    else:\n",
    "        # Если значение - не список, возвращаем значение или 40, если тип не найден.\n",
    "        return maxspeed.get(highway_types, 40 / 3.6)"
   ]
  },
  {
   "cell_type": "code",
   "execution_count": 4,
   "metadata": {},
   "outputs": [],
   "source": [
    "def get_graph_polygon(polygon: Polygon, filter:dict=None, crs:int=3857):\n",
    "    if not filter:\n",
    "        filter = \"['highway'~'motorway|trunk|primary|secondary|tertiary|unclassified|residential|motorway_link|trunk_link|primary_link|secondary_link|tertiary_link|living_street']\"\n",
    "    graph = ox.graph_from_polygon(polygon, network_type='drive', custom_filter=filter, truncate_by_edge=True)\n",
    "\n",
    "\n",
    "    nodes, edges = momepy.nx_to_gdf(graph, points=True, lines=True, spatial_weights=False)\n",
    "    edges['reg'] = edges['ref'].apply(determine_reg)\n",
    "    nodes = nodes.to_crs(epsg=crs)\n",
    "    edges = edges.to_crs(epsg=crs)\n",
    "    edges['maxspeed'] = edges['highway'].apply(lambda x: custom_map(x))\n",
    "\n",
    "    nodes_coord = nodes.geometry.apply(\n",
    "        lambda p: {\"x\": p.coords[0][0], \"y\": p.coords[0][1]}\n",
    "    ).to_dict()\n",
    "\n",
    "    graph_type = 'car'\n",
    "    edges = edges[[\"highway\", \"node_start\", \"node_end\", \"geometry\", 'maxspeed', 'reg']]\n",
    "    edges[\"type\"] = graph_type\n",
    "    edges[\"geometry\"] = edges[\"geometry\"].apply(\n",
    "        lambda x: LineString([tuple(round(c, 6) for c in n) for n in x.coords] if x else None)\n",
    "    )\n",
    "\n",
    "    travel_type = \"walk\" if graph_type == \"walk\" else \"car\"\n",
    "\n",
    "    G = nx.MultiDiGraph()\n",
    "    for _, edge in tqdm(edges.iterrows(), total=len(edges), desc=f\"Collecting {graph_type} graph\", leave=False):\n",
    "        p1 = int(edge.node_start)\n",
    "        p2 = int(edge.node_end)\n",
    "        geom = (LineString(([(nodes_coord[p1][\"x\"], nodes_coord[p1][\"y\"]),\n",
    "                            (nodes_coord[p2][\"x\"], nodes_coord[p2][\"y\"]),])) if not edge.geometry else edge.geometry)\n",
    "        length=geom.length\n",
    "        time_sec = length/edge.maxspeed\n",
    "        G.add_edge(\n",
    "            p1,\n",
    "            p2,\n",
    "            length_meter=length,\n",
    "            geometry=str(geom),\n",
    "            type=travel_type,\n",
    "            time_sec= time_sec,\n",
    "            highway=edge.highway,\n",
    "            maxspeed=edge.maxspeed,\n",
    "            reg=edge.reg\n",
    "        )\n",
    "    nx.set_node_attributes(G, nodes_coord)\n",
    "    G.graph[\"crs\"] = \"epsg:\" + str(crs)\n",
    "    G.graph[\"graph_type\"] = travel_type + \" graph\"\n",
    "\n",
    "    return G"
   ]
  },
  {
   "cell_type": "code",
   "execution_count": 5,
   "metadata": {},
   "outputs": [],
   "source": [
    "def get_graph_polygon(polygon: Polygon, filter: dict = None, crs: int = 3857):\n",
    "    if not filter:\n",
    "        filter = \"['highway'~'motorway|trunk|primary|secondary|tertiary|unclassified|residential|motorway_link|trunk_link|primary_link|secondary_link|tertiary_link|living_street']\"\n",
    "    \n",
    "    graph = ox.graph_from_polygon(polygon, network_type='drive', custom_filter=filter, truncate_by_edge=True)\n",
    "    nodes, edges = momepy.nx_to_gdf(graph, points=True, lines=True, spatial_weights=False)\n",
    "    \n",
    "    edges['reg'] = edges['ref'].apply(determine_reg)\n",
    "    nodes = nodes.to_crs(epsg=crs)\n",
    "    edges = edges.to_crs(epsg=crs)\n",
    "    edges['maxspeed'] = edges['highway'].apply(lambda x: custom_map(x))\n",
    "    edges['time_sec'] = edges['length'] / (edges['maxspeed'])\n",
    "    \n",
    "    nodes_coord = nodes.geometry.apply(lambda p: {\"x\": p.coords[0][0], \"y\": p.coords[0][1]}).to_dict()\n",
    "    \n",
    "    graph_type = 'car'\n",
    "    edges = edges[[\"highway\", \"node_start\", \"node_end\", \"geometry\", 'maxspeed', 'time_sec', 'reg']]\n",
    "    edges[\"type\"] = graph_type\n",
    "    edges[\"geometry\"] = edges[\"geometry\"].apply(lambda x: LineString([tuple(round(c, 6) for c in n) for n in x.coords] if x else None))\n",
    "\n",
    "    travel_type = \"walk\" if graph_type == \"walk\" else \"car\"\n",
    "    \n",
    "    G = nx.MultiDiGraph()\n",
    "    \n",
    "    for _, edge in tqdm(edges.iterrows(), total=len(edges), desc=f\"Collecting {graph_type} graph\", leave=False):\n",
    "        p1 = int(edge.node_start)\n",
    "        p2 = int(edge.node_end)\n",
    "        \n",
    "        if pd.isna(edge.geometry):\n",
    "            geom = LineString([(nodes_coord[p1][\"x\"], nodes_coord[p1][\"y\"]),\n",
    "                               (nodes_coord[p2][\"x\"], nodes_coord[p2][\"y\"])])\n",
    "        else:\n",
    "            geom = edge.geometry\n",
    "        \n",
    "        length = geom.length\n",
    "        \n",
    "        G.add_edge(\n",
    "            p1,\n",
    "            p2,\n",
    "            length_meters=length,\n",
    "            geometry=str(geom),\n",
    "            type=travel_type,\n",
    "            time_sec=edge.time_sec,\n",
    "            highway=edge.highway,\n",
    "            maxspeed=edge.maxspeed,\n",
    "            reg=edge.reg\n",
    "        )\n",
    "    \n",
    "    nx.set_node_attributes(G, nodes_coord)\n",
    "    G.graph[\"crs\"] = \"epsg:\" + str(crs)\n",
    "    G.graph[\"graph_type\"] = travel_type + \" graph\"\n",
    "    \n",
    "    return G\n"
   ]
  },
  {
   "cell_type": "code",
   "execution_count": 6,
   "metadata": {},
   "outputs": [
    {
     "name": "stderr",
     "output_type": "stream",
     "text": [
      "C:\\Users\\local\\AppData\\Local\\Temp\\ipykernel_17556\\4105506105.py:6: UserWarning: Approach is not set. Defaulting to 'primal'.\n",
      "  nodes, edges = momepy.nx_to_gdf(graph, points=True, lines=True, spatial_weights=False)\n",
      "                                                                             \r"
     ]
    }
   ],
   "source": [
    "city = ox.geocode_to_gdf('R1549169', by_osmid=True)\n",
    "graph = get_graph_polygon(city.unary_union, crs=32636)"
   ]
  },
  {
   "cell_type": "code",
   "execution_count": 7,
   "metadata": {},
   "outputs": [
    {
     "data": {
      "text/plain": [
       "(0,\n",
       " 6065,\n",
       " {'length_meters': 2044.1436972875738,\n",
       "  'geometry': 'LINESTRING (1978714.074342 6306698.26278, 1978525.446409 6306479.525903, 1978241.347264 6306150.589832, 1978191.500189 6306094.874168, 1978140.605008 6306040.149655, 1978036.051665 6305932.500188, 1977998.896835 6305895.407747, 1977563.548686 6305475.364534, 1977301.089876 6305223.644212)',\n",
       "  'type': 'car',\n",
       "  'time_sec': 79.42488000000002,\n",
       "  'highway': 'trunk',\n",
       "  'maxspeed': 25.0,\n",
       "  'reg': 1})"
      ]
     },
     "execution_count": 7,
     "metadata": {},
     "output_type": "execute_result"
    }
   ],
   "source": [
    "list(graph.nodes(data=True))[0]\n",
    "list(graph.edges(data=True))[0]"
   ]
  }
 ],
 "metadata": {
  "kernelspec": {
   "display_name": ".venv",
   "language": "python",
   "name": "python3"
  },
  "language_info": {
   "codemirror_mode": {
    "name": "ipython",
    "version": 3
   },
   "file_extension": ".py",
   "mimetype": "text/x-python",
   "name": "python",
   "nbconvert_exporter": "python",
   "pygments_lexer": "ipython3",
   "version": "3.10.9"
  }
 },
 "nbformat": 4,
 "nbformat_minor": 2
}
