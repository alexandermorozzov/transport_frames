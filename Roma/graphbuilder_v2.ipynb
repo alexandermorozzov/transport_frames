{
 "cells": [
  {
   "cell_type": "code",
   "execution_count": null,
   "metadata": {},
   "outputs": [],
   "source": [
    "import momepy\n",
    "import folium\n",
    "import osmnx as ox\n",
    "import graphbuilder_v2"
   ]
  },
  {
   "cell_type": "code",
   "execution_count": null,
   "metadata": {},
   "outputs": [],
   "source": [
    "city = ox.geocode_to_gdf('R1281563', by_osmid=True)\n",
    "graph = graphbuilder_v2.get_graph_polygon(city.unary_union, crs=32636)"
   ]
  },
  {
   "cell_type": "code",
   "execution_count": null,
   "metadata": {},
   "outputs": [],
   "source": [
    "graph = graphbuilder_v2.convert_geometry_to_wkt(graph)"
   ]
  },
  {
   "cell_type": "code",
   "execution_count": null,
   "metadata": {},
   "outputs": [],
   "source": [
    "nodes, edges = momepy.nx_to_gdf(graph, points=True, lines=True, spatial_weights=False)"
   ]
  },
  {
   "cell_type": "code",
   "execution_count": null,
   "metadata": {},
   "outputs": [],
   "source": [
    "edges = edges.to_crs(epsg=4326)\n",
    "edges_filtered = edges[edges['reg'].isin([1, 2])]\n",
    "\n",
    "m = folium.Map()\n",
    "\n",
    "# Определение цветов для разных значений reg\n",
    "color_map = {1: 'red', 2: 'blue', 3: 'green'}\n",
    "\n",
    "# Добавление рёбер на карту\n",
    "for _, row in edges_filtered.iterrows():\n",
    "    folium.GeoJson(\n",
    "        row['geometry'],\n",
    "        style_function=lambda feature, color=color_map[row['reg']]: {'color': color},\n",
    "        tooltip=f\"highway: {row['highway']}, ref: {row['ref']}, reg: {row['reg']}\"\n",
    "    ).add_to(m)\n",
    "\n",
    "# Отображение карты\n",
    "m"
   ]
  }
 ],
 "metadata": {
  "kernelspec": {
   "display_name": ".venv",
   "language": "python",
   "name": "python3"
  },
  "language_info": {
   "codemirror_mode": {
    "name": "ipython",
    "version": 3
   },
   "file_extension": ".py",
   "mimetype": "text/x-python",
   "name": "python",
   "nbconvert_exporter": "python",
   "pygments_lexer": "ipython3",
   "version": "3.10.9"
  }
 },
 "nbformat": 4,
 "nbformat_minor": 2
}
