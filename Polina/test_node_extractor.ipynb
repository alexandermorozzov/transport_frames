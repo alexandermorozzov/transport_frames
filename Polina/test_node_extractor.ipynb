{
 "cells": [
  {
   "cell_type": "code",
   "execution_count": 1,
   "metadata": {},
   "outputs": [
    {
     "name": "stderr",
     "output_type": "stream",
     "text": [
      "/Users/polina/Desktop/github/transport_frames/.venv/lib/python3.10/site-packages/tqdm/auto.py:21: TqdmWarning: IProgress not found. Please update jupyter and ipywidgets. See https://ipywidgets.readthedocs.io/en/stable/user_install.html\n",
      "  from .autonotebook import tqdm as notebook_tqdm\n"
     ]
    },
    {
     "data": {
      "text/html": [
       "\n",
       "\t\t\t<script type=\"text/javascript\">\n",
       "\t\t\t<!--\n",
       "\t\t\t\t\n",
       "\t\t\t{\n",
       "\t\t\t\tvar element = document.getElementById('NetworKit_script');\n",
       "\t\t\t\tif (element) {\n",
       "\t\t\t\t\telement.parentNode.removeChild(element);\n",
       "\t\t\t\t}\n",
       "\t\t\t\telement = document.createElement('script');\n",
       "\t\t\t\telement.type = 'text/javascript';\n",
       "\t\t\t\telement.innerHTML = 'function NetworKit_pageEmbed(id) { var i, j; var elements; elements = document.getElementById(id).getElementsByClassName(\"Plot\"); for (i=0; i<elements.length; i++) { elements[i].id = id + \"_Plot_\" + i; var data = elements[i].getAttribute(\"data-image\").split(\"|\"); elements[i].removeAttribute(\"data-image\"); var content = \"<div class=\\\\\"Image\\\\\" id=\\\\\"\" + elements[i].id + \"_Image\\\\\" />\"; elements[i].innerHTML = content; elements[i].setAttribute(\"data-image-index\", 0); elements[i].setAttribute(\"data-image-length\", data.length); for (j=0; j<data.length; j++) { elements[i].setAttribute(\"data-image-\" + j, data[j]); } NetworKit_plotUpdate(elements[i]); elements[i].onclick = function (e) { NetworKit_overlayShow((e.target) ? e.target : e.srcElement); } } elements = document.getElementById(id).getElementsByClassName(\"HeatCell\"); for (i=0; i<elements.length; i++) { var data = parseFloat(elements[i].getAttribute(\"data-heat\")); var color = \"#00FF00\"; if (data <= 1 && data > 0) { color = \"hsla(0, 100%, 75%, \" + (data) + \")\"; } else if (data <= 0 && data >= -1) { color = \"hsla(240, 100%, 75%, \" + (-data) + \")\"; } elements[i].style.backgroundColor = color; } elements = document.getElementById(id).getElementsByClassName(\"Details\"); for (i=0; i<elements.length; i++) { elements[i].setAttribute(\"data-title\", \"-\"); NetworKit_toggleDetails(elements[i]); elements[i].onclick = function (e) { NetworKit_toggleDetails((e.target) ? e.target : e.srcElement); } } elements = document.getElementById(id).getElementsByClassName(\"MathValue\"); for (i=elements.length-1; i>=0; i--) { value = elements[i].innerHTML.trim(); if (value === \"nan\") { elements[i].parentNode.innerHTML = \"\" } } elements = document.getElementById(id).getElementsByClassName(\"SubCategory\"); for (i=elements.length-1; i>=0; i--) { value = elements[i].innerHTML.trim(); if (value === \"\") { elements[i].parentNode.removeChild(elements[i]) } } elements = document.getElementById(id).getElementsByClassName(\"Category\"); for (i=elements.length-1; i>=0; i--) { value = elements[i].innerHTML.trim(); if (value === \"\") { elements[i].parentNode.removeChild(elements[i]) } } var isFirefox = false; try { isFirefox = typeof InstallTrigger !== \"undefined\"; } catch (e) {} if (!isFirefox) { alert(\"Currently the function\\'s output is only fully supported by Firefox.\"); } } function NetworKit_plotUpdate(source) { var index = source.getAttribute(\"data-image-index\"); var data = source.getAttribute(\"data-image-\" + index); var image = document.getElementById(source.id + \"_Image\"); image.style.backgroundImage = \"url(\" + data + \")\"; } function NetworKit_showElement(id, show) { var element = document.getElementById(id); element.style.display = (show) ? \"block\" : \"none\"; } function NetworKit_overlayShow(source) { NetworKit_overlayUpdate(source); NetworKit_showElement(\"NetworKit_Overlay\", true); } function NetworKit_overlayUpdate(source) { document.getElementById(\"NetworKit_Overlay_Title\").innerHTML = source.title; var index = source.getAttribute(\"data-image-index\"); var data = source.getAttribute(\"data-image-\" + index); var image = document.getElementById(\"NetworKit_Overlay_Image\"); image.setAttribute(\"data-id\", source.id); image.style.backgroundImage = \"url(\" + data + \")\"; var link = document.getElementById(\"NetworKit_Overlay_Toolbar_Bottom_Save\"); link.href = data; link.download = source.title + \".svg\"; } function NetworKit_overlayImageShift(delta) { var image = document.getElementById(\"NetworKit_Overlay_Image\"); var source = document.getElementById(image.getAttribute(\"data-id\")); var index = parseInt(source.getAttribute(\"data-image-index\")); var length = parseInt(source.getAttribute(\"data-image-length\")); var index = (index+delta) % length; if (index < 0) { index = length + index; } source.setAttribute(\"data-image-index\", index); NetworKit_overlayUpdate(source); } function NetworKit_toggleDetails(source) { var childs = source.children; var show = false; if (source.getAttribute(\"data-title\") == \"-\") { source.setAttribute(\"data-title\", \"+\"); show = false; } else { source.setAttribute(\"data-title\", \"-\"); show = true; } for (i=0; i<childs.length; i++) { if (show) { childs[i].style.display = \"block\"; } else { childs[i].style.display = \"none\"; } } }';\n",
       "\t\t\t\telement.setAttribute('id', 'NetworKit_script');\n",
       "\t\t\t\tdocument.head.appendChild(element);\n",
       "\t\t\t}\n",
       "\t\t\n",
       "\t\t\t\t\n",
       "\t\t\t{\n",
       "\t\t\t\tvar element = document.getElementById('NetworKit_style');\n",
       "\t\t\t\tif (element) {\n",
       "\t\t\t\t\telement.parentNode.removeChild(element);\n",
       "\t\t\t\t}\n",
       "\t\t\t\telement = document.createElement('style');\n",
       "\t\t\t\telement.type = 'text/css';\n",
       "\t\t\t\telement.innerHTML = '.NetworKit_Page { font-family: Arial, Helvetica, sans-serif; font-size: 14px; } .NetworKit_Page .Value:before { font-family: Arial, Helvetica, sans-serif; font-size: 1.05em; content: attr(data-title) \":\"; margin-left: -2.5em; padding-right: 0.5em; } .NetworKit_Page .Details .Value:before { display: block; } .NetworKit_Page .Value { font-family: monospace; white-space: pre; padding-left: 2.5em; white-space: -moz-pre-wrap !important; white-space: -pre-wrap; white-space: -o-pre-wrap; white-space: pre-wrap; word-wrap: break-word; tab-size: 4; -moz-tab-size: 4; } .NetworKit_Page .Category { clear: both; padding-left: 1em; margin-bottom: 1.5em; } .NetworKit_Page .Category:before { content: attr(data-title); font-size: 1.75em; display: block; margin-left: -0.8em; margin-bottom: 0.5em; } .NetworKit_Page .SubCategory { margin-bottom: 1.5em; padding-left: 1em; } .NetworKit_Page .SubCategory:before { font-size: 1.6em; display: block; margin-left: -0.8em; margin-bottom: 0.5em; } .NetworKit_Page .SubCategory[data-title]:before { content: attr(data-title); } .NetworKit_Page .Block { display: block; } .NetworKit_Page .Block:after { content: \".\"; visibility: hidden; display: block; height: 0; clear: both; } .NetworKit_Page .Block .Thumbnail_Overview, .NetworKit_Page .Block .Thumbnail_ScatterPlot { width: 260px; float: left; } .NetworKit_Page .Block .Thumbnail_Overview img, .NetworKit_Page .Block .Thumbnail_ScatterPlot img { width: 260px; } .NetworKit_Page .Block .Thumbnail_Overview:before, .NetworKit_Page .Block .Thumbnail_ScatterPlot:before { display: block; text-align: center; font-weight: bold; } .NetworKit_Page .Block .Thumbnail_Overview:before { content: attr(data-title); } .NetworKit_Page .HeatCell { font-family: \"Courier New\", Courier, monospace; cursor: pointer; } .NetworKit_Page .HeatCell, .NetworKit_Page .HeatCellName { display: inline; padding: 0.1em; margin-right: 2px; background-color: #FFFFFF } .NetworKit_Page .HeatCellName { margin-left: 0.25em; } .NetworKit_Page .HeatCell:before { content: attr(data-heat); display: inline-block; color: #000000; width: 4em; text-align: center; } .NetworKit_Page .Measure { clear: both; } .NetworKit_Page .Measure .Details { cursor: pointer; } .NetworKit_Page .Measure .Details:before { content: \"[\" attr(data-title) \"]\"; display: block; } .NetworKit_Page .Measure .Details .Value { border-left: 1px dotted black; margin-left: 0.4em; padding-left: 3.5em; pointer-events: none; } .NetworKit_Page .Measure .Details .Spacer:before { content: \".\"; opacity: 0.0; pointer-events: none; } .NetworKit_Page .Measure .Plot { width: 440px; height: 440px; cursor: pointer; float: left; margin-left: -0.9em; margin-right: 20px; } .NetworKit_Page .Measure .Plot .Image { background-repeat: no-repeat; background-position: center center; background-size: contain; height: 100%; pointer-events: none; } .NetworKit_Page .Measure .Stat { width: 500px; float: left; } .NetworKit_Page .Measure .Stat .Group { padding-left: 1.25em; margin-bottom: 0.75em; } .NetworKit_Page .Measure .Stat .Group .Title { font-size: 1.1em; display: block; margin-bottom: 0.3em; margin-left: -0.75em; border-right-style: dotted; border-right-width: 1px; border-bottom-style: dotted; border-bottom-width: 1px; background-color: #D0D0D0; padding-left: 0.2em; } .NetworKit_Page .Measure .Stat .Group .List { -webkit-column-count: 3; -moz-column-count: 3; column-count: 3; } .NetworKit_Page .Measure .Stat .Group .List .Entry { position: relative; line-height: 1.75em; } .NetworKit_Page .Measure .Stat .Group .List .Entry[data-tooltip]:before { position: absolute; left: 0; top: -40px; background-color: #808080; color: #ffffff; height: 30px; line-height: 30px; border-radius: 5px; padding: 0 15px; content: attr(data-tooltip); white-space: nowrap; display: none; } .NetworKit_Page .Measure .Stat .Group .List .Entry[data-tooltip]:after { position: absolute; left: 15px; top: -10px; border-top: 7px solid #808080; border-left: 7px solid transparent; border-right: 7px solid transparent; content: \"\"; display: none; } .NetworKit_Page .Measure .Stat .Group .List .Entry[data-tooltip]:hover:after, .NetworKit_Page .Measure .Stat .Group .List .Entry[data-tooltip]:hover:before { display: block; } .NetworKit_Page .Measure .Stat .Group .List .Entry .MathValue { font-family: \"Courier New\", Courier, monospace; } .NetworKit_Page .Measure:after { content: \".\"; visibility: hidden; display: block; height: 0; clear: both; } .NetworKit_Page .PartitionPie { clear: both; } .NetworKit_Page .PartitionPie img { width: 600px; } #NetworKit_Overlay { left: 0px; top: 0px; display: none; position: absolute; width: 100%; height: 100%; background-color: rgba(0,0,0,0.6); z-index: 1000; } #NetworKit_Overlay_Title { position: absolute; color: white; transform: rotate(-90deg); width: 32em; height: 32em; padding-right: 0.5em; padding-top: 0.5em; text-align: right; font-size: 40px; } #NetworKit_Overlay .button { background: white; cursor: pointer; } #NetworKit_Overlay .button:before { size: 13px; display: inline-block; text-align: center; margin-top: 0.5em; margin-bottom: 0.5em; width: 1.5em; height: 1.5em; } #NetworKit_Overlay .icon-close:before { content: \"X\"; } #NetworKit_Overlay .icon-previous:before { content: \"P\"; } #NetworKit_Overlay .icon-next:before { content: \"N\"; } #NetworKit_Overlay .icon-save:before { content: \"S\"; } #NetworKit_Overlay_Toolbar_Top, #NetworKit_Overlay_Toolbar_Bottom { position: absolute; width: 40px; right: 13px; text-align: right; z-index: 1100; } #NetworKit_Overlay_Toolbar_Top { top: 0.5em; } #NetworKit_Overlay_Toolbar_Bottom { Bottom: 0.5em; } #NetworKit_Overlay_ImageContainer { position: absolute; top: 5%; left: 5%; height: 90%; width: 90%; background-repeat: no-repeat; background-position: center center; background-size: contain; } #NetworKit_Overlay_Image { height: 100%; width: 100%; background-repeat: no-repeat; background-position: center center; background-size: contain; }';\n",
       "\t\t\t\telement.setAttribute('id', 'NetworKit_style');\n",
       "\t\t\t\tdocument.head.appendChild(element);\n",
       "\t\t\t}\n",
       "\t\t\n",
       "\t\t\t\t\n",
       "\t\t\t{\n",
       "\t\t\t\tvar element = document.getElementById('NetworKit_Overlay');\n",
       "\t\t\t\tif (element) {\n",
       "\t\t\t\t\telement.parentNode.removeChild(element);\n",
       "\t\t\t\t}\n",
       "\t\t\t\telement = document.createElement('div');\n",
       "\t\t\t\telement.innerHTML = '<div id=\"NetworKit_Overlay_Toolbar_Top\"><div class=\"button icon-close\" id=\"NetworKit_Overlay_Close\" /></div><div id=\"NetworKit_Overlay_Title\" /> <div id=\"NetworKit_Overlay_ImageContainer\"> <div id=\"NetworKit_Overlay_Image\" /> </div> <div id=\"NetworKit_Overlay_Toolbar_Bottom\"> <div class=\"button icon-previous\" onclick=\"NetworKit_overlayImageShift(-1)\" /> <div class=\"button icon-next\" onclick=\"NetworKit_overlayImageShift(1)\" /> <a id=\"NetworKit_Overlay_Toolbar_Bottom_Save\"><div class=\"button icon-save\" /></a> </div>';\n",
       "\t\t\t\telement.setAttribute('id', 'NetworKit_Overlay');\n",
       "\t\t\t\tdocument.body.appendChild(element);\n",
       "\t\t\t\tdocument.getElementById('NetworKit_Overlay_Close').onclick = function (e) {\n",
       "\t\t\t\t\tdocument.getElementById('NetworKit_Overlay').style.display = 'none';\n",
       "\t\t\t\t}\n",
       "\t\t\t}\n",
       "\t\t\n",
       "\t\t\t-->\n",
       "\t\t\t</script>\n",
       "\t\t"
      ]
     },
     "metadata": {},
     "output_type": "display_data"
    }
   ],
   "source": [
    "import sys\n",
    "sys.path.append('../')\n",
    "from Roma import graphbuilder_v2\n",
    "from availability_estimation import *\n"
   ]
  },
  {
   "cell_type": "markdown",
   "metadata": {},
   "source": [
    "# LO"
   ]
  },
  {
   "cell_type": "code",
   "execution_count": 2,
   "metadata": {},
   "outputs": [],
   "source": [
    "lo_polygon = ox.geocode_to_gdf('R176095', by_osmid=True).to_crs(epsg=32636)\n",
    "spb_polygon = ox.geocode_to_gdf('R337422', by_osmid=True).to_crs(epsg=32636).buffer(3000)\n",
    "city = lo_polygon.union(spb_polygon).to_crs(epsg=4326)\n",
    "\n",
    "russia = ox.geocode_to_gdf(\"Russia\")"
   ]
  },
  {
   "cell_type": "code",
   "execution_count": 3,
   "metadata": {},
   "outputs": [
    {
     "name": "stderr",
     "output_type": "stream",
     "text": [
      "/Users/polina/Desktop/github/transport_frames/.venv/lib/python3.10/site-packages/osmnx/_overpass.py:254: UserWarning: This area is 52 times your configured Overpass max query area size. It will automatically be divided up into multiple sub-queries accordingly. This may take a long time.\n",
      "  multi_poly_proj = utils_geo._consolidate_subdivide_geometry(poly_proj)\n",
      "/Users/polina/Desktop/github/transport_frames/Polina/../Roma/graphbuilder_v2.py:185: FutureWarning: Currently, index_parts defaults to True, but in the future, it will default to False to be consistent with Pandas. Use `index_parts=True` to keep the current behavior and True/False to silence the warning.\n",
      "  edges = edges.explode()\n"
     ]
    }
   ],
   "source": [
    "\n",
    "citygraph = graphbuilder_v2.get_graph_from_polygon(city, crs=32636,country_polygon=russia)\n"
   ]
  },
  {
   "cell_type": "code",
   "execution_count": 4,
   "metadata": {},
   "outputs": [],
   "source": [
    "import geopandas as gpd\n",
    "\n",
    "regions = gpd.read_file('russia.geojson')\n",
    "regions = regions[regions['ISO3166-2']!='RU-CHU']\n",
    "regions = regions.to_crs(city.crs)"
   ]
  },
  {
   "cell_type": "code",
   "execution_count": 5,
   "metadata": {},
   "outputs": [
    {
     "name": "stderr",
     "output_type": "stream",
     "text": [
      "/var/folders/ch/1hzm9xv12jg458kt9c3nl6_h0000gn/T/ipykernel_48787/3858161607.py:1: FutureWarning: The `op` parameter is deprecated and will be removed in a future release. Please use the `predicate` parameter instead.\n",
      "  carcas = graphbuilder_v2.get_carcas(citygraph,regions,city)\n"
     ]
    }
   ],
   "source": [
    "carcas = graphbuilder_v2.get_carcas(citygraph,regions,city)\n",
    "n,e = momepy.nx_to_gdf(carcas)\n",
    "exits = n[n['exit']==1]"
   ]
  },
  {
   "cell_type": "code",
   "execution_count": 6,
   "metadata": {},
   "outputs": [],
   "source": [
    "mapping = {node : data['nodeID'] for node,data in carcas.nodes(data=True)} # inside get_carcas\n",
    "carcas = nx.relabel_nodes(carcas, mapping)"
   ]
  },
  {
   "cell_type": "code",
   "execution_count": null,
   "metadata": {},
   "outputs": [],
   "source": [
    "exits['buf'] = exits.geometry.buffer(15000)\n",
    "exits.set_geometry('buf').explore()"
   ]
  },
  {
   "cell_type": "code",
   "execution_count": 74,
   "metadata": {},
   "outputs": [],
   "source": [
    "external_node_matrix = [\n",
    "    [0.12, 0.12, 0.12, 0.12, 0.12, 0.12],  # 2.1.1\n",
    "    [0.10, 0.10, 0.10, 0.10, 0.10, 0.10],  # 2.1.2\n",
    "    [0.08, 0.08, 0.08, 0.08, 0.08, 0.08],  # 2.1.3\n",
    "    [0.07, 0.07, 0.07, 0.07, 0.07, 0.07],  # 2.2.1\n",
    "    [0.06, 0.06, 0.06, 0.06, 0.06, 0.06],  # 2.2.2\n",
    "    [0.05, 0.05, 0.05, 0.05, 0.05, 0.05]   # 2.2.3\n",
    "]"
   ]
  },
  {
   "cell_type": "code",
   "execution_count": 112,
   "metadata": {},
   "outputs": [],
   "source": [
    "def get_weight(start,end,exit):\n",
    "    dict = {1.1: 0, 1.2: 1, 1.3: 2, 2.1: 3, 2.2: 4, 2.3: 5}\n",
    "    if exit == 1:\n",
    "        matrix = [\n",
    "                [0.12, 0.12, 0.12, 0.12, 0.12, 0.12],  # 2.1.1\n",
    "                [0.10, 0.10, 0.10, 0.10, 0.10, 0.10],  # 2.1.2\n",
    "                [0.08, 0.08, 0.08, 0.08, 0.08, 0.08],  # 2.1.3\n",
    "                [0.07, 0.07, 0.07, 0.07, 0.07, 0.07],  # 2.2.1\n",
    "                [0.06, 0.06, 0.06, 0.06, 0.06, 0.06],  # 2.2.2\n",
    "                [0.05, 0.05, 0.05, 0.05, 0.05, 0.05]   # 2.2.3\n",
    "            ]\n",
    "    else:\n",
    "        \n",
    "        matrix = [\n",
    "                [0.08, 0.08, 0.08, 0.08, 0.08, 0.08],  # 2.1.1\n",
    "                [0.07, 0.07, 0.07, 0.07, 0.07, 0.07],  # 2.1.2\n",
    "                [0.06, 0.06, 0.06, 0.06, 0.06, 0.06],  # 2.1.3\n",
    "                [0.05, 0.05, 0.05, 0.05, 0.05, 0.05],  # 2.2.1\n",
    "                [0.04, 0.04, 0.04, 0.04, 0.04, 0.04],  # 2.2.2\n",
    "                [0.02, 0.02, 0.02, 0.02, 0.02, 0.02]   # 2.2.3\n",
    "            ]\n",
    "    return matrix[dict[end]][dict[start]]"
   ]
  },
  {
   "cell_type": "code",
   "execution_count": 121,
   "metadata": {},
   "outputs": [
    {
     "name": "stdout",
     "output_type": "stream",
     "text": [
      "LINESTRING (306612.378989 6490384.596683, 306669.983529 6490417.180428, 306963.931125 6490587.647634, 307168.643524 6490777.53682, 307730.582516 6491509.703186, 307834.177345 6491636.990535)\n"
     ]
    }
   ],
   "source": [
    "print(e.iloc[391]['geometry'])"
   ]
  },
  {
   "cell_type": "code",
   "execution_count": 114,
   "metadata": {},
   "outputs": [
    {
     "data": {
      "text/html": [
       "<div>\n",
       "<style scoped>\n",
       "    .dataframe tbody tr th:only-of-type {\n",
       "        vertical-align: middle;\n",
       "    }\n",
       "\n",
       "    .dataframe tbody tr th {\n",
       "        vertical-align: top;\n",
       "    }\n",
       "\n",
       "    .dataframe thead th {\n",
       "        text-align: right;\n",
       "    }\n",
       "</style>\n",
       "<table border=\"1\" class=\"dataframe\">\n",
       "  <thead>\n",
       "    <tr style=\"text-align: right;\">\n",
       "      <th></th>\n",
       "      <th>start_node</th>\n",
       "      <th>end_node</th>\n",
       "      <th>start_ref</th>\n",
       "      <th>end_ref</th>\n",
       "      <th>geometry</th>\n",
       "      <th>start_region</th>\n",
       "      <th>end_region</th>\n",
       "      <th>end_exit</th>\n",
       "      <th>weight</th>\n",
       "    </tr>\n",
       "  </thead>\n",
       "  <tbody>\n",
       "    <tr>\n",
       "      <th>0</th>\n",
       "      <td>77</td>\n",
       "      <td>4725</td>\n",
       "      <td>2.3</td>\n",
       "      <td>2.2</td>\n",
       "      <td>LINESTRING (288110.106 6502090.938, 288138.916...</td>\n",
       "      <td>relation/155262</td>\n",
       "      <td>relation/89331</td>\n",
       "      <td>NaN</td>\n",
       "      <td>0.04</td>\n",
       "    </tr>\n",
       "    <tr>\n",
       "      <th>1</th>\n",
       "      <td>77</td>\n",
       "      <td>4725</td>\n",
       "      <td>2.3</td>\n",
       "      <td>2.2</td>\n",
       "      <td>LINESTRING (288901.037 6501625.268, 289010.782...</td>\n",
       "      <td>relation/155262</td>\n",
       "      <td>relation/89331</td>\n",
       "      <td>NaN</td>\n",
       "      <td>0.04</td>\n",
       "    </tr>\n",
       "    <tr>\n",
       "      <th>2</th>\n",
       "      <td>77</td>\n",
       "      <td>4725</td>\n",
       "      <td>2.3</td>\n",
       "      <td>2.2</td>\n",
       "      <td>LINESTRING (298655.383 6501306.953, 298700.106...</td>\n",
       "      <td>relation/155262</td>\n",
       "      <td>relation/89331</td>\n",
       "      <td>NaN</td>\n",
       "      <td>0.04</td>\n",
       "    </tr>\n",
       "    <tr>\n",
       "      <th>3</th>\n",
       "      <td>77</td>\n",
       "      <td>4725</td>\n",
       "      <td>2.3</td>\n",
       "      <td>2.2</td>\n",
       "      <td>LINESTRING (298922.635 6501143.449, 298935.416...</td>\n",
       "      <td>relation/155262</td>\n",
       "      <td>relation/89331</td>\n",
       "      <td>NaN</td>\n",
       "      <td>0.04</td>\n",
       "    </tr>\n",
       "    <tr>\n",
       "      <th>4</th>\n",
       "      <td>77</td>\n",
       "      <td>4725</td>\n",
       "      <td>2.3</td>\n",
       "      <td>2.2</td>\n",
       "      <td>LINESTRING (301988.839 6498389.991, 301994.541...</td>\n",
       "      <td>relation/155262</td>\n",
       "      <td>relation/89331</td>\n",
       "      <td>NaN</td>\n",
       "      <td>0.04</td>\n",
       "    </tr>\n",
       "    <tr>\n",
       "      <th>...</th>\n",
       "      <td>...</td>\n",
       "      <td>...</td>\n",
       "      <td>...</td>\n",
       "      <td>...</td>\n",
       "      <td>...</td>\n",
       "      <td>...</td>\n",
       "      <td>...</td>\n",
       "      <td>...</td>\n",
       "      <td>...</td>\n",
       "    </tr>\n",
       "    <tr>\n",
       "      <th>239664</th>\n",
       "      <td>21825</td>\n",
       "      <td>21721</td>\n",
       "      <td>1.3</td>\n",
       "      <td>2.3</td>\n",
       "      <td>LINESTRING (217244.917 6554876.873, 217134.142...</td>\n",
       "      <td>NaN</td>\n",
       "      <td>relation/155262</td>\n",
       "      <td>NaN</td>\n",
       "      <td>0.02</td>\n",
       "    </tr>\n",
       "    <tr>\n",
       "      <th>239665</th>\n",
       "      <td>21825</td>\n",
       "      <td>21721</td>\n",
       "      <td>1.3</td>\n",
       "      <td>2.3</td>\n",
       "      <td>LINESTRING (216158.873 6555158.544, 216085.012...</td>\n",
       "      <td>NaN</td>\n",
       "      <td>relation/155262</td>\n",
       "      <td>NaN</td>\n",
       "      <td>0.02</td>\n",
       "    </tr>\n",
       "    <tr>\n",
       "      <th>239666</th>\n",
       "      <td>21825</td>\n",
       "      <td>21721</td>\n",
       "      <td>1.3</td>\n",
       "      <td>2.3</td>\n",
       "      <td>LINESTRING (215605.788 6555503.324, 215578.839...</td>\n",
       "      <td>NaN</td>\n",
       "      <td>relation/155262</td>\n",
       "      <td>NaN</td>\n",
       "      <td>0.02</td>\n",
       "    </tr>\n",
       "    <tr>\n",
       "      <th>239667</th>\n",
       "      <td>21825</td>\n",
       "      <td>21721</td>\n",
       "      <td>1.3</td>\n",
       "      <td>2.3</td>\n",
       "      <td>LINESTRING (215386.082 6555389.423, 215237.345...</td>\n",
       "      <td>NaN</td>\n",
       "      <td>relation/155262</td>\n",
       "      <td>NaN</td>\n",
       "      <td>0.02</td>\n",
       "    </tr>\n",
       "    <tr>\n",
       "      <th>239668</th>\n",
       "      <td>21825</td>\n",
       "      <td>21721</td>\n",
       "      <td>1.3</td>\n",
       "      <td>2.3</td>\n",
       "      <td>LINESTRING (214281.483 6551370.619, 214247.551...</td>\n",
       "      <td>NaN</td>\n",
       "      <td>relation/155262</td>\n",
       "      <td>NaN</td>\n",
       "      <td>0.02</td>\n",
       "    </tr>\n",
       "  </tbody>\n",
       "</table>\n",
       "<p>239669 rows × 9 columns</p>\n",
       "</div>"
      ],
      "text/plain": [
       "        start_node  end_node  start_ref  end_ref  \\\n",
       "0               77      4725        2.3      2.2   \n",
       "1               77      4725        2.3      2.2   \n",
       "2               77      4725        2.3      2.2   \n",
       "3               77      4725        2.3      2.2   \n",
       "4               77      4725        2.3      2.2   \n",
       "...            ...       ...        ...      ...   \n",
       "239664       21825     21721        1.3      2.3   \n",
       "239665       21825     21721        1.3      2.3   \n",
       "239666       21825     21721        1.3      2.3   \n",
       "239667       21825     21721        1.3      2.3   \n",
       "239668       21825     21721        1.3      2.3   \n",
       "\n",
       "                                                 geometry     start_region  \\\n",
       "0       LINESTRING (288110.106 6502090.938, 288138.916...  relation/155262   \n",
       "1       LINESTRING (288901.037 6501625.268, 289010.782...  relation/155262   \n",
       "2       LINESTRING (298655.383 6501306.953, 298700.106...  relation/155262   \n",
       "3       LINESTRING (298922.635 6501143.449, 298935.416...  relation/155262   \n",
       "4       LINESTRING (301988.839 6498389.991, 301994.541...  relation/155262   \n",
       "...                                                   ...              ...   \n",
       "239664  LINESTRING (217244.917 6554876.873, 217134.142...              NaN   \n",
       "239665  LINESTRING (216158.873 6555158.544, 216085.012...              NaN   \n",
       "239666  LINESTRING (215605.788 6555503.324, 215578.839...              NaN   \n",
       "239667  LINESTRING (215386.082 6555389.423, 215237.345...              NaN   \n",
       "239668  LINESTRING (214281.483 6551370.619, 214247.551...              NaN   \n",
       "\n",
       "             end_region  end_exit  weight  \n",
       "0        relation/89331       NaN    0.04  \n",
       "1        relation/89331       NaN    0.04  \n",
       "2        relation/89331       NaN    0.04  \n",
       "3        relation/89331       NaN    0.04  \n",
       "4        relation/89331       NaN    0.04  \n",
       "...                 ...       ...     ...  \n",
       "239664  relation/155262       NaN    0.02  \n",
       "239665  relation/155262       NaN    0.02  \n",
       "239666  relation/155262       NaN    0.02  \n",
       "239667  relation/155262       NaN    0.02  \n",
       "239668  relation/155262       NaN    0.02  \n",
       "\n",
       "[239669 rows x 9 columns]"
      ]
     },
     "execution_count": 114,
     "metadata": {},
     "output_type": "execute_result"
    }
   ],
   "source": [
    "import pandas as pd\n",
    "import geopandas as gpd\n",
    "import shapely.geometry\n",
    "import networkx as nx\n",
    "import matplotlib.pyplot as plt\n",
    "import contextily as ctx\n",
    "\n",
    "data = []\n",
    "flag=1\n",
    "for i1, start_node in exits.iterrows():\n",
    "    if flag != 0:\n",
    "        for i2, end_node in exits.iterrows():\n",
    "\n",
    "            if i1 == i2:\n",
    "                continue\n",
    "            if pd.notna(start_node['border_region']) and start_node['border_region'] == end_node['border_region']:\n",
    "                continue\n",
    "            if start_node.geometry.buffer(15000).intersects(end_node.geometry.buffer(15000)) and (pd.isna(start_node['exit_country']) == pd.isna(end_node['exit_country'])):\n",
    "                continue\n",
    "            if start_node['exit_country'] == 1 and end_node['exit_country'] == 1:\n",
    "                continue\n",
    "\n",
    "            weight = get_weight(start_node['ref_type'],end_node['ref_type'],end_node['exit_country'])\n",
    "\n",
    "            try:\n",
    "                # Find the shortest path using Dijkstra's algorithm\n",
    "                path = nx.dijkstra_path(carcas, i1, i2, weight='time_min')\n",
    "            except nx.NetworkXNoPath:\n",
    "                continue\n",
    "\n",
    "            # Extract the path coordinates and concatenate geometries\n",
    "            for j in range(len(path) - 1):\n",
    "                edge_data = carcas.get_edge_data(path[j], path[j + 1])\n",
    "                \n",
    "                for key,value in edge_data.items():\n",
    "                    \n",
    "                    g = value['geometry']\n",
    "                    data.append({\n",
    "                    'start_node': i1,\n",
    "                    'end_node': i2,\n",
    "                    'start_ref': start_node['ref_type'],\n",
    "                    'end_ref': end_node['ref_type'],\n",
    "                    'geometry': g,\n",
    "                    'start_region': start_node['border_region'],\n",
    "                    'end_region': end_node['border_region'],\n",
    "                    'end_exit': end_node['exit_country'],\n",
    "                    'weight':weight\n",
    "                })\n",
    "\n",
    "            \n",
    "            # merged_linestring = shapely.LineString([point for linestring in path_coords for point in linestring.coords])\n",
    "            # line = shapely.geometry.LineString(merged_linestring)\n",
    "            \n",
    "\n",
    "            \n",
    "# Create the GeoDataFrame with the collected data\n",
    "roads_gdf = gpd.GeoDataFrame(data, crs=exits.crs)\n",
    "roads_gdf\n"
   ]
  },
  {
   "cell_type": "code",
   "execution_count": 145,
   "metadata": {},
   "outputs": [
    {
     "name": "stdout",
     "output_type": "stream",
     "text": [
      "LINESTRING (298655.383046 6501306.95326, 298700.105565 6501301.808081, 298734.730276 6501295.132775, 298779.417535 6501283.330951, 298790.043301 6501279.078585, 298799.468862 6501274.018183, 298811.62661 6501264.711714, 298822.293075 6501255.047286, 298843.99856 6501233.12254, 298864.380682 6501210.931634, 298917.745729 6501149.111735, 298922.634683 6501143.449284)\n"
     ]
    }
   ],
   "source": [
    "print(roads_gdf.iloc[2]['geometry'])"
   ]
  },
  {
   "cell_type": "code",
   "execution_count": 130,
   "metadata": {},
   "outputs": [],
   "source": [
    "a = roads_gdf.groupby('geometry').agg({'weight': 'sum'}).reset_index().set_geometry('geometry').to_crs(4326)"
   ]
  },
  {
   "cell_type": "code",
   "execution_count": 168,
   "metadata": {},
   "outputs": [],
   "source": [
    "import folium\n",
    "m = folium.Map(zoom_start=10)\n",
    "\n",
    "ma =  a['weight'].max()\n",
    "def style_function(feature):\n",
    "    weight = feature['properties']['weight']/ma\n",
    "    return {\n",
    "        'color': 'green',  # You can set any color you want\n",
    "        'weight': weight * 20 # Adjust the multiplier as needed\n",
    "    }\n",
    "\n",
    "# Add the GeoDataFrame to the map, customizing the style\n",
    "folium.GeoJson(a, style_function=style_function).add_to(m)\n",
    "\n",
    "\n",
    "# Add the GeoDataFrame to the map\n",
    "# folium.GeoJson(a).add_to(m)\n",
    "\n",
    "folium.GeoJson(e[e['reg']==1],style_function=lambda feature:{'color':'red'}).add_to(m)\n",
    "folium.GeoJson(e[e['reg']==2],style_function=lambda feature:{'color':'blue','weight':1}).add_to(m)\n",
    "for _, row in n[n['exit'] == 1].to_crs(4236).iterrows():\n",
    "    folium.CircleMarker(location=[row.geometry.y, row.geometry.x], radius=5, color='blue', fill=True, fill_color='blue').add_to(m)\n",
    "m"
   ]
  },
  {
   "cell_type": "code",
   "execution_count": 108,
   "metadata": {},
   "outputs": [],
   "source": [
    "from tqdm import tqdm"
   ]
  },
  {
   "cell_type": "code",
   "execution_count": null,
   "metadata": {},
   "outputs": [],
   "source": [
    "\n",
    "# Visualization with Matplotlib and Contextily\n",
    "fig, ax = plt.subplots(figsize=(10, 10))\n",
    "\n",
    "# Plot the roads\n",
    "roads_gdf.plot(ax=ax, edgecolor='red', linewidth=2)\n",
    "\n",
    "# Add the basemap\n",
    "ctx.add_basemap(ax, crs=roads_gdf.crs.to_string(), source=ctx.providers.Stamen.TonerLite)\n",
    "\n",
    "# Add labels and title\n",
    "plt.title(\"Paths between Nodes with Real Geometries\")\n",
    "plt.xlabel(\"Longitude\")\n",
    "plt.ylabel(\"Latitude\")\n",
    "\n",
    "plt.show()"
   ]
  }
 ],
 "metadata": {
  "kernelspec": {
   "display_name": ".venv",
   "language": "python",
   "name": "python3"
  },
  "language_info": {
   "codemirror_mode": {
    "name": "ipython",
    "version": 3
   },
   "file_extension": ".py",
   "mimetype": "text/x-python",
   "name": "python",
   "nbconvert_exporter": "python",
   "pygments_lexer": "ipython3",
   "version": "3.10.11"
  }
 },
 "nbformat": 4,
 "nbformat_minor": 2
}
