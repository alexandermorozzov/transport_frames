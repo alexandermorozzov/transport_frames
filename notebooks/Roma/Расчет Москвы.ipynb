{
 "cells": [
  {
   "cell_type": "code",
   "execution_count": null,
   "metadata": {},
   "outputs": [],
   "source": [
    "import sys\n",
    "sys.path.append('../')\n",
    "import folium\n",
    "import osmnx as ox\n",
    "import pandas as pd\n",
    "import graphbuilder_v2\n",
    "import blocksnet_builder\n",
    "import geopandas as gpd\n",
    "from availability_estimation import *"
   ]
  },
  {
   "cell_type": "code",
   "execution_count": null,
   "metadata": {},
   "outputs": [],
   "source": [
    "# Загрузка кварталов города\n",
    "blocks = blocksnet_builder.fetch(id='R1281563', local_crs=32636)"
   ]
  },
  {
   "cell_type": "code",
   "execution_count": null,
   "metadata": {},
   "outputs": [],
   "source": [
    "# Загрузка УДС\n",
    "city = ox.geocode_to_gdf('R1281563', by_osmid=True)\n",
    "graph = graphbuilder_v2.get_graph_from_polygon(city, crs=32636, retain_all=False)"
   ]
  },
  {
   "cell_type": "code",
   "execution_count": null,
   "metadata": {},
   "outputs": [],
   "source": [
    "# Создание центроид для кварталов\n",
    "blocks['centroid'] = blocks.centroid\n",
    "blocks = blocks.set_geometry('centroid')"
   ]
  },
  {
   "cell_type": "code",
   "execution_count": null,
   "metadata": {},
   "outputs": [],
   "source": [
    "# Расчет средней доступности\n",
    "adj_mx = availability_matrix(graph,blocks)\n",
    "p = find_median(blocks,adj_mx)"
   ]
  },
  {
   "cell_type": "code",
   "execution_count": null,
   "metadata": {},
   "outputs": [],
   "source": [
    "# Чистка от inf и соедиение с геометрией кварталов\n",
    "p_agg = p[p['to_service'] < 1.7e300].copy()\n",
    "res = gpd.sjoin(p_agg, blocks, how='left', op='within').groupby('index_right').median(['to_service']).reset_index()\n",
    "res_df = pd.merge(blocks.reset_index(), res, left_on='index', right_on='index_right', how='left')\n",
    "res_df = res_df.drop(columns=['index_right'])"
   ]
  },
  {
   "cell_type": "code",
   "execution_count": null,
   "metadata": {},
   "outputs": [],
   "source": [
    "# Визуализация\n",
    "cmap = plt.cm.RdYlGn_r\n",
    "fig, ax = plt.subplots(1, 1, figsize=(10, 10))\n",
    "res_df.set_geometry('geometry').plot(column='to_service', cmap=cmap, legend=True, ax=ax)"
   ]
  },
  {
   "cell_type": "code",
   "execution_count": null,
   "metadata": {},
   "outputs": [],
   "source": [
    "# Визуализация интерактивная\n",
    "m = folium.Map()\n",
    "res_df = res_df.set_geometry('geometry')\n",
    "res_df.explore(\n",
    "    m=m,\n",
    "    column='to_service',  # Столбец, который определяет цвет\n",
    "    cmap='RdYlGn_r',  # Использование той же цветовой карты\n",
    "    legend=True,  # Включение легенды для цветов\n",
    "    legend_kwds={'caption': 'To Service'},  # Настройка заголовка легенды\n",
    ")"
   ]
  },
  {
   "cell_type": "code",
   "execution_count": null,
   "metadata": {},
   "outputs": [],
   "source": [
    "# Only для Москвы\n",
    "# settlement = gpd.read_file('data/geojson/moscow/settlement.geojson')\n",
    "# district = gpd.read_file('data/geojson/moscow/district.geojson')\n",
    "# region = gpd.read_file('data/geojson/moscow/region.geojson')\n",
    "\n",
    "# visualize_availability(res_df, settlement, title='Связанность, мин')\n",
    "# visualize_availability(res_df, district, title='Связанность, мин')\n",
    "# visualize_availability(res_df, region, title='Связанность, мин')"
   ]
  }
 ],
 "metadata": {
  "kernelspec": {
   "display_name": ".venv",
   "language": "python",
   "name": "python3"
  },
  "language_info": {
   "codemirror_mode": {
    "name": "ipython",
    "version": 3
   },
   "file_extension": ".py",
   "mimetype": "text/x-python",
   "name": "python",
   "nbconvert_exporter": "python",
   "pygments_lexer": "ipython3",
   "version": "3.10.9"
  }
 },
 "nbformat": 4,
 "nbformat_minor": 2
}
