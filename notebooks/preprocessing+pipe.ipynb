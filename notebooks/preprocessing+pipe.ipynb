{
 "cells": [
  {
   "cell_type": "markdown",
   "metadata": {},
   "source": [
    "# Inputs"
   ]
  },
  {
   "cell_type": "code",
   "execution_count": 15,
   "metadata": {},
   "outputs": [],
   "source": [
    "import sys\n",
    "sys.path.append('../')\n",
    "import transport_frames.src.graph_builder.criteria as criteria\n",
    "import transport_frames.src.metrics.indicators as indicators\n",
    "import transport_frames.src.metrics.grade_territory as grade_territory\n",
    "import transport_frames.src.graph_builder.graphbuilder as graphbuilder\n",
    "import momepy\n",
    "import osmnx as ox\n",
    "import geopandas as gpd\n",
    "import shapely\n",
    "import pandas as pd\n",
    "import networkx as nx\n",
    "import numpy as np\n",
    "import json"
   ]
  },
  {
   "cell_type": "code",
   "execution_count": 16,
   "metadata": {},
   "outputs": [],
   "source": [
    "def create_json_file(d1, filename):\n",
    "    json_dict = {}\n",
    "    for key in d1.keys():\n",
    "        if isinstance(d1[key],(float,int)):\n",
    "            json_dict[key] = d1[key]\n",
    "        else:\n",
    "            json_dict[key] = d1[key].to_json()\n",
    "    json_object = json.dumps(json_dict)\n",
    "    with open(filename, 'w') as f:\n",
    "        f.write(json_object)"
   ]
  },
  {
   "cell_type": "code",
   "execution_count": 17,
   "metadata": {},
   "outputs": [],
   "source": [
    "# Ленинградская_область EPSG: 32636  / \n",
    "# Санкт_Петербург EPSG:32636 /\n",
    "# Москва EPSG:32637 / \n",
    "# Волгоградская_область EPSG:32638 / 77665 /  N27504363\n",
    "# Тульская_область EPSG:32637 /  81993 / N34389350\n",
    "# Омская_область EPSG:32643 / 140292 /  N27503946\n",
    "# Краснодарский_край EPSG:32637 / 108082 / N27505129\n",
    "# Тюменская_область EPSG:32642 / 140291 / N27505666\n",
    "# Московская_область EPSG:32637 / "
   ]
  },
  {
   "cell_type": "code",
   "execution_count": 18,
   "metadata": {},
   "outputs": [],
   "source": [
    "region_name = 'Тульская_область'\n",
    "local_crs = 32637\n",
    "geocode = 81993\n",
    "region_capital = ox.geocode_to_gdf('N34389350',by_osmid=True)"
   ]
  },
  {
   "cell_type": "code",
   "execution_count": 19,
   "metadata": {},
   "outputs": [],
   "source": [
    "city = ox.geocode_to_gdf(f'R{geocode}', by_osmid=True).to_crs(epsg=4326)\n",
    "city['name'] = region_name"
   ]
  },
  {
   "cell_type": "code",
   "execution_count": 21,
   "metadata": {},
   "outputs": [],
   "source": [
    "\n",
    "PLACEHOLDER = gpd.GeoDataFrame(geometry=[]) # set where are no services \n",
    "\n",
    "polygons188 = gpd.read_file(f'../data/{region_name}/settlement.geojson')\n",
    "polygons18 = gpd.read_file(f'../data/{region_name}/district.geojson')\n",
    "\n",
    "points = gpd.read_file(f'../data/{region_name}/{region_name}_region_points.geojson')\n",
    "points188 = shapely.centroid(polygons188.geometry).set_crs(polygons188.crs)\n",
    "points18 = points[points['is_admin_centre_district']==True]\n",
    "\n",
    "\n",
    "stops = gpd.read_file(f'../data/{region_name}/railway_station.geojson')\n",
    "\n",
    "fuel = gpd.read_file(f'../data/{region_name}/Копия fuel.geojson')\n",
    "\n",
    "ferry = PLACEHOLDER\n",
    "\n",
    "aero = gpd.read_file(f'../data/{region_name}/aerodrome.geojson')\n",
    "\n",
    "international_aero = aero[aero['aerodrome:type']=='international']\n",
    "international_aero['geometry'] = shapely.centroid(international_aero['geometry']).set_crs(international_aero.crs)\n",
    "\n",
    "aero = aero[aero['aerodrome:type']!='international']\n",
    "aero['geometry'] = shapely.centroid(aero['geometry']).set_crs(aero.crs)\n",
    "\n",
    "\n",
    "water_objects = gpd.read_file(f'../data/{region_name}/Копия water.geojson')\n",
    "\n",
    "oopt = gpd.read_file(f'../data/{region_name}/Копия nature_reserve.geojson')\n",
    "\n",
    "train_paths = gpd.read_file(f'../data/{region_name}/railway.geojson')\n",
    "\n",
    "bus_stops = gpd.read_file(f'../data/{region_name}/bus_stop.geojson')\n",
    "\n",
    "russia = ox.geocode_to_gdf(\"Russia\") \n",
    "regions = gpd.read_file(f'/Users/polina/Desktop/github/transport_frames/Polina/lo_gdfs/regions_of_russia.geojson') #  get regions\n",
    "regions = regions[regions['ISO3166-2']!='RU-CHU']\n",
    "regions = regions.to_crs(city.crs)\n",
    "\n",
    "# test territory\n",
    "neud = polygons188.iloc[[0]]"
   ]
  },
  {
   "cell_type": "markdown",
   "metadata": {},
   "source": [
    "# Preprocessing"
   ]
  },
  {
   "cell_type": "code",
   "execution_count": 22,
   "metadata": {},
   "outputs": [],
   "source": [
    "import os\n",
    "\n",
    "directory = f\"../preprocessed/{region_name}/\"\n",
    "os.makedirs(directory, exist_ok=True)"
   ]
  },
  {
   "cell_type": "code",
   "execution_count": 23,
   "metadata": {},
   "outputs": [
    {
     "name": "stderr",
     "output_type": "stream",
     "text": [
      "/Users/polina/Desktop/github/transport_frames/.venv/lib/python3.10/site-packages/osmnx/_overpass.py:254: UserWarning: This area is 13 times your configured Overpass max query area size. It will automatically be divided up into multiple sub-queries accordingly. This may take a long time.\n",
      "  multi_poly_proj = utils_geo._consolidate_subdivide_geometry(poly_proj)\n"
     ]
    }
   ],
   "source": [
    "# write an uds graph\n",
    "citygraph = graphbuilder.get_graph_from_polygon(city, crs=local_crs,country_polygon=russia)\n",
    "citygraph_ = graphbuilder.convert_list_attr_to_str(citygraph)\n",
    "nx.write_graphml(citygraph_, f\"../preprocessed/{region_name}/{region_name}_uds.graphml\")"
   ]
  },
  {
   "cell_type": "code",
   "execution_count": 24,
   "metadata": {},
   "outputs": [
    {
     "name": "stderr",
     "output_type": "stream",
     "text": [
      "\u001b[32m2024-06-14 20:48:34.520\u001b[0m | \u001b[1mINFO    \u001b[0m | \u001b[36mdongraphio.dongraphio\u001b[0m:\u001b[36mget_intermodal_graph_from_osm\u001b[0m:\u001b[36m61\u001b[0m - \u001b[1mCreating intermodal graph from OSM...\u001b[0m\n",
      "\u001b[32m2024-06-14 20:48:34.521\u001b[0m | \u001b[33m\u001b[1mWARNING \u001b[0m | \u001b[36mdongraphio.base_models.grapher_logic\u001b[0m:\u001b[36mget_public_trasport_graph\u001b[0m:\u001b[36m237\u001b[0m - \u001b[33m\u001b[1mFiles with routes or with stops was not found. The graph will be built based on data from OSM\u001b[0m\n",
      "\u001b[32m2024-06-14 20:48:35.596\u001b[0m | \u001b[33m\u001b[1mWARNING \u001b[0m | \u001b[36mdongraphio.base_models.grapher_logic\u001b[0m:\u001b[36mpublic_routes_to_edges\u001b[0m:\u001b[36m162\u001b[0m - \u001b[33m\u001b[1mIt seems there are no subway routes in the city. This transport type will be skipped.\u001b[0m\n",
      "\u001b[32m2024-06-14 20:48:50.117\u001b[0m | \u001b[1mINFO    \u001b[0m | \u001b[36mdongraphio.base_models.grapher_logic\u001b[0m:\u001b[36mget_public_trasport_graph\u001b[0m:\u001b[36m285\u001b[0m - \u001b[1mPublic transport graph done!\u001b[0m\n",
      "\u001b[32m2024-06-14 20:48:50.693\u001b[0m | \u001b[34m\u001b[1mDEBUG   \u001b[0m | \u001b[36mdongraphio.base_models.grapher_logic\u001b[0m:\u001b[36mget_osmnx_graph\u001b[0m:\u001b[36m95\u001b[0m - \u001b[34m\u001b[1mExtracting and preparing walk graph from OSM ...\u001b[0m\n",
      "/Users/polina/Desktop/github/transport_frames/.venv/lib/python3.10/site-packages/osmnx/_overpass.py:254: UserWarning: This area is 12 times your configured Overpass max query area size. It will automatically be divided up into multiple sub-queries accordingly. This may take a long time.\n",
      "  multi_poly_proj = utils_geo._consolidate_subdivide_geometry(poly_proj)\n",
      "\u001b[32m2024-06-14 20:51:00.382\u001b[0m | \u001b[34m\u001b[1mDEBUG   \u001b[0m | \u001b[36mdongraphio.base_models.grapher_logic\u001b[0m:\u001b[36mget_osmnx_graph\u001b[0m:\u001b[36m95\u001b[0m - \u001b[34m\u001b[1mExtracting and preparing drive graph from OSM ...\u001b[0m\n",
      "/Users/polina/Desktop/github/transport_frames/.venv/lib/python3.10/site-packages/osmnx/_overpass.py:254: UserWarning: This area is 12 times your configured Overpass max query area size. It will automatically be divided up into multiple sub-queries accordingly. This may take a long time.\n",
      "  multi_poly_proj = utils_geo._consolidate_subdivide_geometry(poly_proj)\n",
      "\u001b[32m2024-06-14 20:52:08.132\u001b[0m | \u001b[34m\u001b[1mDEBUG   \u001b[0m | \u001b[36mdongraphio.base_models.grapher_logic\u001b[0m:\u001b[36mget_intermodal_graph\u001b[0m:\u001b[36m46\u001b[0m - \u001b[34m\u001b[1mPreparing union of city_graphs...\u001b[0m\n",
      "/Users/polina/Desktop/github/transport_frames/.venv/lib/python3.10/site-packages/shapely/linear.py:203: RuntimeWarning: invalid value encountered in shortest_line\n",
      "  return lib.shortest_line(a, b, **kwargs)\n",
      "/Users/polina/Desktop/github/transport_frames/.venv/lib/python3.10/site-packages/shapely/linear.py:88: RuntimeWarning: invalid value encountered in line_locate_point\n",
      "  return lib.line_locate_point(line, other)\n",
      "\u001b[32m2024-06-14 20:52:30.398\u001b[0m | \u001b[1mINFO    \u001b[0m | \u001b[36mdongraphio.base_models.grapher_logic\u001b[0m:\u001b[36mget_intermodal_graph\u001b[0m:\u001b[36m66\u001b[0m - \u001b[1mIntermodal graph done!\n",
      "\u001b[0m\n",
      "/var/folders/ch/1hzm9xv12jg458kt9c3nl6_h0000gn/T/ipykernel_59551/3316533814.py:11: UserWarning: Approach is not set. Defaulting to 'primal'.\n",
      "  ni,ei = momepy.nx_to_gdf(inter)\n"
     ]
    }
   ],
   "source": [
    "# # write inter into graphml\n",
    "inter = indicators.get_intermodal(geocode,local_crs)\n",
    "e = [\n",
    "        (u, v, k)\n",
    "        for u, v, k, d in inter.edges(data=True, keys=True)\n",
    "        if d.get(\"type\") in (['bus','walk'])\n",
    "    ]\n",
    "inter = inter.edge_subgraph(e)\n",
    "\n",
    "# save routes and stops\n",
    "ni,ei = momepy.nx_to_gdf(inter)\n",
    "bus_routes = ei[ei['type']=='bus']\n",
    "bus_routes.to_file(f'../preprocessed/{region_name}/{region_name}_bus_routes.geojson')\n",
    "\n",
    "# convert to file\n",
    "inter_= graphbuilder.convert_list_attr_to_str(inter)\n",
    "for node,e,data in inter_.edges(data=True):\n",
    "    if 'geometry' in data:\n",
    "        data['geometry']=str(data['geometry'])\n",
    "nx.write_graphml(inter_, f\"../preprocessed/{region_name}/{region_name}_inter.graphml\")"
   ]
  },
  {
   "cell_type": "code",
   "execution_count": 25,
   "metadata": {},
   "outputs": [
    {
     "name": "stderr",
     "output_type": "stream",
     "text": [
      "/var/folders/ch/1hzm9xv12jg458kt9c3nl6_h0000gn/T/ipykernel_59551/1013225357.py:2: FutureWarning: The `op` parameter is deprecated and will be removed in a future release. Please use the `predicate` parameter instead.\n",
      "  frame = graphbuilder.get_frame(citygraph,regions.to_crs(city.crs),city)\n",
      "/Users/polina/Desktop/github/transport_frames/notebooks/../transport_frames/src/graph_builder/graphbuilder.py:505: FutureWarning: Setting an item of incompatible dtype is deprecated and will raise an error in a future version of pandas. Value '[0.08]' has dtype incompatible with int64, please explicitly cast to a compatible dtype first.\n",
      "  n.loc[(n[\"nodeID\"] == path[j]), \"weight\"] += weight\n",
      "/Users/polina/Desktop/github/transport_frames/notebooks/../transport_frames/src/graph_builder/graphbuilder.py:506: FutureWarning: Setting an item of incompatible dtype is deprecated and will raise an error in a future version of pandas. Value '[0.08]' has dtype incompatible with int64, please explicitly cast to a compatible dtype first.\n",
      "  e.loc[\n"
     ]
    }
   ],
   "source": [
    "# write frame into graphml\n",
    "frame = graphbuilder.get_frame(citygraph,regions.to_crs(city.crs),city)\n",
    "frame = graphbuilder.assign_city_names_to_nodes(points18.reset_index().to_crs(frame.graph['crs']), \n",
    "                                                momepy.nx_to_gdf(frame)[0], frame, name_col='name', max_distance=1200)\n",
    "frame_ = frame.copy()\n",
    "for node,e,data in frame_.edges(data=True):\n",
    "    if 'geometry' in data:\n",
    "        data['geometry']=str(data['geometry'])\n",
    "for node,data in frame_.nodes(data=True):\n",
    "    if 'ref' in data:\n",
    "        data['ref']=str(data['ref'])\n",
    "frame_ = graphbuilder.convert_list_attr_to_str(frame_)\n",
    "nx.write_graphml(frame_, f\"../preprocessed/{region_name}/{region_name}_frame.graphml\")"
   ]
  },
  {
   "cell_type": "markdown",
   "metadata": {},
   "source": [
    "# Processing"
   ]
  },
  {
   "cell_type": "code",
   "execution_count": 26,
   "metadata": {},
   "outputs": [],
   "source": [
    "citygraph = nx.read_graphml(f'../preprocessed/{region_name}/{region_name}_uds.graphml')\n",
    "citygraph = graphbuilder.convert_list_attr_from_str(citygraph)\n",
    "citygraph = indicators.prepare_graph(citygraph)"
   ]
  },
  {
   "cell_type": "code",
   "execution_count": 27,
   "metadata": {},
   "outputs": [],
   "source": [
    "inter = nx.read_graphml(f\"../preprocessed/{region_name}/{region_name}_inter.graphml\")\n",
    "inter = graphbuilder.convert_list_attr_from_str(inter)\n",
    "inter = indicators.prepare_graph(inter)"
   ]
  },
  {
   "cell_type": "code",
   "execution_count": 28,
   "metadata": {},
   "outputs": [],
   "source": [
    "bus_routes = gpd.read_file(f'../preprocessed/{region_name}/{region_name}_bus_routes.geojson')\n",
    "\n",
    "# # or if we don't have them:\n",
    "# ni,ei = momepy.nx_to_gdf(inter)\n",
    "# bus_routes = ei[ei['type']=='bus']"
   ]
  },
  {
   "cell_type": "code",
   "execution_count": 29,
   "metadata": {},
   "outputs": [],
   "source": [
    "frame = nx.read_graphml(f\"../preprocessed/{region_name}/{region_name}_frame.graphml\")\n",
    "frame = graphbuilder.convert_list_attr_from_str(frame)\n",
    "frame = indicators.prepare_graph(frame)"
   ]
  },
  {
   "cell_type": "code",
   "execution_count": 30,
   "metadata": {},
   "outputs": [
    {
     "name": "stderr",
     "output_type": "stream",
     "text": [
      "\u001b[32m2024-06-14 20:55:14.123\u001b[0m | \u001b[1mINFO    \u001b[0m | \u001b[36mdongraphio.dongraphio\u001b[0m:\u001b[36mget_adjacency_matrix\u001b[0m:\u001b[36m90\u001b[0m - \u001b[1mCreating adjacency matrix based on provided graph...\u001b[0m\n",
      "\u001b[32m2024-06-14 20:55:15.577\u001b[0m | \u001b[34m\u001b[1mDEBUG   \u001b[0m | \u001b[36mdongraphio.base_models.matrix_logic\u001b[0m:\u001b[36mget_adjacency_matrix\u001b[0m:\u001b[36m52\u001b[0m - \u001b[34m\u001b[1mCalculating distances from buildings to services ...\u001b[0m\n",
      "\u001b[32m2024-06-14 20:58:13.669\u001b[0m | \u001b[1mINFO    \u001b[0m | \u001b[36mdongraphio.dongraphio\u001b[0m:\u001b[36mget_adjacency_matrix\u001b[0m:\u001b[36m99\u001b[0m - \u001b[1mAdjacency matrix done!\u001b[0m\n",
      "\u001b[32m2024-06-14 20:58:13.936\u001b[0m | \u001b[1mINFO    \u001b[0m | \u001b[36mdongraphio.dongraphio\u001b[0m:\u001b[36mget_adjacency_matrix\u001b[0m:\u001b[36m90\u001b[0m - \u001b[1mCreating adjacency matrix based on provided graph...\u001b[0m\n",
      "\u001b[32m2024-06-14 20:58:26.528\u001b[0m | \u001b[34m\u001b[1mDEBUG   \u001b[0m | \u001b[36mdongraphio.base_models.matrix_logic\u001b[0m:\u001b[36mget_adjacency_matrix\u001b[0m:\u001b[36m52\u001b[0m - \u001b[34m\u001b[1mCalculating distances from buildings to services ...\u001b[0m\n",
      "\u001b[32m2024-06-14 21:01:40.649\u001b[0m | \u001b[1mINFO    \u001b[0m | \u001b[36mdongraphio.dongraphio\u001b[0m:\u001b[36mget_adjacency_matrix\u001b[0m:\u001b[36m99\u001b[0m - \u001b[1mAdjacency matrix done!\u001b[0m\n",
      "\u001b[32m2024-06-14 21:01:41.078\u001b[0m | \u001b[1mINFO    \u001b[0m | \u001b[36mdongraphio.dongraphio\u001b[0m:\u001b[36mget_adjacency_matrix\u001b[0m:\u001b[36m90\u001b[0m - \u001b[1mCreating adjacency matrix based on provided graph...\u001b[0m\n",
      "\u001b[32m2024-06-14 21:01:42.475\u001b[0m | \u001b[34m\u001b[1mDEBUG   \u001b[0m | \u001b[36mdongraphio.base_models.matrix_logic\u001b[0m:\u001b[36mget_adjacency_matrix\u001b[0m:\u001b[36m52\u001b[0m - \u001b[34m\u001b[1mCalculating distances from buildings to services ...\u001b[0m\n",
      "\u001b[32m2024-06-14 21:02:33.911\u001b[0m | \u001b[1mINFO    \u001b[0m | \u001b[36mdongraphio.dongraphio\u001b[0m:\u001b[36mget_adjacency_matrix\u001b[0m:\u001b[36m99\u001b[0m - \u001b[1mAdjacency matrix done!\u001b[0m\n",
      "\u001b[32m2024-06-14 21:02:33.937\u001b[0m | \u001b[1mINFO    \u001b[0m | \u001b[36mdongraphio.dongraphio\u001b[0m:\u001b[36mget_adjacency_matrix\u001b[0m:\u001b[36m90\u001b[0m - \u001b[1mCreating adjacency matrix based on provided graph...\u001b[0m\n"
     ]
    },
    {
     "name": "stdout",
     "output_type": "stream",
     "text": [
      "Some services cannot be reached from some nodes of the graph. The nodes were removed from analysis\n"
     ]
    },
    {
     "name": "stderr",
     "output_type": "stream",
     "text": [
      "\u001b[32m2024-06-14 21:02:38.365\u001b[0m | \u001b[34m\u001b[1mDEBUG   \u001b[0m | \u001b[36mdongraphio.base_models.matrix_logic\u001b[0m:\u001b[36mget_adjacency_matrix\u001b[0m:\u001b[36m52\u001b[0m - \u001b[34m\u001b[1mCalculating distances from buildings to services ...\u001b[0m\n",
      "\u001b[32m2024-06-14 21:02:38.864\u001b[0m | \u001b[1mINFO    \u001b[0m | \u001b[36mdongraphio.dongraphio\u001b[0m:\u001b[36mget_adjacency_matrix\u001b[0m:\u001b[36m99\u001b[0m - \u001b[1mAdjacency matrix done!\u001b[0m\n",
      "\u001b[32m2024-06-14 21:02:38.879\u001b[0m | \u001b[1mINFO    \u001b[0m | \u001b[36mdongraphio.dongraphio\u001b[0m:\u001b[36mget_adjacency_matrix\u001b[0m:\u001b[36m90\u001b[0m - \u001b[1mCreating adjacency matrix based on provided graph...\u001b[0m\n"
     ]
    },
    {
     "name": "stdout",
     "output_type": "stream",
     "text": [
      "Some services cannot be reached from some nodes of the graph. The nodes were removed from analysis\n"
     ]
    },
    {
     "name": "stderr",
     "output_type": "stream",
     "text": [
      "\u001b[32m2024-06-14 21:02:40.237\u001b[0m | \u001b[34m\u001b[1mDEBUG   \u001b[0m | \u001b[36mdongraphio.base_models.matrix_logic\u001b[0m:\u001b[36mget_adjacency_matrix\u001b[0m:\u001b[36m52\u001b[0m - \u001b[34m\u001b[1mCalculating distances from buildings to services ...\u001b[0m\n",
      "\u001b[32m2024-06-14 21:02:53.825\u001b[0m | \u001b[1mINFO    \u001b[0m | \u001b[36mdongraphio.dongraphio\u001b[0m:\u001b[36mget_adjacency_matrix\u001b[0m:\u001b[36m99\u001b[0m - \u001b[1mAdjacency matrix done!\u001b[0m\n",
      "\u001b[32m2024-06-14 21:02:53.843\u001b[0m | \u001b[1mINFO    \u001b[0m | \u001b[36mdongraphio.dongraphio\u001b[0m:\u001b[36mget_adjacency_matrix\u001b[0m:\u001b[36m90\u001b[0m - \u001b[1mCreating adjacency matrix based on provided graph...\u001b[0m\n"
     ]
    },
    {
     "name": "stdout",
     "output_type": "stream",
     "text": [
      "Some services cannot be reached from some nodes of the graph. The nodes were removed from analysis\n"
     ]
    },
    {
     "name": "stderr",
     "output_type": "stream",
     "text": [
      "\u001b[32m2024-06-14 21:02:57.235\u001b[0m | \u001b[34m\u001b[1mDEBUG   \u001b[0m | \u001b[36mdongraphio.base_models.matrix_logic\u001b[0m:\u001b[36mget_adjacency_matrix\u001b[0m:\u001b[36m52\u001b[0m - \u001b[34m\u001b[1mCalculating distances from buildings to services ...\u001b[0m\n",
      "\u001b[32m2024-06-14 21:03:02.131\u001b[0m | \u001b[1mINFO    \u001b[0m | \u001b[36mdongraphio.dongraphio\u001b[0m:\u001b[36mget_adjacency_matrix\u001b[0m:\u001b[36m99\u001b[0m - \u001b[1mAdjacency matrix done!\u001b[0m\n",
      "\u001b[32m2024-06-14 21:03:02.149\u001b[0m | \u001b[1mINFO    \u001b[0m | \u001b[36mdongraphio.dongraphio\u001b[0m:\u001b[36mget_adjacency_matrix\u001b[0m:\u001b[36m90\u001b[0m - \u001b[1mCreating adjacency matrix based on provided graph...\u001b[0m\n"
     ]
    },
    {
     "name": "stdout",
     "output_type": "stream",
     "text": [
      "Some services cannot be reached from some nodes of the graph. The nodes were removed from analysis\n"
     ]
    },
    {
     "name": "stderr",
     "output_type": "stream",
     "text": [
      "\u001b[32m2024-06-14 21:03:03.504\u001b[0m | \u001b[34m\u001b[1mDEBUG   \u001b[0m | \u001b[36mdongraphio.base_models.matrix_logic\u001b[0m:\u001b[36mget_adjacency_matrix\u001b[0m:\u001b[36m52\u001b[0m - \u001b[34m\u001b[1mCalculating distances from buildings to services ...\u001b[0m\n",
      "\u001b[32m2024-06-14 21:03:04.861\u001b[0m | \u001b[1mINFO    \u001b[0m | \u001b[36mdongraphio.dongraphio\u001b[0m:\u001b[36mget_adjacency_matrix\u001b[0m:\u001b[36m99\u001b[0m - \u001b[1mAdjacency matrix done!\u001b[0m\n"
     ]
    },
    {
     "name": "stdout",
     "output_type": "stream",
     "text": [
      "Some services cannot be reached from some nodes of the graph. The nodes were removed from analysis\n"
     ]
    },
    {
     "name": "stderr",
     "output_type": "stream",
     "text": [
      "/Users/polina/Desktop/github/transport_frames/notebooks/../transport_frames/src/metrics/indicators.py:402: UserWarning: Approach is not set. Defaulting to 'primal'.\n",
      "  ei = momepy.nx_to_gdf(inter)[1]\n"
     ]
    }
   ],
   "source": [
    "d0 = indicators.indicator_area(citygraph, city, points, inter,region_capital, \n",
    "                               fuel, stops, international_aero, aero, ferry,train_paths,bus_stops, crs=local_crs)\n",
    "for k,v in d0.items():\n",
    "    if isinstance(v,gpd.GeoDataFrame):\n",
    "        cols_to_drop = [col for col in v.columns if col not in ['index', 'name', 'layer', 'density', 'geometry', 'reg1_length', 'reg2_length', 'reg3_length', 'to_service', 'index', 'number_of_routes', 'service_count', 'total_length_km']]\n",
    "        v.drop(cols_to_drop, axis=1, inplace=True)\n",
    "create_json_file(d0,f\"../preprocessed/{region_name}/{region_name}_indicators_region.json\")"
   ]
  },
  {
   "cell_type": "code",
   "execution_count": 31,
   "metadata": {},
   "outputs": [
    {
     "name": "stderr",
     "output_type": "stream",
     "text": [
      "\u001b[32m2024-06-14 21:03:23.230\u001b[0m | \u001b[1mINFO    \u001b[0m | \u001b[36mdongraphio.dongraphio\u001b[0m:\u001b[36mget_adjacency_matrix\u001b[0m:\u001b[36m90\u001b[0m - \u001b[1mCreating adjacency matrix based on provided graph...\u001b[0m\n",
      "\u001b[32m2024-06-14 21:03:25.899\u001b[0m | \u001b[34m\u001b[1mDEBUG   \u001b[0m | \u001b[36mdongraphio.base_models.matrix_logic\u001b[0m:\u001b[36mget_adjacency_matrix\u001b[0m:\u001b[36m52\u001b[0m - \u001b[34m\u001b[1mCalculating distances from buildings to services ...\u001b[0m\n",
      "\u001b[32m2024-06-14 21:06:22.154\u001b[0m | \u001b[1mINFO    \u001b[0m | \u001b[36mdongraphio.dongraphio\u001b[0m:\u001b[36mget_adjacency_matrix\u001b[0m:\u001b[36m99\u001b[0m - \u001b[1mAdjacency matrix done!\u001b[0m\n",
      "\u001b[32m2024-06-14 21:06:22.417\u001b[0m | \u001b[1mINFO    \u001b[0m | \u001b[36mdongraphio.dongraphio\u001b[0m:\u001b[36mget_adjacency_matrix\u001b[0m:\u001b[36m90\u001b[0m - \u001b[1mCreating adjacency matrix based on provided graph...\u001b[0m\n",
      "\u001b[32m2024-06-14 21:06:32.904\u001b[0m | \u001b[34m\u001b[1mDEBUG   \u001b[0m | \u001b[36mdongraphio.base_models.matrix_logic\u001b[0m:\u001b[36mget_adjacency_matrix\u001b[0m:\u001b[36m52\u001b[0m - \u001b[34m\u001b[1mCalculating distances from buildings to services ...\u001b[0m\n",
      "\u001b[32m2024-06-14 21:09:49.074\u001b[0m | \u001b[1mINFO    \u001b[0m | \u001b[36mdongraphio.dongraphio\u001b[0m:\u001b[36mget_adjacency_matrix\u001b[0m:\u001b[36m99\u001b[0m - \u001b[1mAdjacency matrix done!\u001b[0m\n",
      "\u001b[32m2024-06-14 21:09:49.463\u001b[0m | \u001b[1mINFO    \u001b[0m | \u001b[36mdongraphio.dongraphio\u001b[0m:\u001b[36mget_adjacency_matrix\u001b[0m:\u001b[36m90\u001b[0m - \u001b[1mCreating adjacency matrix based on provided graph...\u001b[0m\n",
      "\u001b[32m2024-06-14 21:09:50.867\u001b[0m | \u001b[34m\u001b[1mDEBUG   \u001b[0m | \u001b[36mdongraphio.base_models.matrix_logic\u001b[0m:\u001b[36mget_adjacency_matrix\u001b[0m:\u001b[36m52\u001b[0m - \u001b[34m\u001b[1mCalculating distances from buildings to services ...\u001b[0m\n",
      "\u001b[32m2024-06-14 21:10:41.860\u001b[0m | \u001b[1mINFO    \u001b[0m | \u001b[36mdongraphio.dongraphio\u001b[0m:\u001b[36mget_adjacency_matrix\u001b[0m:\u001b[36m99\u001b[0m - \u001b[1mAdjacency matrix done!\u001b[0m\n",
      "\u001b[32m2024-06-14 21:10:41.884\u001b[0m | \u001b[1mINFO    \u001b[0m | \u001b[36mdongraphio.dongraphio\u001b[0m:\u001b[36mget_adjacency_matrix\u001b[0m:\u001b[36m90\u001b[0m - \u001b[1mCreating adjacency matrix based on provided graph...\u001b[0m\n"
     ]
    },
    {
     "name": "stdout",
     "output_type": "stream",
     "text": [
      "Some services cannot be reached from some nodes of the graph. The nodes were removed from analysis\n"
     ]
    },
    {
     "name": "stderr",
     "output_type": "stream",
     "text": [
      "\u001b[32m2024-06-14 21:10:45.288\u001b[0m | \u001b[34m\u001b[1mDEBUG   \u001b[0m | \u001b[36mdongraphio.base_models.matrix_logic\u001b[0m:\u001b[36mget_adjacency_matrix\u001b[0m:\u001b[36m52\u001b[0m - \u001b[34m\u001b[1mCalculating distances from buildings to services ...\u001b[0m\n",
      "\u001b[32m2024-06-14 21:10:45.766\u001b[0m | \u001b[1mINFO    \u001b[0m | \u001b[36mdongraphio.dongraphio\u001b[0m:\u001b[36mget_adjacency_matrix\u001b[0m:\u001b[36m99\u001b[0m - \u001b[1mAdjacency matrix done!\u001b[0m\n",
      "\u001b[32m2024-06-14 21:10:45.780\u001b[0m | \u001b[1mINFO    \u001b[0m | \u001b[36mdongraphio.dongraphio\u001b[0m:\u001b[36mget_adjacency_matrix\u001b[0m:\u001b[36m90\u001b[0m - \u001b[1mCreating adjacency matrix based on provided graph...\u001b[0m\n"
     ]
    },
    {
     "name": "stdout",
     "output_type": "stream",
     "text": [
      "Some services cannot be reached from some nodes of the graph. The nodes were removed from analysis\n"
     ]
    },
    {
     "name": "stderr",
     "output_type": "stream",
     "text": [
      "\u001b[32m2024-06-14 21:10:47.146\u001b[0m | \u001b[34m\u001b[1mDEBUG   \u001b[0m | \u001b[36mdongraphio.base_models.matrix_logic\u001b[0m:\u001b[36mget_adjacency_matrix\u001b[0m:\u001b[36m52\u001b[0m - \u001b[34m\u001b[1mCalculating distances from buildings to services ...\u001b[0m\n",
      "\u001b[32m2024-06-14 21:11:00.838\u001b[0m | \u001b[1mINFO    \u001b[0m | \u001b[36mdongraphio.dongraphio\u001b[0m:\u001b[36mget_adjacency_matrix\u001b[0m:\u001b[36m99\u001b[0m - \u001b[1mAdjacency matrix done!\u001b[0m\n",
      "\u001b[32m2024-06-14 21:11:00.880\u001b[0m | \u001b[1mINFO    \u001b[0m | \u001b[36mdongraphio.dongraphio\u001b[0m:\u001b[36mget_adjacency_matrix\u001b[0m:\u001b[36m90\u001b[0m - \u001b[1mCreating adjacency matrix based on provided graph...\u001b[0m\n"
     ]
    },
    {
     "name": "stdout",
     "output_type": "stream",
     "text": [
      "Some services cannot be reached from some nodes of the graph. The nodes were removed from analysis\n"
     ]
    },
    {
     "name": "stderr",
     "output_type": "stream",
     "text": [
      "\u001b[32m2024-06-14 21:11:04.655\u001b[0m | \u001b[34m\u001b[1mDEBUG   \u001b[0m | \u001b[36mdongraphio.base_models.matrix_logic\u001b[0m:\u001b[36mget_adjacency_matrix\u001b[0m:\u001b[36m52\u001b[0m - \u001b[34m\u001b[1mCalculating distances from buildings to services ...\u001b[0m\n",
      "\u001b[32m2024-06-14 21:11:09.876\u001b[0m | \u001b[1mINFO    \u001b[0m | \u001b[36mdongraphio.dongraphio\u001b[0m:\u001b[36mget_adjacency_matrix\u001b[0m:\u001b[36m99\u001b[0m - \u001b[1mAdjacency matrix done!\u001b[0m\n",
      "\u001b[32m2024-06-14 21:11:09.895\u001b[0m | \u001b[1mINFO    \u001b[0m | \u001b[36mdongraphio.dongraphio\u001b[0m:\u001b[36mget_adjacency_matrix\u001b[0m:\u001b[36m90\u001b[0m - \u001b[1mCreating adjacency matrix based on provided graph...\u001b[0m\n"
     ]
    },
    {
     "name": "stdout",
     "output_type": "stream",
     "text": [
      "Some services cannot be reached from some nodes of the graph. The nodes were removed from analysis\n"
     ]
    },
    {
     "name": "stderr",
     "output_type": "stream",
     "text": [
      "\u001b[32m2024-06-14 21:11:12.836\u001b[0m | \u001b[34m\u001b[1mDEBUG   \u001b[0m | \u001b[36mdongraphio.base_models.matrix_logic\u001b[0m:\u001b[36mget_adjacency_matrix\u001b[0m:\u001b[36m52\u001b[0m - \u001b[34m\u001b[1mCalculating distances from buildings to services ...\u001b[0m\n",
      "\u001b[32m2024-06-14 21:11:14.373\u001b[0m | \u001b[1mINFO    \u001b[0m | \u001b[36mdongraphio.dongraphio\u001b[0m:\u001b[36mget_adjacency_matrix\u001b[0m:\u001b[36m99\u001b[0m - \u001b[1mAdjacency matrix done!\u001b[0m\n"
     ]
    },
    {
     "name": "stdout",
     "output_type": "stream",
     "text": [
      "Some services cannot be reached from some nodes of the graph. The nodes were removed from analysis\n"
     ]
    },
    {
     "name": "stderr",
     "output_type": "stream",
     "text": [
      "/Users/polina/Desktop/github/transport_frames/notebooks/../transport_frames/src/metrics/indicators.py:402: UserWarning: Approach is not set. Defaulting to 'primal'.\n",
      "  ei = momepy.nx_to_gdf(inter)[1]\n"
     ]
    }
   ],
   "source": [
    "d1 = indicators.indicator_area(citygraph, polygons18, points, inter,region_capital, fuel, stops, international_aero, aero, ferry,train_paths,bus_stops, crs=local_crs)\n",
    "\n",
    "for k,v in d1.items():\n",
    "    if isinstance(v,gpd.GeoDataFrame):\n",
    "        cols_to_drop = [col for col in v.columns if col not in ['index', 'name', 'layer', 'density', 'geometry', 'reg1_length', 'reg2_length', 'reg3_length', 'to_service', 'index', 'number_of_routes', 'service_count', 'total_length_km']]\n",
    "        v.drop(cols_to_drop, axis=1, inplace=True)\n",
    "create_json_file(d1,f\"../preprocessed/{region_name}/{region_name}_indicators_mr.json\")"
   ]
  },
  {
   "cell_type": "code",
   "execution_count": 32,
   "metadata": {},
   "outputs": [
    {
     "name": "stderr",
     "output_type": "stream",
     "text": [
      "/Users/polina/Desktop/github/transport_frames/notebooks/../transport_frames/src/metrics/indicators.py:293: FutureWarning: Downcasting object dtype arrays on .fillna, .ffill, .bfill is deprecated and will change in a future version. Call result.infer_objects(copy=False) instead. To opt-in to the future behavior, set `pd.set_option('future.no_silent_downcasting', True)`\n",
      "  result = polygons_gdf.merge(length_sums, how='left', left_on='index', right_on='index').fillna(0)\n",
      "\u001b[32m2024-06-14 21:11:32.736\u001b[0m | \u001b[1mINFO    \u001b[0m | \u001b[36mdongraphio.dongraphio\u001b[0m:\u001b[36mget_adjacency_matrix\u001b[0m:\u001b[36m90\u001b[0m - \u001b[1mCreating adjacency matrix based on provided graph...\u001b[0m\n",
      "\u001b[32m2024-06-14 21:11:34.172\u001b[0m | \u001b[34m\u001b[1mDEBUG   \u001b[0m | \u001b[36mdongraphio.base_models.matrix_logic\u001b[0m:\u001b[36mget_adjacency_matrix\u001b[0m:\u001b[36m52\u001b[0m - \u001b[34m\u001b[1mCalculating distances from buildings to services ...\u001b[0m\n",
      "\u001b[32m2024-06-14 21:14:32.231\u001b[0m | \u001b[1mINFO    \u001b[0m | \u001b[36mdongraphio.dongraphio\u001b[0m:\u001b[36mget_adjacency_matrix\u001b[0m:\u001b[36m99\u001b[0m - \u001b[1mAdjacency matrix done!\u001b[0m\n",
      "\u001b[32m2024-06-14 21:14:32.504\u001b[0m | \u001b[1mINFO    \u001b[0m | \u001b[36mdongraphio.dongraphio\u001b[0m:\u001b[36mget_adjacency_matrix\u001b[0m:\u001b[36m90\u001b[0m - \u001b[1mCreating adjacency matrix based on provided graph...\u001b[0m\n",
      "\u001b[32m2024-06-14 21:14:43.995\u001b[0m | \u001b[34m\u001b[1mDEBUG   \u001b[0m | \u001b[36mdongraphio.base_models.matrix_logic\u001b[0m:\u001b[36mget_adjacency_matrix\u001b[0m:\u001b[36m52\u001b[0m - \u001b[34m\u001b[1mCalculating distances from buildings to services ...\u001b[0m\n"
     ]
    }
   ],
   "source": [
    "d2 = indicators.indicator_area(citygraph, polygons188, points, inter,region_capital, \n",
    "                               fuel, stops, international_aero, aero, ferry,train_paths,bus_stops, crs=local_crs)\n",
    "\n",
    "for k,v in d2.items():\n",
    "    if isinstance(v,gpd.GeoDataFrame):\n",
    "        cols_to_drop = [col for col in v.columns if col not in ['index', 'name', 'layer', 'density', 'geometry', 'reg1_length', 'reg2_length', 'reg3_length', 'to_service', 'index', 'number_of_routes', 'service_count', 'total_length_km']]\n",
    "        v.drop(cols_to_drop, axis=1, inplace=True)\n",
    "create_json_file(d2,f\"../preprocessed/{region_name}/{region_name}_indicators_gpsp.json\")"
   ]
  },
  {
   "cell_type": "code",
   "execution_count": null,
   "metadata": {},
   "outputs": [
    {
     "data": {
      "text/plain": [
       "dict_keys(['aggregated_density', 'road_length_gdf', 'connectivity', 'connectivity_public_transport', 'to_fed_roads', 'to_region_admin_center', 'azs_availability', 'number_of_fuel_stations', 'train_stops_availability', 'number_of_train_stops', 'international_aero_availability', 'number_of_international_aero', 'local_aero_availability', 'number_of_local_aero', 'number_of_bus_stops', 'train_paths_length', 'number_of_bus_routes'])"
      ]
     },
     "execution_count": 20,
     "metadata": {},
     "output_type": "execute_result"
    }
   ],
   "source": [
    "d2.keys()"
   ]
  },
  {
   "cell_type": "code",
   "execution_count": null,
   "metadata": {},
   "outputs": [
    {
     "data": {
      "text/html": [
       "<div>\n",
       "<style scoped>\n",
       "    .dataframe tbody tr th:only-of-type {\n",
       "        vertical-align: middle;\n",
       "    }\n",
       "\n",
       "    .dataframe tbody tr th {\n",
       "        vertical-align: top;\n",
       "    }\n",
       "\n",
       "    .dataframe thead th {\n",
       "        text-align: right;\n",
       "    }\n",
       "</style>\n",
       "<table border=\"1\" class=\"dataframe\">\n",
       "  <thead>\n",
       "    <tr style=\"text-align: right;\">\n",
       "      <th></th>\n",
       "      <th>geometry</th>\n",
       "      <th>bbox_north</th>\n",
       "      <th>bbox_south</th>\n",
       "      <th>bbox_east</th>\n",
       "      <th>bbox_west</th>\n",
       "      <th>place_id</th>\n",
       "      <th>osm_type</th>\n",
       "      <th>osm_id</th>\n",
       "      <th>lat</th>\n",
       "      <th>lon</th>\n",
       "      <th>class</th>\n",
       "      <th>type</th>\n",
       "      <th>place_rank</th>\n",
       "      <th>importance</th>\n",
       "      <th>addresstype</th>\n",
       "      <th>name</th>\n",
       "      <th>display_name</th>\n",
       "    </tr>\n",
       "  </thead>\n",
       "  <tbody>\n",
       "    <tr>\n",
       "      <th>0</th>\n",
       "      <td>POLYGON ((41.16810 50.77451, 41.17850 50.77298...</td>\n",
       "      <td>51.247608</td>\n",
       "      <td>47.443733</td>\n",
       "      <td>47.431637</td>\n",
       "      <td>41.168105</td>\n",
       "      <td>172192416</td>\n",
       "      <td>relation</td>\n",
       "      <td>77665</td>\n",
       "      <td>49.604834</td>\n",
       "      <td>44.290358</td>\n",
       "      <td>boundary</td>\n",
       "      <td>administrative</td>\n",
       "      <td>8</td>\n",
       "      <td>0.581413</td>\n",
       "      <td>state</td>\n",
       "      <td>Волгоградская_область</td>\n",
       "      <td>Volgograd Oblast, Southern Federal District, R...</td>\n",
       "    </tr>\n",
       "  </tbody>\n",
       "</table>\n",
       "</div>"
      ],
      "text/plain": [
       "                                            geometry  bbox_north  bbox_south  \\\n",
       "0  POLYGON ((41.16810 50.77451, 41.17850 50.77298...   51.247608   47.443733   \n",
       "\n",
       "   bbox_east  bbox_west   place_id  osm_type  osm_id        lat        lon  \\\n",
       "0  47.431637  41.168105  172192416  relation   77665  49.604834  44.290358   \n",
       "\n",
       "      class            type  place_rank  importance addresstype  \\\n",
       "0  boundary  administrative           8    0.581413       state   \n",
       "\n",
       "                    name                                       display_name  \n",
       "0  Волгоградская_область  Volgograd Oblast, Southern Federal District, R...  "
      ]
     },
     "execution_count": 30,
     "metadata": {},
     "output_type": "execute_result"
    }
   ],
   "source": [
    "\n",
    "city"
   ]
  },
  {
   "cell_type": "code",
   "execution_count": null,
   "metadata": {},
   "outputs": [
    {
     "name": "stderr",
     "output_type": "stream",
     "text": [
      "\u001b[32m2024-06-14 20:34:33.616\u001b[0m | \u001b[1mINFO    \u001b[0m | \u001b[36mdongraphio.dongraphio\u001b[0m:\u001b[36mget_adjacency_matrix\u001b[0m:\u001b[36m90\u001b[0m - \u001b[1mCreating adjacency matrix based on provided graph...\u001b[0m\n",
      "\u001b[32m2024-06-14 20:34:41.735\u001b[0m | \u001b[34m\u001b[1mDEBUG   \u001b[0m | \u001b[36mdongraphio.base_models.matrix_logic\u001b[0m:\u001b[36mget_adjacency_matrix\u001b[0m:\u001b[36m52\u001b[0m - \u001b[34m\u001b[1mCalculating distances from buildings to services ...\u001b[0m\n",
      "\u001b[32m2024-06-14 20:34:41.936\u001b[0m | \u001b[1mINFO    \u001b[0m | \u001b[36mdongraphio.dongraphio\u001b[0m:\u001b[36mget_adjacency_matrix\u001b[0m:\u001b[36m99\u001b[0m - \u001b[1mAdjacency matrix done!\u001b[0m\n",
      "\u001b[32m2024-06-14 20:34:41.941\u001b[0m | \u001b[1mINFO    \u001b[0m | \u001b[36mdongraphio.dongraphio\u001b[0m:\u001b[36mget_adjacency_matrix\u001b[0m:\u001b[36m90\u001b[0m - \u001b[1mCreating adjacency matrix based on provided graph...\u001b[0m\n",
      "\u001b[32m2024-06-14 20:34:49.356\u001b[0m | \u001b[34m\u001b[1mDEBUG   \u001b[0m | \u001b[36mdongraphio.base_models.matrix_logic\u001b[0m:\u001b[36mget_adjacency_matrix\u001b[0m:\u001b[36m52\u001b[0m - \u001b[34m\u001b[1mCalculating distances from buildings to services ...\u001b[0m\n",
      "\u001b[32m2024-06-14 20:34:49.550\u001b[0m | \u001b[1mINFO    \u001b[0m | \u001b[36mdongraphio.dongraphio\u001b[0m:\u001b[36mget_adjacency_matrix\u001b[0m:\u001b[36m99\u001b[0m - \u001b[1mAdjacency matrix done!\u001b[0m\n",
      "\u001b[32m2024-06-14 20:34:49.566\u001b[0m | \u001b[1mINFO    \u001b[0m | \u001b[36mdongraphio.dongraphio\u001b[0m:\u001b[36mget_adjacency_matrix\u001b[0m:\u001b[36m90\u001b[0m - \u001b[1mCreating adjacency matrix based on provided graph...\u001b[0m\n",
      "\u001b[32m2024-06-14 20:34:59.954\u001b[0m | \u001b[34m\u001b[1mDEBUG   \u001b[0m | \u001b[36mdongraphio.base_models.matrix_logic\u001b[0m:\u001b[36mget_adjacency_matrix\u001b[0m:\u001b[36m52\u001b[0m - \u001b[34m\u001b[1mCalculating distances from buildings to services ...\u001b[0m\n",
      "\u001b[32m2024-06-14 20:35:00.227\u001b[0m | \u001b[1mINFO    \u001b[0m | \u001b[36mdongraphio.dongraphio\u001b[0m:\u001b[36mget_adjacency_matrix\u001b[0m:\u001b[36m99\u001b[0m - \u001b[1mAdjacency matrix done!\u001b[0m\n",
      "\u001b[32m2024-06-14 20:35:00.321\u001b[0m | \u001b[1mINFO    \u001b[0m | \u001b[36mdongraphio.dongraphio\u001b[0m:\u001b[36mget_adjacency_matrix\u001b[0m:\u001b[36m90\u001b[0m - \u001b[1mCreating adjacency matrix based on provided graph...\u001b[0m\n",
      "\u001b[32m2024-06-14 20:35:08.598\u001b[0m | \u001b[34m\u001b[1mDEBUG   \u001b[0m | \u001b[36mdongraphio.base_models.matrix_logic\u001b[0m:\u001b[36mget_adjacency_matrix\u001b[0m:\u001b[36m52\u001b[0m - \u001b[34m\u001b[1mCalculating distances from buildings to services ...\u001b[0m\n",
      "\u001b[32m2024-06-14 20:35:08.829\u001b[0m | \u001b[1mINFO    \u001b[0m | \u001b[36mdongraphio.dongraphio\u001b[0m:\u001b[36mget_adjacency_matrix\u001b[0m:\u001b[36m99\u001b[0m - \u001b[1mAdjacency matrix done!\u001b[0m\n",
      "\u001b[32m2024-06-14 20:35:08.833\u001b[0m | \u001b[1mINFO    \u001b[0m | \u001b[36mdongraphio.dongraphio\u001b[0m:\u001b[36mget_adjacency_matrix\u001b[0m:\u001b[36m90\u001b[0m - \u001b[1mCreating adjacency matrix based on provided graph...\u001b[0m\n",
      "\u001b[32m2024-06-14 20:35:17.042\u001b[0m | \u001b[34m\u001b[1mDEBUG   \u001b[0m | \u001b[36mdongraphio.base_models.matrix_logic\u001b[0m:\u001b[36mget_adjacency_matrix\u001b[0m:\u001b[36m52\u001b[0m - \u001b[34m\u001b[1mCalculating distances from buildings to services ...\u001b[0m\n",
      "\u001b[32m2024-06-14 20:35:17.366\u001b[0m | \u001b[1mINFO    \u001b[0m | \u001b[36mdongraphio.dongraphio\u001b[0m:\u001b[36mget_adjacency_matrix\u001b[0m:\u001b[36m99\u001b[0m - \u001b[1mAdjacency matrix done!\u001b[0m\n",
      "\u001b[32m2024-06-14 20:35:17.722\u001b[0m | \u001b[1mINFO    \u001b[0m | \u001b[36mdongraphio.dongraphio\u001b[0m:\u001b[36mget_adjacency_matrix\u001b[0m:\u001b[36m90\u001b[0m - \u001b[1mCreating adjacency matrix based on provided graph...\u001b[0m\n",
      "\u001b[32m2024-06-14 20:35:24.699\u001b[0m | \u001b[34m\u001b[1mDEBUG   \u001b[0m | \u001b[36mdongraphio.base_models.matrix_logic\u001b[0m:\u001b[36mget_adjacency_matrix\u001b[0m:\u001b[36m52\u001b[0m - \u001b[34m\u001b[1mCalculating distances from buildings to services ...\u001b[0m\n",
      "\u001b[32m2024-06-14 20:35:24.932\u001b[0m | \u001b[1mINFO    \u001b[0m | \u001b[36mdongraphio.dongraphio\u001b[0m:\u001b[36mget_adjacency_matrix\u001b[0m:\u001b[36m99\u001b[0m - \u001b[1mAdjacency matrix done!\u001b[0m\n",
      "\u001b[32m2024-06-14 20:35:24.938\u001b[0m | \u001b[1mINFO    \u001b[0m | \u001b[36mdongraphio.dongraphio\u001b[0m:\u001b[36mget_adjacency_matrix\u001b[0m:\u001b[36m90\u001b[0m - \u001b[1mCreating adjacency matrix based on provided graph...\u001b[0m\n",
      "\u001b[32m2024-06-14 20:35:31.880\u001b[0m | \u001b[34m\u001b[1mDEBUG   \u001b[0m | \u001b[36mdongraphio.base_models.matrix_logic\u001b[0m:\u001b[36mget_adjacency_matrix\u001b[0m:\u001b[36m52\u001b[0m - \u001b[34m\u001b[1mCalculating distances from buildings to services ...\u001b[0m\n",
      "\u001b[32m2024-06-14 20:35:32.072\u001b[0m | \u001b[1mINFO    \u001b[0m | \u001b[36mdongraphio.dongraphio\u001b[0m:\u001b[36mget_adjacency_matrix\u001b[0m:\u001b[36m99\u001b[0m - \u001b[1mAdjacency matrix done!\u001b[0m\n",
      "\u001b[32m2024-06-14 20:35:32.078\u001b[0m | \u001b[1mINFO    \u001b[0m | \u001b[36mdongraphio.dongraphio\u001b[0m:\u001b[36mget_adjacency_matrix\u001b[0m:\u001b[36m90\u001b[0m - \u001b[1mCreating adjacency matrix based on provided graph...\u001b[0m\n",
      "\u001b[32m2024-06-14 20:35:42.146\u001b[0m | \u001b[34m\u001b[1mDEBUG   \u001b[0m | \u001b[36mdongraphio.base_models.matrix_logic\u001b[0m:\u001b[36mget_adjacency_matrix\u001b[0m:\u001b[36m52\u001b[0m - \u001b[34m\u001b[1mCalculating distances from buildings to services ...\u001b[0m\n",
      "\u001b[32m2024-06-14 20:35:42.351\u001b[0m | \u001b[1mINFO    \u001b[0m | \u001b[36mdongraphio.dongraphio\u001b[0m:\u001b[36mget_adjacency_matrix\u001b[0m:\u001b[36m99\u001b[0m - \u001b[1mAdjacency matrix done!\u001b[0m\n",
      "\u001b[32m2024-06-14 20:35:42.359\u001b[0m | \u001b[1mINFO    \u001b[0m | \u001b[36mdongraphio.dongraphio\u001b[0m:\u001b[36mget_adjacency_matrix\u001b[0m:\u001b[36m90\u001b[0m - \u001b[1mCreating adjacency matrix based on provided graph...\u001b[0m\n",
      "\u001b[32m2024-06-14 20:35:49.919\u001b[0m | \u001b[34m\u001b[1mDEBUG   \u001b[0m | \u001b[36mdongraphio.base_models.matrix_logic\u001b[0m:\u001b[36mget_adjacency_matrix\u001b[0m:\u001b[36m52\u001b[0m - \u001b[34m\u001b[1mCalculating distances from buildings to services ...\u001b[0m\n",
      "\u001b[32m2024-06-14 20:35:50.142\u001b[0m | \u001b[1mINFO    \u001b[0m | \u001b[36mdongraphio.dongraphio\u001b[0m:\u001b[36mget_adjacency_matrix\u001b[0m:\u001b[36m99\u001b[0m - \u001b[1mAdjacency matrix done!\u001b[0m\n",
      "\u001b[32m2024-06-14 20:35:50.148\u001b[0m | \u001b[1mINFO    \u001b[0m | \u001b[36mdongraphio.dongraphio\u001b[0m:\u001b[36mget_adjacency_matrix\u001b[0m:\u001b[36m90\u001b[0m - \u001b[1mCreating adjacency matrix based on provided graph...\u001b[0m\n",
      "\u001b[32m2024-06-14 20:35:57.513\u001b[0m | \u001b[34m\u001b[1mDEBUG   \u001b[0m | \u001b[36mdongraphio.base_models.matrix_logic\u001b[0m:\u001b[36mget_adjacency_matrix\u001b[0m:\u001b[36m52\u001b[0m - \u001b[34m\u001b[1mCalculating distances from buildings to services ...\u001b[0m\n",
      "\u001b[32m2024-06-14 20:35:57.825\u001b[0m | \u001b[1mINFO    \u001b[0m | \u001b[36mdongraphio.dongraphio\u001b[0m:\u001b[36mget_adjacency_matrix\u001b[0m:\u001b[36m99\u001b[0m - \u001b[1mAdjacency matrix done!\u001b[0m\n"
     ]
    }
   ],
   "source": [
    "d3 = indicators.indicator_territory(citygraph, neud,\n",
    "                                    regions_gdf=polygons18,\n",
    "                                    districts_gdf=polygons188,\n",
    "                                    region_capital=region_capital,\n",
    "                                    region_centers=points18,\n",
    "                                    district_centers=polygons188,\n",
    "                                    settlement_centers=points,\n",
    "                                    fuel=fuel,\n",
    "                                    train_stops=stops,\n",
    "                                    international_aero=international_aero,\n",
    "                                    aero=aero,\n",
    "                                    ports=ferry,\n",
    "                                    water_objects=water_objects, \n",
    "                                    oopt=oopt, \n",
    "                                    train_paths=train_paths, \n",
    "                                    inter = None,\n",
    "                                    bus_stops=bus_stops, \n",
    "                                    bus_routes=bus_routes,crs=local_crs)"
   ]
  },
  {
   "cell_type": "markdown",
   "metadata": {},
   "source": [
    "# end"
   ]
  }
 ],
 "metadata": {
  "kernelspec": {
   "display_name": ".venv",
   "language": "python",
   "name": "python3"
  },
  "language_info": {
   "codemirror_mode": {
    "name": "ipython",
    "version": 3
   },
   "file_extension": ".py",
   "mimetype": "text/x-python",
   "name": "python",
   "nbconvert_exporter": "python",
   "pygments_lexer": "ipython3",
   "version": "3.10.11"
  }
 },
 "nbformat": 4,
 "nbformat_minor": 2
}
