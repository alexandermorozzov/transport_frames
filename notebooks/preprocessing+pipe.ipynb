{
 "cells": [
  {
   "cell_type": "markdown",
   "metadata": {},
   "source": [
    "# Inputs"
   ]
  },
  {
   "cell_type": "code",
   "execution_count": 1,
   "metadata": {},
   "outputs": [
    {
     "name": "stderr",
     "output_type": "stream",
     "text": [
      "/Users/polina/Desktop/github/transport_frames/.venv/lib/python3.10/site-packages/tqdm/auto.py:21: TqdmWarning: IProgress not found. Please update jupyter and ipywidgets. See https://ipywidgets.readthedocs.io/en/stable/user_install.html\n",
      "  from .autonotebook import tqdm as notebook_tqdm\n"
     ]
    },
    {
     "data": {
      "text/html": [
       "\n",
       "\t\t\t<script type=\"text/javascript\">\n",
       "\t\t\t<!--\n",
       "\t\t\t\t\n",
       "\t\t\t{\n",
       "\t\t\t\tvar element = document.getElementById('NetworKit_script');\n",
       "\t\t\t\tif (element) {\n",
       "\t\t\t\t\telement.parentNode.removeChild(element);\n",
       "\t\t\t\t}\n",
       "\t\t\t\telement = document.createElement('script');\n",
       "\t\t\t\telement.type = 'text/javascript';\n",
       "\t\t\t\telement.innerHTML = 'function NetworKit_pageEmbed(id) { var i, j; var elements; elements = document.getElementById(id).getElementsByClassName(\"Plot\"); for (i=0; i<elements.length; i++) { elements[i].id = id + \"_Plot_\" + i; var data = elements[i].getAttribute(\"data-image\").split(\"|\"); elements[i].removeAttribute(\"data-image\"); var content = \"<div class=\\\\\"Image\\\\\" id=\\\\\"\" + elements[i].id + \"_Image\\\\\" />\"; elements[i].innerHTML = content; elements[i].setAttribute(\"data-image-index\", 0); elements[i].setAttribute(\"data-image-length\", data.length); for (j=0; j<data.length; j++) { elements[i].setAttribute(\"data-image-\" + j, data[j]); } NetworKit_plotUpdate(elements[i]); elements[i].onclick = function (e) { NetworKit_overlayShow((e.target) ? e.target : e.srcElement); } } elements = document.getElementById(id).getElementsByClassName(\"HeatCell\"); for (i=0; i<elements.length; i++) { var data = parseFloat(elements[i].getAttribute(\"data-heat\")); var color = \"#00FF00\"; if (data <= 1 && data > 0) { color = \"hsla(0, 100%, 75%, \" + (data) + \")\"; } else if (data <= 0 && data >= -1) { color = \"hsla(240, 100%, 75%, \" + (-data) + \")\"; } elements[i].style.backgroundColor = color; } elements = document.getElementById(id).getElementsByClassName(\"Details\"); for (i=0; i<elements.length; i++) { elements[i].setAttribute(\"data-title\", \"-\"); NetworKit_toggleDetails(elements[i]); elements[i].onclick = function (e) { NetworKit_toggleDetails((e.target) ? e.target : e.srcElement); } } elements = document.getElementById(id).getElementsByClassName(\"MathValue\"); for (i=elements.length-1; i>=0; i--) { value = elements[i].innerHTML.trim(); if (value === \"nan\") { elements[i].parentNode.innerHTML = \"\" } } elements = document.getElementById(id).getElementsByClassName(\"SubCategory\"); for (i=elements.length-1; i>=0; i--) { value = elements[i].innerHTML.trim(); if (value === \"\") { elements[i].parentNode.removeChild(elements[i]) } } elements = document.getElementById(id).getElementsByClassName(\"Category\"); for (i=elements.length-1; i>=0; i--) { value = elements[i].innerHTML.trim(); if (value === \"\") { elements[i].parentNode.removeChild(elements[i]) } } var isFirefox = false; try { isFirefox = typeof InstallTrigger !== \"undefined\"; } catch (e) {} if (!isFirefox) { alert(\"Currently the function\\'s output is only fully supported by Firefox.\"); } } function NetworKit_plotUpdate(source) { var index = source.getAttribute(\"data-image-index\"); var data = source.getAttribute(\"data-image-\" + index); var image = document.getElementById(source.id + \"_Image\"); image.style.backgroundImage = \"url(\" + data + \")\"; } function NetworKit_showElement(id, show) { var element = document.getElementById(id); element.style.display = (show) ? \"block\" : \"none\"; } function NetworKit_overlayShow(source) { NetworKit_overlayUpdate(source); NetworKit_showElement(\"NetworKit_Overlay\", true); } function NetworKit_overlayUpdate(source) { document.getElementById(\"NetworKit_Overlay_Title\").innerHTML = source.title; var index = source.getAttribute(\"data-image-index\"); var data = source.getAttribute(\"data-image-\" + index); var image = document.getElementById(\"NetworKit_Overlay_Image\"); image.setAttribute(\"data-id\", source.id); image.style.backgroundImage = \"url(\" + data + \")\"; var link = document.getElementById(\"NetworKit_Overlay_Toolbar_Bottom_Save\"); link.href = data; link.download = source.title + \".svg\"; } function NetworKit_overlayImageShift(delta) { var image = document.getElementById(\"NetworKit_Overlay_Image\"); var source = document.getElementById(image.getAttribute(\"data-id\")); var index = parseInt(source.getAttribute(\"data-image-index\")); var length = parseInt(source.getAttribute(\"data-image-length\")); var index = (index+delta) % length; if (index < 0) { index = length + index; } source.setAttribute(\"data-image-index\", index); NetworKit_overlayUpdate(source); } function NetworKit_toggleDetails(source) { var childs = source.children; var show = false; if (source.getAttribute(\"data-title\") == \"-\") { source.setAttribute(\"data-title\", \"+\"); show = false; } else { source.setAttribute(\"data-title\", \"-\"); show = true; } for (i=0; i<childs.length; i++) { if (show) { childs[i].style.display = \"block\"; } else { childs[i].style.display = \"none\"; } } }';\n",
       "\t\t\t\telement.setAttribute('id', 'NetworKit_script');\n",
       "\t\t\t\tdocument.head.appendChild(element);\n",
       "\t\t\t}\n",
       "\t\t\n",
       "\t\t\t\t\n",
       "\t\t\t{\n",
       "\t\t\t\tvar element = document.getElementById('NetworKit_style');\n",
       "\t\t\t\tif (element) {\n",
       "\t\t\t\t\telement.parentNode.removeChild(element);\n",
       "\t\t\t\t}\n",
       "\t\t\t\telement = document.createElement('style');\n",
       "\t\t\t\telement.type = 'text/css';\n",
       "\t\t\t\telement.innerHTML = '.NetworKit_Page { font-family: Arial, Helvetica, sans-serif; font-size: 14px; } .NetworKit_Page .Value:before { font-family: Arial, Helvetica, sans-serif; font-size: 1.05em; content: attr(data-title) \":\"; margin-left: -2.5em; padding-right: 0.5em; } .NetworKit_Page .Details .Value:before { display: block; } .NetworKit_Page .Value { font-family: monospace; white-space: pre; padding-left: 2.5em; white-space: -moz-pre-wrap !important; white-space: -pre-wrap; white-space: -o-pre-wrap; white-space: pre-wrap; word-wrap: break-word; tab-size: 4; -moz-tab-size: 4; } .NetworKit_Page .Category { clear: both; padding-left: 1em; margin-bottom: 1.5em; } .NetworKit_Page .Category:before { content: attr(data-title); font-size: 1.75em; display: block; margin-left: -0.8em; margin-bottom: 0.5em; } .NetworKit_Page .SubCategory { margin-bottom: 1.5em; padding-left: 1em; } .NetworKit_Page .SubCategory:before { font-size: 1.6em; display: block; margin-left: -0.8em; margin-bottom: 0.5em; } .NetworKit_Page .SubCategory[data-title]:before { content: attr(data-title); } .NetworKit_Page .Block { display: block; } .NetworKit_Page .Block:after { content: \".\"; visibility: hidden; display: block; height: 0; clear: both; } .NetworKit_Page .Block .Thumbnail_Overview, .NetworKit_Page .Block .Thumbnail_ScatterPlot { width: 260px; float: left; } .NetworKit_Page .Block .Thumbnail_Overview img, .NetworKit_Page .Block .Thumbnail_ScatterPlot img { width: 260px; } .NetworKit_Page .Block .Thumbnail_Overview:before, .NetworKit_Page .Block .Thumbnail_ScatterPlot:before { display: block; text-align: center; font-weight: bold; } .NetworKit_Page .Block .Thumbnail_Overview:before { content: attr(data-title); } .NetworKit_Page .HeatCell { font-family: \"Courier New\", Courier, monospace; cursor: pointer; } .NetworKit_Page .HeatCell, .NetworKit_Page .HeatCellName { display: inline; padding: 0.1em; margin-right: 2px; background-color: #FFFFFF } .NetworKit_Page .HeatCellName { margin-left: 0.25em; } .NetworKit_Page .HeatCell:before { content: attr(data-heat); display: inline-block; color: #000000; width: 4em; text-align: center; } .NetworKit_Page .Measure { clear: both; } .NetworKit_Page .Measure .Details { cursor: pointer; } .NetworKit_Page .Measure .Details:before { content: \"[\" attr(data-title) \"]\"; display: block; } .NetworKit_Page .Measure .Details .Value { border-left: 1px dotted black; margin-left: 0.4em; padding-left: 3.5em; pointer-events: none; } .NetworKit_Page .Measure .Details .Spacer:before { content: \".\"; opacity: 0.0; pointer-events: none; } .NetworKit_Page .Measure .Plot { width: 440px; height: 440px; cursor: pointer; float: left; margin-left: -0.9em; margin-right: 20px; } .NetworKit_Page .Measure .Plot .Image { background-repeat: no-repeat; background-position: center center; background-size: contain; height: 100%; pointer-events: none; } .NetworKit_Page .Measure .Stat { width: 500px; float: left; } .NetworKit_Page .Measure .Stat .Group { padding-left: 1.25em; margin-bottom: 0.75em; } .NetworKit_Page .Measure .Stat .Group .Title { font-size: 1.1em; display: block; margin-bottom: 0.3em; margin-left: -0.75em; border-right-style: dotted; border-right-width: 1px; border-bottom-style: dotted; border-bottom-width: 1px; background-color: #D0D0D0; padding-left: 0.2em; } .NetworKit_Page .Measure .Stat .Group .List { -webkit-column-count: 3; -moz-column-count: 3; column-count: 3; } .NetworKit_Page .Measure .Stat .Group .List .Entry { position: relative; line-height: 1.75em; } .NetworKit_Page .Measure .Stat .Group .List .Entry[data-tooltip]:before { position: absolute; left: 0; top: -40px; background-color: #808080; color: #ffffff; height: 30px; line-height: 30px; border-radius: 5px; padding: 0 15px; content: attr(data-tooltip); white-space: nowrap; display: none; } .NetworKit_Page .Measure .Stat .Group .List .Entry[data-tooltip]:after { position: absolute; left: 15px; top: -10px; border-top: 7px solid #808080; border-left: 7px solid transparent; border-right: 7px solid transparent; content: \"\"; display: none; } .NetworKit_Page .Measure .Stat .Group .List .Entry[data-tooltip]:hover:after, .NetworKit_Page .Measure .Stat .Group .List .Entry[data-tooltip]:hover:before { display: block; } .NetworKit_Page .Measure .Stat .Group .List .Entry .MathValue { font-family: \"Courier New\", Courier, monospace; } .NetworKit_Page .Measure:after { content: \".\"; visibility: hidden; display: block; height: 0; clear: both; } .NetworKit_Page .PartitionPie { clear: both; } .NetworKit_Page .PartitionPie img { width: 600px; } #NetworKit_Overlay { left: 0px; top: 0px; display: none; position: absolute; width: 100%; height: 100%; background-color: rgba(0,0,0,0.6); z-index: 1000; } #NetworKit_Overlay_Title { position: absolute; color: white; transform: rotate(-90deg); width: 32em; height: 32em; padding-right: 0.5em; padding-top: 0.5em; text-align: right; font-size: 40px; } #NetworKit_Overlay .button { background: white; cursor: pointer; } #NetworKit_Overlay .button:before { size: 13px; display: inline-block; text-align: center; margin-top: 0.5em; margin-bottom: 0.5em; width: 1.5em; height: 1.5em; } #NetworKit_Overlay .icon-close:before { content: \"X\"; } #NetworKit_Overlay .icon-previous:before { content: \"P\"; } #NetworKit_Overlay .icon-next:before { content: \"N\"; } #NetworKit_Overlay .icon-save:before { content: \"S\"; } #NetworKit_Overlay_Toolbar_Top, #NetworKit_Overlay_Toolbar_Bottom { position: absolute; width: 40px; right: 13px; text-align: right; z-index: 1100; } #NetworKit_Overlay_Toolbar_Top { top: 0.5em; } #NetworKit_Overlay_Toolbar_Bottom { Bottom: 0.5em; } #NetworKit_Overlay_ImageContainer { position: absolute; top: 5%; left: 5%; height: 90%; width: 90%; background-repeat: no-repeat; background-position: center center; background-size: contain; } #NetworKit_Overlay_Image { height: 100%; width: 100%; background-repeat: no-repeat; background-position: center center; background-size: contain; }';\n",
       "\t\t\t\telement.setAttribute('id', 'NetworKit_style');\n",
       "\t\t\t\tdocument.head.appendChild(element);\n",
       "\t\t\t}\n",
       "\t\t\n",
       "\t\t\t\t\n",
       "\t\t\t{\n",
       "\t\t\t\tvar element = document.getElementById('NetworKit_Overlay');\n",
       "\t\t\t\tif (element) {\n",
       "\t\t\t\t\telement.parentNode.removeChild(element);\n",
       "\t\t\t\t}\n",
       "\t\t\t\telement = document.createElement('div');\n",
       "\t\t\t\telement.innerHTML = '<div id=\"NetworKit_Overlay_Toolbar_Top\"><div class=\"button icon-close\" id=\"NetworKit_Overlay_Close\" /></div><div id=\"NetworKit_Overlay_Title\" /> <div id=\"NetworKit_Overlay_ImageContainer\"> <div id=\"NetworKit_Overlay_Image\" /> </div> <div id=\"NetworKit_Overlay_Toolbar_Bottom\"> <div class=\"button icon-previous\" onclick=\"NetworKit_overlayImageShift(-1)\" /> <div class=\"button icon-next\" onclick=\"NetworKit_overlayImageShift(1)\" /> <a id=\"NetworKit_Overlay_Toolbar_Bottom_Save\"><div class=\"button icon-save\" /></a> </div>';\n",
       "\t\t\t\telement.setAttribute('id', 'NetworKit_Overlay');\n",
       "\t\t\t\tdocument.body.appendChild(element);\n",
       "\t\t\t\tdocument.getElementById('NetworKit_Overlay_Close').onclick = function (e) {\n",
       "\t\t\t\t\tdocument.getElementById('NetworKit_Overlay').style.display = 'none';\n",
       "\t\t\t\t}\n",
       "\t\t\t}\n",
       "\t\t\n",
       "\t\t\t-->\n",
       "\t\t\t</script>\n",
       "\t\t"
      ]
     },
     "metadata": {},
     "output_type": "display_data"
    }
   ],
   "source": [
    "import sys\n",
    "sys.path.append('../')\n",
    "import transport_frames.src.graph_builder.criteria as criteria\n",
    "import transport_frames.src.metrics.indicators as indicators\n",
    "import transport_frames.src.metrics.grade_territory as grade_territory\n",
    "import transport_frames.src.graph_builder.graphbuilder as graphbuilder\n",
    "import momepy\n",
    "import osmnx as ox\n",
    "import geopandas as gpd\n",
    "import shapely\n",
    "import pandas as pd\n",
    "import networkx as nx\n",
    "import numpy as np\n",
    "import json"
   ]
  },
  {
   "cell_type": "code",
   "execution_count": 2,
   "metadata": {},
   "outputs": [],
   "source": [
    "def create_json_file(d1, filename):\n",
    "    json_dict = {}\n",
    "    for key in d1.keys():\n",
    "        if isinstance(d1[key],(float,int)):\n",
    "            json_dict[key] = d1[key]\n",
    "        else:\n",
    "            json_dict[key] = d1[key].to_json()\n",
    "    json_object = json.dumps(json_dict)\n",
    "    with open(filename, 'w') as f:\n",
    "        f.write(json_object)"
   ]
  },
  {
   "cell_type": "code",
   "execution_count": 3,
   "metadata": {},
   "outputs": [],
   "source": [
    "# Ленинградская область EPSG: 32636  /\n",
    "# Санкт-Петербург EPSG:32636 /\n",
    "# Москва EPSG:32637 / \n",
    "# Волгоградская область EPSG:32638 77665 / нода 27504363\n",
    "# Тульская область EPSG:32637 / \n",
    "# Омская область EPSG:32643 / \n",
    "# Краснодарский край EPSG:32637 / \n",
    "# Тюменская область EPSG:32642 / \n",
    "# Московская область EPSG:32637 / \n"
   ]
  },
  {
   "cell_type": "code",
   "execution_count": 4,
   "metadata": {},
   "outputs": [],
   "source": [
    "region_name = 'Волгоградская_область'\n",
    "local_crs = 32638\n",
    "geocode = 77665\n",
    "region_capital = ox.geocode_to_gdf('N27504363',by_osmid=True)"
   ]
  },
  {
   "cell_type": "code",
   "execution_count": 5,
   "metadata": {},
   "outputs": [],
   "source": [
    "city = ox.geocode_to_gdf(f'R{geocode}', by_osmid=True).to_crs(epsg=4326)"
   ]
  },
  {
   "cell_type": "code",
   "execution_count": 9,
   "metadata": {},
   "outputs": [],
   "source": [
    "\n",
    "PLACEHOLDER = gpd.GeoDataFrame(geometry=[]) # set where are no services \n",
    "\n",
    "polygons188 = gpd.read_file(f'../data/{region_name}/settlement.geojson')\n",
    "polygons18 = gpd.read_file(f'../data/{region_name}/district.geojson')\n",
    "\n",
    "points = gpd.read_file(f'../data/{region_name}/{region_name}_region_points.geojson')\n",
    "points188 = shapely.centroid(polygons188.geometry).set_crs(polygons188.crs)\n",
    "points18 = points[points['is_admin_centre_district']==True]\n",
    "\n",
    "\n",
    "stops = gpd.read_file(f'../data/{region_name}/railway_station.geojson')\n",
    "\n",
    "fuel = gpd.read_file(f'../data/{region_name}/Копия fuel.geojson')\n",
    "\n",
    "ferry = PLACEHOLDER\n",
    "\n",
    "aero = gpd.read_file(f'../data/{region_name}/aerodrome.geojson')\n",
    "\n",
    "international_aero = aero[aero['aerodrome:type']=='international']\n",
    "international_aero['geometry'] = shapely.centroid(international_aero['geometry']).set_crs(international_aero.crs)\n",
    "\n",
    "aero = aero[aero['aerodrome:type']!='international']\n",
    "aero['geometry'] = shapely.centroid(aero['geometry']).set_crs(aero.crs)\n",
    "\n",
    "\n",
    "water_objects = PLACEHOLDER\n",
    "\n",
    "oopt = gpd.read_file(f'../data/{region_name}/Копия nature_reserve.geojson')\n",
    "\n",
    "train_paths = gpd.read_file(f'../data/{region_name}/railway.geojson')\n",
    "\n",
    "bus_stops = gpd.read_file(f'../data/{region_name}/bus_stop.geojson')\n",
    "\n",
    "russia = ox.geocode_to_gdf(\"Russia\") \n",
    "regions = gpd.read_file(f'/Users/polina/Desktop/github/transport_frames/Polina/lo_gdfs/regions_of_russia.geojson') #  get regions\n",
    "regions = regions[regions['ISO3166-2']!='RU-CHU']\n",
    "regions = regions.to_crs(city.crs)\n",
    "\n",
    "# test territory\n",
    "neud = polygons188.iloc[[0]]"
   ]
  },
  {
   "cell_type": "markdown",
   "metadata": {},
   "source": [
    "# Preprocessing"
   ]
  },
  {
   "cell_type": "code",
   "execution_count": 43,
   "metadata": {},
   "outputs": [],
   "source": [
    "import os\n",
    "\n",
    "directory = f\"../preprocessed/{region_name}/\"\n",
    "os.makedirs(directory, exist_ok=True)"
   ]
  },
  {
   "cell_type": "code",
   "execution_count": 44,
   "metadata": {},
   "outputs": [
    {
     "name": "stderr",
     "output_type": "stream",
     "text": [
      "/Users/polina/Desktop/github/transport_frames/.venv/lib/python3.10/site-packages/osmnx/_overpass.py:254: UserWarning: This area is 57 times your configured Overpass max query area size. It will automatically be divided up into multiple sub-queries accordingly. This may take a long time.\n",
      "  multi_poly_proj = utils_geo._consolidate_subdivide_geometry(poly_proj)\n"
     ]
    }
   ],
   "source": [
    "# write an uds graph\n",
    "citygraph = graphbuilder.get_graph_from_polygon(city, crs=local_crs,country_polygon=russia)\n",
    "citygraph_ = graphbuilder.convert_list_attr_to_str(citygraph)\n",
    "nx.write_graphml(citygraph_, f\"../preprocessed/{region_name}/{region_name}_uds.graphml\")"
   ]
  },
  {
   "cell_type": "code",
   "execution_count": 45,
   "metadata": {},
   "outputs": [
    {
     "name": "stderr",
     "output_type": "stream",
     "text": [
      "\u001b[32m2024-06-14 19:53:18.299\u001b[0m | \u001b[1mINFO    \u001b[0m | \u001b[36mdongraphio.dongraphio\u001b[0m:\u001b[36mget_intermodal_graph_from_osm\u001b[0m:\u001b[36m61\u001b[0m - \u001b[1mCreating intermodal graph from OSM...\u001b[0m\n",
      "\u001b[32m2024-06-14 19:53:18.305\u001b[0m | \u001b[33m\u001b[1mWARNING \u001b[0m | \u001b[36mdongraphio.base_models.grapher_logic\u001b[0m:\u001b[36mget_public_trasport_graph\u001b[0m:\u001b[36m237\u001b[0m - \u001b[33m\u001b[1mFiles with routes or with stops was not found. The graph will be built based on data from OSM\u001b[0m\n",
      "\u001b[32m2024-06-14 19:53:19.789\u001b[0m | \u001b[33m\u001b[1mWARNING \u001b[0m | \u001b[36mdongraphio.base_models.grapher_logic\u001b[0m:\u001b[36mpublic_routes_to_edges\u001b[0m:\u001b[36m162\u001b[0m - \u001b[33m\u001b[1mIt seems there are no subway routes in the city. This transport type will be skipped.\u001b[0m\n",
      "\u001b[32m2024-06-14 19:53:49.339\u001b[0m | \u001b[1mINFO    \u001b[0m | \u001b[36mdongraphio.base_models.grapher_logic\u001b[0m:\u001b[36mget_public_trasport_graph\u001b[0m:\u001b[36m285\u001b[0m - \u001b[1mPublic transport graph done!\u001b[0m\n",
      "\u001b[32m2024-06-14 19:53:49.757\u001b[0m | \u001b[34m\u001b[1mDEBUG   \u001b[0m | \u001b[36mdongraphio.base_models.grapher_logic\u001b[0m:\u001b[36mget_osmnx_graph\u001b[0m:\u001b[36m95\u001b[0m - \u001b[34m\u001b[1mExtracting and preparing walk graph from OSM ...\u001b[0m\n",
      "/Users/polina/Desktop/github/transport_frames/.venv/lib/python3.10/site-packages/osmnx/_overpass.py:254: UserWarning: This area is 55 times your configured Overpass max query area size. It will automatically be divided up into multiple sub-queries accordingly. This may take a long time.\n",
      "  multi_poly_proj = utils_geo._consolidate_subdivide_geometry(poly_proj)\n",
      "\u001b[32m2024-06-14 20:00:51.957\u001b[0m | \u001b[34m\u001b[1mDEBUG   \u001b[0m | \u001b[36mdongraphio.base_models.grapher_logic\u001b[0m:\u001b[36mget_osmnx_graph\u001b[0m:\u001b[36m95\u001b[0m - \u001b[34m\u001b[1mExtracting and preparing drive graph from OSM ...\u001b[0m\n",
      "/Users/polina/Desktop/github/transport_frames/.venv/lib/python3.10/site-packages/osmnx/_overpass.py:254: UserWarning: This area is 55 times your configured Overpass max query area size. It will automatically be divided up into multiple sub-queries accordingly. This may take a long time.\n",
      "  multi_poly_proj = utils_geo._consolidate_subdivide_geometry(poly_proj)\n",
      "\u001b[32m2024-06-14 20:03:43.168\u001b[0m | \u001b[34m\u001b[1mDEBUG   \u001b[0m | \u001b[36mdongraphio.base_models.grapher_logic\u001b[0m:\u001b[36mget_intermodal_graph\u001b[0m:\u001b[36m46\u001b[0m - \u001b[34m\u001b[1mPreparing union of city_graphs...\u001b[0m\n",
      "\u001b[32m2024-06-14 20:04:53.801\u001b[0m | \u001b[1mINFO    \u001b[0m | \u001b[36mdongraphio.base_models.grapher_logic\u001b[0m:\u001b[36mget_intermodal_graph\u001b[0m:\u001b[36m66\u001b[0m - \u001b[1mIntermodal graph done!\n",
      "\u001b[0m\n",
      "/var/folders/ch/1hzm9xv12jg458kt9c3nl6_h0000gn/T/ipykernel_52432/3316533814.py:11: UserWarning: Approach is not set. Defaulting to 'primal'.\n",
      "  ni,ei = momepy.nx_to_gdf(inter)\n"
     ]
    }
   ],
   "source": [
    "# # write inter into graphml\n",
    "inter = indicators.get_intermodal(geocode,local_crs)\n",
    "e = [\n",
    "        (u, v, k)\n",
    "        for u, v, k, d in inter.edges(data=True, keys=True)\n",
    "        if d.get(\"type\") in (['bus','walk'])\n",
    "    ]\n",
    "inter = inter.edge_subgraph(e)\n",
    "\n",
    "# save routes and stops\n",
    "ni,ei = momepy.nx_to_gdf(inter)\n",
    "bus_routes = ei[ei['type']=='bus']\n",
    "bus_routes.to_file(f'../preprocessed/{region_name}/{region_name}_bus_routes.geojson')\n",
    "\n",
    "# convert to file\n",
    "inter_= graphbuilder.convert_list_attr_to_str(inter)\n",
    "for node,e,data in inter_.edges(data=True):\n",
    "    if 'geometry' in data:\n",
    "        data['geometry']=str(data['geometry'])\n",
    "nx.write_graphml(inter_, f\"../preprocessed/{region_name}/{region_name}_inter.graphml\")"
   ]
  },
  {
   "cell_type": "code",
   "execution_count": 46,
   "metadata": {},
   "outputs": [
    {
     "name": "stderr",
     "output_type": "stream",
     "text": [
      "/var/folders/ch/1hzm9xv12jg458kt9c3nl6_h0000gn/T/ipykernel_52432/1013225357.py:2: FutureWarning: The `op` parameter is deprecated and will be removed in a future release. Please use the `predicate` parameter instead.\n",
      "  frame = graphbuilder.get_frame(citygraph,regions.to_crs(city.crs),city)\n",
      "/Users/polina/Desktop/github/transport_frames/notebooks/../transport_frames/src/graph_builder/graphbuilder.py:505: FutureWarning: Setting an item of incompatible dtype is deprecated and will raise an error in a future version of pandas. Value '[0.06]' has dtype incompatible with int64, please explicitly cast to a compatible dtype first.\n",
      "  n.loc[(n[\"nodeID\"] == path[j]), \"weight\"] += weight\n",
      "/Users/polina/Desktop/github/transport_frames/notebooks/../transport_frames/src/graph_builder/graphbuilder.py:506: FutureWarning: Setting an item of incompatible dtype is deprecated and will raise an error in a future version of pandas. Value '[0.06]' has dtype incompatible with int64, please explicitly cast to a compatible dtype first.\n",
      "  e.loc[\n"
     ]
    }
   ],
   "source": [
    "# write frame into graphml\n",
    "frame = graphbuilder.get_frame(citygraph,regions.to_crs(city.crs),city)\n",
    "frame = graphbuilder.assign_city_names_to_nodes(points18.reset_index().to_crs(frame.graph['crs']), \n",
    "                                                momepy.nx_to_gdf(frame)[0], frame, name_col='name', max_distance=1200)\n",
    "frame_ = frame.copy()\n",
    "for node,e,data in frame_.edges(data=True):\n",
    "    if 'geometry' in data:\n",
    "        data['geometry']=str(data['geometry'])\n",
    "for node,data in frame_.nodes(data=True):\n",
    "    if 'ref' in data:\n",
    "        data['ref']=str(data['ref'])\n",
    "frame_ = graphbuilder.convert_list_attr_to_str(frame_)\n",
    "nx.write_graphml(frame_, f\"../preprocessed/{region_name}/{region_name}_frame.graphml\")"
   ]
  },
  {
   "cell_type": "markdown",
   "metadata": {},
   "source": [
    "# Processing"
   ]
  },
  {
   "cell_type": "code",
   "execution_count": 10,
   "metadata": {},
   "outputs": [],
   "source": [
    "citygraph = nx.read_graphml(f'../preprocessed/{region_name}/{region_name}_uds.graphml')\n",
    "citygraph = graphbuilder.convert_list_attr_from_str(citygraph)\n",
    "citygraph = indicators.prepare_graph(citygraph)"
   ]
  },
  {
   "cell_type": "code",
   "execution_count": 11,
   "metadata": {},
   "outputs": [],
   "source": [
    "inter = nx.read_graphml(f\"../preprocessed/{region_name}/{region_name}_inter.graphml\")\n",
    "inter = graphbuilder.convert_list_attr_from_str(inter)\n",
    "inter = indicators.prepare_graph(inter)"
   ]
  },
  {
   "cell_type": "code",
   "execution_count": 13,
   "metadata": {},
   "outputs": [],
   "source": [
    "bus_routes = gpd.read_file(f'../preprocessed/{region_name}/{region_name}_bus_routes.geojson')\n",
    "\n",
    "# # or if we don't have them:\n",
    "# ni,ei = momepy.nx_to_gdf(inter)\n",
    "# bus_routes = ei[ei['type']=='bus']"
   ]
  },
  {
   "cell_type": "code",
   "execution_count": 14,
   "metadata": {},
   "outputs": [],
   "source": [
    "frame = nx.read_graphml(f\"../preprocessed/{region_name}/{region_name}_frame.graphml\")\n",
    "frame = graphbuilder.convert_list_attr_from_str(frame)\n",
    "frame = indicators.prepare_graph(frame)"
   ]
  },
  {
   "cell_type": "code",
   "execution_count": null,
   "metadata": {},
   "outputs": [],
   "source": [
    "d0 = indicators.indicator_area(citygraph, city, points, inter,region_capital, \n",
    "                               fuel, stops, international_aero, aero, ferry,train_paths,bus_stops, crs=local_crs)\n",
    "for k,v in d0.items():\n",
    "    if isinstance(v,gpd.GeoDataFrame):\n",
    "        cols_to_drop = [col for col in v.columns if col not in ['index', 'name', 'layer', 'density', 'geometry', 'reg1_length', 'reg2_length', 'reg3_length', 'to_service', 'index', 'number_of_routes', 'service_count', 'total_length_km']]\n",
    "        v.drop(cols_to_drop, axis=1, inplace=True)\n",
    "create_json_file(d0,f\"../preprocessed/{region_name}/{region_name}_indicators_region.json\")"
   ]
  },
  {
   "cell_type": "code",
   "execution_count": null,
   "metadata": {},
   "outputs": [],
   "source": [
    "d1 = indicators.indicator_area(citygraph, polygons18, points, inter,region_capital, fuel, stops, international_aero, aero, ferry,train_paths,bus_stops, crs=local_crs)\n",
    "\n",
    "for k,v in d1.items():\n",
    "    if isinstance(v,gpd.GeoDataFrame):\n",
    "        cols_to_drop = [col for col in v.columns if col not in ['index', 'name', 'layer', 'density', 'geometry', 'reg1_length', 'reg2_length', 'reg3_length', 'to_service', 'index', 'number_of_routes', 'service_count', 'total_length_km']]\n",
    "        v.drop(cols_to_drop, axis=1, inplace=True)\n",
    "create_json_file(d1,f\"../preprocessed/{region_name}/{region_name}_indicators_mr.json\")"
   ]
  },
  {
   "cell_type": "code",
   "execution_count": null,
   "metadata": {},
   "outputs": [],
   "source": [
    "d2 = indicators.indicator_area(citygraph, polygons188, points, inter,region_capital, \n",
    "                               fuel, stops, international_aero, aero, ferry,train_paths,bus_stops, crs=local_crs)\n",
    "\n",
    "for k,v in d2.items():\n",
    "    if isinstance(v,gpd.GeoDataFrame):\n",
    "        cols_to_drop = [col for col in v.columns if col not in ['index', 'name', 'layer', 'density', 'geometry', 'reg1_length', 'reg2_length', 'reg3_length', 'to_service', 'index', 'number_of_routes', 'service_count', 'total_length_km']]\n",
    "        v.drop(cols_to_drop, axis=1, inplace=True)\n",
    "create_json_file(d2,f\"../preprocessed/{region_name}/{region_name}_indicators_gpsp.json\")"
   ]
  },
  {
   "cell_type": "code",
   "execution_count": null,
   "metadata": {},
   "outputs": [],
   "source": [
    "d3 = indicators.indicator_territory(citygraph, neud,\n",
    "                                    regions_gdf=polygons18,\n",
    "                                    districts_gdf=polygons188,\n",
    "                                    region_capital=region_capital,\n",
    "                                    region_centers=points18,\n",
    "                                    district_centers=polygons188,\n",
    "                                    settlement_centers=points,\n",
    "                                    fuel=fuel,\n",
    "                                    train_stops=stops,\n",
    "                                    international_aero=international_aero,\n",
    "                                    aero=aero,\n",
    "                                    ports=ferry,\n",
    "                                    water_objects=water_objects, \n",
    "                                    oopt=oopt, \n",
    "                                    train_paths=train_paths, \n",
    "                                    inter = None,\n",
    "                                    bus_stops=bus_stops, \n",
    "                                    bus_routes=bus_routes,crs=local_crs)"
   ]
  }
 ],
 "metadata": {
  "kernelspec": {
   "display_name": ".venv",
   "language": "python",
   "name": "python3"
  },
  "language_info": {
   "codemirror_mode": {
    "name": "ipython",
    "version": 3
   },
   "file_extension": ".py",
   "mimetype": "text/x-python",
   "name": "python",
   "nbconvert_exporter": "python",
   "pygments_lexer": "ipython3",
   "version": "3.10.11"
  }
 },
 "nbformat": 4,
 "nbformat_minor": 2
}
