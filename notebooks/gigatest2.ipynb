{
 "cells": [
  {
   "cell_type": "code",
   "execution_count": 8,
   "metadata": {},
   "outputs": [
    {
     "ename": "ImportError",
     "evalue": "cannot import name 'HIGHWAY_MAPPING' from 'transport_frames.constants.constant_osm_tags' (/Users/polina/Desktop/github/transport_frames/notebooks/../transport_frames/constants/constant_osm_tags.py)",
     "output_type": "error",
     "traceback": [
      "\u001b[0;31m---------------------------------------------------------------------------\u001b[0m",
      "\u001b[0;31mImportError\u001b[0m                               Traceback (most recent call last)",
      "Cell \u001b[0;32mIn[8], line 3\u001b[0m\n\u001b[1;32m      1\u001b[0m \u001b[38;5;28;01mimport\u001b[39;00m \u001b[38;5;21;01msys\u001b[39;00m\n\u001b[1;32m      2\u001b[0m sys\u001b[38;5;241m.\u001b[39mpath\u001b[38;5;241m.\u001b[39mappend(\u001b[38;5;124m'\u001b[39m\u001b[38;5;124m../\u001b[39m\u001b[38;5;124m'\u001b[39m)\n\u001b[0;32m----> 3\u001b[0m \u001b[38;5;28;01mimport\u001b[39;00m \u001b[38;5;21;01mtransport_frames\u001b[39;00m\u001b[38;5;21;01m.\u001b[39;00m\u001b[38;5;21;01msrc\u001b[39;00m\u001b[38;5;21;01m.\u001b[39;00m\u001b[38;5;21;01mgraph_builder\u001b[39;00m\u001b[38;5;21;01m.\u001b[39;00m\u001b[38;5;21;01mcriteria\u001b[39;00m \u001b[38;5;28;01mas\u001b[39;00m \u001b[38;5;21;01mcriteria\u001b[39;00m\n\u001b[1;32m      4\u001b[0m \u001b[38;5;28;01mimport\u001b[39;00m \u001b[38;5;21;01mtransport_frames\u001b[39;00m\u001b[38;5;21;01m.\u001b[39;00m\u001b[38;5;21;01msrc\u001b[39;00m\u001b[38;5;21;01m.\u001b[39;00m\u001b[38;5;21;01mmetrics\u001b[39;00m\u001b[38;5;21;01m.\u001b[39;00m\u001b[38;5;21;01mindicators\u001b[39;00m \u001b[38;5;28;01mas\u001b[39;00m \u001b[38;5;21;01mindicators\u001b[39;00m\n\u001b[1;32m      5\u001b[0m \u001b[38;5;28;01mimport\u001b[39;00m \u001b[38;5;21;01mtransport_frames\u001b[39;00m\u001b[38;5;21;01m.\u001b[39;00m\u001b[38;5;21;01msrc\u001b[39;00m\u001b[38;5;21;01m.\u001b[39;00m\u001b[38;5;21;01mmetrics\u001b[39;00m\u001b[38;5;21;01m.\u001b[39;00m\u001b[38;5;21;01mgrade_territory\u001b[39;00m \u001b[38;5;28;01mas\u001b[39;00m \u001b[38;5;21;01mgrade_territory\u001b[39;00m\n",
      "File \u001b[0;32m~/Desktop/github/transport_frames/notebooks/../transport_frames/src/graph_builder/criteria.py:3\u001b[0m\n\u001b[1;32m      1\u001b[0m \u001b[38;5;28;01mimport\u001b[39;00m \u001b[38;5;21;01mgeopandas\u001b[39;00m \u001b[38;5;28;01mas\u001b[39;00m \u001b[38;5;21;01mgpd\u001b[39;00m\n\u001b[1;32m      2\u001b[0m \u001b[38;5;28;01mimport\u001b[39;00m \u001b[38;5;21;01mpandas\u001b[39;00m \u001b[38;5;28;01mas\u001b[39;00m \u001b[38;5;21;01mpd\u001b[39;00m\n\u001b[0;32m----> 3\u001b[0m \u001b[38;5;28;01mimport\u001b[39;00m \u001b[38;5;21;01mtransport_frames\u001b[39;00m\u001b[38;5;21;01m.\u001b[39;00m\u001b[38;5;21;01msrc\u001b[39;00m\u001b[38;5;21;01m.\u001b[39;00m\u001b[38;5;21;01mmetrics\u001b[39;00m\u001b[38;5;21;01m.\u001b[39;00m\u001b[38;5;21;01mindicators\u001b[39;00m \u001b[38;5;28;01mas\u001b[39;00m \u001b[38;5;21;01mindicators\u001b[39;00m\n\u001b[1;32m      4\u001b[0m \u001b[38;5;28;01mimport\u001b[39;00m \u001b[38;5;21;01mnumpy\u001b[39;00m \u001b[38;5;28;01mas\u001b[39;00m \u001b[38;5;21;01mnp\u001b[39;00m\n\u001b[1;32m      5\u001b[0m \u001b[38;5;28;01mfrom\u001b[39;00m \u001b[38;5;21;01mdongraphio\u001b[39;00m \u001b[38;5;28;01mimport\u001b[39;00m GraphType\n",
      "File \u001b[0;32m~/Desktop/github/transport_frames/notebooks/../transport_frames/src/metrics/indicators.py:12\u001b[0m\n\u001b[1;32m     10\u001b[0m \u001b[38;5;28;01mimport\u001b[39;00m \u001b[38;5;21;01mmatplotlib\u001b[39;00m\u001b[38;5;21;01m.\u001b[39;00m\u001b[38;5;21;01mpyplot\u001b[39;00m \u001b[38;5;28;01mas\u001b[39;00m \u001b[38;5;21;01mplt\u001b[39;00m\n\u001b[1;32m     11\u001b[0m \u001b[38;5;28;01mimport\u001b[39;00m \u001b[38;5;21;01mmomepy\u001b[39;00m\n\u001b[0;32m---> 12\u001b[0m \u001b[38;5;28;01mimport\u001b[39;00m \u001b[38;5;21;01mtransport_frames\u001b[39;00m\u001b[38;5;21;01m.\u001b[39;00m\u001b[38;5;21;01msrc\u001b[39;00m\u001b[38;5;21;01m.\u001b[39;00m\u001b[38;5;21;01mgraph_builder\u001b[39;00m\u001b[38;5;21;01m.\u001b[39;00m\u001b[38;5;21;01mgraphbuilder\u001b[39;00m \u001b[38;5;28;01mas\u001b[39;00m \u001b[38;5;21;01mgraphbuilder\u001b[39;00m\n\u001b[1;32m     14\u001b[0m \u001b[38;5;28;01mdef\u001b[39;00m \u001b[38;5;21mprepare_graph\u001b[39m(graph_orig: nx\u001b[38;5;241m.\u001b[39mMultiDiGraph) \u001b[38;5;241m-\u001b[39m\u001b[38;5;241m>\u001b[39m nx\u001b[38;5;241m.\u001b[39mMultiDiGraph:\n\u001b[1;32m     15\u001b[0m \u001b[38;5;250m    \u001b[39m\u001b[38;5;124;03m\"\"\"\u001b[39;00m\n\u001b[1;32m     16\u001b[0m \u001b[38;5;124;03m    Prepare the graph for analysis by converting node names to integers and extract edge geometries from WKT format.\u001b[39;00m\n\u001b[1;32m     17\u001b[0m \n\u001b[0;32m   (...)\u001b[0m\n\u001b[1;32m     22\u001b[0m \u001b[38;5;124;03m    networkx.MultiDiGraph: The prepared graph with node names as integers and geometries as WKT.\u001b[39;00m\n\u001b[1;32m     23\u001b[0m \u001b[38;5;124;03m    \"\"\"\u001b[39;00m\n",
      "File \u001b[0;32m~/Desktop/github/transport_frames/notebooks/../transport_frames/src/graph_builder/graphbuilder.py:13\u001b[0m\n\u001b[1;32m     10\u001b[0m \u001b[38;5;28;01mfrom\u001b[39;00m \u001b[38;5;21;01mloguru\u001b[39;00m \u001b[38;5;28;01mimport\u001b[39;00m logger\n\u001b[1;32m     11\u001b[0m \u001b[38;5;28;01mfrom\u001b[39;00m \u001b[38;5;21;01mshapely\u001b[39;00m\u001b[38;5;21;01m.\u001b[39;00m\u001b[38;5;21;01mgeometry\u001b[39;00m \u001b[38;5;28;01mimport\u001b[39;00m LineString, Point\n\u001b[0;32m---> 13\u001b[0m \u001b[38;5;28;01mfrom\u001b[39;00m \u001b[38;5;21;01mtransport_frames\u001b[39;00m\u001b[38;5;21;01m.\u001b[39;00m\u001b[38;5;21;01mconstants\u001b[39;00m\u001b[38;5;21;01m.\u001b[39;00m\u001b[38;5;21;01mconstant_osm_tags\u001b[39;00m \u001b[38;5;28;01mimport\u001b[39;00m HIGHWAY_MAPPING, MAXSPEEDS\n\u001b[1;32m     15\u001b[0m \u001b[38;5;66;03m# перевод в геометрию\u001b[39;00m\n\u001b[1;32m     16\u001b[0m \u001b[38;5;28;01mdef\u001b[39;00m \u001b[38;5;21mconvert_geometry_from_wkt\u001b[39m(graph):\n",
      "\u001b[0;31mImportError\u001b[0m: cannot import name 'HIGHWAY_MAPPING' from 'transport_frames.constants.constant_osm_tags' (/Users/polina/Desktop/github/transport_frames/notebooks/../transport_frames/constants/constant_osm_tags.py)"
     ]
    }
   ],
   "source": [
    "import sys\n",
    "sys.path.append('../')\n",
    "import transport_frames.src.graph_builder.criteria as criteria\n",
    "import transport_frames.src.metrics.indicators as indicators\n",
    "import transport_frames.src.metrics.grade_territory as grade_territory\n",
    "import transport_frames.src.graph_builder.graphbuilder as graphbuilder\n",
    "import momepy\n",
    "import osmnx as ox\n",
    "import geopandas as gpd\n",
    "import shapely\n",
    "import pandas as pd\n",
    "import networkx as nx\n",
    "import numpy as np"
   ]
  },
  {
   "cell_type": "code",
   "execution_count": 3,
   "metadata": {},
   "outputs": [],
   "source": [
    "points188 = gpd.read_file('Polina/lo_gdfs/admin_centers_LO_188_nodes.geojson')\n",
    "points18 = gpd.read_file('Polina/lo_gdfs/17(18)_centers.geojson')\n",
    "points = gpd.read_file('Polina/lo_gdfs/points.geojson')\n",
    "\n",
    "polygons188 = gpd.read_file('Polina/lo_gdfs/polygons188.geojson')\n",
    "polygons18 = gpd.read_file('Polina/lo_gdfs/polygons18.geojson')"
   ]
  },
  {
   "cell_type": "code",
   "execution_count": 4,
   "metadata": {},
   "outputs": [],
   "source": [
    "lo_polygon = ox.geocode_to_gdf('R176095', by_osmid=True).to_crs(epsg=32636)\n",
    "spb_polygon = ox.geocode_to_gdf('R337422', by_osmid=True).to_crs(epsg=32636).buffer(3000)\n",
    "city = lo_polygon.union(spb_polygon).to_crs(epsg=4326) #  get lo polygon\n",
    "\n",
    "russia = ox.geocode_to_gdf(\"Russia\") #  get border of the country\n",
    "\n",
    "regions = gpd.read_file('Polina/lo_gdfs/regions_of_russia.geojson') #  get regions\n",
    "regions = regions[regions['ISO3166-2']!='RU-CHU']\n",
    "regions = regions.to_crs(city.crs)"
   ]
  },
  {
   "cell_type": "code",
   "execution_count": 5,
   "metadata": {},
   "outputs": [],
   "source": [
    "spb = ox.geocode_to_gdf('N27490597', by_osmid=True)  # СПб\n",
    "center = ox.geocode_to_gdf('N27025179',by_osmid=True)"
   ]
  },
  {
   "cell_type": "code",
   "execution_count": 6,
   "metadata": {},
   "outputs": [],
   "source": [
    "stops = gpd.read_file('/Users/polina/Desktop/don/gdfs/ЖД остановки.geojson')\n",
    "\n",
    "fuel = gpd.read_file('/Users/polina/Desktop/don/gdfs/fuel.geojson')\n",
    "\n",
    "spb = ox.geocode_to_gdf('N27490597', by_osmid=True)  # СПб\n",
    "\n",
    "ferry = gpd.read_file('/Users/polina/Desktop/don/gdfs/water_transport_LO.geojson')\n",
    "\n",
    "aero = gpd.read_file('/Users/polina/Desktop/don/gdfs/airports_local_LO.geojson')\n",
    "\n",
    "international_aero = gpd.read_file('Polina/lo_gdfs/pulkovo.geojson').iloc[[0]]\n",
    "\n",
    "international_aero['geometry'] = shapely.centroid(international_aero.geometry).iloc[[0]]\n",
    "\n",
    "water_objects = gpd.read_file('Polina/lo_gdfs/Водомы итог (конец).geojson')\n",
    "\n",
    "oopt = gpd.read_file('Polina/lo_gdfs/ООПТ ЛО.geojson')\n",
    "\n",
    "# test territory\n",
    "neud = gpd.read_file('Polina/lo_gdfs/project Шлиссельбург.geojson')"
   ]
  },
  {
   "cell_type": "code",
   "execution_count": 7,
   "metadata": {},
   "outputs": [
    {
     "name": "stderr",
     "output_type": "stream",
     "text": [
      "/Users/polina/Desktop/github/transport_frames/.venv/lib/python3.10/site-packages/osmnx/_overpass.py:254: UserWarning: This area is 52 times your configured Overpass max query area size. It will automatically be divided up into multiple sub-queries accordingly. This may take a long time.\n",
      "  multi_poly_proj = utils_geo._consolidate_subdivide_geometry(poly_proj)\n"
     ]
    }
   ],
   "source": [
    "citygraph = graphbuilder.get_graph_from_polygon(city, crs=32636,country_polygon=russia)\n"
   ]
  },
  {
   "cell_type": "code",
   "execution_count": 8,
   "metadata": {},
   "outputs": [],
   "source": [
    "inter = nx.read_graphml('Polina/lo_gdfs/inter.graphml')\n",
    "inter = indicators.prepare_graph(inter)"
   ]
  },
  {
   "cell_type": "markdown",
   "metadata": {},
   "source": [
    "# Показатели (регион, район, территория)"
   ]
  },
  {
   "cell_type": "code",
   "execution_count": 9,
   "metadata": {},
   "outputs": [
    {
     "name": "stdout",
     "output_type": "stream",
     "text": [
      "Плотность: 429.819 км/км^2\n",
      "   reg       geometry\n",
      "0    1    8772.213489\n",
      "1    2   42648.895002\n",
      "2    3  115447.887015\n",
      "\u001b[32m06-07 15:42\u001b[0m | \u001b[1mINFO    \u001b[0m | \u001b[36mCreating adjacency matrix based on provided graph...\u001b[0m\n",
      "\u001b[32m06-07 15:45\u001b[0m | \u001b[1mINFO    \u001b[0m | \u001b[36mAdjacency matrix done!\u001b[0m\n"
     ]
    },
    {
     "name": "stderr",
     "output_type": "stream",
     "text": [
      "/Users/polina/Desktop/github/transport_frames/.venv/lib/python3.10/site-packages/numpy/core/_methods.py:118: RuntimeWarning: overflow encountered in reduce\n",
      "  ret = umr_sum(arr, axis, dtype, out, keepdims, where=where)\n"
     ]
    },
    {
     "name": "stdout",
     "output_type": "stream",
     "text": [
      "\u001b[32m06-07 15:45\u001b[0m | \u001b[1mINFO    \u001b[0m | \u001b[36mCreating adjacency matrix based on provided graph...\u001b[0m\n",
      "\u001b[32m06-07 15:52\u001b[0m | \u001b[1mINFO    \u001b[0m | \u001b[36mAdjacency matrix done!\u001b[0m\n"
     ]
    },
    {
     "name": "stderr",
     "output_type": "stream",
     "text": [
      "/Users/polina/Desktop/github/transport_frames/.venv/lib/python3.10/site-packages/numpy/core/_methods.py:118: RuntimeWarning: overflow encountered in reduce\n",
      "  ret = umr_sum(arr, axis, dtype, out, keepdims, where=where)\n"
     ]
    },
    {
     "name": "stdout",
     "output_type": "stream",
     "text": [
      "\u001b[32m06-07 15:52\u001b[0m | \u001b[1mINFO    \u001b[0m | \u001b[36mCreating adjacency matrix based on provided graph...\u001b[0m\n",
      "\u001b[32m06-07 15:53\u001b[0m | \u001b[1mINFO    \u001b[0m | \u001b[36mAdjacency matrix done!\u001b[0m\n",
      "Some services cannot be reached from some nodes of the graph. The nodes were removed from analysis\n",
      "\u001b[32m06-07 15:53\u001b[0m | \u001b[1mINFO    \u001b[0m | \u001b[36mCreating adjacency matrix based on provided graph...\u001b[0m\n",
      "\u001b[32m06-07 15:56\u001b[0m | \u001b[1mINFO    \u001b[0m | \u001b[36mAdjacency matrix done!\u001b[0m\n",
      "Some services cannot be reached from some nodes of the graph. The nodes were removed from analysis\n",
      "\u001b[32m06-07 15:56\u001b[0m | \u001b[1mINFO    \u001b[0m | \u001b[36mCreating adjacency matrix based on provided graph...\u001b[0m\n",
      "\u001b[32m06-07 15:57\u001b[0m | \u001b[1mINFO    \u001b[0m | \u001b[36mAdjacency matrix done!\u001b[0m\n",
      "Some services cannot be reached from some nodes of the graph. The nodes were removed from analysis\n",
      "\u001b[32m06-07 15:57\u001b[0m | \u001b[1mINFO    \u001b[0m | \u001b[36mCreating adjacency matrix based on provided graph...\u001b[0m\n",
      "\u001b[32m06-07 15:57\u001b[0m | \u001b[1mINFO    \u001b[0m | \u001b[36mAdjacency matrix done!\u001b[0m\n",
      "Some services cannot be reached from some nodes of the graph. The nodes were removed from analysis\n",
      "\u001b[32m06-07 15:57\u001b[0m | \u001b[1mINFO    \u001b[0m | \u001b[36mCreating adjacency matrix based on provided graph...\u001b[0m\n",
      "\u001b[32m06-07 15:58\u001b[0m | \u001b[1mINFO    \u001b[0m | \u001b[36mAdjacency matrix done!\u001b[0m\n",
      "\u001b[32m06-07 15:58\u001b[0m | \u001b[1mINFO    \u001b[0m | \u001b[36mCreating adjacency matrix based on provided graph...\u001b[0m\n",
      "\u001b[32m06-07 15:58\u001b[0m | \u001b[1mINFO    \u001b[0m | \u001b[36mAdjacency matrix done!\u001b[0m\n",
      "Some services cannot be reached from some nodes of the graph. The nodes were removed from analysis\n",
      "\u001b[32m06-07 15:58\u001b[0m | \u001b[1mINFO    \u001b[0m | \u001b[36mCreating adjacency matrix based on provided graph...\u001b[0m\n",
      "\u001b[32m06-07 15:59\u001b[0m | \u001b[1mINFO    \u001b[0m | \u001b[36mAdjacency matrix done!\u001b[0m\n",
      "Some services cannot be reached from some nodes of the graph. The nodes were removed from analysis\n",
      "\u001b[32m06-07 15:59\u001b[0m | \u001b[1mINFO    \u001b[0m | \u001b[36mCreating adjacency matrix based on provided graph...\u001b[0m\n",
      "\u001b[32m06-07 15:59\u001b[0m | \u001b[1mINFO    \u001b[0m | \u001b[36mAdjacency matrix done!\u001b[0m\n",
      "Some services cannot be reached from some nodes of the graph. The nodes were removed from analysis\n"
     ]
    },
    {
     "name": "stderr",
     "output_type": "stream",
     "text": [
      "/Users/polina/Desktop/github/transport_frames/transport_frames/metrics/indicators.py:306: UserWarning: Approach is not set. Defaulting to 'primal'.\n",
      "  ni,ei = momepy.nx_to_gdf(inter)\n"
     ]
    }
   ],
   "source": [
    "# показатели на уровне региона\n",
    "\n",
    "d1 = indicators.indicator_area(citygraph, city, polygons18, points, polygons188, inter, spb, center,fuel, stops, international_aero, aero, ferry)"
   ]
  },
  {
   "cell_type": "code",
   "execution_count": 9,
   "metadata": {},
   "outputs": [],
   "source": [
    "# показатели на уровне района\n",
    "\n",
    "d2 = indicators.indicator_area(citygraph, city,polygons188,points, polygons188, inter,spb,center,fuel,stops,international_aero,aero,ferry)"
   ]
  },
  {
   "cell_type": "code",
   "execution_count": 10,
   "metadata": {},
   "outputs": [
    {
     "name": "stdout",
     "output_type": "stream",
     "text": [
      "\u001b[32m06-07 15:05\u001b[0m | \u001b[1mINFO    \u001b[0m | \u001b[36mCreating adjacency matrix based on provided graph...\u001b[0m\n",
      "\u001b[32m06-07 15:05\u001b[0m | \u001b[1mINFO    \u001b[0m | \u001b[36mAdjacency matrix done!\u001b[0m\n",
      "\u001b[32m06-07 15:05\u001b[0m | \u001b[1mINFO    \u001b[0m | \u001b[36mCreating adjacency matrix based on provided graph...\u001b[0m\n",
      "\u001b[32m06-07 15:05\u001b[0m | \u001b[1mINFO    \u001b[0m | \u001b[36mAdjacency matrix done!\u001b[0m\n",
      "\u001b[32m06-07 15:05\u001b[0m | \u001b[1mINFO    \u001b[0m | \u001b[36mCreating adjacency matrix based on provided graph...\u001b[0m\n",
      "\u001b[32m06-07 15:06\u001b[0m | \u001b[1mINFO    \u001b[0m | \u001b[36mAdjacency matrix done!\u001b[0m\n"
     ]
    },
    {
     "name": "stderr",
     "output_type": "stream",
     "text": [
      "/Users/polina/Desktop/github/transport_frames/Polina/indicators.py:375: UserWarning: Approach is not set. Defaulting to 'primal'.\n",
      "  ni,ei = momepy.nx_to_gdf(inter)\n"
     ]
    },
    {
     "name": "stdout",
     "output_type": "stream",
     "text": [
      "Плотность: 7462.928 км/км^2\n",
      "\u001b[32m06-07 15:07\u001b[0m | \u001b[1mINFO    \u001b[0m | \u001b[36mCreating adjacency matrix based on provided graph...\u001b[0m\n",
      "\u001b[32m06-07 15:07\u001b[0m | \u001b[1mINFO    \u001b[0m | \u001b[36mAdjacency matrix done!\u001b[0m\n",
      "2\n",
      "\u001b[32m06-07 15:07\u001b[0m | \u001b[1mINFO    \u001b[0m | \u001b[36mCreating adjacency matrix based on provided graph...\u001b[0m\n",
      "\u001b[32m06-07 15:07\u001b[0m | \u001b[1mINFO    \u001b[0m | \u001b[36mAdjacency matrix done!\u001b[0m\n",
      "\u001b[32m06-07 15:07\u001b[0m | \u001b[1mINFO    \u001b[0m | \u001b[36mCreating adjacency matrix based on provided graph...\u001b[0m\n",
      "\u001b[32m06-07 15:08\u001b[0m | \u001b[1mINFO    \u001b[0m | \u001b[36mAdjacency matrix done!\u001b[0m\n",
      "\u001b[32m06-07 15:08\u001b[0m | \u001b[1mINFO    \u001b[0m | \u001b[36mCreating adjacency matrix based on provided graph...\u001b[0m\n",
      "\u001b[32m06-07 15:08\u001b[0m | \u001b[1mINFO    \u001b[0m | \u001b[36mAdjacency matrix done!\u001b[0m\n",
      "\u001b[32m06-07 15:08\u001b[0m | \u001b[1mINFO    \u001b[0m | \u001b[36mCreating adjacency matrix based on provided graph...\u001b[0m\n",
      "\u001b[32m06-07 15:08\u001b[0m | \u001b[1mINFO    \u001b[0m | \u001b[36mAdjacency matrix done!\u001b[0m\n",
      "\u001b[32m06-07 15:08\u001b[0m | \u001b[1mINFO    \u001b[0m | \u001b[36mCreating adjacency matrix based on provided graph...\u001b[0m\n",
      "\u001b[32m06-07 15:08\u001b[0m | \u001b[1mINFO    \u001b[0m | \u001b[36mAdjacency matrix done!\u001b[0m\n"
     ]
    }
   ],
   "source": [
    "# показатели на уровне территории\n",
    "\n",
    "d3 = indicators.indicator_territory(citygraph, neud,polygons18,polygons188,points18,points188,points,inter,fuel,stops,international_aero,aero,ferry,water_objects, oopt, crs=32636)"
   ]
  },
  {
   "cell_type": "markdown",
   "metadata": {},
   "source": [
    "# Оценка"
   ]
  },
  {
   "cell_type": "code",
   "execution_count": null,
   "metadata": {},
   "outputs": [],
   "source": [
    "frame = graphbuilder.get_frame(citygraph,regions,city)"
   ]
  },
  {
   "cell_type": "code",
   "execution_count": 12,
   "metadata": {},
   "outputs": [],
   "source": [
    "frame = graphbuilder.assign_city_names_to_nodes(points18.to_crs(frame.graph['crs']), momepy.nx_to_gdf(frame)[0], frame, name_col='name18', max_distance=1200)"
   ]
  },
  {
   "cell_type": "code",
   "execution_count": 13,
   "metadata": {},
   "outputs": [],
   "source": [
    "p1 = gpd.read_file('Polina/lo_gdfs/Аэродром лодейнопольское поселение.geojson')\n",
    "p2 = gpd.read_file('Polina/lo_gdfs//Аэродром Сиверск .geojson')\n",
    "p3 = gpd.read_file('Polina/lo_gdfs//project Светогорского поселения.geojson')\n",
    "p4 = gpd.read_file('Polina/lo_gdfs//project Шлиссельбург.geojson')\n",
    "neudobiya = pd.concat([p1,p2,p3,p4])"
   ]
  },
  {
   "cell_type": "code",
   "execution_count": null,
   "metadata": {},
   "outputs": [],
   "source": [
    "n_grade = grade_territory.grade_territory(neudobiya, frame, include_priority=True)"
   ]
  },
  {
   "cell_type": "code",
   "execution_count": 15,
   "metadata": {},
   "outputs": [
    {
     "name": "stderr",
     "output_type": "stream",
     "text": [
      "/var/folders/ch/1hzm9xv12jg458kt9c3nl6_h0000gn/T/ipykernel_99349/79998903.py:1: UserWarning: Approach is not set. Defaulting to 'primal'.\n",
      "  ni,ei = momepy.nx_to_gdf(inter)\n"
     ]
    }
   ],
   "source": [
    "ni,ei = momepy.nx_to_gdf(inter)\n",
    "b_stops = ni[(ni['desc']=='bus') & (ni['stop']=='True')]"
   ]
  },
  {
   "cell_type": "code",
   "execution_count": 27,
   "metadata": {},
   "outputs": [
    {
     "name": "stdout",
     "output_type": "stream",
     "text": [
      "\u001b[32m06-07 16:46\u001b[0m | \u001b[1mINFO    \u001b[0m | \u001b[36mCreating adjacency matrix based on provided graph...\u001b[0m\n"
     ]
    },
    {
     "name": "stderr",
     "output_type": "stream",
     "text": [
      "/Users/polina/Desktop/github/transport_frames/.venv/lib/python3.10/site-packages/IPython/core/interactiveshell.py:3577: FutureWarning: The `op` parameter is deprecated and will be removed in a future release. Please use the `predicate` parameter instead.\n",
      "  exec(code_obj, self.user_global_ns, self.user_ns)\n"
     ]
    },
    {
     "name": "stdout",
     "output_type": "stream",
     "text": [
      "\u001b[32m06-07 16:54\u001b[0m | \u001b[1mINFO    \u001b[0m | \u001b[36mAdjacency matrix done!\u001b[0m\n"
     ]
    },
    {
     "name": "stderr",
     "output_type": "stream",
     "text": [
      "/Users/polina/Desktop/github/transport_frames/.venv/lib/python3.10/site-packages/numpy/core/_methods.py:118: RuntimeWarning: overflow encountered in reduce\n",
      "  ret = umr_sum(arr, axis, dtype, out, keepdims, where=where)\n",
      "/Users/polina/Desktop/github/transport_frames/transport_frames/graph_builder/criteria.py:128: FutureWarning: Setting an item of incompatible dtype is deprecated and will raise an error in a future version of pandas. Value '4.999999999999999' has dtype incompatible with int64, please explicitly cast to a compatible dtype first.\n",
      "  joined.at[idx, 'public_transport_grade'] = public_transport_grade\n"
     ]
    }
   ],
   "source": [
    "res = criteria.get_criteria(city ,points,polygons188,inter)"
   ]
  }
 ],
 "metadata": {
  "kernelspec": {
   "display_name": ".venv",
   "language": "python",
   "name": "python3"
  },
  "language_info": {
   "codemirror_mode": {
    "name": "ipython",
    "version": 3
   },
   "file_extension": ".py",
   "mimetype": "text/x-python",
   "name": "python",
   "nbconvert_exporter": "python",
   "pygments_lexer": "ipython3",
   "version": "3.10.11"
  }
 },
 "nbformat": 4,
 "nbformat_minor": 2
}
