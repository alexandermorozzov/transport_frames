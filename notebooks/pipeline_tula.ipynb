{
 "cells": [
  {
   "cell_type": "code",
   "execution_count": 1,
   "metadata": {},
   "outputs": [
    {
     "name": "stderr",
     "output_type": "stream",
     "text": [
      "/Users/polina/Desktop/github/transport_frames/venv/lib/python3.10/site-packages/tqdm/auto.py:21: TqdmWarning: IProgress not found. Please update jupyter and ipywidgets. See https://ipywidgets.readthedocs.io/en/stable/user_install.html\n",
      "  from .autonotebook import tqdm as notebook_tqdm\n"
     ]
    }
   ],
   "source": [
    "import sys\n",
    "sys.path.append('..')\n",
    "\n",
    "from transport_frames.graphbuilder.graph import Graph \n",
    "from transport_frames.frame_grader.advanced_grade import AdvancedGrader\n",
    "from transport_frames.framebuilder.frame import Frame\n",
    "import transport_frames.utils.helper_funcs as he\n",
    "from transport_frames.indicators.indicator_terr import indicator_territory\n",
    "from transport_frames.indicators.indicator_area import indicator_area, preprocess_service_accessibility\n",
    "from transport_frames.indicators.utils import availability_matrix, create_service_dict\n",
    "import osmnx as ox\n",
    "import geopandas as gpd\n",
    "import networkx as nx\n",
    "from shapely import Polygon, MultiPolygon\n",
    "import shapely\n",
    "from iduedu import get_adj_matrix_gdf_to_gdf\n",
    "from iduedu import get_intermodal_graph"
   ]
  },
  {
   "cell_type": "markdown",
   "metadata": {},
   "source": [
    "## Graph creation"
   ]
  },
  {
   "cell_type": "code",
   "execution_count": 2,
   "metadata": {},
   "outputs": [],
   "source": [
    "geocode=81993\n",
    "polygon = ox.geocode_to_gdf(f'R{geocode}',by_osmid=True)\n",
    "local_crs = 32637"
   ]
  },
  {
   "cell_type": "code",
   "execution_count": 3,
   "metadata": {},
   "outputs": [
    {
     "name": "stderr",
     "output_type": "stream",
     "text": [
      "\u001b[32m2025-06-23 12:52:57.860\u001b[0m | \u001b[1mINFO    \u001b[0m | \u001b[36mtransport_frames.graphbuilder.graph\u001b[0m:\u001b[36m_prepare_attrs\u001b[0m:\u001b[36m145\u001b[0m - \u001b[1mPreparing the graph...\u001b[0m\n",
      "\u001b[32m2025-06-23 12:53:07.334\u001b[0m | \u001b[1mINFO    \u001b[0m | \u001b[36mtransport_frames.graphbuilder.graph\u001b[0m:\u001b[36m_prepare_attrs\u001b[0m:\u001b[36m183\u001b[0m - \u001b[1mGraph is ready!\u001b[0m\n"
     ]
    }
   ],
   "source": [
    "# g = Graph.from_polygon(polygon, crs=local_crs)\n",
    "\n",
    "tula = he.convert_geometry_from_wkt(nx.read_graphml('/Users/polina/Desktop/clone_latest/transport_frames/notebooks/tula.graphml'))\n",
    "tula = he.convert_list_attr_from_str(tula)\n",
    "g =  Graph(tula,crs=local_crs)"
   ]
  },
  {
   "cell_type": "markdown",
   "metadata": {},
   "source": [
    "## Frame creation"
   ]
  },
  {
   "cell_type": "code",
   "execution_count": 4,
   "metadata": {},
   "outputs": [],
   "source": [
    "# polygon regions cities\n",
    "regions = gpd.read_file('/Users/polina/Desktop/github/transport_frames/data/lo_gdfs/regions_of_russia.geojson')\n",
    "regions = regions[regions['ISO3166-2']!='RU-CHU']\n",
    "regions = regions[regions['geometry'].apply(lambda x: isinstance(x, (Polygon, MultiPolygon)))]\n",
    "\n",
    "admin_centers = gpd.read_file('/Users/polina/Desktop/github/transport_frames/data/Тульская_область/Тульская_область_region_points.geojson')\n",
    "admin_centers = admin_centers[admin_centers.is_admin_centre_district==1][['name','geometry']].reset_index(drop=True)\n"
   ]
  },
  {
   "cell_type": "code",
   "execution_count": 5,
   "metadata": {},
   "outputs": [],
   "source": [
    "f = Frame(g.graph, regions, polygon, admin_centers,country_polygon=gpd.read_parquet('rus.parquet'))"
   ]
  },
  {
   "cell_type": "code",
   "execution_count": 6,
   "metadata": {},
   "outputs": [
    {
     "name": "stdout",
     "output_type": "stream",
     "text": [
      "NumPy version: 2.1.3\n",
      "Shapely version: 2.1.1\n"
     ]
    }
   ],
   "source": [
    "import numpy as np\n",
    "import shapely\n",
    "print(\"NumPy version:\", np.__version__)\n",
    "print(\"Shapely version:\", shapely.__version__)"
   ]
  },
  {
   "cell_type": "markdown",
   "metadata": {},
   "source": [
    "## Grading custom territory (frame-based)"
   ]
  },
  {
   "cell_type": "code",
   "execution_count": 7,
   "metadata": {},
   "outputs": [],
   "source": [
    "custom_terr = gpd.read_file('/Users/polina/Desktop/github/transport_frames/data/Тульская_область/settlement.geojson').iloc[[5]]"
   ]
  },
  {
   "cell_type": "code",
   "execution_count": 8,
   "metadata": {},
   "outputs": [
    {
     "data": {
      "text/html": [
       "<div>\n",
       "<style scoped>\n",
       "    .dataframe tbody tr th:only-of-type {\n",
       "        vertical-align: middle;\n",
       "    }\n",
       "\n",
       "    .dataframe tbody tr th {\n",
       "        vertical-align: top;\n",
       "    }\n",
       "\n",
       "    .dataframe thead th {\n",
       "        text-align: right;\n",
       "    }\n",
       "</style>\n",
       "<table border=\"1\" class=\"dataframe\">\n",
       "  <thead>\n",
       "    <tr style=\"text-align: right;\">\n",
       "      <th></th>\n",
       "      <th>name</th>\n",
       "      <th>geometry</th>\n",
       "      <th>grade</th>\n",
       "    </tr>\n",
       "  </thead>\n",
       "  <tbody>\n",
       "    <tr>\n",
       "      <th>5</th>\n",
       "      <td>Белев</td>\n",
       "      <td>POLYGON ((308350.059 5967359.728, 308519.156 5...</td>\n",
       "      <td>5</td>\n",
       "    </tr>\n",
       "  </tbody>\n",
       "</table>\n",
       "</div>"
      ],
      "text/plain": [
       "    name                                           geometry  grade\n",
       "5  Белев  POLYGON ((308350.059 5967359.728, 308519.156 5...      5"
      ]
     },
     "execution_count": 8,
     "metadata": {},
     "output_type": "execute_result"
    }
   ],
   "source": [
    "graded_terr = f.grade_territory(f.frame, custom_terr)\n",
    "graded_terr"
   ]
  },
  {
   "cell_type": "markdown",
   "metadata": {},
   "source": [
    "## Criteria of the territory\n"
   ]
  },
  {
   "cell_type": "code",
   "execution_count": 9,
   "metadata": {},
   "outputs": [],
   "source": [
    "settlement_points = gpd.read_file('/Users/polina/Desktop/github/transport_frames/data/Тульская_область/Тульская_область_region_points.geojson')\n",
    "settlement_polygons = gpd.read_file('/Users/polina/Desktop/github/transport_frames/data/Тульская_область/settlement.geojson')\n",
    "railway_stations = gpd.read_file('/Users/polina/Desktop/github/transport_frames/data/Тульская_область/railway_station.geojson')\n",
    "bus_stops = gpd.read_file('/Users/polina/Desktop/github/transport_frames/data/Тульская_область/bus_stop.geojson')\n",
    "aero = gpd.read_file('/Users/polina/Desktop/github/transport_frames/data/Тульская_область/aerodrome.geojson')"
   ]
  },
  {
   "cell_type": "code",
   "execution_count": 10,
   "metadata": {},
   "outputs": [],
   "source": [
    "# inter = get_intermodal_graph(osm_id=geocode,\n",
    "#                         keep_routes_geom=True,clip_by_bounds=True)\n",
    "# # adj_drive = availability_matrix(g.graph, settlement_points,settlement_points,local_crs=local_crs)\n",
    "# adj_inter = availability_matrix(inter, settlement_points, settlement_points, local_crs=local_crs)"
   ]
  },
  {
   "cell_type": "code",
   "execution_count": 11,
   "metadata": {},
   "outputs": [],
   "source": [
    "import pandas as pd\n",
    "adj_drive=pd.read_json('drive.json')\n",
    "adj_inter=pd.read_json('inter.json')"
   ]
  },
  {
   "cell_type": "code",
   "execution_count": 12,
   "metadata": {},
   "outputs": [
    {
     "data": {
      "text/html": [
       "<div>\n",
       "<style scoped>\n",
       "    .dataframe tbody tr th:only-of-type {\n",
       "        vertical-align: middle;\n",
       "    }\n",
       "\n",
       "    .dataframe tbody tr th {\n",
       "        vertical-align: top;\n",
       "    }\n",
       "\n",
       "    .dataframe thead th {\n",
       "        text-align: right;\n",
       "    }\n",
       "</style>\n",
       "<table border=\"1\" class=\"dataframe\">\n",
       "  <thead>\n",
       "    <tr style=\"text-align: right;\">\n",
       "      <th></th>\n",
       "      <th>geometry</th>\n",
       "      <th>name</th>\n",
       "      <th>grade</th>\n",
       "      <th>weight</th>\n",
       "      <th>weight_r_stops</th>\n",
       "      <th>weight_b_stops</th>\n",
       "      <th>weight_ferry</th>\n",
       "      <th>weight_aero</th>\n",
       "      <th>car_access_quartile</th>\n",
       "      <th>public_access_quartile</th>\n",
       "      <th>car_grade</th>\n",
       "      <th>public_transport_grade</th>\n",
       "      <th>overall_assessment</th>\n",
       "    </tr>\n",
       "  </thead>\n",
       "  <tbody>\n",
       "    <tr>\n",
       "      <th>0</th>\n",
       "      <td>POLYGON ((308350.059 5967359.728, 308519.156 5...</td>\n",
       "      <td>Белев</td>\n",
       "      <td>5</td>\n",
       "      <td>0.7</td>\n",
       "      <td>0.35</td>\n",
       "      <td>0.35</td>\n",
       "      <td>0.0</td>\n",
       "      <td>0.0</td>\n",
       "      <td>4</td>\n",
       "      <td>4</td>\n",
       "      <td>2.0</td>\n",
       "      <td>1.4</td>\n",
       "      <td>1.7</td>\n",
       "    </tr>\n",
       "  </tbody>\n",
       "</table>\n",
       "</div>"
      ],
      "text/plain": [
       "                                            geometry   name  grade  weight  \\\n",
       "0  POLYGON ((308350.059 5967359.728, 308519.156 5...  Белев      5     0.7   \n",
       "\n",
       "   weight_r_stops  weight_b_stops  weight_ferry  weight_aero  \\\n",
       "0            0.35            0.35           0.0          0.0   \n",
       "\n",
       "   car_access_quartile  public_access_quartile  car_grade  \\\n",
       "0                    4                       4        2.0   \n",
       "\n",
       "   public_transport_grade  overall_assessment  \n",
       "0                     1.4                 1.7  "
      ]
     },
     "execution_count": 12,
     "metadata": {},
     "output_type": "execute_result"
    }
   ],
   "source": [
    "grader = AdvancedGrader(local_crs)\n",
    "cri = grader.get_criteria(graded_terr=graded_terr,\n",
    "                          points=settlement_points,\n",
    "                          polygons=settlement_polygons,\n",
    "                          r_stops=railway_stations,\n",
    "                          b_stops=bus_stops,\n",
    "                          aero=aero,\n",
    "                          adj_mx_drive=adj_drive,\n",
    "                          adj_mx_inter=adj_inter)\n",
    "cri\n"
   ]
  },
  {
   "cell_type": "code",
   "execution_count": 13,
   "metadata": {},
   "outputs": [
    {
     "data": {
      "text/plain": [
       "[('Белев',\n",
       "  ['Территория расположена в непосредственной близости от одной из региональных трасс (в радиус 5 км от границ территории попадает хотя бы 1 узел региональной трассы, являющейся приоритетной, а ближайший федеральный узел находится в не более чем 100км);',\n",
       "   'Территория попадает в IV квартиль связности (худшие 25% МО) на личном транспорте;',\n",
       "   'Территория попадает в IV квартиль связности (худшие 25% МО) на общественном транспорте;',\n",
       "   'В радиусе 15 км отсутствуют порты/причалы/переправы, аэродромы.'])]"
      ]
     },
     "execution_count": 13,
     "metadata": {},
     "output_type": "execute_result"
    }
   ],
   "source": [
    "grader.interpret_gdf(cri)"
   ]
  },
  {
   "cell_type": "markdown",
   "metadata": {},
   "source": [
    "## Indicators of the territory (graph-based)"
   ]
  },
  {
   "cell_type": "code",
   "execution_count": 14,
   "metadata": {},
   "outputs": [],
   "source": [
    "# services\n",
    "railway_stations = gpd.read_file(f'/Users/polina/Desktop/github/transport_frames/data/Тульская_область/railway_station.geojson')\n",
    "railway_roads = gpd.read_file(f'/Users/polina/Desktop/github/transport_frames/data/Тульская_область/railway.geojson')\n",
    "bus_stops = gpd.read_file(f'/Users/polina/Desktop/github/transport_frames/data/Тульская_область/bus_stop.geojson')\n",
    "bus_routes = gpd.read_file(f'/Users/polina/Desktop/github/transport_frames/preprocessed/Тульская_область/Тульская_область_bus_routes.geojson')\n",
    "bus_routes['route'] = bus_routes['desc'] \n",
    "fuel_stations = gpd.read_file(f'/Users/polina/Desktop/github/transport_frames/data/Тульская_область/Копия fuel.geojson')\n",
    "local_aerodrome = gpd.read_file(f'/Users/polina/Desktop/github/transport_frames/data/Тульская_область/aerodrome.geojson')\n",
    "local_aerodrome['geometry'] = shapely.centroid(local_aerodrome['geometry']).set_crs(local_aerodrome.crs)\n",
    "international_aerodrome = local_aerodrome[local_aerodrome['aerodrome:type']=='international']\n",
    "international_aerodrome['geometry'] = shapely.centroid(international_aerodrome['geometry']).set_crs(international_aerodrome.crs)\n",
    "\n",
    "# nature objects\n",
    "water = gpd.read_file(f'/Users/polina/Desktop/github/transport_frames/data/Тульская_область/Копия water.geojson')\n",
    "nature_reserve = gpd.read_file(f'/Users/polina/Desktop/github/transport_frames/data/Тульская_область/Копия nature_reserve.geojson')\n",
    "\n",
    "capital =ox.geocode_to_gdf('N34389350',by_osmid=True)\n",
    "districts_polygons = gpd.read_file('/Users/polina/Desktop/github/transport_frames/data/Тульская_область/district.geojson')\n",
    "settlement_polygons = gpd.read_file('/Users/polina/Desktop/github/transport_frames/data/Тульская_область/settlement.geojson')\n",
    "settlement_points = gpd.read_file('/Users/polina/Desktop/github/transport_frames/data/Тульская_область/Тульская_область_region_points.geojson')"
   ]
  },
  {
   "cell_type": "code",
   "execution_count": 15,
   "metadata": {},
   "outputs": [],
   "source": [
    "services = create_service_dict(\n",
    "                                railway_stations=railway_stations,\n",
    "                                railway_paths=railway_roads,\n",
    "                                bus_stops=bus_stops,\n",
    "                                bus_routes=bus_routes,\n",
    "                                fuel_stations=fuel_stations,\n",
    "                                local_aerodrome=local_aerodrome,\n",
    "                                international_aerodrome=international_aerodrome,\n",
    "                                water_objects=water,\n",
    "                                nature_reserve=nature_reserve,          \n",
    "                                local_crs=local_crs)"
   ]
  },
  {
   "cell_type": "code",
   "execution_count": 16,
   "metadata": {},
   "outputs": [
    {
     "name": "stderr",
     "output_type": "stream",
     "text": [
      "\u001b[32m2025-06-23 12:54:11.201\u001b[0m | \u001b[33m\u001b[1mWARNING \u001b[0m | \u001b[36miduedu.utils.utils\u001b[0m:\u001b[36mkeep_largest_strongly_connected_component\u001b[0m:\u001b[36m27\u001b[0m - \u001b[33m\u001b[1mGraph contains 17 weakly connected components. This means the graph has disconnected groups if edge directions are ignored. Component sizes:: [30440, 16, 61, 2, 68, 2, 2, 2, 3, 2, 2, 2, 6, 2, 2, 2, 13]\u001b[0m\n",
      "\u001b[32m2025-06-23 12:54:11.250\u001b[0m | \u001b[33m\u001b[1mWARNING \u001b[0m | \u001b[36miduedu.utils.utils\u001b[0m:\u001b[36mkeep_largest_strongly_connected_component\u001b[0m:\u001b[36m37\u001b[0m - \u001b[33m\u001b[1mRemoving 216 nodes from 31 smaller strongly connected components. These are subgraphs where nodes are internally reachable but isolated from the rest. Retaining only the largest strongly connected component (30411 nodes).\u001b[0m\n",
      "\u001b[32m2025-06-23 12:54:12.289\u001b[0m | \u001b[33m\u001b[1mWARNING \u001b[0m | \u001b[36miduedu.utils.utils\u001b[0m:\u001b[36mkeep_largest_strongly_connected_component\u001b[0m:\u001b[36m27\u001b[0m - \u001b[33m\u001b[1mGraph contains 17 weakly connected components. This means the graph has disconnected groups if edge directions are ignored. Component sizes:: [30440, 16, 61, 2, 68, 2, 2, 2, 3, 2, 2, 2, 6, 2, 2, 2, 13]\u001b[0m\n",
      "\u001b[32m2025-06-23 12:54:12.339\u001b[0m | \u001b[33m\u001b[1mWARNING \u001b[0m | \u001b[36miduedu.utils.utils\u001b[0m:\u001b[36mkeep_largest_strongly_connected_component\u001b[0m:\u001b[36m37\u001b[0m - \u001b[33m\u001b[1mRemoving 216 nodes from 31 smaller strongly connected components. These are subgraphs where nodes are internally reachable but isolated from the rest. Retaining only the largest strongly connected component (30411 nodes).\u001b[0m\n",
      "\u001b[32m2025-06-23 12:54:12.890\u001b[0m | \u001b[33m\u001b[1mWARNING \u001b[0m | \u001b[36miduedu.utils.utils\u001b[0m:\u001b[36mkeep_largest_strongly_connected_component\u001b[0m:\u001b[36m27\u001b[0m - \u001b[33m\u001b[1mGraph contains 17 weakly connected components. This means the graph has disconnected groups if edge directions are ignored. Component sizes:: [30440, 16, 61, 2, 68, 2, 2, 2, 3, 2, 2, 2, 6, 2, 2, 2, 13]\u001b[0m\n",
      "\u001b[32m2025-06-23 12:54:12.940\u001b[0m | \u001b[33m\u001b[1mWARNING \u001b[0m | \u001b[36miduedu.utils.utils\u001b[0m:\u001b[36mkeep_largest_strongly_connected_component\u001b[0m:\u001b[36m37\u001b[0m - \u001b[33m\u001b[1mRemoving 216 nodes from 31 smaller strongly connected components. These are subgraphs where nodes are internally reachable but isolated from the rest. Retaining only the largest strongly connected component (30411 nodes).\u001b[0m\n",
      "\u001b[32m2025-06-23 12:54:13.710\u001b[0m | \u001b[33m\u001b[1mWARNING \u001b[0m | \u001b[36miduedu.utils.utils\u001b[0m:\u001b[36mkeep_largest_strongly_connected_component\u001b[0m:\u001b[36m27\u001b[0m - \u001b[33m\u001b[1mGraph contains 17 weakly connected components. This means the graph has disconnected groups if edge directions are ignored. Component sizes:: [30440, 16, 61, 2, 68, 2, 2, 2, 3, 2, 2, 2, 6, 2, 2, 2, 13]\u001b[0m\n",
      "\u001b[32m2025-06-23 12:54:13.759\u001b[0m | \u001b[33m\u001b[1mWARNING \u001b[0m | \u001b[36miduedu.utils.utils\u001b[0m:\u001b[36mkeep_largest_strongly_connected_component\u001b[0m:\u001b[36m37\u001b[0m - \u001b[33m\u001b[1mRemoving 216 nodes from 31 smaller strongly connected components. These are subgraphs where nodes are internally reachable but isolated from the rest. Retaining only the largest strongly connected component (30411 nodes).\u001b[0m\n",
      "\u001b[32m2025-06-23 12:54:14.308\u001b[0m | \u001b[33m\u001b[1mWARNING \u001b[0m | \u001b[36miduedu.utils.utils\u001b[0m:\u001b[36mkeep_largest_strongly_connected_component\u001b[0m:\u001b[36m27\u001b[0m - \u001b[33m\u001b[1mGraph contains 17 weakly connected components. This means the graph has disconnected groups if edge directions are ignored. Component sizes:: [30440, 16, 61, 2, 68, 2, 2, 2, 3, 2, 2, 2, 6, 2, 2, 2, 13]\u001b[0m\n",
      "\u001b[32m2025-06-23 12:54:14.357\u001b[0m | \u001b[33m\u001b[1mWARNING \u001b[0m | \u001b[36miduedu.utils.utils\u001b[0m:\u001b[36mkeep_largest_strongly_connected_component\u001b[0m:\u001b[36m37\u001b[0m - \u001b[33m\u001b[1mRemoving 216 nodes from 31 smaller strongly connected components. These are subgraphs where nodes are internally reachable but isolated from the rest. Retaining only the largest strongly connected component (30411 nodes).\u001b[0m\n",
      "\u001b[32m2025-06-23 12:54:15.149\u001b[0m | \u001b[33m\u001b[1mWARNING \u001b[0m | \u001b[36miduedu.utils.utils\u001b[0m:\u001b[36mkeep_largest_strongly_connected_component\u001b[0m:\u001b[36m27\u001b[0m - \u001b[33m\u001b[1mGraph contains 17 weakly connected components. This means the graph has disconnected groups if edge directions are ignored. Component sizes:: [30440, 16, 61, 2, 68, 2, 2, 2, 3, 2, 2, 2, 6, 2, 2, 2, 13]\u001b[0m\n",
      "\u001b[32m2025-06-23 12:54:15.197\u001b[0m | \u001b[33m\u001b[1mWARNING \u001b[0m | \u001b[36miduedu.utils.utils\u001b[0m:\u001b[36mkeep_largest_strongly_connected_component\u001b[0m:\u001b[36m37\u001b[0m - \u001b[33m\u001b[1mRemoving 216 nodes from 31 smaller strongly connected components. These are subgraphs where nodes are internally reachable but isolated from the rest. Retaining only the largest strongly connected component (30411 nodes).\u001b[0m\n",
      "\u001b[32m2025-06-23 12:54:15.846\u001b[0m | \u001b[33m\u001b[1mWARNING \u001b[0m | \u001b[36miduedu.utils.utils\u001b[0m:\u001b[36mkeep_largest_strongly_connected_component\u001b[0m:\u001b[36m27\u001b[0m - \u001b[33m\u001b[1mGraph contains 17 weakly connected components. This means the graph has disconnected groups if edge directions are ignored. Component sizes:: [30440, 16, 61, 2, 68, 2, 2, 2, 3, 2, 2, 2, 6, 2, 2, 2, 13]\u001b[0m\n",
      "\u001b[32m2025-06-23 12:54:15.895\u001b[0m | \u001b[33m\u001b[1mWARNING \u001b[0m | \u001b[36miduedu.utils.utils\u001b[0m:\u001b[36mkeep_largest_strongly_connected_component\u001b[0m:\u001b[36m37\u001b[0m - \u001b[33m\u001b[1mRemoving 216 nodes from 31 smaller strongly connected components. These are subgraphs where nodes are internally reachable but isolated from the rest. Retaining only the largest strongly connected component (30411 nodes).\u001b[0m\n",
      "\u001b[32m2025-06-23 12:54:16.654\u001b[0m | \u001b[33m\u001b[1mWARNING \u001b[0m | \u001b[36miduedu.utils.utils\u001b[0m:\u001b[36mkeep_largest_strongly_connected_component\u001b[0m:\u001b[36m27\u001b[0m - \u001b[33m\u001b[1mGraph contains 17 weakly connected components. This means the graph has disconnected groups if edge directions are ignored. Component sizes:: [30440, 16, 61, 2, 68, 2, 2, 2, 3, 2, 2, 2, 6, 2, 2, 2, 13]\u001b[0m\n",
      "\u001b[32m2025-06-23 12:54:16.706\u001b[0m | \u001b[33m\u001b[1mWARNING \u001b[0m | \u001b[36miduedu.utils.utils\u001b[0m:\u001b[36mkeep_largest_strongly_connected_component\u001b[0m:\u001b[36m37\u001b[0m - \u001b[33m\u001b[1mRemoving 216 nodes from 31 smaller strongly connected components. These are subgraphs where nodes are internally reachable but isolated from the rest. Retaining only the largest strongly connected component (30411 nodes).\u001b[0m\n"
     ]
    },
    {
     "data": {
      "text/html": [
       "<div>\n",
       "<style scoped>\n",
       "    .dataframe tbody tr th:only-of-type {\n",
       "        vertical-align: middle;\n",
       "    }\n",
       "\n",
       "    .dataframe tbody tr th {\n",
       "        vertical-align: top;\n",
       "    }\n",
       "\n",
       "    .dataframe thead th {\n",
       "        text-align: right;\n",
       "    }\n",
       "</style>\n",
       "<table border=\"1\" class=\"dataframe\">\n",
       "  <thead>\n",
       "    <tr style=\"text-align: right;\">\n",
       "      <th></th>\n",
       "      <th>name</th>\n",
       "      <th>geometry</th>\n",
       "      <th>to_region_admin_center_km</th>\n",
       "      <th>to_reg_1_km</th>\n",
       "      <th>fuel_stations_accessibility_min</th>\n",
       "      <th>number_of_fuel_stations</th>\n",
       "      <th>local_aerodrome_accessibility_min</th>\n",
       "      <th>number_of_local_aerodrome</th>\n",
       "      <th>international_aerodrome_accessibility_min</th>\n",
       "      <th>number_of_international_aerodrome</th>\n",
       "      <th>...</th>\n",
       "      <th>number_of_bus_stops</th>\n",
       "      <th>number_of_water_objects</th>\n",
       "      <th>water_objects_accessibility_min</th>\n",
       "      <th>number_of_nature_reserve</th>\n",
       "      <th>nature_reserve_accessibility_min</th>\n",
       "      <th>train_path_length_km</th>\n",
       "      <th>number_of_bus_routes</th>\n",
       "      <th>to_nearest_district_center_km</th>\n",
       "      <th>to_nearest_settlement_km</th>\n",
       "      <th>road_density_km/km2</th>\n",
       "    </tr>\n",
       "  </thead>\n",
       "  <tbody>\n",
       "    <tr>\n",
       "      <th>0</th>\n",
       "      <td>Белев</td>\n",
       "      <td>POLYGON ((305406.67 5964767.649, 305378.241 59...</td>\n",
       "      <td>85.94</td>\n",
       "      <td>0.0</td>\n",
       "      <td>0.0</td>\n",
       "      <td>3.0</td>\n",
       "      <td>113.9</td>\n",
       "      <td>0.0</td>\n",
       "      <td>None</td>\n",
       "      <td>0</td>\n",
       "      <td>...</td>\n",
       "      <td>20.0</td>\n",
       "      <td>32</td>\n",
       "      <td>0.0</td>\n",
       "      <td>0</td>\n",
       "      <td>89.54</td>\n",
       "      <td>14.844</td>\n",
       "      <td>0</td>\n",
       "      <td>22.103</td>\n",
       "      <td>9.386</td>\n",
       "      <td>1.483</td>\n",
       "    </tr>\n",
       "  </tbody>\n",
       "</table>\n",
       "<p>1 rows × 25 columns</p>\n",
       "</div>"
      ],
      "text/plain": [
       "    name                                           geometry  \\\n",
       "0  Белев  POLYGON ((305406.67 5964767.649, 305378.241 59...   \n",
       "\n",
       "   to_region_admin_center_km  to_reg_1_km  fuel_stations_accessibility_min  \\\n",
       "0                      85.94          0.0                              0.0   \n",
       "\n",
       "   number_of_fuel_stations  local_aerodrome_accessibility_min  \\\n",
       "0                      3.0                              113.9   \n",
       "\n",
       "   number_of_local_aerodrome international_aerodrome_accessibility_min  \\\n",
       "0                        0.0                                      None   \n",
       "\n",
       "   number_of_international_aerodrome  ...  number_of_bus_stops  \\\n",
       "0                                  0  ...                 20.0   \n",
       "\n",
       "   number_of_water_objects water_objects_accessibility_min  \\\n",
       "0                       32                             0.0   \n",
       "\n",
       "   number_of_nature_reserve  nature_reserve_accessibility_min  \\\n",
       "0                         0                             89.54   \n",
       "\n",
       "   train_path_length_km  number_of_bus_routes  to_nearest_district_center_km  \\\n",
       "0                14.844                     0                         22.103   \n",
       "\n",
       "   to_nearest_settlement_km  road_density_km/km2  \n",
       "0                     9.386                1.483  \n",
       "\n",
       "[1 rows x 25 columns]"
      ]
     },
     "execution_count": 16,
     "metadata": {},
     "output_type": "execute_result"
    }
   ],
   "source": [
    "t = indicator_territory(g.graph,custom_terr,services,capital,admin_centers,settlement_points,districts_polygons,local_crs,)\n",
    "t"
   ]
  },
  {
   "cell_type": "markdown",
   "metadata": {},
   "source": [
    "## Indicators of the area (graph-based)"
   ]
  },
  {
   "cell_type": "code",
   "execution_count": 17,
   "metadata": {},
   "outputs": [],
   "source": [
    "#area polygons\n",
    "country_polygon = ox.geocode_to_gdf('RUSSIA')\n",
    "country_polygon['status'] = 'country'\n",
    "country_polygon['layer'] = 'country'"
   ]
  },
  {
   "cell_type": "code",
   "execution_count": 18,
   "metadata": {},
   "outputs": [
    {
     "name": "stderr",
     "output_type": "stream",
     "text": [
      "\u001b[32m2025-06-23 12:54:18.545\u001b[0m | \u001b[33m\u001b[1mWARNING \u001b[0m | \u001b[36miduedu.utils.utils\u001b[0m:\u001b[36mkeep_largest_strongly_connected_component\u001b[0m:\u001b[36m27\u001b[0m - \u001b[33m\u001b[1mGraph contains 17 weakly connected components. This means the graph has disconnected groups if edge directions are ignored. Component sizes:: [30440, 16, 61, 2, 68, 2, 2, 2, 3, 2, 2, 2, 6, 2, 2, 2, 13]\u001b[0m\n",
      "\u001b[32m2025-06-23 12:54:18.594\u001b[0m | \u001b[33m\u001b[1mWARNING \u001b[0m | \u001b[36miduedu.utils.utils\u001b[0m:\u001b[36mkeep_largest_strongly_connected_component\u001b[0m:\u001b[36m37\u001b[0m - \u001b[33m\u001b[1mRemoving 216 nodes from 31 smaller strongly connected components. These are subgraphs where nodes are internally reachable but isolated from the rest. Retaining only the largest strongly connected component (30411 nodes).\u001b[0m\n",
      "/Users/polina/Desktop/github/transport_frames/venv/lib/python3.10/site-packages/pandas/core/construction.py:817: RuntimeWarning: overflow encountered in cast\n",
      "  subarr = np.asarray(arr, dtype=dtype)\n",
      "\u001b[32m2025-06-23 12:54:19.570\u001b[0m | \u001b[33m\u001b[1mWARNING \u001b[0m | \u001b[36miduedu.utils.utils\u001b[0m:\u001b[36mkeep_largest_strongly_connected_component\u001b[0m:\u001b[36m27\u001b[0m - \u001b[33m\u001b[1mGraph contains 17 weakly connected components. This means the graph has disconnected groups if edge directions are ignored. Component sizes:: [30440, 16, 61, 2, 68, 2, 2, 2, 3, 2, 2, 2, 6, 2, 2, 2, 13]\u001b[0m\n",
      "\u001b[32m2025-06-23 12:54:19.620\u001b[0m | \u001b[33m\u001b[1mWARNING \u001b[0m | \u001b[36miduedu.utils.utils\u001b[0m:\u001b[36mkeep_largest_strongly_connected_component\u001b[0m:\u001b[36m37\u001b[0m - \u001b[33m\u001b[1mRemoving 216 nodes from 31 smaller strongly connected components. These are subgraphs where nodes are internally reachable but isolated from the rest. Retaining only the largest strongly connected component (30411 nodes).\u001b[0m\n",
      "/Users/polina/Desktop/github/transport_frames/venv/lib/python3.10/site-packages/pandas/core/construction.py:817: RuntimeWarning: overflow encountered in cast\n",
      "  subarr = np.asarray(arr, dtype=dtype)\n",
      "\u001b[32m2025-06-23 12:54:21.554\u001b[0m | \u001b[33m\u001b[1mWARNING \u001b[0m | \u001b[36miduedu.utils.utils\u001b[0m:\u001b[36mkeep_largest_strongly_connected_component\u001b[0m:\u001b[36m27\u001b[0m - \u001b[33m\u001b[1mGraph contains 17 weakly connected components. This means the graph has disconnected groups if edge directions are ignored. Component sizes:: [30440, 16, 61, 2, 68, 2, 2, 2, 3, 2, 2, 2, 6, 2, 2, 2, 13]\u001b[0m\n",
      "\u001b[32m2025-06-23 12:54:21.604\u001b[0m | \u001b[33m\u001b[1mWARNING \u001b[0m | \u001b[36miduedu.utils.utils\u001b[0m:\u001b[36mkeep_largest_strongly_connected_component\u001b[0m:\u001b[36m37\u001b[0m - \u001b[33m\u001b[1mRemoving 216 nodes from 31 smaller strongly connected components. These are subgraphs where nodes are internally reachable but isolated from the rest. Retaining only the largest strongly connected component (30411 nodes).\u001b[0m\n",
      "/Users/polina/Desktop/github/transport_frames/venv/lib/python3.10/site-packages/pandas/core/construction.py:817: RuntimeWarning: overflow encountered in cast\n",
      "  subarr = np.asarray(arr, dtype=dtype)\n"
     ]
    }
   ],
   "source": [
    "preprocessed_accessibility = preprocess_service_accessibility(settlement_points,\n",
    "                                     services, \n",
    "                                     g.graph, \n",
    "                                     local_crs)"
   ]
  },
  {
   "cell_type": "code",
   "execution_count": 22,
   "metadata": {},
   "outputs": [
    {
     "name": "stderr",
     "output_type": "stream",
     "text": [
      "\u001b[32m2025-06-23 12:55:00.384\u001b[0m | \u001b[1mINFO    \u001b[0m | \u001b[36mtransport_frames.indicators.indicator_area\u001b[0m:\u001b[36mindicator_area\u001b[0m:\u001b[36m178\u001b[0m - \u001b[1mCalculating service accessibility\u001b[0m\n",
      "\u001b[32m2025-06-23 12:55:00.721\u001b[0m | \u001b[1mINFO    \u001b[0m | \u001b[36mtransport_frames.indicators.indicator_area\u001b[0m:\u001b[36mindicator_area\u001b[0m:\u001b[36m195\u001b[0m - \u001b[1mCalculating distance to region admin center and federal roads\u001b[0m\n",
      "\u001b[32m2025-06-23 12:55:01.068\u001b[0m | \u001b[33m\u001b[1mWARNING \u001b[0m | \u001b[36miduedu.utils.utils\u001b[0m:\u001b[36mkeep_largest_strongly_connected_component\u001b[0m:\u001b[36m27\u001b[0m - \u001b[33m\u001b[1mGraph contains 17 weakly connected components. This means the graph has disconnected groups if edge directions are ignored. Component sizes:: [30440, 16, 61, 2, 68, 2, 2, 2, 3, 2, 2, 2, 6, 2, 2, 2, 13]\u001b[0m\n",
      "\u001b[32m2025-06-23 12:55:01.120\u001b[0m | \u001b[33m\u001b[1mWARNING \u001b[0m | \u001b[36miduedu.utils.utils\u001b[0m:\u001b[36mkeep_largest_strongly_connected_component\u001b[0m:\u001b[36m37\u001b[0m - \u001b[33m\u001b[1mRemoving 216 nodes from 31 smaller strongly connected components. These are subgraphs where nodes are internally reachable but isolated from the rest. Retaining only the largest strongly connected component (30411 nodes).\u001b[0m\n",
      "\u001b[32m2025-06-23 12:55:01.674\u001b[0m | \u001b[33m\u001b[1mWARNING \u001b[0m | \u001b[36miduedu.utils.utils\u001b[0m:\u001b[36mkeep_largest_strongly_connected_component\u001b[0m:\u001b[36m27\u001b[0m - \u001b[33m\u001b[1mGraph contains 17 weakly connected components. This means the graph has disconnected groups if edge directions are ignored. Component sizes:: [30440, 16, 61, 2, 68, 2, 2, 2, 3, 2, 2, 2, 6, 2, 2, 2, 13]\u001b[0m\n",
      "\u001b[32m2025-06-23 12:55:01.726\u001b[0m | \u001b[33m\u001b[1mWARNING \u001b[0m | \u001b[36miduedu.utils.utils\u001b[0m:\u001b[36mkeep_largest_strongly_connected_component\u001b[0m:\u001b[36m37\u001b[0m - \u001b[33m\u001b[1mRemoving 216 nodes from 31 smaller strongly connected components. These are subgraphs where nodes are internally reachable but isolated from the rest. Retaining only the largest strongly connected component (30411 nodes).\u001b[0m\n",
      "\u001b[32m2025-06-23 12:55:02.115\u001b[0m | \u001b[1mINFO    \u001b[0m | \u001b[36mtransport_frames.indicators.indicator_area\u001b[0m:\u001b[36mindicator_area\u001b[0m:\u001b[36m200\u001b[0m - \u001b[1mCalculating train path lengths\u001b[0m\n",
      "\u001b[32m2025-06-23 12:55:30.128\u001b[0m | \u001b[1mINFO    \u001b[0m | \u001b[36mtransport_frames.indicators.indicator_area\u001b[0m:\u001b[36mindicator_area\u001b[0m:\u001b[36m209\u001b[0m - \u001b[1mCalculating number of bus routes\u001b[0m\n",
      "\u001b[32m2025-06-23 12:55:45.998\u001b[0m | \u001b[1mINFO    \u001b[0m | \u001b[36mtransport_frames.indicators.indicator_area\u001b[0m:\u001b[36mindicator_area\u001b[0m:\u001b[36m219\u001b[0m - \u001b[1mCalculating reg_1 road lengths\u001b[0m\n",
      "\u001b[32m2025-06-23 12:55:47.273\u001b[0m | \u001b[1mINFO    \u001b[0m | \u001b[36mtransport_frames.indicators.indicator_area\u001b[0m:\u001b[36mindicator_area\u001b[0m:\u001b[36m219\u001b[0m - \u001b[1mCalculating reg_2 road lengths\u001b[0m\n",
      "\u001b[32m2025-06-23 12:55:48.712\u001b[0m | \u001b[1mINFO    \u001b[0m | \u001b[36mtransport_frames.indicators.indicator_area\u001b[0m:\u001b[36mindicator_area\u001b[0m:\u001b[36m219\u001b[0m - \u001b[1mCalculating reg_3 road lengths\u001b[0m\n",
      "\u001b[32m2025-06-23 12:55:51.299\u001b[0m | \u001b[1mINFO    \u001b[0m | \u001b[36mtransport_frames.indicators.indicator_area\u001b[0m:\u001b[36mindicator_area\u001b[0m:\u001b[36m231\u001b[0m - \u001b[1mCalculating road density\u001b[0m\n",
      "\u001b[32m2025-06-23 12:55:54.432\u001b[0m | \u001b[1mINFO    \u001b[0m | \u001b[36mtransport_frames.indicators.indicator_area\u001b[0m:\u001b[36mindicator_area\u001b[0m:\u001b[36m178\u001b[0m - \u001b[1mCalculating service accessibility\u001b[0m\n",
      "\u001b[32m2025-06-23 12:55:54.696\u001b[0m | \u001b[1mINFO    \u001b[0m | \u001b[36mtransport_frames.indicators.indicator_area\u001b[0m:\u001b[36mindicator_area\u001b[0m:\u001b[36m195\u001b[0m - \u001b[1mCalculating distance to region admin center and federal roads\u001b[0m\n",
      "\u001b[32m2025-06-23 12:55:55.095\u001b[0m | \u001b[33m\u001b[1mWARNING \u001b[0m | \u001b[36miduedu.utils.utils\u001b[0m:\u001b[36mkeep_largest_strongly_connected_component\u001b[0m:\u001b[36m27\u001b[0m - \u001b[33m\u001b[1mGraph contains 17 weakly connected components. This means the graph has disconnected groups if edge directions are ignored. Component sizes:: [30440, 16, 61, 2, 68, 2, 2, 2, 3, 2, 2, 2, 6, 2, 2, 2, 13]\u001b[0m\n",
      "\u001b[32m2025-06-23 12:55:55.147\u001b[0m | \u001b[33m\u001b[1mWARNING \u001b[0m | \u001b[36miduedu.utils.utils\u001b[0m:\u001b[36mkeep_largest_strongly_connected_component\u001b[0m:\u001b[36m37\u001b[0m - \u001b[33m\u001b[1mRemoving 216 nodes from 31 smaller strongly connected components. These are subgraphs where nodes are internally reachable but isolated from the rest. Retaining only the largest strongly connected component (30411 nodes).\u001b[0m\n",
      "\u001b[32m2025-06-23 12:55:55.787\u001b[0m | \u001b[33m\u001b[1mWARNING \u001b[0m | \u001b[36miduedu.utils.utils\u001b[0m:\u001b[36mkeep_largest_strongly_connected_component\u001b[0m:\u001b[36m27\u001b[0m - \u001b[33m\u001b[1mGraph contains 17 weakly connected components. This means the graph has disconnected groups if edge directions are ignored. Component sizes:: [30440, 16, 61, 2, 68, 2, 2, 2, 3, 2, 2, 2, 6, 2, 2, 2, 13]\u001b[0m\n",
      "\u001b[32m2025-06-23 12:55:55.845\u001b[0m | \u001b[33m\u001b[1mWARNING \u001b[0m | \u001b[36miduedu.utils.utils\u001b[0m:\u001b[36mkeep_largest_strongly_connected_component\u001b[0m:\u001b[36m37\u001b[0m - \u001b[33m\u001b[1mRemoving 216 nodes from 31 smaller strongly connected components. These are subgraphs where nodes are internally reachable but isolated from the rest. Retaining only the largest strongly connected component (30411 nodes).\u001b[0m\n",
      "\u001b[32m2025-06-23 12:55:56.374\u001b[0m | \u001b[1mINFO    \u001b[0m | \u001b[36mtransport_frames.indicators.indicator_area\u001b[0m:\u001b[36mindicator_area\u001b[0m:\u001b[36m200\u001b[0m - \u001b[1mCalculating train path lengths\u001b[0m\n",
      "\u001b[32m2025-06-23 12:55:56.811\u001b[0m | \u001b[1mINFO    \u001b[0m | \u001b[36mtransport_frames.indicators.indicator_area\u001b[0m:\u001b[36mindicator_area\u001b[0m:\u001b[36m209\u001b[0m - \u001b[1mCalculating number of bus routes\u001b[0m\n",
      "\u001b[32m2025-06-23 12:55:57.009\u001b[0m | \u001b[1mINFO    \u001b[0m | \u001b[36mtransport_frames.indicators.indicator_area\u001b[0m:\u001b[36mindicator_area\u001b[0m:\u001b[36m219\u001b[0m - \u001b[1mCalculating reg_1 road lengths\u001b[0m\n",
      "\u001b[32m2025-06-23 12:55:57.167\u001b[0m | \u001b[1mINFO    \u001b[0m | \u001b[36mtransport_frames.indicators.indicator_area\u001b[0m:\u001b[36mindicator_area\u001b[0m:\u001b[36m219\u001b[0m - \u001b[1mCalculating reg_2 road lengths\u001b[0m\n",
      "\u001b[32m2025-06-23 12:55:57.751\u001b[0m | \u001b[1mINFO    \u001b[0m | \u001b[36mtransport_frames.indicators.indicator_area\u001b[0m:\u001b[36mindicator_area\u001b[0m:\u001b[36m219\u001b[0m - \u001b[1mCalculating reg_3 road lengths\u001b[0m\n",
      "\u001b[32m2025-06-23 12:56:02.920\u001b[0m | \u001b[1mINFO    \u001b[0m | \u001b[36mtransport_frames.indicators.indicator_area\u001b[0m:\u001b[36mindicator_area\u001b[0m:\u001b[36m231\u001b[0m - \u001b[1mCalculating road density\u001b[0m\n",
      "\u001b[32m2025-06-23 12:56:07.538\u001b[0m | \u001b[1mINFO    \u001b[0m | \u001b[36mtransport_frames.indicators.indicator_area\u001b[0m:\u001b[36mindicator_area\u001b[0m:\u001b[36m178\u001b[0m - \u001b[1mCalculating service accessibility\u001b[0m\n",
      "\u001b[32m2025-06-23 12:56:07.828\u001b[0m | \u001b[1mINFO    \u001b[0m | \u001b[36mtransport_frames.indicators.indicator_area\u001b[0m:\u001b[36mindicator_area\u001b[0m:\u001b[36m195\u001b[0m - \u001b[1mCalculating distance to region admin center and federal roads\u001b[0m\n",
      "\u001b[32m2025-06-23 12:56:08.288\u001b[0m | \u001b[33m\u001b[1mWARNING \u001b[0m | \u001b[36miduedu.utils.utils\u001b[0m:\u001b[36mkeep_largest_strongly_connected_component\u001b[0m:\u001b[36m27\u001b[0m - \u001b[33m\u001b[1mGraph contains 17 weakly connected components. This means the graph has disconnected groups if edge directions are ignored. Component sizes:: [30440, 16, 61, 2, 68, 2, 2, 2, 3, 2, 2, 2, 6, 2, 2, 2, 13]\u001b[0m\n",
      "\u001b[32m2025-06-23 12:56:08.343\u001b[0m | \u001b[33m\u001b[1mWARNING \u001b[0m | \u001b[36miduedu.utils.utils\u001b[0m:\u001b[36mkeep_largest_strongly_connected_component\u001b[0m:\u001b[36m37\u001b[0m - \u001b[33m\u001b[1mRemoving 216 nodes from 31 smaller strongly connected components. These are subgraphs where nodes are internally reachable but isolated from the rest. Retaining only the largest strongly connected component (30411 nodes).\u001b[0m\n",
      "\u001b[32m2025-06-23 12:56:09.112\u001b[0m | \u001b[33m\u001b[1mWARNING \u001b[0m | \u001b[36miduedu.utils.utils\u001b[0m:\u001b[36mkeep_largest_strongly_connected_component\u001b[0m:\u001b[36m27\u001b[0m - \u001b[33m\u001b[1mGraph contains 17 weakly connected components. This means the graph has disconnected groups if edge directions are ignored. Component sizes:: [30440, 16, 61, 2, 68, 2, 2, 2, 3, 2, 2, 2, 6, 2, 2, 2, 13]\u001b[0m\n",
      "\u001b[32m2025-06-23 12:56:09.162\u001b[0m | \u001b[33m\u001b[1mWARNING \u001b[0m | \u001b[36miduedu.utils.utils\u001b[0m:\u001b[36mkeep_largest_strongly_connected_component\u001b[0m:\u001b[36m37\u001b[0m - \u001b[33m\u001b[1mRemoving 216 nodes from 31 smaller strongly connected components. These are subgraphs where nodes are internally reachable but isolated from the rest. Retaining only the largest strongly connected component (30411 nodes).\u001b[0m\n",
      "\u001b[32m2025-06-23 12:56:09.857\u001b[0m | \u001b[1mINFO    \u001b[0m | \u001b[36mtransport_frames.indicators.indicator_area\u001b[0m:\u001b[36mindicator_area\u001b[0m:\u001b[36m200\u001b[0m - \u001b[1mCalculating train path lengths\u001b[0m\n",
      "\u001b[32m2025-06-23 12:56:10.602\u001b[0m | \u001b[1mINFO    \u001b[0m | \u001b[36mtransport_frames.indicators.indicator_area\u001b[0m:\u001b[36mindicator_area\u001b[0m:\u001b[36m209\u001b[0m - \u001b[1mCalculating number of bus routes\u001b[0m\n",
      "\u001b[32m2025-06-23 12:56:10.903\u001b[0m | \u001b[1mINFO    \u001b[0m | \u001b[36mtransport_frames.indicators.indicator_area\u001b[0m:\u001b[36mindicator_area\u001b[0m:\u001b[36m219\u001b[0m - \u001b[1mCalculating reg_1 road lengths\u001b[0m\n",
      "\u001b[32m2025-06-23 12:56:11.259\u001b[0m | \u001b[1mINFO    \u001b[0m | \u001b[36mtransport_frames.indicators.indicator_area\u001b[0m:\u001b[36mindicator_area\u001b[0m:\u001b[36m219\u001b[0m - \u001b[1mCalculating reg_2 road lengths\u001b[0m\n",
      "\u001b[32m2025-06-23 12:56:12.444\u001b[0m | \u001b[1mINFO    \u001b[0m | \u001b[36mtransport_frames.indicators.indicator_area\u001b[0m:\u001b[36mindicator_area\u001b[0m:\u001b[36m219\u001b[0m - \u001b[1mCalculating reg_3 road lengths\u001b[0m\n",
      "\u001b[32m2025-06-23 12:56:19.089\u001b[0m | \u001b[1mINFO    \u001b[0m | \u001b[36mtransport_frames.indicators.indicator_area\u001b[0m:\u001b[36mindicator_area\u001b[0m:\u001b[36m231\u001b[0m - \u001b[1mCalculating road density\u001b[0m\n"
     ]
    }
   ],
   "source": [
    "ind_area = indicator_area(g.graph, [country_polygon, districts_polygons,settlement_polygons],preprocessed_accessibility,services,local_crs,adj_drive,adj_inter,capital)"
   ]
  },
  {
   "cell_type": "code",
   "execution_count": 23,
   "metadata": {},
   "outputs": [
    {
     "data": {
      "text/html": [
       "<div>\n",
       "<style scoped>\n",
       "    .dataframe tbody tr th:only-of-type {\n",
       "        vertical-align: middle;\n",
       "    }\n",
       "\n",
       "    .dataframe tbody tr th {\n",
       "        vertical-align: top;\n",
       "    }\n",
       "\n",
       "    .dataframe thead th {\n",
       "        text-align: right;\n",
       "    }\n",
       "</style>\n",
       "<table border=\"1\" class=\"dataframe\">\n",
       "  <thead>\n",
       "    <tr style=\"text-align: right;\">\n",
       "      <th></th>\n",
       "      <th>name</th>\n",
       "      <th>geometry</th>\n",
       "      <th>number_of_railway_stations</th>\n",
       "      <th>railway_stations_accessibility_min</th>\n",
       "      <th>number_of_fuel_stations</th>\n",
       "      <th>fuel_stations_accessibility_min</th>\n",
       "      <th>number_of_ports</th>\n",
       "      <th>ports_accessibility_min</th>\n",
       "      <th>number_of_local_aerodrome</th>\n",
       "      <th>local_aerodrome_accessibility_min</th>\n",
       "      <th>...</th>\n",
       "      <th>connectivity_drive_min</th>\n",
       "      <th>connectivity_inter_min</th>\n",
       "      <th>to_region_admin_center_km</th>\n",
       "      <th>to_reg_1_km</th>\n",
       "      <th>train_path_length_km</th>\n",
       "      <th>number_of_bus_routes</th>\n",
       "      <th>reg1_length_km</th>\n",
       "      <th>reg2_length_km</th>\n",
       "      <th>reg3_length_km</th>\n",
       "      <th>road_density_km/km2</th>\n",
       "    </tr>\n",
       "  </thead>\n",
       "  <tbody>\n",
       "    <tr>\n",
       "      <th>0</th>\n",
       "      <td>Russia</td>\n",
       "      <td>MULTIPOLYGON (((2408972.289 12450129.16, 24081...</td>\n",
       "      <td>63</td>\n",
       "      <td>18.15625</td>\n",
       "      <td>232</td>\n",
       "      <td>12.953125</td>\n",
       "      <td>0</td>\n",
       "      <td>NaN</td>\n",
       "      <td>4</td>\n",
       "      <td>54.9375</td>\n",
       "      <td>...</td>\n",
       "      <td>91.909</td>\n",
       "      <td>1054.546</td>\n",
       "      <td>3951.651</td>\n",
       "      <td>3832.796</td>\n",
       "      <td>2371.024</td>\n",
       "      <td>75</td>\n",
       "      <td>997.812</td>\n",
       "      <td>4212.452</td>\n",
       "      <td>11791.051</td>\n",
       "      <td>0.0</td>\n",
       "    </tr>\n",
       "  </tbody>\n",
       "</table>\n",
       "<p>1 rows × 23 columns</p>\n",
       "</div>"
      ],
      "text/plain": [
       "     name                                           geometry  \\\n",
       "0  Russia  MULTIPOLYGON (((2408972.289 12450129.16, 24081...   \n",
       "\n",
       "   number_of_railway_stations  railway_stations_accessibility_min  \\\n",
       "0                          63                            18.15625   \n",
       "\n",
       "   number_of_fuel_stations  fuel_stations_accessibility_min  number_of_ports  \\\n",
       "0                      232                        12.953125                0   \n",
       "\n",
       "   ports_accessibility_min  number_of_local_aerodrome  \\\n",
       "0                      NaN                          4   \n",
       "\n",
       "   local_aerodrome_accessibility_min  ...  connectivity_drive_min  \\\n",
       "0                            54.9375  ...                  91.909   \n",
       "\n",
       "   connectivity_inter_min  to_region_admin_center_km  to_reg_1_km  \\\n",
       "0                1054.546                   3951.651     3832.796   \n",
       "\n",
       "   train_path_length_km  number_of_bus_routes  reg1_length_km  reg2_length_km  \\\n",
       "0              2371.024                    75         997.812        4212.452   \n",
       "\n",
       "   reg3_length_km  road_density_km/km2  \n",
       "0       11791.051                  0.0  \n",
       "\n",
       "[1 rows x 23 columns]"
      ]
     },
     "execution_count": 23,
     "metadata": {},
     "output_type": "execute_result"
    }
   ],
   "source": [
    "ind_area[0]"
   ]
  },
  {
   "cell_type": "code",
   "execution_count": 21,
   "metadata": {},
   "outputs": [],
   "source": [
    "# restricted_terr = [(ox.geocode_to_gdf('Estonia'), 0.0),\n",
    "#                    (ox.geocode_to_gdf('Finland'), 0.5)]"
   ]
  }
 ],
 "metadata": {
  "kernelspec": {
   "display_name": "venv",
   "language": "python",
   "name": "python3"
  },
  "language_info": {
   "codemirror_mode": {
    "name": "ipython",
    "version": 3
   },
   "file_extension": ".py",
   "mimetype": "text/x-python",
   "name": "python",
   "nbconvert_exporter": "python",
   "pygments_lexer": "ipython3",
   "version": "3.10.11"
  }
 },
 "nbformat": 4,
 "nbformat_minor": 2
}
