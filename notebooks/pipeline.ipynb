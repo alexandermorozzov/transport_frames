{
 "cells": [
  {
   "cell_type": "markdown",
   "metadata": {},
   "source": [
    "#### Импорты"
   ]
  },
  {
   "cell_type": "code",
   "execution_count": null,
   "metadata": {},
   "outputs": [],
   "source": [
    "import momepy\n",
    "import numpy as np\n",
    "import osmnx as ox\n",
    "import networkx as nx\n",
    "import pandas as pd\n",
    "import geopandas as gpd\n",
    "from transport_frames.src.metrics.indicators import get_intermodal\n",
    "from transport_frames.src.metrics.grade_territory import grade_territory\n",
    "from transport_frames.src.graph_builder.graphbuilder import get_graph_from_polygon, get_frame, assign_city_names_to_nodes, convert_list_attr_to_str\n",
    "from transport_frames.src.graph_builder.availability_estimation import availability_matrix, find_median\n",
    "from transport_frames.src.graph_builder.criteria import weight_territory, assign_grades"
   ]
  },
  {
   "cell_type": "markdown",
   "metadata": {},
   "source": [
    "#### Загрузка графа"
   ]
  },
  {
   "cell_type": "code",
   "execution_count": null,
   "metadata": {},
   "outputs": [],
   "source": [
    "LOCAL_UTM_CRS = 32636\n",
    "GLOBAL_CRS = 4326\n",
    "POLYGON_BUFFER_FOR_ROADS_METERS = 3_000\n",
    "\n",
    "leningrad_region_poly_osm_relation_id = 'R176095'\n",
    "saint_petersburg_poly_osm_relation_id = 'R337422'\n",
    "\n",
    "lo_polygon = ox.geocode_to_gdf(leningrad_region_poly_osm_relation_id, by_osmid=True).to_crs(epsg=LOCAL_UTM_CRS)\n",
    "spb_polygon = ox.geocode_to_gdf(saint_petersburg_poly_osm_relation_id, by_osmid=True).to_crs(epsg=LOCAL_UTM_CRS).buffer(POLYGON_BUFFER_FOR_ROADS_METERS)\n",
    "city = lo_polygon.union(spb_polygon).to_crs(epsg=GLOBAL_CRS) #  get lo polygon\n",
    "russia = ox.geocode_to_gdf(\"Russia\")\n",
    "\n",
    "citygraph = get_graph_from_polygon(city, crs=LOCAL_UTM_CRS,country_polygon=russia)\n",
    "citygraph = convert_list_attr_to_str(citygraph)\n",
    "nx.write_graphml(citygraph, 'spb_roads.graphml')"
   ]
  },
  {
   "cell_type": "markdown",
   "metadata": {},
   "source": [
    "#### Выделение каркаса"
   ]
  },
  {
   "cell_type": "code",
   "execution_count": null,
   "metadata": {},
   "outputs": [],
   "source": [
    "regions = gpd.read_file('../transport_frames/data/russia.geojson') #  get regions\n",
    "regions = regions[regions['ISO3166-2']!='RU-CHU']\n",
    "regions = regions.to_crs(city.crs)\n",
    "\n",
    "frame = get_frame(citygraph, regions, city)"
   ]
  },
  {
   "cell_type": "markdown",
   "metadata": {},
   "source": [
    "#### Перенос точек на граф"
   ]
  },
  {
   "cell_type": "code",
   "execution_count": null,
   "metadata": {},
   "outputs": [],
   "source": [
    "cities = gpd.read_file('../transport_frames/data/18_centers.geojson')\n",
    "frame = assign_city_names_to_nodes(cities.to_crs(frame.graph['crs']), momepy.nx_to_gdf(frame)[0], frame, name_col='name18', max_distance=1200)"
   ]
  },
  {
   "cell_type": "markdown",
   "metadata": {},
   "source": [
    "#### Оценка территории"
   ]
  },
  {
   "cell_type": "code",
   "execution_count": null,
   "metadata": {},
   "outputs": [],
   "source": [
    "p1 = gpd.read_file('../transport_frames/data/Аэродром лодейнопольское поселение.geojson')\n",
    "p2 = gpd.read_file('../transport_frames/data/Аэродром Сиверск .geojson')\n",
    "p3 = gpd.read_file('../transport_frames/data/project Светогорского поселения.geojson')\n",
    "p4 = gpd.read_file('../transport_frames/data/project Шлиссельбург.geojson')\n",
    "neudobiya = pd.concat([p1,p2,p3,p4])"
   ]
  },
  {
   "cell_type": "code",
   "execution_count": null,
   "metadata": {},
   "outputs": [],
   "source": [
    "n_grade = grade_territory(neudobiya, frame, include_priority=True)"
   ]
  },
  {
   "cell_type": "markdown",
   "metadata": {},
   "source": [
    "#### Расчет критериев оценки состояния территории"
   ]
  },
  {
   "cell_type": "code",
   "execution_count": null,
   "metadata": {},
   "outputs": [],
   "source": [
    "polygons188 = gpd.read_file(\"../transport_frames/data/polygons188.geojson\")\n",
    "points = gpd.read_file(\"../transport_frames/data/points.geojson\")\n",
    "\n",
    "p1 = gpd.read_file('../transport_frames/data/geojson/Аэродром лодейнопольское поселение.geojson')\n",
    "p2 = gpd.read_file('../transport_frames/data/geojson/Аэродром Сиверск .geojson')\n",
    "p3 = gpd.read_file('../transport_frames/data/geojson/project Светогорского поселения.geojson')\n",
    "p4 = gpd.read_file('../transport_frames/data/geojson/project Шлиссельбург.geojson')\n",
    "\n",
    "ferry = gpd.read_file('../transport_frames/data/geojson/water_transport_LO.geojson')\n",
    "aero = gpd.read_file('../transport_frames/data/geojson/airports_local_LO.geojson')\n",
    "r_stops = gpd.read_file('../transport_frames/data/geojson/ЖД остановки.geojson')\n",
    "fuel = gpd.read_file('../transport_frames/data/geojson/fuel.geojson')\n",
    "b_stops = gpd.read_file('../transport_frames/data/geojson/Остановки ЛО.geojson')"
   ]
  },
  {
   "cell_type": "code",
   "execution_count": null,
   "metadata": {},
   "outputs": [],
   "source": [
    "inter = get_intermodal(city_id=, crs=32636)"
   ]
  },
  {
   "cell_type": "code",
   "execution_count": null,
   "metadata": {},
   "outputs": [],
   "source": [
    "adj_mx = availability_matrix(citygraph, points)\n",
    "p = find_median(points,adj_mx, polygon)"
   ]
  },
  {
   "cell_type": "code",
   "execution_count": null,
   "metadata": {},
   "outputs": [],
   "source": [
    "p_agg = p[p['to_service'] < np.finfo(np.float64).max].copy()\n",
    "res = gpd.sjoin(p_agg, polygons188, how='left', op='within').groupby('index_right').median(['to_service']).reset_index()\n",
    "result_df = pd.merge(polygons188.reset_index(), res, left_on='index', right_on='index_right', how='left').drop(columns=['fid_right']).rename(columns={'to_service': 'in_car'})\n",
    "result_df = result_df.drop(columns=['index_right'])"
   ]
  },
  {
   "cell_type": "code",
   "execution_count": null,
   "metadata": {},
   "outputs": [],
   "source": [
    "adj_mx_inter = availability_matrix(inter,points,graph_type=[GraphType.PUBLIC_TRANSPORT, GraphType.WALK])\n",
    "p_inter = find_median(points, adj_mx_inter, result_df)\n",
    "points_inter = p_inter[p_inter['to_service'] < np.finfo(np.float64).max].copy()"
   ]
  },
  {
   "cell_type": "code",
   "execution_count": null,
   "metadata": {},
   "outputs": [],
   "source": [
    "res_inter = gpd.sjoin(points_inter, polygons188, how=\"left\", predicate=\"within\").groupby('index_right').median(['to_service']).reset_index()\n",
    "result_df_inter = pd.merge(result_df, res_inter, left_on='index', right_on='index_right', how='left').drop(columns=['index_right', 'fid_right']).rename(columns={'to_service': 'in_inter'})"
   ]
  },
  {
   "cell_type": "code",
   "execution_count": null,
   "metadata": {},
   "outputs": [],
   "source": [
    "# Grade the territories\n",
    "graded_gdf = weight_territory(n_grade, r_stops, b_stops, ferry, aero)"
   ]
  },
  {
   "cell_type": "code",
   "execution_count": null,
   "metadata": {},
   "outputs": [],
   "source": [
    "result = assign_grades(graded_gdf[['name', 'geometry', 'grade', 'weight']], result_df_inter[['index', 'fid', 'name', 'geometry', 'in_car', 'in_inter']])\n",
    "result.to_file('data/geojson/result_assesment.geojson', driver='GeoJSON')"
   ]
  }
 ],
 "metadata": {
  "kernelspec": {
   "display_name": ".venv",
   "language": "python",
   "name": "python3"
  },
  "language_info": {
   "codemirror_mode": {
    "name": "ipython",
    "version": 3
   },
   "file_extension": ".py",
   "mimetype": "text/x-python",
   "name": "python",
   "nbconvert_exporter": "python",
   "pygments_lexer": "ipython3",
   "version": "3.11.9"
  }
 },
 "nbformat": 4,
 "nbformat_minor": 2
}
