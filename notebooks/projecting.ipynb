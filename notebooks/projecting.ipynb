{
 "cells": [
  {
   "cell_type": "code",
   "execution_count": 1,
   "metadata": {},
   "outputs": [
    {
     "name": "stderr",
     "output_type": "stream",
     "text": [
      "/Users/polina/Desktop/github/transport_frames/.venv/lib/python3.10/site-packages/tqdm/auto.py:21: TqdmWarning: IProgress not found. Please update jupyter and ipywidgets. See https://ipywidgets.readthedocs.io/en/stable/user_install.html\n",
      "  from .autonotebook import tqdm as notebook_tqdm\n"
     ]
    },
    {
     "data": {
      "text/html": [
       "\n",
       "\t\t\t<script type=\"text/javascript\">\n",
       "\t\t\t<!--\n",
       "\t\t\t\t\n",
       "\t\t\t{\n",
       "\t\t\t\tvar element = document.getElementById('NetworKit_script');\n",
       "\t\t\t\tif (element) {\n",
       "\t\t\t\t\telement.parentNode.removeChild(element);\n",
       "\t\t\t\t}\n",
       "\t\t\t\telement = document.createElement('script');\n",
       "\t\t\t\telement.type = 'text/javascript';\n",
       "\t\t\t\telement.innerHTML = 'function NetworKit_pageEmbed(id) { var i, j; var elements; elements = document.getElementById(id).getElementsByClassName(\"Plot\"); for (i=0; i<elements.length; i++) { elements[i].id = id + \"_Plot_\" + i; var data = elements[i].getAttribute(\"data-image\").split(\"|\"); elements[i].removeAttribute(\"data-image\"); var content = \"<div class=\\\\\"Image\\\\\" id=\\\\\"\" + elements[i].id + \"_Image\\\\\" />\"; elements[i].innerHTML = content; elements[i].setAttribute(\"data-image-index\", 0); elements[i].setAttribute(\"data-image-length\", data.length); for (j=0; j<data.length; j++) { elements[i].setAttribute(\"data-image-\" + j, data[j]); } NetworKit_plotUpdate(elements[i]); elements[i].onclick = function (e) { NetworKit_overlayShow((e.target) ? e.target : e.srcElement); } } elements = document.getElementById(id).getElementsByClassName(\"HeatCell\"); for (i=0; i<elements.length; i++) { var data = parseFloat(elements[i].getAttribute(\"data-heat\")); var color = \"#00FF00\"; if (data <= 1 && data > 0) { color = \"hsla(0, 100%, 75%, \" + (data) + \")\"; } else if (data <= 0 && data >= -1) { color = \"hsla(240, 100%, 75%, \" + (-data) + \")\"; } elements[i].style.backgroundColor = color; } elements = document.getElementById(id).getElementsByClassName(\"Details\"); for (i=0; i<elements.length; i++) { elements[i].setAttribute(\"data-title\", \"-\"); NetworKit_toggleDetails(elements[i]); elements[i].onclick = function (e) { NetworKit_toggleDetails((e.target) ? e.target : e.srcElement); } } elements = document.getElementById(id).getElementsByClassName(\"MathValue\"); for (i=elements.length-1; i>=0; i--) { value = elements[i].innerHTML.trim(); if (value === \"nan\") { elements[i].parentNode.innerHTML = \"\" } } elements = document.getElementById(id).getElementsByClassName(\"SubCategory\"); for (i=elements.length-1; i>=0; i--) { value = elements[i].innerHTML.trim(); if (value === \"\") { elements[i].parentNode.removeChild(elements[i]) } } elements = document.getElementById(id).getElementsByClassName(\"Category\"); for (i=elements.length-1; i>=0; i--) { value = elements[i].innerHTML.trim(); if (value === \"\") { elements[i].parentNode.removeChild(elements[i]) } } var isFirefox = false; try { isFirefox = typeof InstallTrigger !== \"undefined\"; } catch (e) {} if (!isFirefox) { alert(\"Currently the function\\'s output is only fully supported by Firefox.\"); } } function NetworKit_plotUpdate(source) { var index = source.getAttribute(\"data-image-index\"); var data = source.getAttribute(\"data-image-\" + index); var image = document.getElementById(source.id + \"_Image\"); image.style.backgroundImage = \"url(\" + data + \")\"; } function NetworKit_showElement(id, show) { var element = document.getElementById(id); element.style.display = (show) ? \"block\" : \"none\"; } function NetworKit_overlayShow(source) { NetworKit_overlayUpdate(source); NetworKit_showElement(\"NetworKit_Overlay\", true); } function NetworKit_overlayUpdate(source) { document.getElementById(\"NetworKit_Overlay_Title\").innerHTML = source.title; var index = source.getAttribute(\"data-image-index\"); var data = source.getAttribute(\"data-image-\" + index); var image = document.getElementById(\"NetworKit_Overlay_Image\"); image.setAttribute(\"data-id\", source.id); image.style.backgroundImage = \"url(\" + data + \")\"; var link = document.getElementById(\"NetworKit_Overlay_Toolbar_Bottom_Save\"); link.href = data; link.download = source.title + \".svg\"; } function NetworKit_overlayImageShift(delta) { var image = document.getElementById(\"NetworKit_Overlay_Image\"); var source = document.getElementById(image.getAttribute(\"data-id\")); var index = parseInt(source.getAttribute(\"data-image-index\")); var length = parseInt(source.getAttribute(\"data-image-length\")); var index = (index+delta) % length; if (index < 0) { index = length + index; } source.setAttribute(\"data-image-index\", index); NetworKit_overlayUpdate(source); } function NetworKit_toggleDetails(source) { var childs = source.children; var show = false; if (source.getAttribute(\"data-title\") == \"-\") { source.setAttribute(\"data-title\", \"+\"); show = false; } else { source.setAttribute(\"data-title\", \"-\"); show = true; } for (i=0; i<childs.length; i++) { if (show) { childs[i].style.display = \"block\"; } else { childs[i].style.display = \"none\"; } } }';\n",
       "\t\t\t\telement.setAttribute('id', 'NetworKit_script');\n",
       "\t\t\t\tdocument.head.appendChild(element);\n",
       "\t\t\t}\n",
       "\t\t\n",
       "\t\t\t\t\n",
       "\t\t\t{\n",
       "\t\t\t\tvar element = document.getElementById('NetworKit_style');\n",
       "\t\t\t\tif (element) {\n",
       "\t\t\t\t\telement.parentNode.removeChild(element);\n",
       "\t\t\t\t}\n",
       "\t\t\t\telement = document.createElement('style');\n",
       "\t\t\t\telement.type = 'text/css';\n",
       "\t\t\t\telement.innerHTML = '.NetworKit_Page { font-family: Arial, Helvetica, sans-serif; font-size: 14px; } .NetworKit_Page .Value:before { font-family: Arial, Helvetica, sans-serif; font-size: 1.05em; content: attr(data-title) \":\"; margin-left: -2.5em; padding-right: 0.5em; } .NetworKit_Page .Details .Value:before { display: block; } .NetworKit_Page .Value { font-family: monospace; white-space: pre; padding-left: 2.5em; white-space: -moz-pre-wrap !important; white-space: -pre-wrap; white-space: -o-pre-wrap; white-space: pre-wrap; word-wrap: break-word; tab-size: 4; -moz-tab-size: 4; } .NetworKit_Page .Category { clear: both; padding-left: 1em; margin-bottom: 1.5em; } .NetworKit_Page .Category:before { content: attr(data-title); font-size: 1.75em; display: block; margin-left: -0.8em; margin-bottom: 0.5em; } .NetworKit_Page .SubCategory { margin-bottom: 1.5em; padding-left: 1em; } .NetworKit_Page .SubCategory:before { font-size: 1.6em; display: block; margin-left: -0.8em; margin-bottom: 0.5em; } .NetworKit_Page .SubCategory[data-title]:before { content: attr(data-title); } .NetworKit_Page .Block { display: block; } .NetworKit_Page .Block:after { content: \".\"; visibility: hidden; display: block; height: 0; clear: both; } .NetworKit_Page .Block .Thumbnail_Overview, .NetworKit_Page .Block .Thumbnail_ScatterPlot { width: 260px; float: left; } .NetworKit_Page .Block .Thumbnail_Overview img, .NetworKit_Page .Block .Thumbnail_ScatterPlot img { width: 260px; } .NetworKit_Page .Block .Thumbnail_Overview:before, .NetworKit_Page .Block .Thumbnail_ScatterPlot:before { display: block; text-align: center; font-weight: bold; } .NetworKit_Page .Block .Thumbnail_Overview:before { content: attr(data-title); } .NetworKit_Page .HeatCell { font-family: \"Courier New\", Courier, monospace; cursor: pointer; } .NetworKit_Page .HeatCell, .NetworKit_Page .HeatCellName { display: inline; padding: 0.1em; margin-right: 2px; background-color: #FFFFFF } .NetworKit_Page .HeatCellName { margin-left: 0.25em; } .NetworKit_Page .HeatCell:before { content: attr(data-heat); display: inline-block; color: #000000; width: 4em; text-align: center; } .NetworKit_Page .Measure { clear: both; } .NetworKit_Page .Measure .Details { cursor: pointer; } .NetworKit_Page .Measure .Details:before { content: \"[\" attr(data-title) \"]\"; display: block; } .NetworKit_Page .Measure .Details .Value { border-left: 1px dotted black; margin-left: 0.4em; padding-left: 3.5em; pointer-events: none; } .NetworKit_Page .Measure .Details .Spacer:before { content: \".\"; opacity: 0.0; pointer-events: none; } .NetworKit_Page .Measure .Plot { width: 440px; height: 440px; cursor: pointer; float: left; margin-left: -0.9em; margin-right: 20px; } .NetworKit_Page .Measure .Plot .Image { background-repeat: no-repeat; background-position: center center; background-size: contain; height: 100%; pointer-events: none; } .NetworKit_Page .Measure .Stat { width: 500px; float: left; } .NetworKit_Page .Measure .Stat .Group { padding-left: 1.25em; margin-bottom: 0.75em; } .NetworKit_Page .Measure .Stat .Group .Title { font-size: 1.1em; display: block; margin-bottom: 0.3em; margin-left: -0.75em; border-right-style: dotted; border-right-width: 1px; border-bottom-style: dotted; border-bottom-width: 1px; background-color: #D0D0D0; padding-left: 0.2em; } .NetworKit_Page .Measure .Stat .Group .List { -webkit-column-count: 3; -moz-column-count: 3; column-count: 3; } .NetworKit_Page .Measure .Stat .Group .List .Entry { position: relative; line-height: 1.75em; } .NetworKit_Page .Measure .Stat .Group .List .Entry[data-tooltip]:before { position: absolute; left: 0; top: -40px; background-color: #808080; color: #ffffff; height: 30px; line-height: 30px; border-radius: 5px; padding: 0 15px; content: attr(data-tooltip); white-space: nowrap; display: none; } .NetworKit_Page .Measure .Stat .Group .List .Entry[data-tooltip]:after { position: absolute; left: 15px; top: -10px; border-top: 7px solid #808080; border-left: 7px solid transparent; border-right: 7px solid transparent; content: \"\"; display: none; } .NetworKit_Page .Measure .Stat .Group .List .Entry[data-tooltip]:hover:after, .NetworKit_Page .Measure .Stat .Group .List .Entry[data-tooltip]:hover:before { display: block; } .NetworKit_Page .Measure .Stat .Group .List .Entry .MathValue { font-family: \"Courier New\", Courier, monospace; } .NetworKit_Page .Measure:after { content: \".\"; visibility: hidden; display: block; height: 0; clear: both; } .NetworKit_Page .PartitionPie { clear: both; } .NetworKit_Page .PartitionPie img { width: 600px; } #NetworKit_Overlay { left: 0px; top: 0px; display: none; position: absolute; width: 100%; height: 100%; background-color: rgba(0,0,0,0.6); z-index: 1000; } #NetworKit_Overlay_Title { position: absolute; color: white; transform: rotate(-90deg); width: 32em; height: 32em; padding-right: 0.5em; padding-top: 0.5em; text-align: right; font-size: 40px; } #NetworKit_Overlay .button { background: white; cursor: pointer; } #NetworKit_Overlay .button:before { size: 13px; display: inline-block; text-align: center; margin-top: 0.5em; margin-bottom: 0.5em; width: 1.5em; height: 1.5em; } #NetworKit_Overlay .icon-close:before { content: \"X\"; } #NetworKit_Overlay .icon-previous:before { content: \"P\"; } #NetworKit_Overlay .icon-next:before { content: \"N\"; } #NetworKit_Overlay .icon-save:before { content: \"S\"; } #NetworKit_Overlay_Toolbar_Top, #NetworKit_Overlay_Toolbar_Bottom { position: absolute; width: 40px; right: 13px; text-align: right; z-index: 1100; } #NetworKit_Overlay_Toolbar_Top { top: 0.5em; } #NetworKit_Overlay_Toolbar_Bottom { Bottom: 0.5em; } #NetworKit_Overlay_ImageContainer { position: absolute; top: 5%; left: 5%; height: 90%; width: 90%; background-repeat: no-repeat; background-position: center center; background-size: contain; } #NetworKit_Overlay_Image { height: 100%; width: 100%; background-repeat: no-repeat; background-position: center center; background-size: contain; }';\n",
       "\t\t\t\telement.setAttribute('id', 'NetworKit_style');\n",
       "\t\t\t\tdocument.head.appendChild(element);\n",
       "\t\t\t}\n",
       "\t\t\n",
       "\t\t\t\t\n",
       "\t\t\t{\n",
       "\t\t\t\tvar element = document.getElementById('NetworKit_Overlay');\n",
       "\t\t\t\tif (element) {\n",
       "\t\t\t\t\telement.parentNode.removeChild(element);\n",
       "\t\t\t\t}\n",
       "\t\t\t\telement = document.createElement('div');\n",
       "\t\t\t\telement.innerHTML = '<div id=\"NetworKit_Overlay_Toolbar_Top\"><div class=\"button icon-close\" id=\"NetworKit_Overlay_Close\" /></div><div id=\"NetworKit_Overlay_Title\" /> <div id=\"NetworKit_Overlay_ImageContainer\"> <div id=\"NetworKit_Overlay_Image\" /> </div> <div id=\"NetworKit_Overlay_Toolbar_Bottom\"> <div class=\"button icon-previous\" onclick=\"NetworKit_overlayImageShift(-1)\" /> <div class=\"button icon-next\" onclick=\"NetworKit_overlayImageShift(1)\" /> <a id=\"NetworKit_Overlay_Toolbar_Bottom_Save\"><div class=\"button icon-save\" /></a> </div>';\n",
       "\t\t\t\telement.setAttribute('id', 'NetworKit_Overlay');\n",
       "\t\t\t\tdocument.body.appendChild(element);\n",
       "\t\t\t\tdocument.getElementById('NetworKit_Overlay_Close').onclick = function (e) {\n",
       "\t\t\t\t\tdocument.getElementById('NetworKit_Overlay').style.display = 'none';\n",
       "\t\t\t\t}\n",
       "\t\t\t}\n",
       "\t\t\n",
       "\t\t\t-->\n",
       "\t\t\t</script>\n",
       "\t\t"
      ]
     },
     "metadata": {},
     "output_type": "display_data"
    }
   ],
   "source": [
    "import sys\n",
    "sys.path.append('../')\n",
    "import transport_frames.src.graph_builder.criteria as criteria\n",
    "import transport_frames.src.metrics.indicators as indicators\n",
    "import transport_frames.src.metrics.grade_territory as grade_territory\n",
    "import transport_frames.src.graph_builder.graphbuilder as graphbuilder\n",
    "import momepy\n",
    "import osmnx as ox\n",
    "import geopandas as gpd\n",
    "import shapely\n",
    "import pandas as pd\n",
    "import networkx as nx\n",
    "import numpy as np\n",
    "import json\n",
    "from blocksnet import  AdjacencyCalculator"
   ]
  },
  {
   "cell_type": "code",
   "execution_count": 2,
   "metadata": {},
   "outputs": [],
   "source": [
    "region_name = 'Тульская_область'\n",
    "local_crs = 32637"
   ]
  },
  {
   "cell_type": "code",
   "execution_count": 3,
   "metadata": {},
   "outputs": [],
   "source": [
    "\n",
    "PLACEHOLDER = gpd.GeoDataFrame(geometry=[]) # set where are no services \n",
    "\n",
    "polygons188 = gpd.read_file(f'../data/{region_name}/settlement.geojson')\n",
    "polygons18 = gpd.read_file(f'../data/{region_name}/district.geojson')\n",
    "\n",
    "points = gpd.read_file(f'../data/{region_name}/{region_name}_region_points.geojson')\n",
    "# points188 = shapely.centroid(polygons188.geometry).set_crs(polygons188.crs)\n",
    "points18 = points[points['is_admin_centre_district']==True]\n",
    "\n",
    "\n",
    "railway_stops = gpd.read_file(f'../data/{region_name}/railway_station.geojson')\n",
    "\n",
    "fuel = gpd.read_file(f'../data/{region_name}/Копия fuel.geojson')\n",
    "\n",
    "# ports = gpd.read_file(f'../data/{region_name}/ferry_terminal.geojson')\n",
    "ports = PLACEHOLDER\n",
    "\n",
    "local_aero = gpd.read_file(f'../data/{region_name}/aerodrome.geojson')\n",
    "\n",
    "international_aero = local_aero[local_aero['aerodrome:type']=='international']\n",
    "international_aero['geometry'] = shapely.centroid(international_aero['geometry']).set_crs(international_aero.crs)\n",
    "\n",
    "local_aero = local_aero[local_aero['aerodrome:type']!='international']\n",
    "local_aero['geometry'] = shapely.centroid(local_aero['geometry']).set_crs(local_aero.crs)\n",
    "\n",
    "\n",
    "water_objects = gpd.read_file(f'../data/{region_name}/Копия water.geojson')\n",
    "\n",
    "oopt = gpd.read_file(f'../data/{region_name}/Копия nature_reserve.geojson')\n",
    "\n",
    "train_paths = gpd.read_file(f'../data/{region_name}/railway.geojson')\n",
    "\n",
    "bus_stops = gpd.read_file(f'../data/{region_name}/bus_stop.geojson')\n",
    "####\n",
    "neud = polygons18.iloc[[3]].to_crs(local_crs)\n",
    "neud_center = neud.geometry.representative_point()\n",
    "neud_center = gpd.GeoDataFrame([{'geometry': neud_center.iloc[0]}], crs=neud.crs).to_crs(local_crs)\n",
    "\n"
   ]
  },
  {
   "cell_type": "code",
   "execution_count": 4,
   "metadata": {},
   "outputs": [],
   "source": [
    "region_capital = ox.geocode_to_gdf('N34389350',by_osmid=True)\n",
    "city = ox.geocode_to_gdf(f'R{81993}', by_osmid=True).to_crs(epsg=4326)"
   ]
  },
  {
   "cell_type": "code",
   "execution_count": 5,
   "metadata": {},
   "outputs": [],
   "source": [
    "citygraph = nx.read_graphml(f'/Users/polina/Desktop/github/transport_frames/preprocessed/Тульская_область/Тульская_область_uds.graphml')\n",
    "citygraph = graphbuilder.convert_list_attr_from_str(citygraph)\n",
    "citygraph = indicators.prepare_graph(citygraph)"
   ]
  },
  {
   "cell_type": "code",
   "execution_count": 6,
   "metadata": {},
   "outputs": [],
   "source": [
    "inter = nx.read_graphml(f\"../preprocessed/{region_name}/{region_name}_inter.graphml\")\n",
    "inter = graphbuilder.convert_list_attr_from_str(inter)\n",
    "inter = indicators.prepare_graph(inter)\n",
    "bus_routes = gpd.read_file(f'../preprocessed/{region_name}/{region_name}_bus_routes.geojson')\n"
   ]
  },
  {
   "cell_type": "code",
   "execution_count": 7,
   "metadata": {},
   "outputs": [],
   "source": [
    "citygraph_n,citygraph_e = momepy.nx_to_gdf(citygraph)"
   ]
  },
  {
   "cell_type": "code",
   "execution_count": 8,
   "metadata": {},
   "outputs": [],
   "source": [
    "services = {\n",
    "    'railway_stops' : railway_stops,\n",
    "    'fuel' : fuel,\n",
    "    'ports' : ports,\n",
    "    'local_aero' : local_aero,\n",
    "    'international_aero' : international_aero,\n",
    "    'oopt' : oopt,\n",
    "    'water_objects' : water_objects,\n",
    "    'train_paths' : train_paths,\n",
    "    'bus_stops' : bus_stops,\n",
    "    'capital':region_capital,\n",
    "    'points':points,\n",
    "    'bus_routes' : bus_routes,\n",
    "    'region_centers':points18,\n",
    "    'neud_center':neud_center\n",
    "}"
   ]
  },
  {
   "cell_type": "code",
   "execution_count": 9,
   "metadata": {},
   "outputs": [
    {
     "name": "stdout",
     "output_type": "stream",
     "text": [
      "railway_stops\n",
      "fuel\n",
      "no ports (((((((\n",
      "local_aero\n",
      "no international_aero (((((((\n",
      "no oopt (((((((\n",
      "no water_objects (((((((\n",
      "no train_paths (((((((\n",
      "bus_stops\n",
      "capital\n",
      "points\n",
      "bus_routes\n",
      "region_centers\n",
      "neud_center\n"
     ]
    }
   ],
   "source": [
    "G = indicators.assign_services_names_to_nodes(services,citygraph_n,citygraph,crs = local_crs)"
   ]
  },
  {
   "cell_type": "code",
   "execution_count": 10,
   "metadata": {},
   "outputs": [
    {
     "name": "stderr",
     "output_type": "stream",
     "text": [
      "100%|██████████| 2988/2988 [04:26<00:00, 11.19it/s]\n",
      "/Users/polina/Desktop/github/transport_frames/notebooks/../transport_frames/src/metrics/indicators.py:713: FutureWarning: The default value of numeric_only in DataFrameGroupBy.median is deprecated. In a future version, numeric_only will default to False. Either specify numeric_only or select only columns which should be valid for the function.\n",
      "  res = gpd.sjoin(at, polygons.to_crs(local_crs), how=\"left\", predicate=\"within\").groupby('index_right').median()\n",
      "/Users/polina/Desktop/github/transport_frames/notebooks/../transport_frames/src/metrics/indicators.py:720: FutureWarning: The default value of numeric_only in DataFrameGroupBy.median is deprecated. In a future version, numeric_only will default to False. Either specify numeric_only or select only columns which should be valid for the function.\n",
      "  'index_right').median()\n",
      "/Users/polina/Desktop/github/transport_frames/notebooks/../transport_frames/src/metrics/indicators.py:725: FutureWarning: The default value of numeric_only in DataFrameGroupBy.median is deprecated. In a future version, numeric_only will default to False. Either specify numeric_only or select only columns which should be valid for the function.\n",
      "  'index_right').median()\n",
      "/Users/polina/Desktop/github/transport_frames/notebooks/../transport_frames/src/metrics/indicators.py:713: FutureWarning: The default value of numeric_only in DataFrameGroupBy.median is deprecated. In a future version, numeric_only will default to False. Either specify numeric_only or select only columns which should be valid for the function.\n",
      "  res = gpd.sjoin(at, polygons.to_crs(local_crs), how=\"left\", predicate=\"within\").groupby('index_right').median()\n",
      "/Users/polina/Desktop/github/transport_frames/notebooks/../transport_frames/src/metrics/indicators.py:720: FutureWarning: The default value of numeric_only in DataFrameGroupBy.median is deprecated. In a future version, numeric_only will default to False. Either specify numeric_only or select only columns which should be valid for the function.\n",
      "  'index_right').median()\n",
      "/Users/polina/Desktop/github/transport_frames/notebooks/../transport_frames/src/metrics/indicators.py:725: FutureWarning: The default value of numeric_only in DataFrameGroupBy.median is deprecated. In a future version, numeric_only will default to False. Either specify numeric_only or select only columns which should be valid for the function.\n",
      "  'index_right').median()\n",
      "/Users/polina/Desktop/github/transport_frames/notebooks/../transport_frames/src/metrics/indicators.py:300: UserWarning: `keep_geom_type=True` in overlay resulted in 4 dropped geometries of different geometry types than df1 has. Set `keep_geom_type=False` to retain all geometries\n",
      "  roads_intersect = gpd.overlay(roads_gdf, polygons_gdf, how='intersection')\n",
      "/Users/polina/Desktop/github/transport_frames/notebooks/../transport_frames/src/metrics/indicators.py:713: FutureWarning: The default value of numeric_only in DataFrameGroupBy.median is deprecated. In a future version, numeric_only will default to False. Either specify numeric_only or select only columns which should be valid for the function.\n",
      "  res = gpd.sjoin(at, polygons.to_crs(local_crs), how=\"left\", predicate=\"within\").groupby('index_right').median()\n",
      "/Users/polina/Desktop/github/transport_frames/notebooks/../transport_frames/src/metrics/indicators.py:720: FutureWarning: The default value of numeric_only in DataFrameGroupBy.median is deprecated. In a future version, numeric_only will default to False. Either specify numeric_only or select only columns which should be valid for the function.\n",
      "  'index_right').median()\n",
      "/Users/polina/Desktop/github/transport_frames/notebooks/../transport_frames/src/metrics/indicators.py:725: FutureWarning: The default value of numeric_only in DataFrameGroupBy.median is deprecated. In a future version, numeric_only will default to False. Either specify numeric_only or select only columns which should be valid for the function.\n",
      "  'index_right').median()\n"
     ]
    },
    {
     "ename": "AttributeError",
     "evalue": "'list' object has no attribute 'to_crs'",
     "output_type": "error",
     "traceback": [
      "\u001b[0;31m---------------------------------------------------------------------------\u001b[0m",
      "\u001b[0;31mAttributeError\u001b[0m                            Traceback (most recent call last)",
      "Cell \u001b[0;32mIn[10], line 1\u001b[0m\n\u001b[0;32m----> 1\u001b[0m merged \u001b[38;5;241m=\u001b[39m \u001b[43mindicators\u001b[49m\u001b[38;5;241;43m.\u001b[39;49m\u001b[43mindicator_area\u001b[49m\u001b[43m(\u001b[49m\u001b[43mG\u001b[49m\u001b[43m,\u001b[49m\u001b[43minter\u001b[49m\u001b[43m,\u001b[49m\u001b[43mservices\u001b[49m\u001b[43m,\u001b[49m\u001b[43m[\u001b[49m\u001b[43mcity\u001b[49m\u001b[43m,\u001b[49m\u001b[43mpolygons188\u001b[49m\u001b[43m,\u001b[49m\u001b[43mpolygons18\u001b[49m\u001b[43m]\u001b[49m\u001b[43m,\u001b[49m\u001b[43mlocal_crs\u001b[49m\u001b[43m)\u001b[49m\n",
      "File \u001b[0;32m~/Desktop/github/transport_frames/notebooks/../transport_frames/src/metrics/indicators.py:776\u001b[0m, in \u001b[0;36mindicator_area\u001b[0;34m(citygraph, inter, services, polygonsList, local_crs)\u001b[0m\n\u001b[1;32m    772\u001b[0m     merged\u001b[38;5;241m.\u001b[39mdrop(columns\u001b[38;5;241m=\u001b[39m\u001b[38;5;124m'\u001b[39m\u001b[38;5;124mindex_right\u001b[39m\u001b[38;5;124m'\u001b[39m, inplace\u001b[38;5;241m=\u001b[39m\u001b[38;5;28;01mTrue\u001b[39;00m)\n\u001b[1;32m    774\u001b[0m     merged_gdfs\u001b[38;5;241m.\u001b[39mappend(merged)\n\u001b[0;32m--> 776\u001b[0m \u001b[38;5;28;01mreturn\u001b[39;00m \u001b[43mmerged_gdfs\u001b[49m\u001b[38;5;241;43m.\u001b[39;49m\u001b[43mto_crs\u001b[49m(\u001b[38;5;241m4326\u001b[39m)\n",
      "\u001b[0;31mAttributeError\u001b[0m: 'list' object has no attribute 'to_crs'"
     ]
    }
   ],
   "source": [
    "merged = indicators.indicator_area(G,inter,services,[city,polygons188,polygons18],local_crs)"
   ]
  },
  {
   "cell_type": "code",
   "execution_count": 11,
   "metadata": {},
   "outputs": [
    {
     "name": "stderr",
     "output_type": "stream",
     "text": [
      "100%|██████████| 1/1 [00:00<00:00, 10.56it/s]\n"
     ]
    },
    {
     "name": "stdout",
     "output_type": "stream",
     "text": [
      "nearest_region_centers\n",
      "nearest_settlement_centers\n"
     ]
    },
    {
     "data": {
      "text/html": [
       "<div>\n",
       "<style scoped>\n",
       "    .dataframe tbody tr th:only-of-type {\n",
       "        vertical-align: middle;\n",
       "    }\n",
       "\n",
       "    .dataframe tbody tr th {\n",
       "        vertical-align: top;\n",
       "    }\n",
       "\n",
       "    .dataframe thead th {\n",
       "        text-align: right;\n",
       "    }\n",
       "</style>\n",
       "<table border=\"1\" class=\"dataframe\">\n",
       "  <thead>\n",
       "    <tr style=\"text-align: right;\">\n",
       "      <th></th>\n",
       "      <th>name</th>\n",
       "      <th>to_region_admin_center</th>\n",
       "      <th>to_reg1</th>\n",
       "      <th>fuel_stations_accessibility</th>\n",
       "      <th>train_stops_accessibility</th>\n",
       "      <th>local_aero_accessibility</th>\n",
       "      <th>international_aero_accessibility</th>\n",
       "      <th>ports_accessibility</th>\n",
       "      <th>water_objects_accessibility</th>\n",
       "      <th>oopt_accessibility</th>\n",
       "      <th>...</th>\n",
       "      <th>number_of_international_aero</th>\n",
       "      <th>number_of_water_objects</th>\n",
       "      <th>number_of_oopt</th>\n",
       "      <th>number_of_bus_stops</th>\n",
       "      <th>density</th>\n",
       "      <th>train_path_length</th>\n",
       "      <th>number_of_bus_routes</th>\n",
       "      <th>to_nearest_settlement_center</th>\n",
       "      <th>to_nearest_mo_center</th>\n",
       "      <th>geometry</th>\n",
       "    </tr>\n",
       "  </thead>\n",
       "  <tbody>\n",
       "    <tr>\n",
       "      <th>7910</th>\n",
       "      <td>None</td>\n",
       "      <td>49.587</td>\n",
       "      <td>5.376</td>\n",
       "      <td>0.000</td>\n",
       "      <td>0.000</td>\n",
       "      <td>70.714</td>\n",
       "      <td>None</td>\n",
       "      <td>None</td>\n",
       "      <td>0.000</td>\n",
       "      <td>0.554</td>\n",
       "      <td>...</td>\n",
       "      <td>0.000</td>\n",
       "      <td>674.000</td>\n",
       "      <td>0.000</td>\n",
       "      <td>116.000</td>\n",
       "      <td>1132.591</td>\n",
       "      <td>128.610</td>\n",
       "      <td>1.000</td>\n",
       "      <td>762.822</td>\n",
       "      <td>7518.282</td>\n",
       "      <td>POLYGON ((37.86087 54.34286, 37.86265 54.34249...</td>\n",
       "    </tr>\n",
       "  </tbody>\n",
       "</table>\n",
       "<p>1 rows × 24 columns</p>\n",
       "</div>"
      ],
      "text/plain": [
       "      name to_region_admin_center to_reg1 fuel_stations_accessibility  \\\n",
       "7910  None                 49.587   5.376                       0.000   \n",
       "\n",
       "     train_stops_accessibility local_aero_accessibility  \\\n",
       "7910                     0.000                   70.714   \n",
       "\n",
       "     international_aero_accessibility ports_accessibility  \\\n",
       "7910                             None                None   \n",
       "\n",
       "     water_objects_accessibility oopt_accessibility  ...  \\\n",
       "7910                       0.000              0.554  ...   \n",
       "\n",
       "     number_of_international_aero number_of_water_objects number_of_oopt  \\\n",
       "7910                        0.000                 674.000          0.000   \n",
       "\n",
       "     number_of_bus_stops   density train_path_length number_of_bus_routes  \\\n",
       "7910             116.000  1132.591           128.610                1.000   \n",
       "\n",
       "     to_nearest_settlement_center to_nearest_mo_center  \\\n",
       "7910                      762.822             7518.282   \n",
       "\n",
       "                                               geometry  \n",
       "7910  POLYGON ((37.86087 54.34286, 37.86265 54.34249...  \n",
       "\n",
       "[1 rows x 24 columns]"
      ]
     },
     "execution_count": 11,
     "metadata": {},
     "output_type": "execute_result"
    }
   ],
   "source": [
    "temp = indicators.indicator_territory(G,neud,local_crs,polygons18,points,points18,services)\n",
    "temp"
   ]
  },
  {
   "cell_type": "code",
   "execution_count": null,
   "metadata": {},
   "outputs": [
    {
     "data": {
      "text/html": [
       "<div>\n",
       "<style scoped>\n",
       "    .dataframe tbody tr th:only-of-type {\n",
       "        vertical-align: middle;\n",
       "    }\n",
       "\n",
       "    .dataframe tbody tr th {\n",
       "        vertical-align: top;\n",
       "    }\n",
       "\n",
       "    .dataframe thead th {\n",
       "        text-align: right;\n",
       "    }\n",
       "</style>\n",
       "<table border=\"1\" class=\"dataframe\">\n",
       "  <thead>\n",
       "    <tr style=\"text-align: right;\">\n",
       "      <th></th>\n",
       "      <th>name</th>\n",
       "      <th>to_region_admin_center</th>\n",
       "      <th>to_reg1</th>\n",
       "      <th>fuel_stations_accessibility</th>\n",
       "      <th>train_stops_accessibility</th>\n",
       "      <th>local_aero_accessibility</th>\n",
       "      <th>international_aero_accessibility</th>\n",
       "      <th>ports_accessibility</th>\n",
       "      <th>water_objects_accessibility</th>\n",
       "      <th>oopt_accessibility</th>\n",
       "      <th>number_of_train_stops</th>\n",
       "      <th>number_of_fuel_stations</th>\n",
       "      <th>number_of_ports</th>\n",
       "      <th>number_of_local_aero</th>\n",
       "      <th>number_of_international_aero</th>\n",
       "    </tr>\n",
       "  </thead>\n",
       "  <tbody>\n",
       "    <tr>\n",
       "      <th>7910</th>\n",
       "      <td>None</td>\n",
       "      <td>49.587</td>\n",
       "      <td>5.376</td>\n",
       "      <td>0.000</td>\n",
       "      <td>0.000</td>\n",
       "      <td>70.714</td>\n",
       "      <td>None</td>\n",
       "      <td>None</td>\n",
       "      <td>0.000</td>\n",
       "      <td>0.554</td>\n",
       "      <td>2.000</td>\n",
       "      <td>26.000</td>\n",
       "      <td>0.000</td>\n",
       "      <td>0.000</td>\n",
       "      <td>0.000</td>\n",
       "    </tr>\n",
       "  </tbody>\n",
       "</table>\n",
       "</div>"
      ],
      "text/plain": [
       "      name to_region_admin_center to_reg1 fuel_stations_accessibility  \\\n",
       "7910  None                 49.587   5.376                       0.000   \n",
       "\n",
       "     train_stops_accessibility local_aero_accessibility  \\\n",
       "7910                     0.000                   70.714   \n",
       "\n",
       "     international_aero_accessibility ports_accessibility  \\\n",
       "7910                             None                None   \n",
       "\n",
       "     water_objects_accessibility oopt_accessibility number_of_train_stops  \\\n",
       "7910                       0.000              0.554                 2.000   \n",
       "\n",
       "     number_of_fuel_stations number_of_ports number_of_local_aero  \\\n",
       "7910                  26.000           0.000                0.000   \n",
       "\n",
       "     number_of_international_aero  \n",
       "7910                        0.000  "
      ]
     },
     "execution_count": 43,
     "metadata": {},
     "output_type": "execute_result"
    }
   ],
   "source": [
    "merged.iloc[:,0:15]"
   ]
  },
  {
   "cell_type": "code",
   "execution_count": null,
   "metadata": {},
   "outputs": [
    {
     "data": {
      "text/html": [
       "<div>\n",
       "<style scoped>\n",
       "    .dataframe tbody tr th:only-of-type {\n",
       "        vertical-align: middle;\n",
       "    }\n",
       "\n",
       "    .dataframe tbody tr th {\n",
       "        vertical-align: top;\n",
       "    }\n",
       "\n",
       "    .dataframe thead th {\n",
       "        text-align: right;\n",
       "    }\n",
       "</style>\n",
       "<table border=\"1\" class=\"dataframe\">\n",
       "  <thead>\n",
       "    <tr style=\"text-align: right;\">\n",
       "      <th></th>\n",
       "      <th>number_of_water_objects</th>\n",
       "      <th>number_of_oopt</th>\n",
       "      <th>number_of_bus_stops</th>\n",
       "      <th>density</th>\n",
       "      <th>train_path_length</th>\n",
       "      <th>number_of_bus_routes</th>\n",
       "      <th>to_nearest_settlement_center</th>\n",
       "      <th>to_nearest_mo_center</th>\n",
       "      <th>geometry</th>\n",
       "    </tr>\n",
       "  </thead>\n",
       "  <tbody>\n",
       "    <tr>\n",
       "      <th>7910</th>\n",
       "      <td>674.000</td>\n",
       "      <td>0.000</td>\n",
       "      <td>116.000</td>\n",
       "      <td>1132.591</td>\n",
       "      <td>128.610</td>\n",
       "      <td>1.000</td>\n",
       "      <td>762.822</td>\n",
       "      <td>7518.282</td>\n",
       "      <td>POLYGON ((37.86087 54.34286, 37.86265 54.34249...</td>\n",
       "    </tr>\n",
       "  </tbody>\n",
       "</table>\n",
       "</div>"
      ],
      "text/plain": [
       "     number_of_water_objects number_of_oopt number_of_bus_stops   density  \\\n",
       "7910                 674.000          0.000             116.000  1132.591   \n",
       "\n",
       "     train_path_length number_of_bus_routes to_nearest_settlement_center  \\\n",
       "7910           128.610                1.000                      762.822   \n",
       "\n",
       "     to_nearest_mo_center                                           geometry  \n",
       "7910             7518.282  POLYGON ((37.86087 54.34286, 37.86265 54.34249...  "
      ]
     },
     "execution_count": 44,
     "metadata": {},
     "output_type": "execute_result"
    }
   ],
   "source": [
    "merged.iloc[:,15:30]\n"
   ]
  }
 ],
 "metadata": {
  "kernelspec": {
   "display_name": ".venv",
   "language": "python",
   "name": "python3"
  },
  "language_info": {
   "codemirror_mode": {
    "name": "ipython",
    "version": 3
   },
   "file_extension": ".py",
   "mimetype": "text/x-python",
   "name": "python",
   "nbconvert_exporter": "python",
   "pygments_lexer": "ipython3",
   "version": "3.10.11"
  }
 },
 "nbformat": 4,
 "nbformat_minor": 2
}
