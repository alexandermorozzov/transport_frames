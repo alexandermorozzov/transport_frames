{
 "cells": [
  {
   "cell_type": "code",
   "execution_count": null,
   "metadata": {},
   "outputs": [],
   "source": [
    "# lo_polygon = ox.geocode_to_gdf('R176095', by_osmid=True).to_crs(epsg=32636)\n",
    "# spb_polygon = ox.geocode_to_gdf('R337422', by_osmid=True).to_crs(epsg=32636).buffer(3000)\n",
    "# city = lo_polygon.union(spb_polygon).to_crs(epsg=4326) #  get lo polygon\n",
    "# polygon = gpd.GeoDataFrame([{'name': 'Ленинградская область', 'geometry': city[0]}], crs=\"EPSG:4326\")"
   ]
  },
  {
   "cell_type": "code",
   "execution_count": null,
   "metadata": {},
   "outputs": [],
   "source": [
    "# gg= he.convert_list_attr_to_str(g.graph)\n",
    "# for node,e,data in gg.edges(data=True):\n",
    "#     if 'geometry' in data:\n",
    "#         data['geometry']=str(data['geometry'])\n",
    "# nx.write_graphml(gg, f\"tula.graphml\")"
   ]
  },
  {
   "cell_type": "code",
   "execution_count": null,
   "metadata": {},
   "outputs": [],
   "source": [
    "import sys\n",
    "sys.path.append('/Users/polina/Desktop/github/transport_frames')\n",
    "from transport_frames.graphbuilder.graph import Graph \n",
    "from transport_frames.frame_grader.advanced_grade import AdvancedGrader\n",
    "from transport_frames.framebuilder.frame import Frame\n",
    "import transport_frames.utils.helper_funcs as he\n",
    "from transport_frames.indicators.indicator_terr import indicator_territory\n",
    "from transport_frames.indicators.indicator_area import indicator_area\n",
    "from transport_frames.indicators.utils import assign_services_names_to_nodes, availability_matrix\n",
    "import osmnx as ox\n",
    "import geonetworkx as gnx\n",
    "import geopandas as gpd\n",
    "import networkx as nx\n",
    "from shapely import Polygon, MultiPolygon\n",
    "import momepy\n",
    "import shapely\n",
    "from dongraphio import GraphType\n"
   ]
  },
  {
   "cell_type": "markdown",
   "metadata": {},
   "source": [
    "## create graph and frame"
   ]
  },
  {
   "cell_type": "code",
   "execution_count": null,
   "metadata": {},
   "outputs": [],
   "source": [
    "# polygon regions cities\n",
    "regions = gpd.read_file('/Users/polina/Desktop/github/transport_frames/data/lo_gdfs/regions_of_russia.geojson')\n",
    "regions = regions[regions['ISO3166-2']!='RU-CHU']\n",
    "regions = regions[regions['geometry'].apply(lambda x: isinstance(x, (Polygon, MultiPolygon)))]\n",
    "\n",
    "polygon = ox.geocode_to_gdf('R81993',by_osmid=True)\n",
    "\n",
    "cities = gpd.read_file('/Users/polina/Desktop/github/transport_frames/data/Тульская_область/Тульская_область_region_points.geojson')\n",
    "cities = cities[cities.is_admin_centre_district==1][['name','geometry']].reset_index()"
   ]
  },
  {
   "cell_type": "code",
   "execution_count": null,
   "metadata": {},
   "outputs": [],
   "source": [
    "local_crs = 32637"
   ]
  },
  {
   "cell_type": "code",
   "execution_count": null,
   "metadata": {},
   "outputs": [],
   "source": [
    "# g = Graph.from_polygon(polygon, crs=local_crs)\n",
    "\n",
    "tula = he.convert_geometry_from_wkt(nx.read_graphml('/Users/polina/Desktop/github/transport_frames/transport_frames/tula.graphml'))\n",
    "tula = he.convert_list_attr_from_str(tula)\n",
    "g =  Graph(tula,crs=local_crs)"
   ]
  },
  {
   "cell_type": "code",
   "execution_count": null,
   "metadata": {},
   "outputs": [],
   "source": [
    "f = Frame(g.graph, regions, polygon, cities)"
   ]
  },
  {
   "cell_type": "markdown",
   "metadata": {},
   "source": [
    "## grade terr (by frame)"
   ]
  },
  {
   "cell_type": "code",
   "execution_count": null,
   "metadata": {},
   "outputs": [],
   "source": [
    "poly = gpd.read_file('/Users/polina/Desktop/github/transport_frames/data/Тульская_область/settlement.geojson')"
   ]
  },
  {
   "cell_type": "code",
   "execution_count": null,
   "metadata": {},
   "outputs": [],
   "source": [
    "graded_terr = f.grade_territory(poly, include_priority=True)"
   ]
  },
  {
   "cell_type": "markdown",
   "metadata": {},
   "source": [
    "## grade terr (advanced)"
   ]
  },
  {
   "cell_type": "code",
   "execution_count": null,
   "metadata": {},
   "outputs": [],
   "source": [
    "points = gpd.read_file('/Users/polina/Desktop/github/transport_frames/data/Тульская_область/Тульская_область_region_points.geojson')\n",
    "settlements = gpd.read_file('/Users/polina/Desktop/github/transport_frames/data/Тульская_область/settlement.geojson')\n",
    "inter = he.prepare_graph(nx.read_graphml('/Users/polina/Desktop/github/transport_frames/preprocessed/Тульская_область/Тульская_область_inter.graphml'))\n",
    "r_stops = gpd.read_file('/Users/polina/Desktop/github/transport_frames/data/Тульская_область/railway_station.geojson')\n",
    "b_stops = gpd.read_file('/Users/polina/Desktop/github/transport_frames/data/Тульская_область/bus_stop.geojson')\n",
    "aero = gpd.read_file('/Users/polina/Desktop/github/transport_frames/data/Тульская_область/aerodrome.geojson')"
   ]
  },
  {
   "cell_type": "code",
   "execution_count": null,
   "metadata": {},
   "outputs": [],
   "source": [
    "adj_mx_drive = availability_matrix(g.graph, points)\n",
    "adj_mx_inter = availability_matrix(inter, points,graph_type=[GraphType.PUBLIC_TRANSPORT, GraphType.WALK])"
   ]
  },
  {
   "cell_type": "code",
   "execution_count": null,
   "metadata": {},
   "outputs": [],
   "source": [
    "grader = AdvancedGrader(local_crs)\n",
    "cri = grader.get_criteria(graded_terr=graded_terr,points=points,polygons=settlements,r_stops=r_stops,b_stops=b_stops,aero=aero,adj_mx_drive=adj_mx_drive,adj_mx_inter=adj_mx_inter)\n",
    "cri"
   ]
  },
  {
   "cell_type": "markdown",
   "metadata": {},
   "source": [
    "## indicators terr"
   ]
  },
  {
   "cell_type": "code",
   "execution_count": null,
   "metadata": {},
   "outputs": [],
   "source": [
    "# inter = nx.read_graphml('/Users/polina/Desktop/github/transport_frames/preprocessed/Тульская_область/Тульская_область_inter.graphml')\n",
    "# inter = he.prepare_graph(inter)\n",
    "poly = gpd.read_file('/Users/polina/Desktop/github/transport_frames/data/Тульская_область/settlement.geojson').reset_index()\n",
    "settlements = gpd.read_file('/Users/polina/Desktop/github/transport_frames/data/Тульская_область/settlement.geojson')\n",
    "\n",
    "b_stops = gpd.read_file('/Users/polina/Desktop/github/transport_frames/data/Тульская_область/bus_stop.geojson')\n",
    "r_stops = gpd.read_file('/Users/polina/Desktop/github/transport_frames/data/Тульская_область/railway_station.geojson')\n",
    "aero = gpd.read_file('/Users/polina/Desktop/github/transport_frames/data/Тульская_область/aerodrome.geojson')\n",
    "points = gpd.read_file('/Users/polina/Desktop/github/transport_frames/data/Тульская_область/Тульская_область_region_points.geojson')\n",
    "regions_gdf = gpd.read_file('/Users/polina/Desktop/github/transport_frames/data/Тульская_область/district.geojson')"
   ]
  },
  {
   "cell_type": "code",
   "execution_count": null,
   "metadata": {},
   "outputs": [],
   "source": [
    "custom_territory=poly.iloc[[5]]\n",
    "custom_territory_center = custom_territory.geometry.representative_point()\n",
    "custom_territory_center = gpd.GeoDataFrame([{'geometry': custom_territory_center.iloc[0]}], crs=custom_territory_center.crs).to_crs(32637)\n"
   ]
  },
  {
   "cell_type": "code",
   "execution_count": null,
   "metadata": {},
   "outputs": [],
   "source": [
    "PLACEHOLDER = gpd.GeoDataFrame(geometry=[]) # если нет данных о сервисе\n",
    "\n",
    "railway_stations = gpd.read_file(f'/Users/polina/Desktop/github/transport_frames/data/Тульская_область/railway_station.geojson')\n",
    "railway_roads = gpd.read_file(f'/Users/polina/Desktop/github/transport_frames/data/Тульская_область/railway.geojson')\n",
    "bus_stops = gpd.read_file(f'/Users/polina/Desktop/github/transport_frames/data/Тульская_область/bus_stop.geojson')\n",
    "bus_routes = gpd.read_file(f'/Users/polina/Desktop/github/transport_frames/preprocessed/Тульская_область/Тульская_область_bus_routes.geojson')\n",
    "fuel_stations = gpd.read_file(f'/Users/polina/Desktop/github/transport_frames/data/Тульская_область/Копия fuel.geojson')\n",
    "ferry_terminal = PLACEHOLDER\n",
    "local_aerodrome = gpd.read_file(f'/Users/polina/Desktop/github/transport_frames/data/Тульская_область/aerodrome.geojson')\n",
    "local_aerodrome['geometry'] = shapely.centroid(local_aerodrome['geometry']).set_crs(local_aerodrome.crs)\n",
    "# international_aerodrome = gpd.read_file(f'/Users/sashamorozov/Documents/НЦКР платформа ЦУ/Показатели по 9 регионам/data/data/{region_name}/{region_name}_international_aerodrome.geojson')\n",
    "# либо:\n",
    "international_aerodrome = local_aerodrome[local_aerodrome['aerodrome:type']=='international']\n",
    "international_aerodrome['geometry'] = shapely.centroid(international_aerodrome['geometry']).set_crs(international_aerodrome.crs)\n",
    "\n",
    "# Природные объекты\n",
    "water = gpd.read_file(f'/Users/polina/Desktop/github/transport_frames/data/Тульская_область/Копия water.geojson')\n",
    "nature_reserve = gpd.read_file(f'/Users/polina/Desktop/github/transport_frames/data/Тульская_область/Копия nature_reserve.geojson')\n"
   ]
  },
  {
   "cell_type": "code",
   "execution_count": null,
   "metadata": {},
   "outputs": [],
   "source": [
    "services = {\n",
    "    'railway_stops' : railway_stations,\n",
    "    'fuel' : fuel_stations,\n",
    "    'ports' : ferry_terminal,\n",
    "    'local_aero' : local_aerodrome,\n",
    "    'international_aero' : international_aerodrome,\n",
    "    'oopt' : nature_reserve,\n",
    "    'water_objects' : water,\n",
    "    'train_paths' : railway_roads,\n",
    "    'bus_stops' : bus_stops,\n",
    "    'capital': ox.geocode_to_gdf('N34389350',by_osmid=True),\n",
    "    'points': points,\n",
    "    'bus_routes' : bus_routes,\n",
    "    'region_centers': cities,\n",
    "    'neud_center': custom_territory_center\n",
    "\n",
    "}"
   ]
  },
  {
   "cell_type": "code",
   "execution_count": null,
   "metadata": {},
   "outputs": [],
   "source": [
    "G = assign_services_names_to_nodes(services,momepy.nx_to_gdf(g.graph)[0],g.graph,crs = 32637)"
   ]
  },
  {
   "cell_type": "code",
   "execution_count": null,
   "metadata": {},
   "outputs": [],
   "source": [
    "t = indicator_territory(G,poly.iloc[[5]],3857,regions_gdf, points, cities, services, *momepy.nx_to_gdf(g.graph))\n",
    "t"
   ]
  },
  {
   "cell_type": "code",
   "execution_count": null,
   "metadata": {},
   "outputs": [],
   "source": [
    "inter = he.prepare_graph(inter)"
   ]
  },
  {
   "cell_type": "code",
   "execution_count": null,
   "metadata": {},
   "outputs": [],
   "source": [
    "b = indicator_area(G, inter, services, [settlements])"
   ]
  },
  {
   "cell_type": "code",
   "execution_count": null,
   "metadata": {},
   "outputs": [],
   "source": [
    "b[0]"
   ]
  }
 ],
 "metadata": {
  "kernelspec": {
   "display_name": ".venv",
   "language": "python",
   "name": "python3"
  },
  "language_info": {
   "codemirror_mode": {
    "name": "ipython",
    "version": 3
   },
   "file_extension": ".py",
   "mimetype": "text/x-python",
   "name": "python",
   "nbconvert_exporter": "python",
   "pygments_lexer": "ipython3",
   "version": "3.10.11"
  }
 },
 "nbformat": 4,
 "nbformat_minor": 2
}
